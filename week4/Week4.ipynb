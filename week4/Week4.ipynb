{
 "cells": [
  {
   "cell_type": "markdown",
   "metadata": {
    "id": "WO_Pi9tQ99jR"
   },
   "source": [
    "# Week 4 - Models and Experimentation\n",
    "\n",
    "## Step 1 Training a model"
   ]
  },
  {
   "cell_type": "markdown",
   "metadata": {
    "id": "9fdJQSzCB9QN"
   },
   "source": [
    "### Install packages"
   ]
  },
  {
   "cell_type": "code",
   "execution_count": 1,
   "metadata": {
    "id": "nWPjdRWdCa_c"
   },
   "outputs": [],
   "source": [
    "import matplotlib.pyplot as plt\n",
    "import numpy as np\n",
    "import pandas as pd\n",
    "import seaborn as sns\n",
    "import xgboost as xgb\n",
    "from sklearn.metrics import mean_squared_error\n",
    "from sklearn.model_selection import train_test_split"
   ]
  },
  {
   "cell_type": "markdown",
   "metadata": {
    "id": "pN3B41RPCjpk"
   },
   "source": [
    "### Import data\n",
    "\n",
    "We will be using Diamonds dataset imported from Seaborn. It is also available on [Kaggle](https://www.kaggle.com/datasets/shivam2503/diamonds).\n",
    "\n",
    "Read about the features by following the link. We will be predicting the price of diamonds."
   ]
  },
  {
   "cell_type": "code",
   "execution_count": 2,
   "metadata": {
    "colab": {
     "base_uri": "https://localhost:8080/",
     "height": 206
    },
    "id": "xqi0nueWC9u1",
    "outputId": "4dd2eb98-c95e-44a7-ae05-45d6c51caa68"
   },
   "outputs": [
    {
     "data": {
      "text/html": [
       "<div>\n",
       "<style scoped>\n",
       "    .dataframe tbody tr th:only-of-type {\n",
       "        vertical-align: middle;\n",
       "    }\n",
       "\n",
       "    .dataframe tbody tr th {\n",
       "        vertical-align: top;\n",
       "    }\n",
       "\n",
       "    .dataframe thead th {\n",
       "        text-align: right;\n",
       "    }\n",
       "</style>\n",
       "<table border=\"1\" class=\"dataframe\">\n",
       "  <thead>\n",
       "    <tr style=\"text-align: right;\">\n",
       "      <th></th>\n",
       "      <th>carat</th>\n",
       "      <th>cut</th>\n",
       "      <th>color</th>\n",
       "      <th>clarity</th>\n",
       "      <th>depth</th>\n",
       "      <th>table</th>\n",
       "      <th>price</th>\n",
       "      <th>x</th>\n",
       "      <th>y</th>\n",
       "      <th>z</th>\n",
       "    </tr>\n",
       "  </thead>\n",
       "  <tbody>\n",
       "    <tr>\n",
       "      <th>0</th>\n",
       "      <td>0.23</td>\n",
       "      <td>Ideal</td>\n",
       "      <td>E</td>\n",
       "      <td>SI2</td>\n",
       "      <td>61.5</td>\n",
       "      <td>55.0</td>\n",
       "      <td>326</td>\n",
       "      <td>3.95</td>\n",
       "      <td>3.98</td>\n",
       "      <td>2.43</td>\n",
       "    </tr>\n",
       "    <tr>\n",
       "      <th>1</th>\n",
       "      <td>0.21</td>\n",
       "      <td>Premium</td>\n",
       "      <td>E</td>\n",
       "      <td>SI1</td>\n",
       "      <td>59.8</td>\n",
       "      <td>61.0</td>\n",
       "      <td>326</td>\n",
       "      <td>3.89</td>\n",
       "      <td>3.84</td>\n",
       "      <td>2.31</td>\n",
       "    </tr>\n",
       "    <tr>\n",
       "      <th>2</th>\n",
       "      <td>0.23</td>\n",
       "      <td>Good</td>\n",
       "      <td>E</td>\n",
       "      <td>VS1</td>\n",
       "      <td>56.9</td>\n",
       "      <td>65.0</td>\n",
       "      <td>327</td>\n",
       "      <td>4.05</td>\n",
       "      <td>4.07</td>\n",
       "      <td>2.31</td>\n",
       "    </tr>\n",
       "    <tr>\n",
       "      <th>3</th>\n",
       "      <td>0.29</td>\n",
       "      <td>Premium</td>\n",
       "      <td>I</td>\n",
       "      <td>VS2</td>\n",
       "      <td>62.4</td>\n",
       "      <td>58.0</td>\n",
       "      <td>334</td>\n",
       "      <td>4.20</td>\n",
       "      <td>4.23</td>\n",
       "      <td>2.63</td>\n",
       "    </tr>\n",
       "    <tr>\n",
       "      <th>4</th>\n",
       "      <td>0.31</td>\n",
       "      <td>Good</td>\n",
       "      <td>J</td>\n",
       "      <td>SI2</td>\n",
       "      <td>63.3</td>\n",
       "      <td>58.0</td>\n",
       "      <td>335</td>\n",
       "      <td>4.34</td>\n",
       "      <td>4.35</td>\n",
       "      <td>2.75</td>\n",
       "    </tr>\n",
       "  </tbody>\n",
       "</table>\n",
       "</div>"
      ],
      "text/plain": [
       "   carat      cut color clarity  depth  table  price     x     y     z\n",
       "0   0.23    Ideal     E     SI2   61.5   55.0    326  3.95  3.98  2.43\n",
       "1   0.21  Premium     E     SI1   59.8   61.0    326  3.89  3.84  2.31\n",
       "2   0.23     Good     E     VS1   56.9   65.0    327  4.05  4.07  2.31\n",
       "3   0.29  Premium     I     VS2   62.4   58.0    334  4.20  4.23  2.63\n",
       "4   0.31     Good     J     SI2   63.3   58.0    335  4.34  4.35  2.75"
      ]
     },
     "execution_count": 2,
     "metadata": {},
     "output_type": "execute_result"
    }
   ],
   "source": [
    "diamonds = sns.load_dataset(\"diamonds\")\n",
    "diamonds.head()"
   ]
  },
  {
   "cell_type": "code",
   "execution_count": 3,
   "metadata": {
    "colab": {
     "base_uri": "https://localhost:8080/"
    },
    "id": "9eXufssNFjwj",
    "outputId": "517b419b-5d3a-4d67-8fcb-c515d3e71df5"
   },
   "outputs": [
    {
     "name": "stdout",
     "output_type": "stream",
     "text": [
      "<class 'pandas.core.frame.DataFrame'>\n",
      "RangeIndex: 53940 entries, 0 to 53939\n",
      "Data columns (total 10 columns):\n",
      " #   Column   Non-Null Count  Dtype   \n",
      "---  ------   --------------  -----   \n",
      " 0   carat    53940 non-null  float64 \n",
      " 1   cut      53940 non-null  category\n",
      " 2   color    53940 non-null  category\n",
      " 3   clarity  53940 non-null  category\n",
      " 4   depth    53940 non-null  float64 \n",
      " 5   table    53940 non-null  float64 \n",
      " 6   price    53940 non-null  int64   \n",
      " 7   x        53940 non-null  float64 \n",
      " 8   y        53940 non-null  float64 \n",
      " 9   z        53940 non-null  float64 \n",
      "dtypes: category(3), float64(6), int64(1)\n",
      "memory usage: 3.0 MB\n"
     ]
    }
   ],
   "source": [
    "diamonds.info()"
   ]
  },
  {
   "cell_type": "code",
   "execution_count": 4,
   "metadata": {
    "colab": {
     "base_uri": "https://localhost:8080/"
    },
    "id": "Cgzl6cOMFl1i",
    "outputId": "5c9f52ed-5843-4554-e36a-96b7d4ef5e7c"
   },
   "outputs": [
    {
     "data": {
      "text/plain": [
       "(53940, 10)"
      ]
     },
     "execution_count": 4,
     "metadata": {},
     "output_type": "execute_result"
    }
   ],
   "source": [
    "diamonds.shape"
   ]
  },
  {
   "cell_type": "code",
   "execution_count": 5,
   "metadata": {
    "id": "58GvwvXAFnfE"
   },
   "outputs": [],
   "source": [
    "X, y = diamonds.drop(\"price\", axis=1), diamonds[[\"price\"]]\n",
    "\n",
    "# For the cut, color and clarity use pandas category to enable XGBoost ability to deal with categorical data.\n",
    "X[\"cut\"] = X[\"cut\"].astype(\"category\")\n",
    "X[\"color\"] = X[\"color\"].astype(\"category\")\n",
    "X[\"clarity\"] = X[\"clarity\"].astype(\"category\")"
   ]
  },
  {
   "cell_type": "markdown",
   "metadata": {
    "id": "jdvS36e5NC77"
   },
   "source": [
    "### Split the data and train a model"
   ]
  },
  {
   "cell_type": "code",
   "execution_count": 6,
   "metadata": {
    "id": "eviT-vNcG4Ed"
   },
   "outputs": [],
   "source": [
    "# Split the data\n",
    "X_train, X_test, y_train, y_test = train_test_split(\n",
    "    X, y, test_size=0.2, random_state=42\n",
    ")\n",
    "\n",
    "# Create DMatrix\n",
    "dtrain = xgb.DMatrix(X_train, label=y_train, enable_categorical=True)\n",
    "dtest = xgb.DMatrix(X_test, label=y_test, enable_categorical=True)"
   ]
  },
  {
   "cell_type": "code",
   "execution_count": 7,
   "metadata": {
    "colab": {
     "base_uri": "https://localhost:8080/"
    },
    "id": "5nHCXUzNHxhQ",
    "outputId": "75b819aa-f110-4ea4-c371-09f508c15bed"
   },
   "outputs": [],
   "source": [
    "# Define hyperparameters\n",
    "params = {\"objective\": \"reg:squarederror\", \"tree_method\": \"hist\"}\n",
    "\n",
    "n = 100\n",
    "model = xgb.train(\n",
    "    params=params,\n",
    "    dtrain=dtrain,\n",
    "    num_boost_round=n,\n",
    ")"
   ]
  },
  {
   "cell_type": "code",
   "execution_count": 8,
   "metadata": {
    "colab": {
     "base_uri": "https://localhost:8080/"
    },
    "id": "w26fYyTmHbxT",
    "outputId": "8dbab927-df17-41d0-bbda-b53825ec3e8e"
   },
   "outputs": [
    {
     "name": "stdout",
     "output_type": "stream",
     "text": [
      "RMSE: 545.191877397669\n"
     ]
    },
    {
     "name": "stderr",
     "output_type": "stream",
     "text": [
      "/Users/jacob/.pyenv/versions/miniconda3-3.11-24.1.2-0/envs/practicum/lib/python3.12/site-packages/sklearn/metrics/_regression.py:483: FutureWarning: 'squared' is deprecated in version 1.4 and will be removed in 1.6. To calculate the root mean squared error, use the function'root_mean_squared_error'.\n",
      "  warnings.warn(\n"
     ]
    }
   ],
   "source": [
    "# Define evaluation metrics - Root Mean Squared Error\n",
    "\n",
    "predictions = model.predict(dtest)\n",
    "rmse = mean_squared_error(y_test, predictions, squared=False)\n",
    "print(f\"RMSE: {rmse}\")"
   ]
  },
  {
   "cell_type": "markdown",
   "metadata": {
    "id": "OfqyuB7qNIQZ"
   },
   "source": [
    "### Incorporate validation"
   ]
  },
  {
   "cell_type": "code",
   "execution_count": 9,
   "metadata": {
    "id": "1onp1yEfM9cg"
   },
   "outputs": [],
   "source": [
    "params = {\"objective\": \"reg:squarederror\", \"tree_method\": \"hist\"}\n",
    "n = 100\n",
    "\n",
    "# Create the validation set\n",
    "evals = [(dtrain, \"train\"), (dtest, \"validation\")]"
   ]
  },
  {
   "cell_type": "code",
   "execution_count": 10,
   "metadata": {
    "colab": {
     "base_uri": "https://localhost:8080/"
    },
    "id": "9btf-kzwNfZT",
    "outputId": "01bb02c8-4955-4c87-9b43-d930ccbfa90d"
   },
   "outputs": [
    {
     "name": "stdout",
     "output_type": "stream",
     "text": [
      "[0]\ttrain-rmse:2861.71326\tvalidation-rmse:2853.85688\n",
      "[10]\ttrain-rmse:554.29819\tvalidation-rmse:579.26422\n",
      "[20]\ttrain-rmse:493.68077\tvalidation-rmse:547.75493\n",
      "[30]\ttrain-rmse:467.32713\tvalidation-rmse:540.03567\n",
      "[40]\ttrain-rmse:447.40974\tvalidation-rmse:541.70531\n",
      "[50]\ttrain-rmse:432.62075\tvalidation-rmse:540.89769\n",
      "[60]\ttrain-rmse:422.28318\tvalidation-rmse:540.63039\n",
      "[70]\ttrain-rmse:410.72350\tvalidation-rmse:543.67077\n",
      "[80]\ttrain-rmse:398.24619\tvalidation-rmse:545.08296\n",
      "[90]\ttrain-rmse:386.92486\tvalidation-rmse:543.90036\n",
      "[99]\ttrain-rmse:379.58717\tvalidation-rmse:545.19188\n"
     ]
    }
   ],
   "source": [
    "evals = [(dtrain, \"train\"), (dtest, \"validation\")]\n",
    "\n",
    "model = xgb.train(\n",
    "    params=params,\n",
    "    dtrain=dtrain,\n",
    "    num_boost_round=n,\n",
    "    evals=evals,\n",
    "    verbose_eval=10,\n",
    ")"
   ]
  },
  {
   "cell_type": "code",
   "execution_count": 11,
   "metadata": {
    "colab": {
     "base_uri": "https://localhost:8080/"
    },
    "id": "a2fGIQRPN4Bg",
    "outputId": "364f769c-67c6-4016-cee1-d33d6a0fef5f"
   },
   "outputs": [
    {
     "name": "stdout",
     "output_type": "stream",
     "text": [
      "[0]\ttrain-rmse:2861.71326\tvalidation-rmse:2853.85688\n",
      "[50]\ttrain-rmse:432.62075\tvalidation-rmse:540.89769\n",
      "[82]\ttrain-rmse:394.92609\tvalidation-rmse:544.73937\n"
     ]
    }
   ],
   "source": [
    "# Incorporate early stopping\n",
    "n = 10000\n",
    "\n",
    "\n",
    "model = xgb.train(\n",
    "    params=params,\n",
    "    dtrain=dtrain,\n",
    "    num_boost_round=n,\n",
    "    evals=evals,\n",
    "    verbose_eval=50,\n",
    "    # Activate early stopping\n",
    "    early_stopping_rounds=50,\n",
    ")"
   ]
  },
  {
   "cell_type": "code",
   "execution_count": 12,
   "metadata": {
    "colab": {
     "base_uri": "https://localhost:8080/"
    },
    "id": "FmPP6YI7OMq7",
    "outputId": "febe4241-23d6-44fe-cc9d-f111e37dd153"
   },
   "outputs": [],
   "source": [
    "# Cross-validation\n",
    "\n",
    "params = {\"objective\": \"reg:squarederror\", \"tree_method\": \"hist\"}\n",
    "n = 1000\n",
    "\n",
    "results = xgb.cv(params, dtrain, num_boost_round=n, nfold=5, early_stopping_rounds=20)"
   ]
  },
  {
   "cell_type": "code",
   "execution_count": 13,
   "metadata": {
    "colab": {
     "base_uri": "https://localhost:8080/",
     "height": 206
    },
    "id": "dhppagDVOWZ0",
    "outputId": "1943edc5-3105-4328-fc7e-a5d2462127f1"
   },
   "outputs": [
    {
     "data": {
      "text/html": [
       "<div>\n",
       "<style scoped>\n",
       "    .dataframe tbody tr th:only-of-type {\n",
       "        vertical-align: middle;\n",
       "    }\n",
       "\n",
       "    .dataframe tbody tr th {\n",
       "        vertical-align: top;\n",
       "    }\n",
       "\n",
       "    .dataframe thead th {\n",
       "        text-align: right;\n",
       "    }\n",
       "</style>\n",
       "<table border=\"1\" class=\"dataframe\">\n",
       "  <thead>\n",
       "    <tr style=\"text-align: right;\">\n",
       "      <th></th>\n",
       "      <th>train-rmse-mean</th>\n",
       "      <th>train-rmse-std</th>\n",
       "      <th>test-rmse-mean</th>\n",
       "      <th>test-rmse-std</th>\n",
       "    </tr>\n",
       "  </thead>\n",
       "  <tbody>\n",
       "    <tr>\n",
       "      <th>0</th>\n",
       "      <td>2861.512810</td>\n",
       "      <td>8.494816</td>\n",
       "      <td>2861.704341</td>\n",
       "      <td>37.144992</td>\n",
       "    </tr>\n",
       "    <tr>\n",
       "      <th>1</th>\n",
       "      <td>2081.847733</td>\n",
       "      <td>5.811005</td>\n",
       "      <td>2084.838207</td>\n",
       "      <td>31.889208</td>\n",
       "    </tr>\n",
       "    <tr>\n",
       "      <th>2</th>\n",
       "      <td>1547.031906</td>\n",
       "      <td>5.092391</td>\n",
       "      <td>1554.657450</td>\n",
       "      <td>30.699908</td>\n",
       "    </tr>\n",
       "    <tr>\n",
       "      <th>3</th>\n",
       "      <td>1184.129738</td>\n",
       "      <td>3.982239</td>\n",
       "      <td>1194.251600</td>\n",
       "      <td>26.940062</td>\n",
       "    </tr>\n",
       "    <tr>\n",
       "      <th>4</th>\n",
       "      <td>942.998782</td>\n",
       "      <td>3.327174</td>\n",
       "      <td>960.239319</td>\n",
       "      <td>24.392689</td>\n",
       "    </tr>\n",
       "  </tbody>\n",
       "</table>\n",
       "</div>"
      ],
      "text/plain": [
       "   train-rmse-mean  train-rmse-std  test-rmse-mean  test-rmse-std\n",
       "0      2861.512810        8.494816     2861.704341      37.144992\n",
       "1      2081.847733        5.811005     2084.838207      31.889208\n",
       "2      1547.031906        5.092391     1554.657450      30.699908\n",
       "3      1184.129738        3.982239     1194.251600      26.940062\n",
       "4       942.998782        3.327174      960.239319      24.392689"
      ]
     },
     "execution_count": 13,
     "metadata": {},
     "output_type": "execute_result"
    }
   ],
   "source": [
    "results.head()"
   ]
  },
  {
   "cell_type": "code",
   "execution_count": 14,
   "metadata": {
    "colab": {
     "base_uri": "https://localhost:8080/"
    },
    "id": "COZyldTfOaWI",
    "outputId": "c3156b16-a6da-4ffc-caf4-a7334aadc6cd"
   },
   "outputs": [
    {
     "data": {
      "text/plain": [
       "553.4613038243663"
      ]
     },
     "execution_count": 14,
     "metadata": {},
     "output_type": "execute_result"
    }
   ],
   "source": [
    "best_rmse = results[\"test-rmse-mean\"].min()\n",
    "\n",
    "best_rmse"
   ]
  },
  {
   "cell_type": "markdown",
   "metadata": {
    "id": "VQNEcz4kF2ng"
   },
   "source": [
    "## Start W&B\n",
    "\n",
    "\n",
    "- Login into your W&B profile using the code below\n",
    "- Alternatively you can set environment variables. There are several env variables which you can set to change the behavior of W&B logging. The most important are:\n",
    "    - WANDB_API_KEY - find this in your \"Settings\" section under your profile\n",
    "    - WANDB_BASE_URL - this is the url of the W&B server\n",
    "\n",
    "- Find your API Token in \"Profile\" -> \"Setttings\" in the W&B App\n",
    "\n"
   ]
  },
  {
   "cell_type": "code",
   "execution_count": 15,
   "metadata": {
    "id": "ftmEQ-keSZ87"
   },
   "outputs": [
    {
     "name": "stderr",
     "output_type": "stream",
     "text": [
      "\u001b[34m\u001b[1mwandb\u001b[0m: Currently logged in as: \u001b[33mjacobnu\u001b[0m. Use \u001b[1m`wandb login --relogin`\u001b[0m to force relogin\n"
     ]
    },
    {
     "data": {
      "text/plain": [
       "True"
      ]
     },
     "execution_count": 15,
     "metadata": {},
     "output_type": "execute_result"
    }
   ],
   "source": [
    "# Log in to your W&B account\n",
    "import wandb\n",
    "\n",
    "wandb.login()"
   ]
  },
  {
   "cell_type": "markdown",
   "metadata": {},
   "source": [
    "We're going to perform a grid search using sweep. ([Source](https://docs.wandb.ai/guides/sweeps/walkthrough))"
   ]
  },
  {
   "cell_type": "code",
   "execution_count": 16,
   "metadata": {
    "id": "4nVR-Te2ZdXi"
   },
   "outputs": [],
   "source": [
    "# performing a grid search\n",
    "sweep_params = {\n",
    "    \"method\": \"grid\",\n",
    "    \"metric\": {\"name\": \"rmse\", \"goal\": \"minimize\"},\n",
    "    \"parameters\": {\n",
    "        \"learning_rate\": {\"values\": [0.1, 0.15, 0.2]},\n",
    "        \"subsample\": {\"values\": [0.7, 0.8, 0.9]},\n",
    "        \"max_depth\": {\"values\": [5, 7, 9]},\n",
    "        \"n_estimators\": {\"values\": [100, 200]},\n",
    "    },\n",
    "}"
   ]
  },
  {
   "cell_type": "code",
   "execution_count": 17,
   "metadata": {},
   "outputs": [
    {
     "name": "stdout",
     "output_type": "stream",
     "text": [
      "Create sweep with ID: hcbnoalh\n",
      "Sweep URL: https://wandb.ai/jacobnu/xbg_grid_diamonds/sweeps/hcbnoalh\n"
     ]
    }
   ],
   "source": [
    "sweep_id = wandb.sweep(\n",
    "    sweep_params,\n",
    "    project=\"xbg_grid_diamonds\",\n",
    "    entity=\"jacobnu\",\n",
    ")"
   ]
  },
  {
   "cell_type": "code",
   "execution_count": 18,
   "metadata": {},
   "outputs": [],
   "source": [
    "def main():\n",
    "    run = wandb.init(project=\"xbg_grid_diamonds\", entity=\"jacobnu\", config=wandb.config)\n",
    "\n",
    "    # Define the search space\n",
    "    xgb_params = {\n",
    "        \"objective\": \"reg:squarederror\",\n",
    "        \"learning_rate\": run.config.learning_rate,\n",
    "        \"subsample\": run.config.subsample,\n",
    "        \"max_depth\": int(run.config.max_depth),\n",
    "        \"n_estimators\": int(run.config.n_estimators),\n",
    "    }\n",
    "\n",
    "    evals_result = {}\n",
    "\n",
    "    # Train XGB\n",
    "    model = xgb.train(\n",
    "        xgb_params,\n",
    "        dtrain,\n",
    "        num_boost_round=run.config.n_estimators,\n",
    "        evals=[(dtest, \"Test\")],\n",
    "        early_stopping_rounds=10,\n",
    "        evals_result=evals_result,\n",
    "    )\n",
    "\n",
    "    # Log the best score\n",
    "    rmse = model.best_score\n",
    "    wandb.log({\"rmse\": rmse})\n",
    "\n",
    "    run.finish()"
   ]
  },
  {
   "cell_type": "code",
   "execution_count": 19,
   "metadata": {
    "scrolled": true
   },
   "outputs": [
    {
     "name": "stderr",
     "output_type": "stream",
     "text": [
      "\u001b[34m\u001b[1mwandb\u001b[0m: Agent Starting Run: asyoviih with config:\n",
      "\u001b[34m\u001b[1mwandb\u001b[0m: \tlearning_rate: 0.1\n",
      "\u001b[34m\u001b[1mwandb\u001b[0m: \tmax_depth: 5\n",
      "\u001b[34m\u001b[1mwandb\u001b[0m: \tn_estimators: 100\n",
      "\u001b[34m\u001b[1mwandb\u001b[0m: \tsubsample: 0.7\n",
      "\u001b[34m\u001b[1mwandb\u001b[0m: \u001b[33mWARNING\u001b[0m Ignored wandb.init() arg project when running a sweep.\n",
      "\u001b[34m\u001b[1mwandb\u001b[0m: \u001b[33mWARNING\u001b[0m Ignored wandb.init() arg entity when running a sweep.\n"
     ]
    },
    {
     "data": {
      "text/html": [
       "Tracking run with wandb version 0.16.6"
      ],
      "text/plain": [
       "<IPython.core.display.HTML object>"
      ]
     },
     "metadata": {},
     "output_type": "display_data"
    },
    {
     "data": {
      "text/html": [
       "Run data is saved locally in <code>/Users/jacob/Code/2024SP-MSAI-Practicum/wandb/run-20240421_211911-asyoviih</code>"
      ],
      "text/plain": [
       "<IPython.core.display.HTML object>"
      ]
     },
     "metadata": {},
     "output_type": "display_data"
    },
    {
     "data": {
      "text/html": [
       "Syncing run <strong><a href='https://wandb.ai/jacobnu/xbg_grid_diamonds/runs/asyoviih' target=\"_blank\">classic-sweep-1</a></strong> to <a href='https://wandb.ai/jacobnu/xbg_grid_diamonds' target=\"_blank\">Weights & Biases</a> (<a href='https://wandb.me/run' target=\"_blank\">docs</a>)<br/>Sweep page: <a href='https://wandb.ai/jacobnu/xbg_grid_diamonds/sweeps/hcbnoalh' target=\"_blank\">https://wandb.ai/jacobnu/xbg_grid_diamonds/sweeps/hcbnoalh</a>"
      ],
      "text/plain": [
       "<IPython.core.display.HTML object>"
      ]
     },
     "metadata": {},
     "output_type": "display_data"
    },
    {
     "data": {
      "text/html": [
       " View project at <a href='https://wandb.ai/jacobnu/xbg_grid_diamonds' target=\"_blank\">https://wandb.ai/jacobnu/xbg_grid_diamonds</a>"
      ],
      "text/plain": [
       "<IPython.core.display.HTML object>"
      ]
     },
     "metadata": {},
     "output_type": "display_data"
    },
    {
     "data": {
      "text/html": [
       " View sweep at <a href='https://wandb.ai/jacobnu/xbg_grid_diamonds/sweeps/hcbnoalh' target=\"_blank\">https://wandb.ai/jacobnu/xbg_grid_diamonds/sweeps/hcbnoalh</a>"
      ],
      "text/plain": [
       "<IPython.core.display.HTML object>"
      ]
     },
     "metadata": {},
     "output_type": "display_data"
    },
    {
     "data": {
      "text/html": [
       " View run at <a href='https://wandb.ai/jacobnu/xbg_grid_diamonds/runs/asyoviih' target=\"_blank\">https://wandb.ai/jacobnu/xbg_grid_diamonds/runs/asyoviih</a>"
      ],
      "text/plain": [
       "<IPython.core.display.HTML object>"
      ]
     },
     "metadata": {},
     "output_type": "display_data"
    },
    {
     "name": "stdout",
     "output_type": "stream",
     "text": [
      "[0]\tTest-rmse:3614.08143\n",
      "[1]\tTest-rmse:3277.95006\n",
      "[2]\tTest-rmse:2977.83384\n",
      "[3]\tTest-rmse:2709.54296\n",
      "[4]\tTest-rmse:2469.74865\n",
      "[5]\tTest-rmse:2253.70434\n",
      "[6]\tTest-rmse:2060.39691\n",
      "[7]\tTest-rmse:1887.31711\n",
      "[8]\tTest-rmse:1734.77591\n",
      "[9]\tTest-rmse:1595.33099\n",
      "[10]\tTest-rmse:1473.18562\n",
      "[11]\tTest-rmse:1362.73455\n",
      "[12]\tTest-rmse:1266.75866\n",
      "[13]\tTest-rmse:1181.65248\n",
      "[14]\tTest-rmse:1105.81547\n",
      "[15]\tTest-rmse:1036.32919\n",
      "[16]\tTest-rmse:976.33722\n",
      "[17]\tTest-rmse:921.83507\n",
      "[18]\tTest-rmse:876.67865\n",
      "[19]\tTest-rmse:836.93122\n",
      "[20]\tTest-rmse:801.42868\n",
      "[21]\tTest-rmse:769.76047\n",
      "[22]\tTest-rmse:743.37744\n",
      "[23]\tTest-rmse:721.04846\n",
      "[24]\tTest-rmse:701.60432\n",
      "[25]\tTest-rmse:682.18818\n",
      "[26]\tTest-rmse:665.66599\n",
      "[27]\tTest-rmse:652.72696\n",
      "[28]\tTest-rmse:640.52368\n",
      "[29]\tTest-rmse:631.68027\n",
      "[30]\tTest-rmse:623.22869\n",
      "[31]\tTest-rmse:614.88724\n",
      "[32]\tTest-rmse:607.93096\n",
      "[33]\tTest-rmse:601.94250\n",
      "[34]\tTest-rmse:595.61825\n",
      "[35]\tTest-rmse:591.38973\n",
      "[36]\tTest-rmse:587.12918\n",
      "[37]\tTest-rmse:582.32684\n",
      "[38]\tTest-rmse:578.50656\n",
      "[39]\tTest-rmse:575.92303\n",
      "[40]\tTest-rmse:572.75038\n",
      "[41]\tTest-rmse:569.20687\n",
      "[42]\tTest-rmse:567.05963\n",
      "[43]\tTest-rmse:565.17653\n",
      "[44]\tTest-rmse:563.64124\n",
      "[45]\tTest-rmse:561.69002\n",
      "[46]\tTest-rmse:560.17703\n",
      "[47]\tTest-rmse:559.02979\n",
      "[48]\tTest-rmse:557.72709\n",
      "[49]\tTest-rmse:556.66165\n",
      "[50]\tTest-rmse:555.49539\n",
      "[51]\tTest-rmse:554.44435\n",
      "[52]\tTest-rmse:553.42905\n",
      "[53]\tTest-rmse:552.68115\n",
      "[54]\tTest-rmse:551.67150\n",
      "[55]\tTest-rmse:551.04672\n",
      "[56]\tTest-rmse:549.45783\n",
      "[57]\tTest-rmse:548.89258\n",
      "[58]\tTest-rmse:548.36535\n",
      "[59]\tTest-rmse:548.21532\n",
      "[60]\tTest-rmse:547.50617\n",
      "[61]\tTest-rmse:547.20977\n",
      "[62]\tTest-rmse:546.72212\n",
      "[63]\tTest-rmse:546.01030\n",
      "[64]\tTest-rmse:545.63562\n",
      "[65]\tTest-rmse:545.48448\n",
      "[66]\tTest-rmse:544.67602\n",
      "[67]\tTest-rmse:543.97470\n",
      "[68]\tTest-rmse:543.67926\n",
      "[69]\tTest-rmse:542.76862\n",
      "[70]\tTest-rmse:542.54047\n",
      "[71]\tTest-rmse:542.01522\n",
      "[72]\tTest-rmse:541.47642\n",
      "[73]\tTest-rmse:541.52348\n"
     ]
    },
    {
     "name": "stderr",
     "output_type": "stream",
     "text": [
      "[21:19:12] WARNING: /Users/runner/work/xgboost/xgboost/src/learner.cc:742: \n",
      "Parameters: { \"n_estimators\" } are not used.\n",
      "\n"
     ]
    },
    {
     "name": "stdout",
     "output_type": "stream",
     "text": [
      "[74]\tTest-rmse:541.51627\n",
      "[75]\tTest-rmse:541.61863\n",
      "[76]\tTest-rmse:541.64863\n",
      "[77]\tTest-rmse:541.48134\n",
      "[78]\tTest-rmse:541.49342\n",
      "[79]\tTest-rmse:541.14853\n",
      "[80]\tTest-rmse:540.84747\n",
      "[81]\tTest-rmse:540.72672\n",
      "[82]\tTest-rmse:540.74962\n",
      "[83]\tTest-rmse:541.01296\n",
      "[84]\tTest-rmse:540.70914\n",
      "[85]\tTest-rmse:540.26195\n",
      "[86]\tTest-rmse:540.06617\n",
      "[87]\tTest-rmse:540.02049\n",
      "[88]\tTest-rmse:540.19586\n",
      "[89]\tTest-rmse:539.93972\n",
      "[90]\tTest-rmse:539.95317\n",
      "[91]\tTest-rmse:539.65053\n",
      "[92]\tTest-rmse:539.60620\n",
      "[93]\tTest-rmse:539.64990\n",
      "[94]\tTest-rmse:539.92832\n",
      "[95]\tTest-rmse:539.54783\n",
      "[96]\tTest-rmse:539.23616\n",
      "[97]\tTest-rmse:538.96280\n",
      "[98]\tTest-rmse:538.88757\n",
      "[99]\tTest-rmse:538.59013\n"
     ]
    },
    {
     "data": {
      "text/html": [
       "<style>\n",
       "    table.wandb td:nth-child(1) { padding: 0 10px; text-align: left ; width: auto;} td:nth-child(2) {text-align: left ; width: 100%}\n",
       "    .wandb-row { display: flex; flex-direction: row; flex-wrap: wrap; justify-content: flex-start; width: 100% }\n",
       "    .wandb-col { display: flex; flex-direction: column; flex-basis: 100%; flex: 1; padding: 10px; }\n",
       "    </style>\n",
       "<div class=\"wandb-row\"><div class=\"wandb-col\"><h3>Run history:</h3><br/><table class=\"wandb\"><tr><td>rmse</td><td>▁</td></tr></table><br/></div><div class=\"wandb-col\"><h3>Run summary:</h3><br/><table class=\"wandb\"><tr><td>rmse</td><td>538.59013</td></tr></table><br/></div></div>"
      ],
      "text/plain": [
       "<IPython.core.display.HTML object>"
      ]
     },
     "metadata": {},
     "output_type": "display_data"
    },
    {
     "data": {
      "text/html": [
       " View run <strong style=\"color:#cdcd00\">classic-sweep-1</strong> at: <a href='https://wandb.ai/jacobnu/xbg_grid_diamonds/runs/asyoviih' target=\"_blank\">https://wandb.ai/jacobnu/xbg_grid_diamonds/runs/asyoviih</a><br/> View project at: <a href='https://wandb.ai/jacobnu/xbg_grid_diamonds' target=\"_blank\">https://wandb.ai/jacobnu/xbg_grid_diamonds</a><br/>Synced 5 W&B file(s), 0 media file(s), 0 artifact file(s) and 0 other file(s)"
      ],
      "text/plain": [
       "<IPython.core.display.HTML object>"
      ]
     },
     "metadata": {},
     "output_type": "display_data"
    },
    {
     "data": {
      "text/html": [
       "Find logs at: <code>./wandb/run-20240421_211911-asyoviih/logs</code>"
      ],
      "text/plain": [
       "<IPython.core.display.HTML object>"
      ]
     },
     "metadata": {},
     "output_type": "display_data"
    },
    {
     "name": "stderr",
     "output_type": "stream",
     "text": [
      "\u001b[34m\u001b[1mwandb\u001b[0m: Agent Starting Run: 91l3klki with config:\n",
      "\u001b[34m\u001b[1mwandb\u001b[0m: \tlearning_rate: 0.1\n",
      "\u001b[34m\u001b[1mwandb\u001b[0m: \tmax_depth: 5\n",
      "\u001b[34m\u001b[1mwandb\u001b[0m: \tn_estimators: 100\n",
      "\u001b[34m\u001b[1mwandb\u001b[0m: \tsubsample: 0.8\n",
      "\u001b[34m\u001b[1mwandb\u001b[0m: \u001b[33mWARNING\u001b[0m Ignored wandb.init() arg project when running a sweep.\n",
      "\u001b[34m\u001b[1mwandb\u001b[0m: \u001b[33mWARNING\u001b[0m Ignored wandb.init() arg entity when running a sweep.\n"
     ]
    },
    {
     "data": {
      "text/html": [
       "Tracking run with wandb version 0.16.6"
      ],
      "text/plain": [
       "<IPython.core.display.HTML object>"
      ]
     },
     "metadata": {},
     "output_type": "display_data"
    },
    {
     "data": {
      "text/html": [
       "Run data is saved locally in <code>/Users/jacob/Code/2024SP-MSAI-Practicum/wandb/run-20240421_211922-91l3klki</code>"
      ],
      "text/plain": [
       "<IPython.core.display.HTML object>"
      ]
     },
     "metadata": {},
     "output_type": "display_data"
    },
    {
     "data": {
      "text/html": [
       "Syncing run <strong><a href='https://wandb.ai/jacobnu/xbg_grid_diamonds/runs/91l3klki' target=\"_blank\">breezy-sweep-2</a></strong> to <a href='https://wandb.ai/jacobnu/xbg_grid_diamonds' target=\"_blank\">Weights & Biases</a> (<a href='https://wandb.me/run' target=\"_blank\">docs</a>)<br/>Sweep page: <a href='https://wandb.ai/jacobnu/xbg_grid_diamonds/sweeps/hcbnoalh' target=\"_blank\">https://wandb.ai/jacobnu/xbg_grid_diamonds/sweeps/hcbnoalh</a>"
      ],
      "text/plain": [
       "<IPython.core.display.HTML object>"
      ]
     },
     "metadata": {},
     "output_type": "display_data"
    },
    {
     "data": {
      "text/html": [
       " View project at <a href='https://wandb.ai/jacobnu/xbg_grid_diamonds' target=\"_blank\">https://wandb.ai/jacobnu/xbg_grid_diamonds</a>"
      ],
      "text/plain": [
       "<IPython.core.display.HTML object>"
      ]
     },
     "metadata": {},
     "output_type": "display_data"
    },
    {
     "data": {
      "text/html": [
       " View sweep at <a href='https://wandb.ai/jacobnu/xbg_grid_diamonds/sweeps/hcbnoalh' target=\"_blank\">https://wandb.ai/jacobnu/xbg_grid_diamonds/sweeps/hcbnoalh</a>"
      ],
      "text/plain": [
       "<IPython.core.display.HTML object>"
      ]
     },
     "metadata": {},
     "output_type": "display_data"
    },
    {
     "data": {
      "text/html": [
       " View run at <a href='https://wandb.ai/jacobnu/xbg_grid_diamonds/runs/91l3klki' target=\"_blank\">https://wandb.ai/jacobnu/xbg_grid_diamonds/runs/91l3klki</a>"
      ],
      "text/plain": [
       "<IPython.core.display.HTML object>"
      ]
     },
     "metadata": {},
     "output_type": "display_data"
    },
    {
     "name": "stdout",
     "output_type": "stream",
     "text": [
      "[0]\tTest-rmse:3613.81974\n",
      "[1]\tTest-rmse:3277.78169\n",
      "[2]\tTest-rmse:2977.15177\n",
      "[3]\tTest-rmse:2708.97718\n",
      "[4]\tTest-rmse:2468.76221\n",
      "[5]\tTest-rmse:2252.56973\n",
      "[6]\tTest-rmse:2060.43467\n",
      "[7]\tTest-rmse:1886.92177\n",
      "[8]\tTest-rmse:1733.81863\n",
      "[9]\tTest-rmse:1594.66545\n",
      "[10]\tTest-rmse:1471.75071\n",
      "[11]\tTest-rmse:1361.28535\n",
      "[12]\tTest-rmse:1263.53790\n",
      "[13]\tTest-rmse:1178.21509\n",
      "[14]\tTest-rmse:1101.86497\n",
      "[15]\tTest-rmse:1032.67363\n",
      "[16]\tTest-rmse:973.74387\n",
      "[17]\tTest-rmse:921.22144\n",
      "[18]\tTest-rmse:877.02758\n",
      "[19]\tTest-rmse:836.53644\n",
      "[20]\tTest-rmse:800.59575\n",
      "[21]\tTest-rmse:770.95004\n",
      "[22]\tTest-rmse:743.74770\n",
      "[23]\tTest-rmse:721.42957\n",
      "[24]\tTest-rmse:700.88943\n",
      "[25]\tTest-rmse:684.01807\n",
      "[26]\tTest-rmse:668.23595\n",
      "[27]\tTest-rmse:655.33783\n",
      "[28]\tTest-rmse:643.59369\n",
      "[29]\tTest-rmse:634.13378\n",
      "[30]\tTest-rmse:625.68712\n",
      "[31]\tTest-rmse:617.16289\n",
      "[32]\tTest-rmse:611.14988\n",
      "[33]\tTest-rmse:605.31203\n",
      "[34]\tTest-rmse:598.97386\n",
      "[35]\tTest-rmse:595.62789\n",
      "[36]\tTest-rmse:591.24441\n",
      "[37]\tTest-rmse:587.48590\n",
      "[38]\tTest-rmse:583.91999\n",
      "[39]\tTest-rmse:581.40459\n",
      "[40]\tTest-rmse:578.48030\n",
      "[41]\tTest-rmse:574.64769\n",
      "[42]\tTest-rmse:571.68274\n",
      "[43]\tTest-rmse:569.67091\n",
      "[44]\tTest-rmse:567.49467\n",
      "[45]\tTest-rmse:565.54012\n",
      "[46]\tTest-rmse:563.35174\n",
      "[47]\tTest-rmse:561.86324\n",
      "[48]\tTest-rmse:561.00054\n",
      "[49]\tTest-rmse:559.80027\n",
      "[50]\tTest-rmse:558.51015\n",
      "[51]\tTest-rmse:557.64544\n",
      "[52]\tTest-rmse:556.42268\n",
      "[53]\tTest-rmse:555.56120\n",
      "[54]\tTest-rmse:554.87952\n",
      "[55]\tTest-rmse:553.81714\n",
      "[56]\tTest-rmse:553.14534\n",
      "[57]\tTest-rmse:552.03133\n",
      "[58]\tTest-rmse:551.57457\n",
      "[59]\tTest-rmse:551.13360\n",
      "[60]\tTest-rmse:550.54902\n",
      "[61]\tTest-rmse:550.29693\n",
      "[62]\tTest-rmse:549.59152\n",
      "[63]\tTest-rmse:548.81549\n",
      "[64]\tTest-rmse:548.49684\n",
      "[65]\tTest-rmse:548.18976\n",
      "[66]\tTest-rmse:547.78402\n",
      "[67]\tTest-rmse:547.44135\n",
      "[68]\tTest-rmse:547.18890\n"
     ]
    },
    {
     "name": "stderr",
     "output_type": "stream",
     "text": [
      "[21:19:23] WARNING: /Users/runner/work/xgboost/xgboost/src/learner.cc:742: \n",
      "Parameters: { \"n_estimators\" } are not used.\n",
      "\n"
     ]
    },
    {
     "name": "stdout",
     "output_type": "stream",
     "text": [
      "[69]\tTest-rmse:546.51355\n",
      "[70]\tTest-rmse:545.80552\n",
      "[71]\tTest-rmse:545.02862\n",
      "[72]\tTest-rmse:544.31480\n",
      "[73]\tTest-rmse:544.38658\n",
      "[74]\tTest-rmse:544.09396\n",
      "[75]\tTest-rmse:544.03880\n",
      "[76]\tTest-rmse:543.98477\n",
      "[77]\tTest-rmse:543.34751\n",
      "[78]\tTest-rmse:542.73095\n",
      "[79]\tTest-rmse:542.96008\n",
      "[80]\tTest-rmse:542.55397\n",
      "[81]\tTest-rmse:542.37652\n",
      "[82]\tTest-rmse:541.95675\n",
      "[83]\tTest-rmse:541.52223\n",
      "[84]\tTest-rmse:541.32658\n",
      "[85]\tTest-rmse:540.97931\n",
      "[86]\tTest-rmse:540.97546\n",
      "[87]\tTest-rmse:540.49101\n",
      "[88]\tTest-rmse:540.34890\n",
      "[89]\tTest-rmse:540.27466\n",
      "[90]\tTest-rmse:540.12069\n",
      "[91]\tTest-rmse:540.23236\n",
      "[92]\tTest-rmse:540.23886\n",
      "[93]\tTest-rmse:540.03031\n",
      "[94]\tTest-rmse:539.83768\n",
      "[95]\tTest-rmse:539.58392\n",
      "[96]\tTest-rmse:539.43758\n",
      "[97]\tTest-rmse:539.73985\n",
      "[98]\tTest-rmse:539.57328\n",
      "[99]\tTest-rmse:539.49561\n"
     ]
    },
    {
     "data": {
      "text/html": [
       "<style>\n",
       "    table.wandb td:nth-child(1) { padding: 0 10px; text-align: left ; width: auto;} td:nth-child(2) {text-align: left ; width: 100%}\n",
       "    .wandb-row { display: flex; flex-direction: row; flex-wrap: wrap; justify-content: flex-start; width: 100% }\n",
       "    .wandb-col { display: flex; flex-direction: column; flex-basis: 100%; flex: 1; padding: 10px; }\n",
       "    </style>\n",
       "<div class=\"wandb-row\"><div class=\"wandb-col\"><h3>Run history:</h3><br/><table class=\"wandb\"><tr><td>rmse</td><td>▁</td></tr></table><br/></div><div class=\"wandb-col\"><h3>Run summary:</h3><br/><table class=\"wandb\"><tr><td>rmse</td><td>539.43758</td></tr></table><br/></div></div>"
      ],
      "text/plain": [
       "<IPython.core.display.HTML object>"
      ]
     },
     "metadata": {},
     "output_type": "display_data"
    },
    {
     "data": {
      "text/html": [
       " View run <strong style=\"color:#cdcd00\">breezy-sweep-2</strong> at: <a href='https://wandb.ai/jacobnu/xbg_grid_diamonds/runs/91l3klki' target=\"_blank\">https://wandb.ai/jacobnu/xbg_grid_diamonds/runs/91l3klki</a><br/> View project at: <a href='https://wandb.ai/jacobnu/xbg_grid_diamonds' target=\"_blank\">https://wandb.ai/jacobnu/xbg_grid_diamonds</a><br/>Synced 5 W&B file(s), 0 media file(s), 0 artifact file(s) and 0 other file(s)"
      ],
      "text/plain": [
       "<IPython.core.display.HTML object>"
      ]
     },
     "metadata": {},
     "output_type": "display_data"
    },
    {
     "data": {
      "text/html": [
       "Find logs at: <code>./wandb/run-20240421_211922-91l3klki/logs</code>"
      ],
      "text/plain": [
       "<IPython.core.display.HTML object>"
      ]
     },
     "metadata": {},
     "output_type": "display_data"
    },
    {
     "name": "stderr",
     "output_type": "stream",
     "text": [
      "\u001b[34m\u001b[1mwandb\u001b[0m: Agent Starting Run: xelsb2f5 with config:\n",
      "\u001b[34m\u001b[1mwandb\u001b[0m: \tlearning_rate: 0.1\n",
      "\u001b[34m\u001b[1mwandb\u001b[0m: \tmax_depth: 5\n",
      "\u001b[34m\u001b[1mwandb\u001b[0m: \tn_estimators: 100\n",
      "\u001b[34m\u001b[1mwandb\u001b[0m: \tsubsample: 0.9\n",
      "\u001b[34m\u001b[1mwandb\u001b[0m: \u001b[33mWARNING\u001b[0m Ignored wandb.init() arg project when running a sweep.\n",
      "\u001b[34m\u001b[1mwandb\u001b[0m: \u001b[33mWARNING\u001b[0m Ignored wandb.init() arg entity when running a sweep.\n"
     ]
    },
    {
     "data": {
      "text/html": [
       "Tracking run with wandb version 0.16.6"
      ],
      "text/plain": [
       "<IPython.core.display.HTML object>"
      ]
     },
     "metadata": {},
     "output_type": "display_data"
    },
    {
     "data": {
      "text/html": [
       "Run data is saved locally in <code>/Users/jacob/Code/2024SP-MSAI-Practicum/wandb/run-20240421_211933-xelsb2f5</code>"
      ],
      "text/plain": [
       "<IPython.core.display.HTML object>"
      ]
     },
     "metadata": {},
     "output_type": "display_data"
    },
    {
     "data": {
      "text/html": [
       "Syncing run <strong><a href='https://wandb.ai/jacobnu/xbg_grid_diamonds/runs/xelsb2f5' target=\"_blank\">sleek-sweep-3</a></strong> to <a href='https://wandb.ai/jacobnu/xbg_grid_diamonds' target=\"_blank\">Weights & Biases</a> (<a href='https://wandb.me/run' target=\"_blank\">docs</a>)<br/>Sweep page: <a href='https://wandb.ai/jacobnu/xbg_grid_diamonds/sweeps/hcbnoalh' target=\"_blank\">https://wandb.ai/jacobnu/xbg_grid_diamonds/sweeps/hcbnoalh</a>"
      ],
      "text/plain": [
       "<IPython.core.display.HTML object>"
      ]
     },
     "metadata": {},
     "output_type": "display_data"
    },
    {
     "data": {
      "text/html": [
       " View project at <a href='https://wandb.ai/jacobnu/xbg_grid_diamonds' target=\"_blank\">https://wandb.ai/jacobnu/xbg_grid_diamonds</a>"
      ],
      "text/plain": [
       "<IPython.core.display.HTML object>"
      ]
     },
     "metadata": {},
     "output_type": "display_data"
    },
    {
     "data": {
      "text/html": [
       " View sweep at <a href='https://wandb.ai/jacobnu/xbg_grid_diamonds/sweeps/hcbnoalh' target=\"_blank\">https://wandb.ai/jacobnu/xbg_grid_diamonds/sweeps/hcbnoalh</a>"
      ],
      "text/plain": [
       "<IPython.core.display.HTML object>"
      ]
     },
     "metadata": {},
     "output_type": "display_data"
    },
    {
     "data": {
      "text/html": [
       " View run at <a href='https://wandb.ai/jacobnu/xbg_grid_diamonds/runs/xelsb2f5' target=\"_blank\">https://wandb.ai/jacobnu/xbg_grid_diamonds/runs/xelsb2f5</a>"
      ],
      "text/plain": [
       "<IPython.core.display.HTML object>"
      ]
     },
     "metadata": {},
     "output_type": "display_data"
    },
    {
     "name": "stdout",
     "output_type": "stream",
     "text": [
      "[0]\tTest-rmse:3614.20238\n",
      "[1]\tTest-rmse:3277.91883\n",
      "[2]\tTest-rmse:2977.32127\n",
      "[3]\tTest-rmse:2709.11865\n",
      "[4]\tTest-rmse:2467.69022\n",
      "[5]\tTest-rmse:2251.19883\n",
      "[6]\tTest-rmse:2058.38670\n",
      "[7]\tTest-rmse:1884.59158\n",
      "[8]\tTest-rmse:1731.63843\n",
      "[9]\tTest-rmse:1594.55783\n",
      "[10]\tTest-rmse:1471.38988\n",
      "[11]\tTest-rmse:1359.81446\n",
      "[12]\tTest-rmse:1262.39353\n",
      "[13]\tTest-rmse:1176.12774\n",
      "[14]\tTest-rmse:1098.37369\n",
      "[15]\tTest-rmse:1031.04545\n",
      "[16]\tTest-rmse:973.01382\n",
      "[17]\tTest-rmse:920.09828\n",
      "[18]\tTest-rmse:876.33207\n",
      "[19]\tTest-rmse:834.59548\n",
      "[20]\tTest-rmse:797.36835\n",
      "[21]\tTest-rmse:767.44214\n",
      "[22]\tTest-rmse:740.75892\n",
      "[23]\tTest-rmse:718.43552\n",
      "[24]\tTest-rmse:697.17429\n",
      "[25]\tTest-rmse:678.20706\n",
      "[26]\tTest-rmse:663.53274\n",
      "[27]\tTest-rmse:649.61081\n",
      "[28]\tTest-rmse:637.32375\n",
      "[29]\tTest-rmse:628.19375\n",
      "[30]\tTest-rmse:620.02754\n",
      "[31]\tTest-rmse:611.94436\n",
      "[32]\tTest-rmse:605.74611\n",
      "[33]\tTest-rmse:599.19673\n",
      "[34]\tTest-rmse:593.05072\n",
      "[35]\tTest-rmse:588.57189\n",
      "[36]\tTest-rmse:584.81340\n",
      "[37]\tTest-rmse:581.18754\n",
      "[38]\tTest-rmse:577.74820\n",
      "[39]\tTest-rmse:575.32839\n",
      "[40]\tTest-rmse:572.39569\n",
      "[41]\tTest-rmse:570.48215\n",
      "[42]\tTest-rmse:568.18520\n",
      "[43]\tTest-rmse:566.64155\n",
      "[44]\tTest-rmse:564.41795\n",
      "[45]\tTest-rmse:562.10131\n",
      "[46]\tTest-rmse:560.61217\n",
      "[47]\tTest-rmse:559.82076\n",
      "[48]\tTest-rmse:558.73577\n"
     ]
    },
    {
     "name": "stderr",
     "output_type": "stream",
     "text": [
      "[21:19:34] WARNING: /Users/runner/work/xgboost/xgboost/src/learner.cc:742: \n",
      "Parameters: { \"n_estimators\" } are not used.\n",
      "\n"
     ]
    },
    {
     "name": "stdout",
     "output_type": "stream",
     "text": [
      "[49]\tTest-rmse:557.60400\n",
      "[50]\tTest-rmse:556.42774\n",
      "[51]\tTest-rmse:555.78287\n",
      "[52]\tTest-rmse:554.30718\n",
      "[53]\tTest-rmse:553.50414\n",
      "[54]\tTest-rmse:552.35122\n",
      "[55]\tTest-rmse:551.38200\n",
      "[56]\tTest-rmse:550.85618\n",
      "[57]\tTest-rmse:550.03046\n",
      "[58]\tTest-rmse:549.16710\n",
      "[59]\tTest-rmse:548.74880\n",
      "[60]\tTest-rmse:548.19020\n",
      "[61]\tTest-rmse:548.13338\n",
      "[62]\tTest-rmse:547.65843\n",
      "[63]\tTest-rmse:547.65254\n",
      "[64]\tTest-rmse:546.86722\n",
      "[65]\tTest-rmse:545.97580\n",
      "[66]\tTest-rmse:545.20627\n",
      "[67]\tTest-rmse:544.67299\n",
      "[68]\tTest-rmse:544.29388\n",
      "[69]\tTest-rmse:543.83221\n",
      "[70]\tTest-rmse:543.29487\n",
      "[71]\tTest-rmse:542.52289\n",
      "[72]\tTest-rmse:542.19807\n",
      "[73]\tTest-rmse:541.71703\n",
      "[74]\tTest-rmse:541.37710\n",
      "[75]\tTest-rmse:541.21512\n",
      "[76]\tTest-rmse:541.01590\n",
      "[77]\tTest-rmse:540.71834\n",
      "[78]\tTest-rmse:540.44322\n",
      "[79]\tTest-rmse:540.20666\n",
      "[80]\tTest-rmse:540.11953\n",
      "[81]\tTest-rmse:539.72152\n",
      "[82]\tTest-rmse:539.33620\n",
      "[83]\tTest-rmse:539.04475\n",
      "[84]\tTest-rmse:539.29017\n",
      "[85]\tTest-rmse:538.83805\n",
      "[86]\tTest-rmse:538.84475\n",
      "[87]\tTest-rmse:538.54838\n",
      "[88]\tTest-rmse:538.56168\n",
      "[89]\tTest-rmse:538.47999\n",
      "[90]\tTest-rmse:538.32147\n",
      "[91]\tTest-rmse:538.18992\n",
      "[92]\tTest-rmse:538.04472\n",
      "[93]\tTest-rmse:537.73096\n",
      "[94]\tTest-rmse:537.47429\n",
      "[95]\tTest-rmse:537.03598\n",
      "[96]\tTest-rmse:536.74280\n",
      "[97]\tTest-rmse:536.23603\n",
      "[98]\tTest-rmse:536.01461\n",
      "[99]\tTest-rmse:536.05474\n"
     ]
    },
    {
     "data": {
      "text/html": [
       "<style>\n",
       "    table.wandb td:nth-child(1) { padding: 0 10px; text-align: left ; width: auto;} td:nth-child(2) {text-align: left ; width: 100%}\n",
       "    .wandb-row { display: flex; flex-direction: row; flex-wrap: wrap; justify-content: flex-start; width: 100% }\n",
       "    .wandb-col { display: flex; flex-direction: column; flex-basis: 100%; flex: 1; padding: 10px; }\n",
       "    </style>\n",
       "<div class=\"wandb-row\"><div class=\"wandb-col\"><h3>Run history:</h3><br/><table class=\"wandb\"><tr><td>rmse</td><td>▁</td></tr></table><br/></div><div class=\"wandb-col\"><h3>Run summary:</h3><br/><table class=\"wandb\"><tr><td>rmse</td><td>536.01461</td></tr></table><br/></div></div>"
      ],
      "text/plain": [
       "<IPython.core.display.HTML object>"
      ]
     },
     "metadata": {},
     "output_type": "display_data"
    },
    {
     "data": {
      "text/html": [
       " View run <strong style=\"color:#cdcd00\">sleek-sweep-3</strong> at: <a href='https://wandb.ai/jacobnu/xbg_grid_diamonds/runs/xelsb2f5' target=\"_blank\">https://wandb.ai/jacobnu/xbg_grid_diamonds/runs/xelsb2f5</a><br/> View project at: <a href='https://wandb.ai/jacobnu/xbg_grid_diamonds' target=\"_blank\">https://wandb.ai/jacobnu/xbg_grid_diamonds</a><br/>Synced 5 W&B file(s), 0 media file(s), 0 artifact file(s) and 0 other file(s)"
      ],
      "text/plain": [
       "<IPython.core.display.HTML object>"
      ]
     },
     "metadata": {},
     "output_type": "display_data"
    },
    {
     "data": {
      "text/html": [
       "Find logs at: <code>./wandb/run-20240421_211933-xelsb2f5/logs</code>"
      ],
      "text/plain": [
       "<IPython.core.display.HTML object>"
      ]
     },
     "metadata": {},
     "output_type": "display_data"
    },
    {
     "name": "stderr",
     "output_type": "stream",
     "text": [
      "\u001b[34m\u001b[1mwandb\u001b[0m: Agent Starting Run: 4dvck1p8 with config:\n",
      "\u001b[34m\u001b[1mwandb\u001b[0m: \tlearning_rate: 0.1\n",
      "\u001b[34m\u001b[1mwandb\u001b[0m: \tmax_depth: 5\n",
      "\u001b[34m\u001b[1mwandb\u001b[0m: \tn_estimators: 200\n",
      "\u001b[34m\u001b[1mwandb\u001b[0m: \tsubsample: 0.7\n",
      "\u001b[34m\u001b[1mwandb\u001b[0m: \u001b[33mWARNING\u001b[0m Ignored wandb.init() arg project when running a sweep.\n",
      "\u001b[34m\u001b[1mwandb\u001b[0m: \u001b[33mWARNING\u001b[0m Ignored wandb.init() arg entity when running a sweep.\n"
     ]
    },
    {
     "data": {
      "text/html": [
       "Tracking run with wandb version 0.16.6"
      ],
      "text/plain": [
       "<IPython.core.display.HTML object>"
      ]
     },
     "metadata": {},
     "output_type": "display_data"
    },
    {
     "data": {
      "text/html": [
       "Run data is saved locally in <code>/Users/jacob/Code/2024SP-MSAI-Practicum/wandb/run-20240421_211943-4dvck1p8</code>"
      ],
      "text/plain": [
       "<IPython.core.display.HTML object>"
      ]
     },
     "metadata": {},
     "output_type": "display_data"
    },
    {
     "data": {
      "text/html": [
       "Syncing run <strong><a href='https://wandb.ai/jacobnu/xbg_grid_diamonds/runs/4dvck1p8' target=\"_blank\">crimson-sweep-4</a></strong> to <a href='https://wandb.ai/jacobnu/xbg_grid_diamonds' target=\"_blank\">Weights & Biases</a> (<a href='https://wandb.me/run' target=\"_blank\">docs</a>)<br/>Sweep page: <a href='https://wandb.ai/jacobnu/xbg_grid_diamonds/sweeps/hcbnoalh' target=\"_blank\">https://wandb.ai/jacobnu/xbg_grid_diamonds/sweeps/hcbnoalh</a>"
      ],
      "text/plain": [
       "<IPython.core.display.HTML object>"
      ]
     },
     "metadata": {},
     "output_type": "display_data"
    },
    {
     "data": {
      "text/html": [
       " View project at <a href='https://wandb.ai/jacobnu/xbg_grid_diamonds' target=\"_blank\">https://wandb.ai/jacobnu/xbg_grid_diamonds</a>"
      ],
      "text/plain": [
       "<IPython.core.display.HTML object>"
      ]
     },
     "metadata": {},
     "output_type": "display_data"
    },
    {
     "data": {
      "text/html": [
       " View sweep at <a href='https://wandb.ai/jacobnu/xbg_grid_diamonds/sweeps/hcbnoalh' target=\"_blank\">https://wandb.ai/jacobnu/xbg_grid_diamonds/sweeps/hcbnoalh</a>"
      ],
      "text/plain": [
       "<IPython.core.display.HTML object>"
      ]
     },
     "metadata": {},
     "output_type": "display_data"
    },
    {
     "data": {
      "text/html": [
       " View run at <a href='https://wandb.ai/jacobnu/xbg_grid_diamonds/runs/4dvck1p8' target=\"_blank\">https://wandb.ai/jacobnu/xbg_grid_diamonds/runs/4dvck1p8</a>"
      ],
      "text/plain": [
       "<IPython.core.display.HTML object>"
      ]
     },
     "metadata": {},
     "output_type": "display_data"
    },
    {
     "name": "stdout",
     "output_type": "stream",
     "text": [
      "[0]\tTest-rmse:3614.08143\n",
      "[1]\tTest-rmse:3277.95006\n",
      "[2]\tTest-rmse:2977.83384\n",
      "[3]\tTest-rmse:2709.54296\n",
      "[4]\tTest-rmse:2469.74865\n",
      "[5]\tTest-rmse:2253.70434\n",
      "[6]\tTest-rmse:2060.39691\n",
      "[7]\tTest-rmse:1887.31711\n",
      "[8]\tTest-rmse:1734.77591\n",
      "[9]\tTest-rmse:1595.33099\n",
      "[10]\tTest-rmse:1473.18562\n",
      "[11]\tTest-rmse:1362.73455\n",
      "[12]\tTest-rmse:1266.75866\n",
      "[13]\tTest-rmse:1181.65248\n",
      "[14]\tTest-rmse:1105.81547\n",
      "[15]\tTest-rmse:1036.32919\n",
      "[16]\tTest-rmse:976.33722\n",
      "[17]\tTest-rmse:921.83507\n",
      "[18]\tTest-rmse:876.67865\n",
      "[19]\tTest-rmse:836.93122\n",
      "[20]\tTest-rmse:801.42868\n",
      "[21]\tTest-rmse:769.76047\n",
      "[22]\tTest-rmse:743.37744\n",
      "[23]\tTest-rmse:721.04846\n",
      "[24]\tTest-rmse:701.60432\n",
      "[25]\tTest-rmse:682.18818\n",
      "[26]\tTest-rmse:665.66599\n",
      "[27]\tTest-rmse:652.72696\n",
      "[28]\tTest-rmse:640.52368\n",
      "[29]\tTest-rmse:631.68027\n",
      "[30]\tTest-rmse:623.22869\n",
      "[31]\tTest-rmse:614.88724\n",
      "[32]\tTest-rmse:607.93096\n",
      "[33]\tTest-rmse:601.94250\n",
      "[34]\tTest-rmse:595.61825\n",
      "[35]\tTest-rmse:591.38973\n",
      "[36]\tTest-rmse:587.12918\n",
      "[37]\tTest-rmse:582.32684\n",
      "[38]\tTest-rmse:578.50656\n",
      "[39]\tTest-rmse:575.92303\n",
      "[40]\tTest-rmse:572.75038\n",
      "[41]\tTest-rmse:569.20687\n",
      "[42]\tTest-rmse:567.05963\n",
      "[43]\tTest-rmse:565.17653\n",
      "[44]\tTest-rmse:563.64124\n",
      "[45]\tTest-rmse:561.69002\n",
      "[46]\tTest-rmse:560.17703\n",
      "[47]\tTest-rmse:559.02979\n",
      "[48]\tTest-rmse:557.72709\n",
      "[49]\tTest-rmse:556.66165\n",
      "[50]\tTest-rmse:555.49539\n",
      "[51]\tTest-rmse:554.44435\n",
      "[52]\tTest-rmse:553.42905\n",
      "[53]\tTest-rmse:552.68115\n",
      "[54]\tTest-rmse:551.67150\n",
      "[55]\tTest-rmse:551.04672\n",
      "[56]\tTest-rmse:549.45783\n",
      "[57]\tTest-rmse:548.89258\n",
      "[58]\tTest-rmse:548.36535\n",
      "[59]\tTest-rmse:548.21532\n",
      "[60]\tTest-rmse:547.50617\n",
      "[61]\tTest-rmse:547.20977\n",
      "[62]\tTest-rmse:546.72212\n",
      "[63]\tTest-rmse:546.01030\n",
      "[64]\tTest-rmse:545.63562\n",
      "[65]\tTest-rmse:545.48448\n",
      "[66]\tTest-rmse:544.67602\n",
      "[67]\tTest-rmse:543.97470\n",
      "[68]\tTest-rmse:543.67926\n",
      "[69]\tTest-rmse:542.76862\n"
     ]
    },
    {
     "name": "stderr",
     "output_type": "stream",
     "text": [
      "[21:19:43] WARNING: /Users/runner/work/xgboost/xgboost/src/learner.cc:742: \n",
      "Parameters: { \"n_estimators\" } are not used.\n",
      "\n"
     ]
    },
    {
     "name": "stdout",
     "output_type": "stream",
     "text": [
      "[70]\tTest-rmse:542.54047\n",
      "[71]\tTest-rmse:542.01522\n",
      "[72]\tTest-rmse:541.47642\n",
      "[73]\tTest-rmse:541.52348\n",
      "[74]\tTest-rmse:541.51627\n",
      "[75]\tTest-rmse:541.61863\n",
      "[76]\tTest-rmse:541.64863\n",
      "[77]\tTest-rmse:541.48134\n",
      "[78]\tTest-rmse:541.49342\n",
      "[79]\tTest-rmse:541.14853\n",
      "[80]\tTest-rmse:540.84747\n",
      "[81]\tTest-rmse:540.72672\n",
      "[82]\tTest-rmse:540.74962\n",
      "[83]\tTest-rmse:541.01296\n",
      "[84]\tTest-rmse:540.70914\n",
      "[85]\tTest-rmse:540.26195\n",
      "[86]\tTest-rmse:540.06617\n",
      "[87]\tTest-rmse:540.02049\n",
      "[88]\tTest-rmse:540.19586\n",
      "[89]\tTest-rmse:539.93972\n",
      "[90]\tTest-rmse:539.95317\n",
      "[91]\tTest-rmse:539.65053\n",
      "[92]\tTest-rmse:539.60620\n",
      "[93]\tTest-rmse:539.64990\n",
      "[94]\tTest-rmse:539.92832\n",
      "[95]\tTest-rmse:539.54783\n",
      "[96]\tTest-rmse:539.23616\n",
      "[97]\tTest-rmse:538.96280\n",
      "[98]\tTest-rmse:538.88757\n",
      "[99]\tTest-rmse:538.59013\n",
      "[100]\tTest-rmse:538.62340\n",
      "[101]\tTest-rmse:538.95620\n",
      "[102]\tTest-rmse:539.14497\n",
      "[103]\tTest-rmse:539.33594\n",
      "[104]\tTest-rmse:539.38952\n",
      "[105]\tTest-rmse:539.12339\n",
      "[106]\tTest-rmse:538.82571\n",
      "[107]\tTest-rmse:539.25355\n",
      "[108]\tTest-rmse:539.28756\n"
     ]
    },
    {
     "data": {
      "text/html": [
       "<style>\n",
       "    table.wandb td:nth-child(1) { padding: 0 10px; text-align: left ; width: auto;} td:nth-child(2) {text-align: left ; width: 100%}\n",
       "    .wandb-row { display: flex; flex-direction: row; flex-wrap: wrap; justify-content: flex-start; width: 100% }\n",
       "    .wandb-col { display: flex; flex-direction: column; flex-basis: 100%; flex: 1; padding: 10px; }\n",
       "    </style>\n",
       "<div class=\"wandb-row\"><div class=\"wandb-col\"><h3>Run history:</h3><br/><table class=\"wandb\"><tr><td>rmse</td><td>▁</td></tr></table><br/></div><div class=\"wandb-col\"><h3>Run summary:</h3><br/><table class=\"wandb\"><tr><td>rmse</td><td>538.59013</td></tr></table><br/></div></div>"
      ],
      "text/plain": [
       "<IPython.core.display.HTML object>"
      ]
     },
     "metadata": {},
     "output_type": "display_data"
    },
    {
     "data": {
      "text/html": [
       " View run <strong style=\"color:#cdcd00\">crimson-sweep-4</strong> at: <a href='https://wandb.ai/jacobnu/xbg_grid_diamonds/runs/4dvck1p8' target=\"_blank\">https://wandb.ai/jacobnu/xbg_grid_diamonds/runs/4dvck1p8</a><br/> View project at: <a href='https://wandb.ai/jacobnu/xbg_grid_diamonds' target=\"_blank\">https://wandb.ai/jacobnu/xbg_grid_diamonds</a><br/>Synced 5 W&B file(s), 0 media file(s), 0 artifact file(s) and 0 other file(s)"
      ],
      "text/plain": [
       "<IPython.core.display.HTML object>"
      ]
     },
     "metadata": {},
     "output_type": "display_data"
    },
    {
     "data": {
      "text/html": [
       "Find logs at: <code>./wandb/run-20240421_211943-4dvck1p8/logs</code>"
      ],
      "text/plain": [
       "<IPython.core.display.HTML object>"
      ]
     },
     "metadata": {},
     "output_type": "display_data"
    },
    {
     "name": "stderr",
     "output_type": "stream",
     "text": [
      "\u001b[34m\u001b[1mwandb\u001b[0m: Agent Starting Run: 0096luaz with config:\n",
      "\u001b[34m\u001b[1mwandb\u001b[0m: \tlearning_rate: 0.1\n",
      "\u001b[34m\u001b[1mwandb\u001b[0m: \tmax_depth: 5\n",
      "\u001b[34m\u001b[1mwandb\u001b[0m: \tn_estimators: 200\n",
      "\u001b[34m\u001b[1mwandb\u001b[0m: \tsubsample: 0.8\n",
      "\u001b[34m\u001b[1mwandb\u001b[0m: \u001b[33mWARNING\u001b[0m Ignored wandb.init() arg project when running a sweep.\n",
      "\u001b[34m\u001b[1mwandb\u001b[0m: \u001b[33mWARNING\u001b[0m Ignored wandb.init() arg entity when running a sweep.\n"
     ]
    },
    {
     "data": {
      "text/html": [
       "Tracking run with wandb version 0.16.6"
      ],
      "text/plain": [
       "<IPython.core.display.HTML object>"
      ]
     },
     "metadata": {},
     "output_type": "display_data"
    },
    {
     "data": {
      "text/html": [
       "Run data is saved locally in <code>/Users/jacob/Code/2024SP-MSAI-Practicum/wandb/run-20240421_211952-0096luaz</code>"
      ],
      "text/plain": [
       "<IPython.core.display.HTML object>"
      ]
     },
     "metadata": {},
     "output_type": "display_data"
    },
    {
     "data": {
      "text/html": [
       "Syncing run <strong><a href='https://wandb.ai/jacobnu/xbg_grid_diamonds/runs/0096luaz' target=\"_blank\">rosy-sweep-5</a></strong> to <a href='https://wandb.ai/jacobnu/xbg_grid_diamonds' target=\"_blank\">Weights & Biases</a> (<a href='https://wandb.me/run' target=\"_blank\">docs</a>)<br/>Sweep page: <a href='https://wandb.ai/jacobnu/xbg_grid_diamonds/sweeps/hcbnoalh' target=\"_blank\">https://wandb.ai/jacobnu/xbg_grid_diamonds/sweeps/hcbnoalh</a>"
      ],
      "text/plain": [
       "<IPython.core.display.HTML object>"
      ]
     },
     "metadata": {},
     "output_type": "display_data"
    },
    {
     "data": {
      "text/html": [
       " View project at <a href='https://wandb.ai/jacobnu/xbg_grid_diamonds' target=\"_blank\">https://wandb.ai/jacobnu/xbg_grid_diamonds</a>"
      ],
      "text/plain": [
       "<IPython.core.display.HTML object>"
      ]
     },
     "metadata": {},
     "output_type": "display_data"
    },
    {
     "data": {
      "text/html": [
       " View sweep at <a href='https://wandb.ai/jacobnu/xbg_grid_diamonds/sweeps/hcbnoalh' target=\"_blank\">https://wandb.ai/jacobnu/xbg_grid_diamonds/sweeps/hcbnoalh</a>"
      ],
      "text/plain": [
       "<IPython.core.display.HTML object>"
      ]
     },
     "metadata": {},
     "output_type": "display_data"
    },
    {
     "data": {
      "text/html": [
       " View run at <a href='https://wandb.ai/jacobnu/xbg_grid_diamonds/runs/0096luaz' target=\"_blank\">https://wandb.ai/jacobnu/xbg_grid_diamonds/runs/0096luaz</a>"
      ],
      "text/plain": [
       "<IPython.core.display.HTML object>"
      ]
     },
     "metadata": {},
     "output_type": "display_data"
    },
    {
     "name": "stdout",
     "output_type": "stream",
     "text": [
      "[0]\tTest-rmse:3613.81974\n",
      "[1]\tTest-rmse:3277.78169\n",
      "[2]\tTest-rmse:2977.15177\n",
      "[3]\tTest-rmse:2708.97718\n",
      "[4]\tTest-rmse:2468.76221\n",
      "[5]\tTest-rmse:2252.56973\n",
      "[6]\tTest-rmse:2060.43467\n",
      "[7]\tTest-rmse:1886.92177\n",
      "[8]\tTest-rmse:1733.81863\n",
      "[9]\tTest-rmse:1594.66545\n",
      "[10]\tTest-rmse:1471.75071\n",
      "[11]\tTest-rmse:1361.28535\n",
      "[12]\tTest-rmse:1263.53790\n",
      "[13]\tTest-rmse:1178.21509\n",
      "[14]\tTest-rmse:1101.86497\n",
      "[15]\tTest-rmse:1032.67363\n",
      "[16]\tTest-rmse:973.74387\n",
      "[17]\tTest-rmse:921.22144\n",
      "[18]\tTest-rmse:877.02758\n",
      "[19]\tTest-rmse:836.53644\n",
      "[20]\tTest-rmse:800.59575\n",
      "[21]\tTest-rmse:770.95004\n",
      "[22]\tTest-rmse:743.74770\n",
      "[23]\tTest-rmse:721.42957\n",
      "[24]\tTest-rmse:700.88943\n",
      "[25]\tTest-rmse:684.01807\n",
      "[26]\tTest-rmse:668.23595\n",
      "[27]\tTest-rmse:655.33783\n",
      "[28]\tTest-rmse:643.59369\n",
      "[29]\tTest-rmse:634.13378\n",
      "[30]\tTest-rmse:625.68712\n",
      "[31]\tTest-rmse:617.16289\n",
      "[32]\tTest-rmse:611.14988\n",
      "[33]\tTest-rmse:605.31203\n",
      "[34]\tTest-rmse:598.97386\n",
      "[35]\tTest-rmse:595.62789\n",
      "[36]\tTest-rmse:591.24441\n",
      "[37]\tTest-rmse:587.48590\n",
      "[38]\tTest-rmse:583.91999\n",
      "[39]\tTest-rmse:581.40459\n",
      "[40]\tTest-rmse:578.48030\n",
      "[41]\tTest-rmse:574.64769\n",
      "[42]\tTest-rmse:571.68274\n",
      "[43]\tTest-rmse:569.67091\n",
      "[44]\tTest-rmse:567.49467\n",
      "[45]\tTest-rmse:565.54012\n",
      "[46]\tTest-rmse:563.35174\n",
      "[47]\tTest-rmse:561.86324\n",
      "[48]\tTest-rmse:561.00054\n",
      "[49]\tTest-rmse:559.80027\n",
      "[50]\tTest-rmse:558.51015\n",
      "[51]\tTest-rmse:557.64544\n",
      "[52]\tTest-rmse:556.42268\n",
      "[53]\tTest-rmse:555.56120\n",
      "[54]\tTest-rmse:554.87952\n",
      "[55]\tTest-rmse:553.81714\n",
      "[56]\tTest-rmse:553.14534\n",
      "[57]\tTest-rmse:552.03133\n",
      "[58]\tTest-rmse:551.57457\n",
      "[59]\tTest-rmse:551.13360\n",
      "[60]\tTest-rmse:550.54902\n",
      "[61]\tTest-rmse:550.29693\n",
      "[62]\tTest-rmse:549.59152\n",
      "[63]\tTest-rmse:548.81549\n",
      "[64]\tTest-rmse:548.49684\n",
      "[65]\tTest-rmse:548.18976\n",
      "[66]\tTest-rmse:547.78402\n"
     ]
    },
    {
     "name": "stderr",
     "output_type": "stream",
     "text": [
      "[21:19:53] WARNING: /Users/runner/work/xgboost/xgboost/src/learner.cc:742: \n",
      "Parameters: { \"n_estimators\" } are not used.\n",
      "\n"
     ]
    },
    {
     "name": "stdout",
     "output_type": "stream",
     "text": [
      "[67]\tTest-rmse:547.44135\n",
      "[68]\tTest-rmse:547.18890\n",
      "[69]\tTest-rmse:546.51355\n",
      "[70]\tTest-rmse:545.80552\n",
      "[71]\tTest-rmse:545.02862\n",
      "[72]\tTest-rmse:544.31480\n",
      "[73]\tTest-rmse:544.38658\n",
      "[74]\tTest-rmse:544.09396\n",
      "[75]\tTest-rmse:544.03880\n",
      "[76]\tTest-rmse:543.98477\n",
      "[77]\tTest-rmse:543.34751\n",
      "[78]\tTest-rmse:542.73095\n",
      "[79]\tTest-rmse:542.96008\n",
      "[80]\tTest-rmse:542.55397\n",
      "[81]\tTest-rmse:542.37652\n",
      "[82]\tTest-rmse:541.95675\n",
      "[83]\tTest-rmse:541.52223\n",
      "[84]\tTest-rmse:541.32658\n",
      "[85]\tTest-rmse:540.97931\n",
      "[86]\tTest-rmse:540.97546\n",
      "[87]\tTest-rmse:540.49101\n",
      "[88]\tTest-rmse:540.34890\n",
      "[89]\tTest-rmse:540.27466\n",
      "[90]\tTest-rmse:540.12069\n",
      "[91]\tTest-rmse:540.23236\n",
      "[92]\tTest-rmse:540.23886\n",
      "[93]\tTest-rmse:540.03031\n",
      "[94]\tTest-rmse:539.83768\n",
      "[95]\tTest-rmse:539.58392\n",
      "[96]\tTest-rmse:539.43758\n",
      "[97]\tTest-rmse:539.73985\n",
      "[98]\tTest-rmse:539.57328\n",
      "[99]\tTest-rmse:539.49561\n",
      "[100]\tTest-rmse:539.71843\n",
      "[101]\tTest-rmse:539.87356\n",
      "[102]\tTest-rmse:539.83541\n",
      "[103]\tTest-rmse:539.24976\n",
      "[104]\tTest-rmse:539.15050\n",
      "[105]\tTest-rmse:539.09480\n",
      "[106]\tTest-rmse:538.98167\n",
      "[107]\tTest-rmse:539.30448\n",
      "[108]\tTest-rmse:538.86759\n",
      "[109]\tTest-rmse:538.59969\n",
      "[110]\tTest-rmse:538.44422\n",
      "[111]\tTest-rmse:538.25368\n",
      "[112]\tTest-rmse:538.08454\n",
      "[113]\tTest-rmse:537.49515\n",
      "[114]\tTest-rmse:537.35748\n",
      "[115]\tTest-rmse:537.38204\n",
      "[116]\tTest-rmse:537.68165\n",
      "[117]\tTest-rmse:537.71182\n",
      "[118]\tTest-rmse:537.58225\n",
      "[119]\tTest-rmse:537.86712\n",
      "[120]\tTest-rmse:537.51259\n",
      "[121]\tTest-rmse:537.25922\n",
      "[122]\tTest-rmse:537.17783\n",
      "[123]\tTest-rmse:536.96826\n",
      "[124]\tTest-rmse:536.70157\n",
      "[125]\tTest-rmse:536.68753\n",
      "[126]\tTest-rmse:536.41726\n",
      "[127]\tTest-rmse:536.78859\n",
      "[128]\tTest-rmse:536.88103\n",
      "[129]\tTest-rmse:536.81023\n",
      "[130]\tTest-rmse:536.23375\n",
      "[131]\tTest-rmse:535.66552\n",
      "[132]\tTest-rmse:535.75332\n",
      "[133]\tTest-rmse:535.81168\n",
      "[134]\tTest-rmse:535.29624\n",
      "[135]\tTest-rmse:535.20399\n",
      "[136]\tTest-rmse:535.11509\n",
      "[137]\tTest-rmse:535.03891\n",
      "[138]\tTest-rmse:534.86716\n",
      "[139]\tTest-rmse:534.83807\n",
      "[140]\tTest-rmse:534.69484\n",
      "[141]\tTest-rmse:534.70273\n",
      "[142]\tTest-rmse:534.53061\n",
      "[143]\tTest-rmse:534.57757\n",
      "[144]\tTest-rmse:534.47878\n",
      "[145]\tTest-rmse:534.43444\n",
      "[146]\tTest-rmse:534.35829\n",
      "[147]\tTest-rmse:534.85816\n",
      "[148]\tTest-rmse:534.94459\n",
      "[149]\tTest-rmse:534.95496\n",
      "[150]\tTest-rmse:534.77047\n",
      "[151]\tTest-rmse:535.06699\n",
      "[152]\tTest-rmse:534.99336\n",
      "[153]\tTest-rmse:534.99447\n",
      "[154]\tTest-rmse:534.94815\n",
      "[155]\tTest-rmse:535.18607\n"
     ]
    },
    {
     "data": {
      "text/html": [
       "<style>\n",
       "    table.wandb td:nth-child(1) { padding: 0 10px; text-align: left ; width: auto;} td:nth-child(2) {text-align: left ; width: 100%}\n",
       "    .wandb-row { display: flex; flex-direction: row; flex-wrap: wrap; justify-content: flex-start; width: 100% }\n",
       "    .wandb-col { display: flex; flex-direction: column; flex-basis: 100%; flex: 1; padding: 10px; }\n",
       "    </style>\n",
       "<div class=\"wandb-row\"><div class=\"wandb-col\"><h3>Run history:</h3><br/><table class=\"wandb\"><tr><td>rmse</td><td>▁</td></tr></table><br/></div><div class=\"wandb-col\"><h3>Run summary:</h3><br/><table class=\"wandb\"><tr><td>rmse</td><td>534.35829</td></tr></table><br/></div></div>"
      ],
      "text/plain": [
       "<IPython.core.display.HTML object>"
      ]
     },
     "metadata": {},
     "output_type": "display_data"
    },
    {
     "data": {
      "text/html": [
       " View run <strong style=\"color:#cdcd00\">rosy-sweep-5</strong> at: <a href='https://wandb.ai/jacobnu/xbg_grid_diamonds/runs/0096luaz' target=\"_blank\">https://wandb.ai/jacobnu/xbg_grid_diamonds/runs/0096luaz</a><br/> View project at: <a href='https://wandb.ai/jacobnu/xbg_grid_diamonds' target=\"_blank\">https://wandb.ai/jacobnu/xbg_grid_diamonds</a><br/>Synced 5 W&B file(s), 0 media file(s), 0 artifact file(s) and 0 other file(s)"
      ],
      "text/plain": [
       "<IPython.core.display.HTML object>"
      ]
     },
     "metadata": {},
     "output_type": "display_data"
    },
    {
     "data": {
      "text/html": [
       "Find logs at: <code>./wandb/run-20240421_211952-0096luaz/logs</code>"
      ],
      "text/plain": [
       "<IPython.core.display.HTML object>"
      ]
     },
     "metadata": {},
     "output_type": "display_data"
    },
    {
     "name": "stderr",
     "output_type": "stream",
     "text": [
      "\u001b[34m\u001b[1mwandb\u001b[0m: Agent Starting Run: y9ibleq3 with config:\n",
      "\u001b[34m\u001b[1mwandb\u001b[0m: \tlearning_rate: 0.1\n",
      "\u001b[34m\u001b[1mwandb\u001b[0m: \tmax_depth: 5\n",
      "\u001b[34m\u001b[1mwandb\u001b[0m: \tn_estimators: 200\n",
      "\u001b[34m\u001b[1mwandb\u001b[0m: \tsubsample: 0.9\n",
      "\u001b[34m\u001b[1mwandb\u001b[0m: \u001b[33mWARNING\u001b[0m Ignored wandb.init() arg project when running a sweep.\n",
      "\u001b[34m\u001b[1mwandb\u001b[0m: \u001b[33mWARNING\u001b[0m Ignored wandb.init() arg entity when running a sweep.\n"
     ]
    },
    {
     "data": {
      "text/html": [
       "Tracking run with wandb version 0.16.6"
      ],
      "text/plain": [
       "<IPython.core.display.HTML object>"
      ]
     },
     "metadata": {},
     "output_type": "display_data"
    },
    {
     "data": {
      "text/html": [
       "Run data is saved locally in <code>/Users/jacob/Code/2024SP-MSAI-Practicum/wandb/run-20240421_212004-y9ibleq3</code>"
      ],
      "text/plain": [
       "<IPython.core.display.HTML object>"
      ]
     },
     "metadata": {},
     "output_type": "display_data"
    },
    {
     "data": {
      "text/html": [
       "Syncing run <strong><a href='https://wandb.ai/jacobnu/xbg_grid_diamonds/runs/y9ibleq3' target=\"_blank\">ancient-sweep-6</a></strong> to <a href='https://wandb.ai/jacobnu/xbg_grid_diamonds' target=\"_blank\">Weights & Biases</a> (<a href='https://wandb.me/run' target=\"_blank\">docs</a>)<br/>Sweep page: <a href='https://wandb.ai/jacobnu/xbg_grid_diamonds/sweeps/hcbnoalh' target=\"_blank\">https://wandb.ai/jacobnu/xbg_grid_diamonds/sweeps/hcbnoalh</a>"
      ],
      "text/plain": [
       "<IPython.core.display.HTML object>"
      ]
     },
     "metadata": {},
     "output_type": "display_data"
    },
    {
     "data": {
      "text/html": [
       " View project at <a href='https://wandb.ai/jacobnu/xbg_grid_diamonds' target=\"_blank\">https://wandb.ai/jacobnu/xbg_grid_diamonds</a>"
      ],
      "text/plain": [
       "<IPython.core.display.HTML object>"
      ]
     },
     "metadata": {},
     "output_type": "display_data"
    },
    {
     "data": {
      "text/html": [
       " View sweep at <a href='https://wandb.ai/jacobnu/xbg_grid_diamonds/sweeps/hcbnoalh' target=\"_blank\">https://wandb.ai/jacobnu/xbg_grid_diamonds/sweeps/hcbnoalh</a>"
      ],
      "text/plain": [
       "<IPython.core.display.HTML object>"
      ]
     },
     "metadata": {},
     "output_type": "display_data"
    },
    {
     "data": {
      "text/html": [
       " View run at <a href='https://wandb.ai/jacobnu/xbg_grid_diamonds/runs/y9ibleq3' target=\"_blank\">https://wandb.ai/jacobnu/xbg_grid_diamonds/runs/y9ibleq3</a>"
      ],
      "text/plain": [
       "<IPython.core.display.HTML object>"
      ]
     },
     "metadata": {},
     "output_type": "display_data"
    },
    {
     "name": "stdout",
     "output_type": "stream",
     "text": [
      "[0]\tTest-rmse:3614.20238\n",
      "[1]\tTest-rmse:3277.91883\n",
      "[2]\tTest-rmse:2977.32127\n",
      "[3]\tTest-rmse:2709.11865\n",
      "[4]\tTest-rmse:2467.69022\n",
      "[5]\tTest-rmse:2251.19883\n",
      "[6]\tTest-rmse:2058.38670\n",
      "[7]\tTest-rmse:1884.59158\n",
      "[8]\tTest-rmse:1731.63843\n",
      "[9]\tTest-rmse:1594.55783\n",
      "[10]\tTest-rmse:1471.38988\n",
      "[11]\tTest-rmse:1359.81446\n",
      "[12]\tTest-rmse:1262.39353\n",
      "[13]\tTest-rmse:1176.12774\n",
      "[14]\tTest-rmse:1098.37369\n",
      "[15]\tTest-rmse:1031.04545\n",
      "[16]\tTest-rmse:973.01382\n",
      "[17]\tTest-rmse:920.09828\n",
      "[18]\tTest-rmse:876.33207\n",
      "[19]\tTest-rmse:834.59548\n",
      "[20]\tTest-rmse:797.36835\n",
      "[21]\tTest-rmse:767.44214\n",
      "[22]\tTest-rmse:740.75892\n",
      "[23]\tTest-rmse:718.43552\n",
      "[24]\tTest-rmse:697.17429\n",
      "[25]\tTest-rmse:678.20706\n",
      "[26]\tTest-rmse:663.53274\n",
      "[27]\tTest-rmse:649.61081\n",
      "[28]\tTest-rmse:637.32375\n",
      "[29]\tTest-rmse:628.19375\n",
      "[30]\tTest-rmse:620.02754\n",
      "[31]\tTest-rmse:611.94436\n",
      "[32]\tTest-rmse:605.74611\n",
      "[33]\tTest-rmse:599.19673\n",
      "[34]\tTest-rmse:593.05072\n",
      "[35]\tTest-rmse:588.57189\n",
      "[36]\tTest-rmse:584.81340\n",
      "[37]\tTest-rmse:581.18754\n",
      "[38]\tTest-rmse:577.74820\n",
      "[39]\tTest-rmse:575.32839\n",
      "[40]\tTest-rmse:572.39569\n",
      "[41]\tTest-rmse:570.48215\n",
      "[42]\tTest-rmse:568.18520\n",
      "[43]\tTest-rmse:566.64155\n",
      "[44]\tTest-rmse:564.41795\n",
      "[45]\tTest-rmse:562.10131\n",
      "[46]\tTest-rmse:560.61217\n",
      "[47]\tTest-rmse:559.82076\n",
      "[48]\tTest-rmse:558.73577\n",
      "[49]\tTest-rmse:557.60400\n",
      "[50]\tTest-rmse:556.42774\n",
      "[51]\tTest-rmse:555.78287\n",
      "[52]\tTest-rmse:554.30718\n",
      "[53]\tTest-rmse:553.50414\n",
      "[54]\tTest-rmse:552.35122\n",
      "[55]\tTest-rmse:551.38200\n",
      "[56]\tTest-rmse:550.85618\n",
      "[57]\tTest-rmse:550.03046\n",
      "[58]\tTest-rmse:549.16710\n",
      "[59]\tTest-rmse:548.74880\n",
      "[60]\tTest-rmse:548.19020\n",
      "[61]\tTest-rmse:548.13338\n",
      "[62]\tTest-rmse:547.65843\n",
      "[63]\tTest-rmse:547.65254\n",
      "[64]\tTest-rmse:546.86722\n",
      "[65]\tTest-rmse:545.97580\n",
      "[66]\tTest-rmse:545.20627\n",
      "[67]\tTest-rmse:544.67299\n",
      "[68]\tTest-rmse:544.29388\n",
      "[69]\tTest-rmse:543.83221\n",
      "[70]\tTest-rmse:543.29487\n",
      "[71]\tTest-rmse:542.52289\n",
      "[72]\tTest-rmse:542.19807\n",
      "[73]\tTest-rmse:541.71703\n",
      "[74]\tTest-rmse:541.37710\n",
      "[75]\tTest-rmse:541.21512\n",
      "[76]\tTest-rmse:541.01590\n",
      "[77]\tTest-rmse:540.71834\n",
      "[78]\tTest-rmse:540.44322\n",
      "[79]\tTest-rmse:540.20666\n",
      "[80]\tTest-rmse:540.11953\n"
     ]
    },
    {
     "name": "stderr",
     "output_type": "stream",
     "text": [
      "[21:20:04] WARNING: /Users/runner/work/xgboost/xgboost/src/learner.cc:742: \n",
      "Parameters: { \"n_estimators\" } are not used.\n",
      "\n"
     ]
    },
    {
     "name": "stdout",
     "output_type": "stream",
     "text": [
      "[81]\tTest-rmse:539.72152\n",
      "[82]\tTest-rmse:539.33620\n",
      "[83]\tTest-rmse:539.04475\n",
      "[84]\tTest-rmse:539.29017\n",
      "[85]\tTest-rmse:538.83805\n",
      "[86]\tTest-rmse:538.84475\n",
      "[87]\tTest-rmse:538.54838\n",
      "[88]\tTest-rmse:538.56168\n",
      "[89]\tTest-rmse:538.47999\n",
      "[90]\tTest-rmse:538.32147\n",
      "[91]\tTest-rmse:538.18992\n",
      "[92]\tTest-rmse:538.04472\n",
      "[93]\tTest-rmse:537.73096\n",
      "[94]\tTest-rmse:537.47429\n",
      "[95]\tTest-rmse:537.03598\n",
      "[96]\tTest-rmse:536.74280\n",
      "[97]\tTest-rmse:536.23603\n",
      "[98]\tTest-rmse:536.01461\n",
      "[99]\tTest-rmse:536.05474\n",
      "[100]\tTest-rmse:535.94350\n",
      "[101]\tTest-rmse:535.65461\n",
      "[102]\tTest-rmse:535.75672\n",
      "[103]\tTest-rmse:535.43373\n",
      "[104]\tTest-rmse:535.48257\n",
      "[105]\tTest-rmse:535.16771\n",
      "[106]\tTest-rmse:535.05511\n",
      "[107]\tTest-rmse:534.91840\n",
      "[108]\tTest-rmse:534.88574\n",
      "[109]\tTest-rmse:534.71278\n",
      "[110]\tTest-rmse:534.66178\n",
      "[111]\tTest-rmse:534.37076\n",
      "[112]\tTest-rmse:534.41442\n",
      "[113]\tTest-rmse:533.98301\n",
      "[114]\tTest-rmse:533.73012\n",
      "[115]\tTest-rmse:533.72282\n",
      "[116]\tTest-rmse:533.52892\n",
      "[117]\tTest-rmse:533.54071\n",
      "[118]\tTest-rmse:533.47717\n",
      "[119]\tTest-rmse:533.65496\n",
      "[120]\tTest-rmse:533.59241\n",
      "[121]\tTest-rmse:533.68378\n",
      "[122]\tTest-rmse:533.61602\n",
      "[123]\tTest-rmse:533.64360\n",
      "[124]\tTest-rmse:533.69234\n",
      "[125]\tTest-rmse:533.71028\n",
      "[126]\tTest-rmse:533.34751\n",
      "[127]\tTest-rmse:533.27838\n",
      "[128]\tTest-rmse:533.33633\n",
      "[129]\tTest-rmse:533.25087\n",
      "[130]\tTest-rmse:533.26073\n",
      "[131]\tTest-rmse:533.21815\n",
      "[132]\tTest-rmse:533.29657\n",
      "[133]\tTest-rmse:533.19964\n",
      "[134]\tTest-rmse:533.02008\n",
      "[135]\tTest-rmse:532.95824\n",
      "[136]\tTest-rmse:532.93190\n",
      "[137]\tTest-rmse:533.12670\n",
      "[138]\tTest-rmse:533.11406\n",
      "[139]\tTest-rmse:533.01679\n",
      "[140]\tTest-rmse:532.95848\n",
      "[141]\tTest-rmse:532.83518\n",
      "[142]\tTest-rmse:532.51689\n",
      "[143]\tTest-rmse:532.73834\n",
      "[144]\tTest-rmse:532.65722\n",
      "[145]\tTest-rmse:532.88847\n",
      "[146]\tTest-rmse:532.85249\n",
      "[147]\tTest-rmse:533.02680\n",
      "[148]\tTest-rmse:533.18627\n",
      "[149]\tTest-rmse:533.35661\n",
      "[150]\tTest-rmse:533.16234\n",
      "[151]\tTest-rmse:533.01188\n",
      "[152]\tTest-rmse:533.03435\n"
     ]
    },
    {
     "data": {
      "text/html": [
       "<style>\n",
       "    table.wandb td:nth-child(1) { padding: 0 10px; text-align: left ; width: auto;} td:nth-child(2) {text-align: left ; width: 100%}\n",
       "    .wandb-row { display: flex; flex-direction: row; flex-wrap: wrap; justify-content: flex-start; width: 100% }\n",
       "    .wandb-col { display: flex; flex-direction: column; flex-basis: 100%; flex: 1; padding: 10px; }\n",
       "    </style>\n",
       "<div class=\"wandb-row\"><div class=\"wandb-col\"><h3>Run history:</h3><br/><table class=\"wandb\"><tr><td>rmse</td><td>▁</td></tr></table><br/></div><div class=\"wandb-col\"><h3>Run summary:</h3><br/><table class=\"wandb\"><tr><td>rmse</td><td>532.51689</td></tr></table><br/></div></div>"
      ],
      "text/plain": [
       "<IPython.core.display.HTML object>"
      ]
     },
     "metadata": {},
     "output_type": "display_data"
    },
    {
     "data": {
      "text/html": [
       " View run <strong style=\"color:#cdcd00\">ancient-sweep-6</strong> at: <a href='https://wandb.ai/jacobnu/xbg_grid_diamonds/runs/y9ibleq3' target=\"_blank\">https://wandb.ai/jacobnu/xbg_grid_diamonds/runs/y9ibleq3</a><br/> View project at: <a href='https://wandb.ai/jacobnu/xbg_grid_diamonds' target=\"_blank\">https://wandb.ai/jacobnu/xbg_grid_diamonds</a><br/>Synced 5 W&B file(s), 0 media file(s), 0 artifact file(s) and 0 other file(s)"
      ],
      "text/plain": [
       "<IPython.core.display.HTML object>"
      ]
     },
     "metadata": {},
     "output_type": "display_data"
    },
    {
     "data": {
      "text/html": [
       "Find logs at: <code>./wandb/run-20240421_212004-y9ibleq3/logs</code>"
      ],
      "text/plain": [
       "<IPython.core.display.HTML object>"
      ]
     },
     "metadata": {},
     "output_type": "display_data"
    },
    {
     "name": "stderr",
     "output_type": "stream",
     "text": [
      "\u001b[34m\u001b[1mwandb\u001b[0m: Agent Starting Run: vc6xcesq with config:\n",
      "\u001b[34m\u001b[1mwandb\u001b[0m: \tlearning_rate: 0.1\n",
      "\u001b[34m\u001b[1mwandb\u001b[0m: \tmax_depth: 7\n",
      "\u001b[34m\u001b[1mwandb\u001b[0m: \tn_estimators: 100\n",
      "\u001b[34m\u001b[1mwandb\u001b[0m: \tsubsample: 0.7\n",
      "\u001b[34m\u001b[1mwandb\u001b[0m: \u001b[33mWARNING\u001b[0m Ignored wandb.init() arg project when running a sweep.\n",
      "\u001b[34m\u001b[1mwandb\u001b[0m: \u001b[33mWARNING\u001b[0m Ignored wandb.init() arg entity when running a sweep.\n"
     ]
    },
    {
     "data": {
      "text/html": [
       "Tracking run with wandb version 0.16.6"
      ],
      "text/plain": [
       "<IPython.core.display.HTML object>"
      ]
     },
     "metadata": {},
     "output_type": "display_data"
    },
    {
     "data": {
      "text/html": [
       "Run data is saved locally in <code>/Users/jacob/Code/2024SP-MSAI-Practicum/wandb/run-20240421_212014-vc6xcesq</code>"
      ],
      "text/plain": [
       "<IPython.core.display.HTML object>"
      ]
     },
     "metadata": {},
     "output_type": "display_data"
    },
    {
     "data": {
      "text/html": [
       "Syncing run <strong><a href='https://wandb.ai/jacobnu/xbg_grid_diamonds/runs/vc6xcesq' target=\"_blank\">warm-sweep-7</a></strong> to <a href='https://wandb.ai/jacobnu/xbg_grid_diamonds' target=\"_blank\">Weights & Biases</a> (<a href='https://wandb.me/run' target=\"_blank\">docs</a>)<br/>Sweep page: <a href='https://wandb.ai/jacobnu/xbg_grid_diamonds/sweeps/hcbnoalh' target=\"_blank\">https://wandb.ai/jacobnu/xbg_grid_diamonds/sweeps/hcbnoalh</a>"
      ],
      "text/plain": [
       "<IPython.core.display.HTML object>"
      ]
     },
     "metadata": {},
     "output_type": "display_data"
    },
    {
     "data": {
      "text/html": [
       " View project at <a href='https://wandb.ai/jacobnu/xbg_grid_diamonds' target=\"_blank\">https://wandb.ai/jacobnu/xbg_grid_diamonds</a>"
      ],
      "text/plain": [
       "<IPython.core.display.HTML object>"
      ]
     },
     "metadata": {},
     "output_type": "display_data"
    },
    {
     "data": {
      "text/html": [
       " View sweep at <a href='https://wandb.ai/jacobnu/xbg_grid_diamonds/sweeps/hcbnoalh' target=\"_blank\">https://wandb.ai/jacobnu/xbg_grid_diamonds/sweeps/hcbnoalh</a>"
      ],
      "text/plain": [
       "<IPython.core.display.HTML object>"
      ]
     },
     "metadata": {},
     "output_type": "display_data"
    },
    {
     "data": {
      "text/html": [
       " View run at <a href='https://wandb.ai/jacobnu/xbg_grid_diamonds/runs/vc6xcesq' target=\"_blank\">https://wandb.ai/jacobnu/xbg_grid_diamonds/runs/vc6xcesq</a>"
      ],
      "text/plain": [
       "<IPython.core.display.HTML object>"
      ]
     },
     "metadata": {},
     "output_type": "display_data"
    },
    {
     "name": "stdout",
     "output_type": "stream",
     "text": [
      "[0]\tTest-rmse:3603.31218\n",
      "[1]\tTest-rmse:3259.33360\n",
      "[2]\tTest-rmse:2952.21838\n",
      "[3]\tTest-rmse:2676.58801\n",
      "[4]\tTest-rmse:2428.12336\n",
      "[5]\tTest-rmse:2206.43193\n",
      "[6]\tTest-rmse:2007.14540\n",
      "[7]\tTest-rmse:1829.30172\n",
      "[8]\tTest-rmse:1669.83233\n",
      "[9]\tTest-rmse:1529.82303\n",
      "[10]\tTest-rmse:1402.37103\n",
      "[11]\tTest-rmse:1289.54897\n",
      "[12]\tTest-rmse:1190.57951\n",
      "[13]\tTest-rmse:1102.25474\n",
      "[14]\tTest-rmse:1024.71417\n",
      "[15]\tTest-rmse:956.50514\n",
      "[16]\tTest-rmse:896.66543\n",
      "[17]\tTest-rmse:845.01032\n",
      "[18]\tTest-rmse:800.30006\n",
      "[19]\tTest-rmse:760.77796\n",
      "[20]\tTest-rmse:727.42602\n",
      "[21]\tTest-rmse:698.49008\n",
      "[22]\tTest-rmse:673.50901\n",
      "[23]\tTest-rmse:653.03012\n",
      "[24]\tTest-rmse:635.62806\n",
      "[25]\tTest-rmse:620.86350\n",
      "[26]\tTest-rmse:607.38812\n",
      "[27]\tTest-rmse:595.78863\n",
      "[28]\tTest-rmse:586.73750\n",
      "[29]\tTest-rmse:579.08741\n",
      "[30]\tTest-rmse:571.75723\n",
      "[31]\tTest-rmse:566.10779\n",
      "[32]\tTest-rmse:561.76449\n",
      "[33]\tTest-rmse:557.93923\n",
      "[34]\tTest-rmse:554.88487\n",
      "[35]\tTest-rmse:551.80447\n",
      "[36]\tTest-rmse:549.35349\n",
      "[37]\tTest-rmse:547.17012\n",
      "[38]\tTest-rmse:545.60672\n",
      "[39]\tTest-rmse:544.42885\n",
      "[40]\tTest-rmse:543.10685\n",
      "[41]\tTest-rmse:541.95278\n",
      "[42]\tTest-rmse:540.81959\n",
      "[43]\tTest-rmse:540.34326\n",
      "[44]\tTest-rmse:539.63999\n",
      "[45]\tTest-rmse:539.08057\n",
      "[46]\tTest-rmse:538.15517\n",
      "[47]\tTest-rmse:537.42033\n",
      "[48]\tTest-rmse:536.85146\n",
      "[49]\tTest-rmse:536.51150\n",
      "[50]\tTest-rmse:535.70133\n",
      "[51]\tTest-rmse:535.05972\n",
      "[52]\tTest-rmse:534.53914\n",
      "[53]\tTest-rmse:534.28127\n",
      "[54]\tTest-rmse:534.04428\n",
      "[55]\tTest-rmse:533.81981\n",
      "[56]\tTest-rmse:533.22338\n",
      "[57]\tTest-rmse:532.71332\n",
      "[58]\tTest-rmse:532.63614\n"
     ]
    },
    {
     "name": "stderr",
     "output_type": "stream",
     "text": [
      "[21:20:14] WARNING: /Users/runner/work/xgboost/xgboost/src/learner.cc:742: \n",
      "Parameters: { \"n_estimators\" } are not used.\n",
      "\n"
     ]
    },
    {
     "name": "stdout",
     "output_type": "stream",
     "text": [
      "[59]\tTest-rmse:532.66608\n",
      "[60]\tTest-rmse:532.03937\n",
      "[61]\tTest-rmse:532.00644\n",
      "[62]\tTest-rmse:532.16188\n",
      "[63]\tTest-rmse:531.95732\n",
      "[64]\tTest-rmse:531.83756\n",
      "[65]\tTest-rmse:532.02746\n",
      "[66]\tTest-rmse:531.97120\n",
      "[67]\tTest-rmse:531.68325\n",
      "[68]\tTest-rmse:531.46882\n",
      "[69]\tTest-rmse:530.75621\n",
      "[70]\tTest-rmse:530.74088\n",
      "[71]\tTest-rmse:530.66573\n",
      "[72]\tTest-rmse:530.54551\n",
      "[73]\tTest-rmse:530.93385\n",
      "[74]\tTest-rmse:530.83585\n",
      "[75]\tTest-rmse:530.92097\n",
      "[76]\tTest-rmse:530.79006\n",
      "[77]\tTest-rmse:530.50642\n",
      "[78]\tTest-rmse:530.48552\n",
      "[79]\tTest-rmse:530.68306\n",
      "[80]\tTest-rmse:530.80205\n",
      "[81]\tTest-rmse:531.00928\n",
      "[82]\tTest-rmse:531.16337\n",
      "[83]\tTest-rmse:531.11631\n",
      "[84]\tTest-rmse:530.54505\n",
      "[85]\tTest-rmse:530.26876\n",
      "[86]\tTest-rmse:530.54590\n",
      "[87]\tTest-rmse:530.80340\n",
      "[88]\tTest-rmse:530.93208\n",
      "[89]\tTest-rmse:530.64489\n",
      "[90]\tTest-rmse:530.98385\n",
      "[91]\tTest-rmse:530.86767\n",
      "[92]\tTest-rmse:530.95192\n",
      "[93]\tTest-rmse:530.90260\n",
      "[94]\tTest-rmse:531.15170\n",
      "[95]\tTest-rmse:530.91436\n"
     ]
    },
    {
     "data": {
      "text/html": [
       "<style>\n",
       "    table.wandb td:nth-child(1) { padding: 0 10px; text-align: left ; width: auto;} td:nth-child(2) {text-align: left ; width: 100%}\n",
       "    .wandb-row { display: flex; flex-direction: row; flex-wrap: wrap; justify-content: flex-start; width: 100% }\n",
       "    .wandb-col { display: flex; flex-direction: column; flex-basis: 100%; flex: 1; padding: 10px; }\n",
       "    </style>\n",
       "<div class=\"wandb-row\"><div class=\"wandb-col\"><h3>Run history:</h3><br/><table class=\"wandb\"><tr><td>rmse</td><td>▁</td></tr></table><br/></div><div class=\"wandb-col\"><h3>Run summary:</h3><br/><table class=\"wandb\"><tr><td>rmse</td><td>530.26876</td></tr></table><br/></div></div>"
      ],
      "text/plain": [
       "<IPython.core.display.HTML object>"
      ]
     },
     "metadata": {},
     "output_type": "display_data"
    },
    {
     "data": {
      "text/html": [
       " View run <strong style=\"color:#cdcd00\">warm-sweep-7</strong> at: <a href='https://wandb.ai/jacobnu/xbg_grid_diamonds/runs/vc6xcesq' target=\"_blank\">https://wandb.ai/jacobnu/xbg_grid_diamonds/runs/vc6xcesq</a><br/> View project at: <a href='https://wandb.ai/jacobnu/xbg_grid_diamonds' target=\"_blank\">https://wandb.ai/jacobnu/xbg_grid_diamonds</a><br/>Synced 5 W&B file(s), 0 media file(s), 0 artifact file(s) and 0 other file(s)"
      ],
      "text/plain": [
       "<IPython.core.display.HTML object>"
      ]
     },
     "metadata": {},
     "output_type": "display_data"
    },
    {
     "data": {
      "text/html": [
       "Find logs at: <code>./wandb/run-20240421_212014-vc6xcesq/logs</code>"
      ],
      "text/plain": [
       "<IPython.core.display.HTML object>"
      ]
     },
     "metadata": {},
     "output_type": "display_data"
    },
    {
     "name": "stderr",
     "output_type": "stream",
     "text": [
      "\u001b[34m\u001b[1mwandb\u001b[0m: Agent Starting Run: k8nb02qm with config:\n",
      "\u001b[34m\u001b[1mwandb\u001b[0m: \tlearning_rate: 0.1\n",
      "\u001b[34m\u001b[1mwandb\u001b[0m: \tmax_depth: 7\n",
      "\u001b[34m\u001b[1mwandb\u001b[0m: \tn_estimators: 100\n",
      "\u001b[34m\u001b[1mwandb\u001b[0m: \tsubsample: 0.8\n",
      "\u001b[34m\u001b[1mwandb\u001b[0m: \u001b[33mWARNING\u001b[0m Ignored wandb.init() arg project when running a sweep.\n",
      "\u001b[34m\u001b[1mwandb\u001b[0m: \u001b[33mWARNING\u001b[0m Ignored wandb.init() arg entity when running a sweep.\n"
     ]
    },
    {
     "data": {
      "text/html": [
       "Tracking run with wandb version 0.16.6"
      ],
      "text/plain": [
       "<IPython.core.display.HTML object>"
      ]
     },
     "metadata": {},
     "output_type": "display_data"
    },
    {
     "data": {
      "text/html": [
       "Run data is saved locally in <code>/Users/jacob/Code/2024SP-MSAI-Practicum/wandb/run-20240421_212023-k8nb02qm</code>"
      ],
      "text/plain": [
       "<IPython.core.display.HTML object>"
      ]
     },
     "metadata": {},
     "output_type": "display_data"
    },
    {
     "data": {
      "text/html": [
       "Syncing run <strong><a href='https://wandb.ai/jacobnu/xbg_grid_diamonds/runs/k8nb02qm' target=\"_blank\">volcanic-sweep-8</a></strong> to <a href='https://wandb.ai/jacobnu/xbg_grid_diamonds' target=\"_blank\">Weights & Biases</a> (<a href='https://wandb.me/run' target=\"_blank\">docs</a>)<br/>Sweep page: <a href='https://wandb.ai/jacobnu/xbg_grid_diamonds/sweeps/hcbnoalh' target=\"_blank\">https://wandb.ai/jacobnu/xbg_grid_diamonds/sweeps/hcbnoalh</a>"
      ],
      "text/plain": [
       "<IPython.core.display.HTML object>"
      ]
     },
     "metadata": {},
     "output_type": "display_data"
    },
    {
     "data": {
      "text/html": [
       " View project at <a href='https://wandb.ai/jacobnu/xbg_grid_diamonds' target=\"_blank\">https://wandb.ai/jacobnu/xbg_grid_diamonds</a>"
      ],
      "text/plain": [
       "<IPython.core.display.HTML object>"
      ]
     },
     "metadata": {},
     "output_type": "display_data"
    },
    {
     "data": {
      "text/html": [
       " View sweep at <a href='https://wandb.ai/jacobnu/xbg_grid_diamonds/sweeps/hcbnoalh' target=\"_blank\">https://wandb.ai/jacobnu/xbg_grid_diamonds/sweeps/hcbnoalh</a>"
      ],
      "text/plain": [
       "<IPython.core.display.HTML object>"
      ]
     },
     "metadata": {},
     "output_type": "display_data"
    },
    {
     "data": {
      "text/html": [
       " View run at <a href='https://wandb.ai/jacobnu/xbg_grid_diamonds/runs/k8nb02qm' target=\"_blank\">https://wandb.ai/jacobnu/xbg_grid_diamonds/runs/k8nb02qm</a>"
      ],
      "text/plain": [
       "<IPython.core.display.HTML object>"
      ]
     },
     "metadata": {},
     "output_type": "display_data"
    },
    {
     "name": "stdout",
     "output_type": "stream",
     "text": [
      "[0]\tTest-rmse:3604.58104\n",
      "[1]\tTest-rmse:3259.70020\n",
      "[2]\tTest-rmse:2950.87660\n",
      "[3]\tTest-rmse:2675.26565\n",
      "[4]\tTest-rmse:2426.48885\n",
      "[5]\tTest-rmse:2204.57305\n",
      "[6]\tTest-rmse:2006.69497\n",
      "[7]\tTest-rmse:1828.26585\n",
      "[8]\tTest-rmse:1669.54723\n",
      "[9]\tTest-rmse:1528.63129\n",
      "[10]\tTest-rmse:1401.41609\n",
      "[11]\tTest-rmse:1288.10993\n",
      "[12]\tTest-rmse:1187.99732\n",
      "[13]\tTest-rmse:1100.55281\n",
      "[14]\tTest-rmse:1023.07257\n",
      "[15]\tTest-rmse:954.39459\n",
      "[16]\tTest-rmse:894.49907\n",
      "[17]\tTest-rmse:841.94017\n",
      "[18]\tTest-rmse:797.65652\n",
      "[19]\tTest-rmse:757.99851\n",
      "[20]\tTest-rmse:724.85888\n",
      "[21]\tTest-rmse:694.59427\n",
      "[22]\tTest-rmse:668.69470\n",
      "[23]\tTest-rmse:648.34040\n",
      "[24]\tTest-rmse:630.88977\n",
      "[25]\tTest-rmse:616.56335\n",
      "[26]\tTest-rmse:603.39010\n",
      "[27]\tTest-rmse:592.31959\n",
      "[28]\tTest-rmse:582.22454\n",
      "[29]\tTest-rmse:574.64965\n",
      "[30]\tTest-rmse:567.60140\n",
      "[31]\tTest-rmse:561.83685\n",
      "[32]\tTest-rmse:557.39729\n",
      "[33]\tTest-rmse:553.85963\n",
      "[34]\tTest-rmse:550.80469\n",
      "[35]\tTest-rmse:548.23540\n",
      "[36]\tTest-rmse:546.37878\n",
      "[37]\tTest-rmse:544.47249\n",
      "[38]\tTest-rmse:542.65144\n",
      "[39]\tTest-rmse:540.92661\n",
      "[40]\tTest-rmse:539.53487\n",
      "[41]\tTest-rmse:538.34000\n",
      "[42]\tTest-rmse:537.22923\n",
      "[43]\tTest-rmse:536.30052\n",
      "[44]\tTest-rmse:535.38893\n",
      "[45]\tTest-rmse:534.47900\n",
      "[46]\tTest-rmse:533.60193\n",
      "[47]\tTest-rmse:533.00000\n",
      "[48]\tTest-rmse:532.37626\n",
      "[49]\tTest-rmse:531.82264\n",
      "[50]\tTest-rmse:531.67768\n",
      "[51]\tTest-rmse:531.03957\n",
      "[52]\tTest-rmse:530.68332\n",
      "[53]\tTest-rmse:530.38310\n",
      "[54]\tTest-rmse:530.24471\n",
      "[55]\tTest-rmse:529.92976\n",
      "[56]\tTest-rmse:529.70806\n",
      "[57]\tTest-rmse:529.34703\n",
      "[58]\tTest-rmse:529.34733\n",
      "[59]\tTest-rmse:528.82296\n",
      "[60]\tTest-rmse:528.56183\n",
      "[61]\tTest-rmse:528.89210\n",
      "[62]\tTest-rmse:528.79669\n",
      "[63]\tTest-rmse:528.71003\n"
     ]
    },
    {
     "name": "stderr",
     "output_type": "stream",
     "text": [
      "[21:20:24] WARNING: /Users/runner/work/xgboost/xgboost/src/learner.cc:742: \n",
      "Parameters: { \"n_estimators\" } are not used.\n",
      "\n"
     ]
    },
    {
     "name": "stdout",
     "output_type": "stream",
     "text": [
      "[64]\tTest-rmse:528.59859\n",
      "[65]\tTest-rmse:528.73197\n",
      "[66]\tTest-rmse:528.43389\n",
      "[67]\tTest-rmse:528.11987\n",
      "[68]\tTest-rmse:528.00663\n",
      "[69]\tTest-rmse:527.82229\n",
      "[70]\tTest-rmse:527.56285\n",
      "[71]\tTest-rmse:527.54466\n",
      "[72]\tTest-rmse:527.49235\n",
      "[73]\tTest-rmse:527.48814\n",
      "[74]\tTest-rmse:527.26601\n",
      "[75]\tTest-rmse:527.77978\n",
      "[76]\tTest-rmse:527.92780\n",
      "[77]\tTest-rmse:527.81315\n",
      "[78]\tTest-rmse:527.71553\n",
      "[79]\tTest-rmse:527.83910\n",
      "[80]\tTest-rmse:528.09349\n",
      "[81]\tTest-rmse:528.03042\n",
      "[82]\tTest-rmse:528.29804\n",
      "[83]\tTest-rmse:528.16017\n"
     ]
    },
    {
     "data": {
      "text/html": [
       "<style>\n",
       "    table.wandb td:nth-child(1) { padding: 0 10px; text-align: left ; width: auto;} td:nth-child(2) {text-align: left ; width: 100%}\n",
       "    .wandb-row { display: flex; flex-direction: row; flex-wrap: wrap; justify-content: flex-start; width: 100% }\n",
       "    .wandb-col { display: flex; flex-direction: column; flex-basis: 100%; flex: 1; padding: 10px; }\n",
       "    </style>\n",
       "<div class=\"wandb-row\"><div class=\"wandb-col\"><h3>Run history:</h3><br/><table class=\"wandb\"><tr><td>rmse</td><td>▁</td></tr></table><br/></div><div class=\"wandb-col\"><h3>Run summary:</h3><br/><table class=\"wandb\"><tr><td>rmse</td><td>527.26601</td></tr></table><br/></div></div>"
      ],
      "text/plain": [
       "<IPython.core.display.HTML object>"
      ]
     },
     "metadata": {},
     "output_type": "display_data"
    },
    {
     "data": {
      "text/html": [
       " View run <strong style=\"color:#cdcd00\">volcanic-sweep-8</strong> at: <a href='https://wandb.ai/jacobnu/xbg_grid_diamonds/runs/k8nb02qm' target=\"_blank\">https://wandb.ai/jacobnu/xbg_grid_diamonds/runs/k8nb02qm</a><br/> View project at: <a href='https://wandb.ai/jacobnu/xbg_grid_diamonds' target=\"_blank\">https://wandb.ai/jacobnu/xbg_grid_diamonds</a><br/>Synced 5 W&B file(s), 0 media file(s), 0 artifact file(s) and 0 other file(s)"
      ],
      "text/plain": [
       "<IPython.core.display.HTML object>"
      ]
     },
     "metadata": {},
     "output_type": "display_data"
    },
    {
     "data": {
      "text/html": [
       "Find logs at: <code>./wandb/run-20240421_212023-k8nb02qm/logs</code>"
      ],
      "text/plain": [
       "<IPython.core.display.HTML object>"
      ]
     },
     "metadata": {},
     "output_type": "display_data"
    },
    {
     "name": "stderr",
     "output_type": "stream",
     "text": [
      "\u001b[34m\u001b[1mwandb\u001b[0m: Agent Starting Run: niyg5i39 with config:\n",
      "\u001b[34m\u001b[1mwandb\u001b[0m: \tlearning_rate: 0.1\n",
      "\u001b[34m\u001b[1mwandb\u001b[0m: \tmax_depth: 7\n",
      "\u001b[34m\u001b[1mwandb\u001b[0m: \tn_estimators: 100\n",
      "\u001b[34m\u001b[1mwandb\u001b[0m: \tsubsample: 0.9\n",
      "\u001b[34m\u001b[1mwandb\u001b[0m: \u001b[33mWARNING\u001b[0m Ignored wandb.init() arg project when running a sweep.\n",
      "\u001b[34m\u001b[1mwandb\u001b[0m: \u001b[33mWARNING\u001b[0m Ignored wandb.init() arg entity when running a sweep.\n"
     ]
    },
    {
     "data": {
      "text/html": [
       "Tracking run with wandb version 0.16.6"
      ],
      "text/plain": [
       "<IPython.core.display.HTML object>"
      ]
     },
     "metadata": {},
     "output_type": "display_data"
    },
    {
     "data": {
      "text/html": [
       "Run data is saved locally in <code>/Users/jacob/Code/2024SP-MSAI-Practicum/wandb/run-20240421_212034-niyg5i39</code>"
      ],
      "text/plain": [
       "<IPython.core.display.HTML object>"
      ]
     },
     "metadata": {},
     "output_type": "display_data"
    },
    {
     "data": {
      "text/html": [
       "Syncing run <strong><a href='https://wandb.ai/jacobnu/xbg_grid_diamonds/runs/niyg5i39' target=\"_blank\">jolly-sweep-9</a></strong> to <a href='https://wandb.ai/jacobnu/xbg_grid_diamonds' target=\"_blank\">Weights & Biases</a> (<a href='https://wandb.me/run' target=\"_blank\">docs</a>)<br/>Sweep page: <a href='https://wandb.ai/jacobnu/xbg_grid_diamonds/sweeps/hcbnoalh' target=\"_blank\">https://wandb.ai/jacobnu/xbg_grid_diamonds/sweeps/hcbnoalh</a>"
      ],
      "text/plain": [
       "<IPython.core.display.HTML object>"
      ]
     },
     "metadata": {},
     "output_type": "display_data"
    },
    {
     "data": {
      "text/html": [
       " View project at <a href='https://wandb.ai/jacobnu/xbg_grid_diamonds' target=\"_blank\">https://wandb.ai/jacobnu/xbg_grid_diamonds</a>"
      ],
      "text/plain": [
       "<IPython.core.display.HTML object>"
      ]
     },
     "metadata": {},
     "output_type": "display_data"
    },
    {
     "data": {
      "text/html": [
       " View sweep at <a href='https://wandb.ai/jacobnu/xbg_grid_diamonds/sweeps/hcbnoalh' target=\"_blank\">https://wandb.ai/jacobnu/xbg_grid_diamonds/sweeps/hcbnoalh</a>"
      ],
      "text/plain": [
       "<IPython.core.display.HTML object>"
      ]
     },
     "metadata": {},
     "output_type": "display_data"
    },
    {
     "data": {
      "text/html": [
       " View run at <a href='https://wandb.ai/jacobnu/xbg_grid_diamonds/runs/niyg5i39' target=\"_blank\">https://wandb.ai/jacobnu/xbg_grid_diamonds/runs/niyg5i39</a>"
      ],
      "text/plain": [
       "<IPython.core.display.HTML object>"
      ]
     },
     "metadata": {},
     "output_type": "display_data"
    },
    {
     "name": "stdout",
     "output_type": "stream",
     "text": [
      "[0]\tTest-rmse:3604.28063\n",
      "[1]\tTest-rmse:3259.57907\n",
      "[2]\tTest-rmse:2952.45820\n",
      "[3]\tTest-rmse:2675.62650\n",
      "[4]\tTest-rmse:2428.25835\n",
      "[5]\tTest-rmse:2204.56283\n",
      "[6]\tTest-rmse:2005.27116\n",
      "[7]\tTest-rmse:1827.95092\n",
      "[8]\tTest-rmse:1668.73014\n",
      "[9]\tTest-rmse:1526.86936\n",
      "[10]\tTest-rmse:1401.08695\n",
      "[11]\tTest-rmse:1287.39597\n",
      "[12]\tTest-rmse:1187.06224\n",
      "[13]\tTest-rmse:1099.74227\n",
      "[14]\tTest-rmse:1022.75631\n",
      "[15]\tTest-rmse:954.32381\n",
      "[16]\tTest-rmse:894.29365\n",
      "[17]\tTest-rmse:842.77460\n",
      "[18]\tTest-rmse:798.24330\n",
      "[19]\tTest-rmse:759.08088\n",
      "[20]\tTest-rmse:725.87386\n",
      "[21]\tTest-rmse:697.16927\n",
      "[22]\tTest-rmse:672.20452\n",
      "[23]\tTest-rmse:652.10448\n",
      "[24]\tTest-rmse:634.20000\n",
      "[25]\tTest-rmse:619.05531\n",
      "[26]\tTest-rmse:606.26081\n",
      "[27]\tTest-rmse:596.01728\n",
      "[28]\tTest-rmse:586.61276\n",
      "[29]\tTest-rmse:578.71071\n",
      "[30]\tTest-rmse:572.36401\n",
      "[31]\tTest-rmse:566.51757\n",
      "[32]\tTest-rmse:562.06600\n",
      "[33]\tTest-rmse:558.12500\n",
      "[34]\tTest-rmse:554.31541\n",
      "[35]\tTest-rmse:551.88378\n",
      "[36]\tTest-rmse:550.20203\n",
      "[37]\tTest-rmse:547.80123\n",
      "[38]\tTest-rmse:546.21376\n",
      "[39]\tTest-rmse:544.77443\n",
      "[40]\tTest-rmse:543.45698\n",
      "[41]\tTest-rmse:542.51084\n",
      "[42]\tTest-rmse:541.67822\n",
      "[43]\tTest-rmse:541.08918\n",
      "[44]\tTest-rmse:540.53834\n",
      "[45]\tTest-rmse:539.78526\n",
      "[46]\tTest-rmse:539.32468\n",
      "[47]\tTest-rmse:538.15431\n",
      "[48]\tTest-rmse:538.01469\n",
      "[49]\tTest-rmse:537.76518\n",
      "[50]\tTest-rmse:537.46056\n",
      "[51]\tTest-rmse:536.90186\n",
      "[52]\tTest-rmse:536.42751\n",
      "[53]\tTest-rmse:536.20697\n",
      "[54]\tTest-rmse:536.14267\n",
      "[55]\tTest-rmse:535.49318\n",
      "[56]\tTest-rmse:534.98582\n",
      "[57]\tTest-rmse:534.93138\n",
      "[58]\tTest-rmse:534.86128\n",
      "[59]\tTest-rmse:534.54258\n",
      "[60]\tTest-rmse:534.31129\n"
     ]
    },
    {
     "name": "stderr",
     "output_type": "stream",
     "text": [
      "[21:20:35] WARNING: /Users/runner/work/xgboost/xgboost/src/learner.cc:742: \n",
      "Parameters: { \"n_estimators\" } are not used.\n",
      "\n"
     ]
    },
    {
     "name": "stdout",
     "output_type": "stream",
     "text": [
      "[61]\tTest-rmse:534.14710\n",
      "[62]\tTest-rmse:534.14320\n",
      "[63]\tTest-rmse:533.77574\n",
      "[64]\tTest-rmse:533.73970\n",
      "[65]\tTest-rmse:533.63100\n",
      "[66]\tTest-rmse:533.64728\n",
      "[67]\tTest-rmse:534.28885\n",
      "[68]\tTest-rmse:534.17176\n",
      "[69]\tTest-rmse:534.24816\n",
      "[70]\tTest-rmse:534.34715\n",
      "[71]\tTest-rmse:534.16855\n",
      "[72]\tTest-rmse:534.12175\n",
      "[73]\tTest-rmse:533.97117\n",
      "[74]\tTest-rmse:533.81538\n",
      "[75]\tTest-rmse:533.74070\n"
     ]
    },
    {
     "data": {
      "text/html": [
       "<style>\n",
       "    table.wandb td:nth-child(1) { padding: 0 10px; text-align: left ; width: auto;} td:nth-child(2) {text-align: left ; width: 100%}\n",
       "    .wandb-row { display: flex; flex-direction: row; flex-wrap: wrap; justify-content: flex-start; width: 100% }\n",
       "    .wandb-col { display: flex; flex-direction: column; flex-basis: 100%; flex: 1; padding: 10px; }\n",
       "    </style>\n",
       "<div class=\"wandb-row\"><div class=\"wandb-col\"><h3>Run history:</h3><br/><table class=\"wandb\"><tr><td>rmse</td><td>▁</td></tr></table><br/></div><div class=\"wandb-col\"><h3>Run summary:</h3><br/><table class=\"wandb\"><tr><td>rmse</td><td>533.631</td></tr></table><br/></div></div>"
      ],
      "text/plain": [
       "<IPython.core.display.HTML object>"
      ]
     },
     "metadata": {},
     "output_type": "display_data"
    },
    {
     "data": {
      "text/html": [
       " View run <strong style=\"color:#cdcd00\">jolly-sweep-9</strong> at: <a href='https://wandb.ai/jacobnu/xbg_grid_diamonds/runs/niyg5i39' target=\"_blank\">https://wandb.ai/jacobnu/xbg_grid_diamonds/runs/niyg5i39</a><br/> View project at: <a href='https://wandb.ai/jacobnu/xbg_grid_diamonds' target=\"_blank\">https://wandb.ai/jacobnu/xbg_grid_diamonds</a><br/>Synced 5 W&B file(s), 0 media file(s), 0 artifact file(s) and 0 other file(s)"
      ],
      "text/plain": [
       "<IPython.core.display.HTML object>"
      ]
     },
     "metadata": {},
     "output_type": "display_data"
    },
    {
     "data": {
      "text/html": [
       "Find logs at: <code>./wandb/run-20240421_212034-niyg5i39/logs</code>"
      ],
      "text/plain": [
       "<IPython.core.display.HTML object>"
      ]
     },
     "metadata": {},
     "output_type": "display_data"
    },
    {
     "name": "stderr",
     "output_type": "stream",
     "text": [
      "\u001b[34m\u001b[1mwandb\u001b[0m: Agent Starting Run: xj3zmbqw with config:\n",
      "\u001b[34m\u001b[1mwandb\u001b[0m: \tlearning_rate: 0.1\n",
      "\u001b[34m\u001b[1mwandb\u001b[0m: \tmax_depth: 7\n",
      "\u001b[34m\u001b[1mwandb\u001b[0m: \tn_estimators: 200\n",
      "\u001b[34m\u001b[1mwandb\u001b[0m: \tsubsample: 0.7\n",
      "\u001b[34m\u001b[1mwandb\u001b[0m: \u001b[33mWARNING\u001b[0m Ignored wandb.init() arg project when running a sweep.\n",
      "\u001b[34m\u001b[1mwandb\u001b[0m: \u001b[33mWARNING\u001b[0m Ignored wandb.init() arg entity when running a sweep.\n"
     ]
    },
    {
     "data": {
      "text/html": [
       "Tracking run with wandb version 0.16.6"
      ],
      "text/plain": [
       "<IPython.core.display.HTML object>"
      ]
     },
     "metadata": {},
     "output_type": "display_data"
    },
    {
     "data": {
      "text/html": [
       "Run data is saved locally in <code>/Users/jacob/Code/2024SP-MSAI-Practicum/wandb/run-20240421_212044-xj3zmbqw</code>"
      ],
      "text/plain": [
       "<IPython.core.display.HTML object>"
      ]
     },
     "metadata": {},
     "output_type": "display_data"
    },
    {
     "data": {
      "text/html": [
       "Syncing run <strong><a href='https://wandb.ai/jacobnu/xbg_grid_diamonds/runs/xj3zmbqw' target=\"_blank\">icy-sweep-10</a></strong> to <a href='https://wandb.ai/jacobnu/xbg_grid_diamonds' target=\"_blank\">Weights & Biases</a> (<a href='https://wandb.me/run' target=\"_blank\">docs</a>)<br/>Sweep page: <a href='https://wandb.ai/jacobnu/xbg_grid_diamonds/sweeps/hcbnoalh' target=\"_blank\">https://wandb.ai/jacobnu/xbg_grid_diamonds/sweeps/hcbnoalh</a>"
      ],
      "text/plain": [
       "<IPython.core.display.HTML object>"
      ]
     },
     "metadata": {},
     "output_type": "display_data"
    },
    {
     "data": {
      "text/html": [
       " View project at <a href='https://wandb.ai/jacobnu/xbg_grid_diamonds' target=\"_blank\">https://wandb.ai/jacobnu/xbg_grid_diamonds</a>"
      ],
      "text/plain": [
       "<IPython.core.display.HTML object>"
      ]
     },
     "metadata": {},
     "output_type": "display_data"
    },
    {
     "data": {
      "text/html": [
       " View sweep at <a href='https://wandb.ai/jacobnu/xbg_grid_diamonds/sweeps/hcbnoalh' target=\"_blank\">https://wandb.ai/jacobnu/xbg_grid_diamonds/sweeps/hcbnoalh</a>"
      ],
      "text/plain": [
       "<IPython.core.display.HTML object>"
      ]
     },
     "metadata": {},
     "output_type": "display_data"
    },
    {
     "data": {
      "text/html": [
       " View run at <a href='https://wandb.ai/jacobnu/xbg_grid_diamonds/runs/xj3zmbqw' target=\"_blank\">https://wandb.ai/jacobnu/xbg_grid_diamonds/runs/xj3zmbqw</a>"
      ],
      "text/plain": [
       "<IPython.core.display.HTML object>"
      ]
     },
     "metadata": {},
     "output_type": "display_data"
    },
    {
     "name": "stdout",
     "output_type": "stream",
     "text": [
      "[0]\tTest-rmse:3603.31218\n",
      "[1]\tTest-rmse:3259.33360\n",
      "[2]\tTest-rmse:2952.21838\n",
      "[3]\tTest-rmse:2676.58801\n",
      "[4]\tTest-rmse:2428.12336\n",
      "[5]\tTest-rmse:2206.43193\n",
      "[6]\tTest-rmse:2007.14540\n",
      "[7]\tTest-rmse:1829.30172\n",
      "[8]\tTest-rmse:1669.83233\n",
      "[9]\tTest-rmse:1529.82303\n",
      "[10]\tTest-rmse:1402.37103\n",
      "[11]\tTest-rmse:1289.54897\n",
      "[12]\tTest-rmse:1190.57951\n",
      "[13]\tTest-rmse:1102.25474\n",
      "[14]\tTest-rmse:1024.71417\n",
      "[15]\tTest-rmse:956.50514\n",
      "[16]\tTest-rmse:896.66543\n",
      "[17]\tTest-rmse:845.01032\n",
      "[18]\tTest-rmse:800.30006\n",
      "[19]\tTest-rmse:760.77796\n",
      "[20]\tTest-rmse:727.42602\n",
      "[21]\tTest-rmse:698.49008\n",
      "[22]\tTest-rmse:673.50901\n",
      "[23]\tTest-rmse:653.03012\n",
      "[24]\tTest-rmse:635.62806\n",
      "[25]\tTest-rmse:620.86350\n",
      "[26]\tTest-rmse:607.38812\n",
      "[27]\tTest-rmse:595.78863\n",
      "[28]\tTest-rmse:586.73750\n",
      "[29]\tTest-rmse:579.08741\n",
      "[30]\tTest-rmse:571.75723\n",
      "[31]\tTest-rmse:566.10779\n",
      "[32]\tTest-rmse:561.76449\n",
      "[33]\tTest-rmse:557.93923\n",
      "[34]\tTest-rmse:554.88487\n",
      "[35]\tTest-rmse:551.80447\n",
      "[36]\tTest-rmse:549.35349\n",
      "[37]\tTest-rmse:547.17012\n",
      "[38]\tTest-rmse:545.60672\n",
      "[39]\tTest-rmse:544.42885\n",
      "[40]\tTest-rmse:543.10685\n",
      "[41]\tTest-rmse:541.95278\n",
      "[42]\tTest-rmse:540.81959\n",
      "[43]\tTest-rmse:540.34326\n",
      "[44]\tTest-rmse:539.63999\n",
      "[45]\tTest-rmse:539.08057\n",
      "[46]\tTest-rmse:538.15517\n",
      "[47]\tTest-rmse:537.42033\n",
      "[48]\tTest-rmse:536.85146\n",
      "[49]\tTest-rmse:536.51150\n",
      "[50]\tTest-rmse:535.70133\n",
      "[51]\tTest-rmse:535.05972\n",
      "[52]\tTest-rmse:534.53914\n",
      "[53]\tTest-rmse:534.28127\n",
      "[54]\tTest-rmse:534.04428\n",
      "[55]\tTest-rmse:533.81981\n",
      "[56]\tTest-rmse:533.22338\n",
      "[57]\tTest-rmse:532.71332\n",
      "[58]\tTest-rmse:532.63614\n",
      "[59]\tTest-rmse:532.66608\n",
      "[60]\tTest-rmse:532.03937\n",
      "[61]\tTest-rmse:532.00644\n",
      "[62]\tTest-rmse:532.16188\n",
      "[63]\tTest-rmse:531.95732\n"
     ]
    },
    {
     "name": "stderr",
     "output_type": "stream",
     "text": [
      "[21:20:45] WARNING: /Users/runner/work/xgboost/xgboost/src/learner.cc:742: \n",
      "Parameters: { \"n_estimators\" } are not used.\n",
      "\n"
     ]
    },
    {
     "name": "stdout",
     "output_type": "stream",
     "text": [
      "[64]\tTest-rmse:531.83756\n",
      "[65]\tTest-rmse:532.02746\n",
      "[66]\tTest-rmse:531.97120\n",
      "[67]\tTest-rmse:531.68325\n",
      "[68]\tTest-rmse:531.46882\n",
      "[69]\tTest-rmse:530.75621\n",
      "[70]\tTest-rmse:530.74088\n",
      "[71]\tTest-rmse:530.66573\n",
      "[72]\tTest-rmse:530.54551\n",
      "[73]\tTest-rmse:530.93385\n",
      "[74]\tTest-rmse:530.83585\n",
      "[75]\tTest-rmse:530.92097\n",
      "[76]\tTest-rmse:530.79006\n",
      "[77]\tTest-rmse:530.50642\n",
      "[78]\tTest-rmse:530.48552\n",
      "[79]\tTest-rmse:530.68306\n",
      "[80]\tTest-rmse:530.80205\n",
      "[81]\tTest-rmse:531.00928\n",
      "[82]\tTest-rmse:531.16337\n",
      "[83]\tTest-rmse:531.11631\n",
      "[84]\tTest-rmse:530.54505\n",
      "[85]\tTest-rmse:530.26876\n",
      "[86]\tTest-rmse:530.54590\n",
      "[87]\tTest-rmse:530.80340\n",
      "[88]\tTest-rmse:530.93208\n",
      "[89]\tTest-rmse:530.64489\n",
      "[90]\tTest-rmse:530.98385\n",
      "[91]\tTest-rmse:530.86767\n",
      "[92]\tTest-rmse:530.95192\n",
      "[93]\tTest-rmse:530.90260\n",
      "[94]\tTest-rmse:531.15170\n"
     ]
    },
    {
     "data": {
      "text/html": [
       "<style>\n",
       "    table.wandb td:nth-child(1) { padding: 0 10px; text-align: left ; width: auto;} td:nth-child(2) {text-align: left ; width: 100%}\n",
       "    .wandb-row { display: flex; flex-direction: row; flex-wrap: wrap; justify-content: flex-start; width: 100% }\n",
       "    .wandb-col { display: flex; flex-direction: column; flex-basis: 100%; flex: 1; padding: 10px; }\n",
       "    </style>\n",
       "<div class=\"wandb-row\"><div class=\"wandb-col\"><h3>Run history:</h3><br/><table class=\"wandb\"><tr><td>rmse</td><td>▁</td></tr></table><br/></div><div class=\"wandb-col\"><h3>Run summary:</h3><br/><table class=\"wandb\"><tr><td>rmse</td><td>530.26876</td></tr></table><br/></div></div>"
      ],
      "text/plain": [
       "<IPython.core.display.HTML object>"
      ]
     },
     "metadata": {},
     "output_type": "display_data"
    },
    {
     "data": {
      "text/html": [
       " View run <strong style=\"color:#cdcd00\">icy-sweep-10</strong> at: <a href='https://wandb.ai/jacobnu/xbg_grid_diamonds/runs/xj3zmbqw' target=\"_blank\">https://wandb.ai/jacobnu/xbg_grid_diamonds/runs/xj3zmbqw</a><br/> View project at: <a href='https://wandb.ai/jacobnu/xbg_grid_diamonds' target=\"_blank\">https://wandb.ai/jacobnu/xbg_grid_diamonds</a><br/>Synced 5 W&B file(s), 0 media file(s), 0 artifact file(s) and 0 other file(s)"
      ],
      "text/plain": [
       "<IPython.core.display.HTML object>"
      ]
     },
     "metadata": {},
     "output_type": "display_data"
    },
    {
     "data": {
      "text/html": [
       "Find logs at: <code>./wandb/run-20240421_212044-xj3zmbqw/logs</code>"
      ],
      "text/plain": [
       "<IPython.core.display.HTML object>"
      ]
     },
     "metadata": {},
     "output_type": "display_data"
    },
    {
     "name": "stderr",
     "output_type": "stream",
     "text": [
      "\u001b[34m\u001b[1mwandb\u001b[0m: Agent Starting Run: bxqnwzs0 with config:\n",
      "\u001b[34m\u001b[1mwandb\u001b[0m: \tlearning_rate: 0.1\n",
      "\u001b[34m\u001b[1mwandb\u001b[0m: \tmax_depth: 7\n",
      "\u001b[34m\u001b[1mwandb\u001b[0m: \tn_estimators: 200\n",
      "\u001b[34m\u001b[1mwandb\u001b[0m: \tsubsample: 0.8\n",
      "\u001b[34m\u001b[1mwandb\u001b[0m: \u001b[33mWARNING\u001b[0m Ignored wandb.init() arg project when running a sweep.\n",
      "\u001b[34m\u001b[1mwandb\u001b[0m: \u001b[33mWARNING\u001b[0m Ignored wandb.init() arg entity when running a sweep.\n"
     ]
    },
    {
     "data": {
      "text/html": [
       "Tracking run with wandb version 0.16.6"
      ],
      "text/plain": [
       "<IPython.core.display.HTML object>"
      ]
     },
     "metadata": {},
     "output_type": "display_data"
    },
    {
     "data": {
      "text/html": [
       "Run data is saved locally in <code>/Users/jacob/Code/2024SP-MSAI-Practicum/wandb/run-20240421_212055-bxqnwzs0</code>"
      ],
      "text/plain": [
       "<IPython.core.display.HTML object>"
      ]
     },
     "metadata": {},
     "output_type": "display_data"
    },
    {
     "data": {
      "text/html": [
       "Syncing run <strong><a href='https://wandb.ai/jacobnu/xbg_grid_diamonds/runs/bxqnwzs0' target=\"_blank\">wandering-sweep-11</a></strong> to <a href='https://wandb.ai/jacobnu/xbg_grid_diamonds' target=\"_blank\">Weights & Biases</a> (<a href='https://wandb.me/run' target=\"_blank\">docs</a>)<br/>Sweep page: <a href='https://wandb.ai/jacobnu/xbg_grid_diamonds/sweeps/hcbnoalh' target=\"_blank\">https://wandb.ai/jacobnu/xbg_grid_diamonds/sweeps/hcbnoalh</a>"
      ],
      "text/plain": [
       "<IPython.core.display.HTML object>"
      ]
     },
     "metadata": {},
     "output_type": "display_data"
    },
    {
     "data": {
      "text/html": [
       " View project at <a href='https://wandb.ai/jacobnu/xbg_grid_diamonds' target=\"_blank\">https://wandb.ai/jacobnu/xbg_grid_diamonds</a>"
      ],
      "text/plain": [
       "<IPython.core.display.HTML object>"
      ]
     },
     "metadata": {},
     "output_type": "display_data"
    },
    {
     "data": {
      "text/html": [
       " View sweep at <a href='https://wandb.ai/jacobnu/xbg_grid_diamonds/sweeps/hcbnoalh' target=\"_blank\">https://wandb.ai/jacobnu/xbg_grid_diamonds/sweeps/hcbnoalh</a>"
      ],
      "text/plain": [
       "<IPython.core.display.HTML object>"
      ]
     },
     "metadata": {},
     "output_type": "display_data"
    },
    {
     "data": {
      "text/html": [
       " View run at <a href='https://wandb.ai/jacobnu/xbg_grid_diamonds/runs/bxqnwzs0' target=\"_blank\">https://wandb.ai/jacobnu/xbg_grid_diamonds/runs/bxqnwzs0</a>"
      ],
      "text/plain": [
       "<IPython.core.display.HTML object>"
      ]
     },
     "metadata": {},
     "output_type": "display_data"
    },
    {
     "name": "stdout",
     "output_type": "stream",
     "text": [
      "[0]\tTest-rmse:3604.58104\n",
      "[1]\tTest-rmse:3259.70020\n",
      "[2]\tTest-rmse:2950.87660\n",
      "[3]\tTest-rmse:2675.26565\n",
      "[4]\tTest-rmse:2426.48885\n",
      "[5]\tTest-rmse:2204.57305\n",
      "[6]\tTest-rmse:2006.69497\n",
      "[7]\tTest-rmse:1828.26585\n",
      "[8]\tTest-rmse:1669.54723\n",
      "[9]\tTest-rmse:1528.63129\n",
      "[10]\tTest-rmse:1401.41609\n",
      "[11]\tTest-rmse:1288.10993\n",
      "[12]\tTest-rmse:1187.99732\n",
      "[13]\tTest-rmse:1100.55281\n",
      "[14]\tTest-rmse:1023.07257\n",
      "[15]\tTest-rmse:954.39459\n",
      "[16]\tTest-rmse:894.49907\n",
      "[17]\tTest-rmse:841.94017\n",
      "[18]\tTest-rmse:797.65652\n",
      "[19]\tTest-rmse:757.99851\n",
      "[20]\tTest-rmse:724.85888\n",
      "[21]\tTest-rmse:694.59427\n",
      "[22]\tTest-rmse:668.69470\n",
      "[23]\tTest-rmse:648.34040\n",
      "[24]\tTest-rmse:630.88977\n",
      "[25]\tTest-rmse:616.56335\n",
      "[26]\tTest-rmse:603.39010\n",
      "[27]\tTest-rmse:592.31959\n",
      "[28]\tTest-rmse:582.22454\n",
      "[29]\tTest-rmse:574.64965\n",
      "[30]\tTest-rmse:567.60140\n",
      "[31]\tTest-rmse:561.83685\n",
      "[32]\tTest-rmse:557.39729\n",
      "[33]\tTest-rmse:553.85963\n",
      "[34]\tTest-rmse:550.80469\n",
      "[35]\tTest-rmse:548.23540\n",
      "[36]\tTest-rmse:546.37878\n",
      "[37]\tTest-rmse:544.47249\n",
      "[38]\tTest-rmse:542.65144\n",
      "[39]\tTest-rmse:540.92661\n",
      "[40]\tTest-rmse:539.53487\n",
      "[41]\tTest-rmse:538.34000\n",
      "[42]\tTest-rmse:537.22923\n",
      "[43]\tTest-rmse:536.30052\n",
      "[44]\tTest-rmse:535.38893\n",
      "[45]\tTest-rmse:534.47900\n",
      "[46]\tTest-rmse:533.60193\n",
      "[47]\tTest-rmse:533.00000\n",
      "[48]\tTest-rmse:532.37626\n",
      "[49]\tTest-rmse:531.82264\n",
      "[50]\tTest-rmse:531.67768\n",
      "[51]\tTest-rmse:531.03957\n",
      "[52]\tTest-rmse:530.68332\n",
      "[53]\tTest-rmse:530.38310\n",
      "[54]\tTest-rmse:530.24471\n",
      "[55]\tTest-rmse:529.92976\n",
      "[56]\tTest-rmse:529.70806\n",
      "[57]\tTest-rmse:529.34703\n",
      "[58]\tTest-rmse:529.34733\n",
      "[59]\tTest-rmse:528.82296\n",
      "[60]\tTest-rmse:528.56183\n",
      "[61]\tTest-rmse:528.89210\n",
      "[62]\tTest-rmse:528.79669\n"
     ]
    },
    {
     "name": "stderr",
     "output_type": "stream",
     "text": [
      "[21:20:56] WARNING: /Users/runner/work/xgboost/xgboost/src/learner.cc:742: \n",
      "Parameters: { \"n_estimators\" } are not used.\n",
      "\n"
     ]
    },
    {
     "name": "stdout",
     "output_type": "stream",
     "text": [
      "[63]\tTest-rmse:528.71003\n",
      "[64]\tTest-rmse:528.59859\n",
      "[65]\tTest-rmse:528.73197\n",
      "[66]\tTest-rmse:528.43389\n",
      "[67]\tTest-rmse:528.11987\n",
      "[68]\tTest-rmse:528.00663\n",
      "[69]\tTest-rmse:527.82229\n",
      "[70]\tTest-rmse:527.56285\n",
      "[71]\tTest-rmse:527.54466\n",
      "[72]\tTest-rmse:527.49235\n",
      "[73]\tTest-rmse:527.48814\n",
      "[74]\tTest-rmse:527.26601\n",
      "[75]\tTest-rmse:527.77978\n",
      "[76]\tTest-rmse:527.92780\n",
      "[77]\tTest-rmse:527.81315\n",
      "[78]\tTest-rmse:527.71553\n",
      "[79]\tTest-rmse:527.83910\n",
      "[80]\tTest-rmse:528.09349\n",
      "[81]\tTest-rmse:528.03042\n",
      "[82]\tTest-rmse:528.29804\n",
      "[83]\tTest-rmse:528.16017\n"
     ]
    },
    {
     "data": {
      "text/html": [
       "<style>\n",
       "    table.wandb td:nth-child(1) { padding: 0 10px; text-align: left ; width: auto;} td:nth-child(2) {text-align: left ; width: 100%}\n",
       "    .wandb-row { display: flex; flex-direction: row; flex-wrap: wrap; justify-content: flex-start; width: 100% }\n",
       "    .wandb-col { display: flex; flex-direction: column; flex-basis: 100%; flex: 1; padding: 10px; }\n",
       "    </style>\n",
       "<div class=\"wandb-row\"><div class=\"wandb-col\"><h3>Run history:</h3><br/><table class=\"wandb\"><tr><td>rmse</td><td>▁</td></tr></table><br/></div><div class=\"wandb-col\"><h3>Run summary:</h3><br/><table class=\"wandb\"><tr><td>rmse</td><td>527.26601</td></tr></table><br/></div></div>"
      ],
      "text/plain": [
       "<IPython.core.display.HTML object>"
      ]
     },
     "metadata": {},
     "output_type": "display_data"
    },
    {
     "data": {
      "text/html": [
       " View run <strong style=\"color:#cdcd00\">wandering-sweep-11</strong> at: <a href='https://wandb.ai/jacobnu/xbg_grid_diamonds/runs/bxqnwzs0' target=\"_blank\">https://wandb.ai/jacobnu/xbg_grid_diamonds/runs/bxqnwzs0</a><br/> View project at: <a href='https://wandb.ai/jacobnu/xbg_grid_diamonds' target=\"_blank\">https://wandb.ai/jacobnu/xbg_grid_diamonds</a><br/>Synced 5 W&B file(s), 0 media file(s), 0 artifact file(s) and 0 other file(s)"
      ],
      "text/plain": [
       "<IPython.core.display.HTML object>"
      ]
     },
     "metadata": {},
     "output_type": "display_data"
    },
    {
     "data": {
      "text/html": [
       "Find logs at: <code>./wandb/run-20240421_212055-bxqnwzs0/logs</code>"
      ],
      "text/plain": [
       "<IPython.core.display.HTML object>"
      ]
     },
     "metadata": {},
     "output_type": "display_data"
    },
    {
     "name": "stderr",
     "output_type": "stream",
     "text": [
      "\u001b[34m\u001b[1mwandb\u001b[0m: Agent Starting Run: kzi0uv24 with config:\n",
      "\u001b[34m\u001b[1mwandb\u001b[0m: \tlearning_rate: 0.1\n",
      "\u001b[34m\u001b[1mwandb\u001b[0m: \tmax_depth: 7\n",
      "\u001b[34m\u001b[1mwandb\u001b[0m: \tn_estimators: 200\n",
      "\u001b[34m\u001b[1mwandb\u001b[0m: \tsubsample: 0.9\n",
      "\u001b[34m\u001b[1mwandb\u001b[0m: \u001b[33mWARNING\u001b[0m Ignored wandb.init() arg project when running a sweep.\n",
      "\u001b[34m\u001b[1mwandb\u001b[0m: \u001b[33mWARNING\u001b[0m Ignored wandb.init() arg entity when running a sweep.\n"
     ]
    },
    {
     "data": {
      "text/html": [
       "Tracking run with wandb version 0.16.6"
      ],
      "text/plain": [
       "<IPython.core.display.HTML object>"
      ]
     },
     "metadata": {},
     "output_type": "display_data"
    },
    {
     "data": {
      "text/html": [
       "Run data is saved locally in <code>/Users/jacob/Code/2024SP-MSAI-Practicum/wandb/run-20240421_212105-kzi0uv24</code>"
      ],
      "text/plain": [
       "<IPython.core.display.HTML object>"
      ]
     },
     "metadata": {},
     "output_type": "display_data"
    },
    {
     "data": {
      "text/html": [
       "Syncing run <strong><a href='https://wandb.ai/jacobnu/xbg_grid_diamonds/runs/kzi0uv24' target=\"_blank\">light-sweep-12</a></strong> to <a href='https://wandb.ai/jacobnu/xbg_grid_diamonds' target=\"_blank\">Weights & Biases</a> (<a href='https://wandb.me/run' target=\"_blank\">docs</a>)<br/>Sweep page: <a href='https://wandb.ai/jacobnu/xbg_grid_diamonds/sweeps/hcbnoalh' target=\"_blank\">https://wandb.ai/jacobnu/xbg_grid_diamonds/sweeps/hcbnoalh</a>"
      ],
      "text/plain": [
       "<IPython.core.display.HTML object>"
      ]
     },
     "metadata": {},
     "output_type": "display_data"
    },
    {
     "data": {
      "text/html": [
       " View project at <a href='https://wandb.ai/jacobnu/xbg_grid_diamonds' target=\"_blank\">https://wandb.ai/jacobnu/xbg_grid_diamonds</a>"
      ],
      "text/plain": [
       "<IPython.core.display.HTML object>"
      ]
     },
     "metadata": {},
     "output_type": "display_data"
    },
    {
     "data": {
      "text/html": [
       " View sweep at <a href='https://wandb.ai/jacobnu/xbg_grid_diamonds/sweeps/hcbnoalh' target=\"_blank\">https://wandb.ai/jacobnu/xbg_grid_diamonds/sweeps/hcbnoalh</a>"
      ],
      "text/plain": [
       "<IPython.core.display.HTML object>"
      ]
     },
     "metadata": {},
     "output_type": "display_data"
    },
    {
     "data": {
      "text/html": [
       " View run at <a href='https://wandb.ai/jacobnu/xbg_grid_diamonds/runs/kzi0uv24' target=\"_blank\">https://wandb.ai/jacobnu/xbg_grid_diamonds/runs/kzi0uv24</a>"
      ],
      "text/plain": [
       "<IPython.core.display.HTML object>"
      ]
     },
     "metadata": {},
     "output_type": "display_data"
    },
    {
     "name": "stdout",
     "output_type": "stream",
     "text": [
      "[0]\tTest-rmse:3604.28063\n",
      "[1]\tTest-rmse:3259.57907\n",
      "[2]\tTest-rmse:2952.45820\n",
      "[3]\tTest-rmse:2675.62650\n",
      "[4]\tTest-rmse:2428.25835\n",
      "[5]\tTest-rmse:2204.56283\n",
      "[6]\tTest-rmse:2005.27116\n",
      "[7]\tTest-rmse:1827.95092\n",
      "[8]\tTest-rmse:1668.73014\n",
      "[9]\tTest-rmse:1526.86936\n",
      "[10]\tTest-rmse:1401.08695\n",
      "[11]\tTest-rmse:1287.39597\n",
      "[12]\tTest-rmse:1187.06224\n",
      "[13]\tTest-rmse:1099.74227\n",
      "[14]\tTest-rmse:1022.75631\n",
      "[15]\tTest-rmse:954.32381\n",
      "[16]\tTest-rmse:894.29365\n",
      "[17]\tTest-rmse:842.77460\n",
      "[18]\tTest-rmse:798.24330\n",
      "[19]\tTest-rmse:759.08088\n",
      "[20]\tTest-rmse:725.87386\n",
      "[21]\tTest-rmse:697.16927\n",
      "[22]\tTest-rmse:672.20452\n",
      "[23]\tTest-rmse:652.10448\n",
      "[24]\tTest-rmse:634.20000\n",
      "[25]\tTest-rmse:619.05531\n",
      "[26]\tTest-rmse:606.26081\n",
      "[27]\tTest-rmse:596.01728\n",
      "[28]\tTest-rmse:586.61276\n",
      "[29]\tTest-rmse:578.71071\n",
      "[30]\tTest-rmse:572.36401\n",
      "[31]\tTest-rmse:566.51757\n",
      "[32]\tTest-rmse:562.06600\n",
      "[33]\tTest-rmse:558.12500\n",
      "[34]\tTest-rmse:554.31541\n",
      "[35]\tTest-rmse:551.88378\n",
      "[36]\tTest-rmse:550.20203\n",
      "[37]\tTest-rmse:547.80123\n",
      "[38]\tTest-rmse:546.21376\n",
      "[39]\tTest-rmse:544.77443\n",
      "[40]\tTest-rmse:543.45698\n",
      "[41]\tTest-rmse:542.51084\n",
      "[42]\tTest-rmse:541.67822\n",
      "[43]\tTest-rmse:541.08918\n",
      "[44]\tTest-rmse:540.53834\n",
      "[45]\tTest-rmse:539.78526\n",
      "[46]\tTest-rmse:539.32468\n",
      "[47]\tTest-rmse:538.15431\n",
      "[48]\tTest-rmse:538.01469\n",
      "[49]\tTest-rmse:537.76518\n",
      "[50]\tTest-rmse:537.46056\n",
      "[51]\tTest-rmse:536.90186\n",
      "[52]\tTest-rmse:536.42751\n",
      "[53]\tTest-rmse:536.20697\n",
      "[54]\tTest-rmse:536.14267\n",
      "[55]\tTest-rmse:535.49318\n",
      "[56]\tTest-rmse:534.98582\n",
      "[57]\tTest-rmse:534.93138\n"
     ]
    },
    {
     "name": "stderr",
     "output_type": "stream",
     "text": [
      "[21:21:06] WARNING: /Users/runner/work/xgboost/xgboost/src/learner.cc:742: \n",
      "Parameters: { \"n_estimators\" } are not used.\n",
      "\n"
     ]
    },
    {
     "name": "stdout",
     "output_type": "stream",
     "text": [
      "[58]\tTest-rmse:534.86128\n",
      "[59]\tTest-rmse:534.54258\n",
      "[60]\tTest-rmse:534.31129\n",
      "[61]\tTest-rmse:534.14710\n",
      "[62]\tTest-rmse:534.14320\n",
      "[63]\tTest-rmse:533.77574\n",
      "[64]\tTest-rmse:533.73970\n",
      "[65]\tTest-rmse:533.63100\n",
      "[66]\tTest-rmse:533.64728\n",
      "[67]\tTest-rmse:534.28885\n",
      "[68]\tTest-rmse:534.17176\n",
      "[69]\tTest-rmse:534.24816\n",
      "[70]\tTest-rmse:534.34715\n",
      "[71]\tTest-rmse:534.16855\n",
      "[72]\tTest-rmse:534.12175\n",
      "[73]\tTest-rmse:533.97117\n",
      "[74]\tTest-rmse:533.81538\n",
      "[75]\tTest-rmse:533.74070\n"
     ]
    },
    {
     "data": {
      "text/html": [
       "<style>\n",
       "    table.wandb td:nth-child(1) { padding: 0 10px; text-align: left ; width: auto;} td:nth-child(2) {text-align: left ; width: 100%}\n",
       "    .wandb-row { display: flex; flex-direction: row; flex-wrap: wrap; justify-content: flex-start; width: 100% }\n",
       "    .wandb-col { display: flex; flex-direction: column; flex-basis: 100%; flex: 1; padding: 10px; }\n",
       "    </style>\n",
       "<div class=\"wandb-row\"><div class=\"wandb-col\"><h3>Run history:</h3><br/><table class=\"wandb\"><tr><td>rmse</td><td>▁</td></tr></table><br/></div><div class=\"wandb-col\"><h3>Run summary:</h3><br/><table class=\"wandb\"><tr><td>rmse</td><td>533.631</td></tr></table><br/></div></div>"
      ],
      "text/plain": [
       "<IPython.core.display.HTML object>"
      ]
     },
     "metadata": {},
     "output_type": "display_data"
    },
    {
     "data": {
      "text/html": [
       " View run <strong style=\"color:#cdcd00\">light-sweep-12</strong> at: <a href='https://wandb.ai/jacobnu/xbg_grid_diamonds/runs/kzi0uv24' target=\"_blank\">https://wandb.ai/jacobnu/xbg_grid_diamonds/runs/kzi0uv24</a><br/> View project at: <a href='https://wandb.ai/jacobnu/xbg_grid_diamonds' target=\"_blank\">https://wandb.ai/jacobnu/xbg_grid_diamonds</a><br/>Synced 5 W&B file(s), 0 media file(s), 0 artifact file(s) and 0 other file(s)"
      ],
      "text/plain": [
       "<IPython.core.display.HTML object>"
      ]
     },
     "metadata": {},
     "output_type": "display_data"
    },
    {
     "data": {
      "text/html": [
       "Find logs at: <code>./wandb/run-20240421_212105-kzi0uv24/logs</code>"
      ],
      "text/plain": [
       "<IPython.core.display.HTML object>"
      ]
     },
     "metadata": {},
     "output_type": "display_data"
    },
    {
     "name": "stderr",
     "output_type": "stream",
     "text": [
      "\u001b[34m\u001b[1mwandb\u001b[0m: Agent Starting Run: qowzhhlw with config:\n",
      "\u001b[34m\u001b[1mwandb\u001b[0m: \tlearning_rate: 0.1\n",
      "\u001b[34m\u001b[1mwandb\u001b[0m: \tmax_depth: 9\n",
      "\u001b[34m\u001b[1mwandb\u001b[0m: \tn_estimators: 100\n",
      "\u001b[34m\u001b[1mwandb\u001b[0m: \tsubsample: 0.7\n",
      "\u001b[34m\u001b[1mwandb\u001b[0m: \u001b[33mWARNING\u001b[0m Ignored wandb.init() arg project when running a sweep.\n",
      "\u001b[34m\u001b[1mwandb\u001b[0m: \u001b[33mWARNING\u001b[0m Ignored wandb.init() arg entity when running a sweep.\n"
     ]
    },
    {
     "data": {
      "text/html": [
       "Tracking run with wandb version 0.16.6"
      ],
      "text/plain": [
       "<IPython.core.display.HTML object>"
      ]
     },
     "metadata": {},
     "output_type": "display_data"
    },
    {
     "data": {
      "text/html": [
       "Run data is saved locally in <code>/Users/jacob/Code/2024SP-MSAI-Practicum/wandb/run-20240421_212115-qowzhhlw</code>"
      ],
      "text/plain": [
       "<IPython.core.display.HTML object>"
      ]
     },
     "metadata": {},
     "output_type": "display_data"
    },
    {
     "data": {
      "text/html": [
       "Syncing run <strong><a href='https://wandb.ai/jacobnu/xbg_grid_diamonds/runs/qowzhhlw' target=\"_blank\">hardy-sweep-13</a></strong> to <a href='https://wandb.ai/jacobnu/xbg_grid_diamonds' target=\"_blank\">Weights & Biases</a> (<a href='https://wandb.me/run' target=\"_blank\">docs</a>)<br/>Sweep page: <a href='https://wandb.ai/jacobnu/xbg_grid_diamonds/sweeps/hcbnoalh' target=\"_blank\">https://wandb.ai/jacobnu/xbg_grid_diamonds/sweeps/hcbnoalh</a>"
      ],
      "text/plain": [
       "<IPython.core.display.HTML object>"
      ]
     },
     "metadata": {},
     "output_type": "display_data"
    },
    {
     "data": {
      "text/html": [
       " View project at <a href='https://wandb.ai/jacobnu/xbg_grid_diamonds' target=\"_blank\">https://wandb.ai/jacobnu/xbg_grid_diamonds</a>"
      ],
      "text/plain": [
       "<IPython.core.display.HTML object>"
      ]
     },
     "metadata": {},
     "output_type": "display_data"
    },
    {
     "data": {
      "text/html": [
       " View sweep at <a href='https://wandb.ai/jacobnu/xbg_grid_diamonds/sweeps/hcbnoalh' target=\"_blank\">https://wandb.ai/jacobnu/xbg_grid_diamonds/sweeps/hcbnoalh</a>"
      ],
      "text/plain": [
       "<IPython.core.display.HTML object>"
      ]
     },
     "metadata": {},
     "output_type": "display_data"
    },
    {
     "data": {
      "text/html": [
       " View run at <a href='https://wandb.ai/jacobnu/xbg_grid_diamonds/runs/qowzhhlw' target=\"_blank\">https://wandb.ai/jacobnu/xbg_grid_diamonds/runs/qowzhhlw</a>"
      ],
      "text/plain": [
       "<IPython.core.display.HTML object>"
      ]
     },
     "metadata": {},
     "output_type": "display_data"
    },
    {
     "name": "stdout",
     "output_type": "stream",
     "text": [
      "[0]\tTest-rmse:3601.56705\n",
      "[1]\tTest-rmse:3255.22573\n",
      "[2]\tTest-rmse:2945.24544\n",
      "[3]\tTest-rmse:2667.41690\n",
      "[4]\tTest-rmse:2416.77188\n",
      "[5]\tTest-rmse:2193.56039\n",
      "[6]\tTest-rmse:1993.42679\n",
      "[7]\tTest-rmse:1813.43597\n",
      "[8]\tTest-rmse:1653.12919\n",
      "[9]\tTest-rmse:1511.46262\n",
      "[10]\tTest-rmse:1383.39644\n",
      "[11]\tTest-rmse:1269.44705\n",
      "[12]\tTest-rmse:1170.31838\n",
      "[13]\tTest-rmse:1083.67254\n",
      "[14]\tTest-rmse:1006.09928\n",
      "[15]\tTest-rmse:937.19607\n",
      "[16]\tTest-rmse:877.42578\n",
      "[17]\tTest-rmse:825.71038\n",
      "[18]\tTest-rmse:781.62178\n",
      "[19]\tTest-rmse:743.29401\n",
      "[20]\tTest-rmse:710.31223\n",
      "[21]\tTest-rmse:681.28534\n",
      "[22]\tTest-rmse:656.94197\n",
      "[23]\tTest-rmse:636.77740\n",
      "[24]\tTest-rmse:619.56847\n",
      "[25]\tTest-rmse:605.57185\n",
      "[26]\tTest-rmse:593.92934\n",
      "[27]\tTest-rmse:583.25000\n",
      "[28]\tTest-rmse:573.94179\n",
      "[29]\tTest-rmse:567.19426\n",
      "[30]\tTest-rmse:560.82730\n",
      "[31]\tTest-rmse:555.73797\n",
      "[32]\tTest-rmse:551.30470\n",
      "[33]\tTest-rmse:547.91178\n",
      "[34]\tTest-rmse:545.13958\n",
      "[35]\tTest-rmse:543.02716\n",
      "[36]\tTest-rmse:540.94013\n",
      "[37]\tTest-rmse:539.76964\n"
     ]
    },
    {
     "name": "stderr",
     "output_type": "stream",
     "text": [
      "[21:21:16] WARNING: /Users/runner/work/xgboost/xgboost/src/learner.cc:742: \n",
      "Parameters: { \"n_estimators\" } are not used.\n",
      "\n"
     ]
    },
    {
     "name": "stdout",
     "output_type": "stream",
     "text": [
      "[38]\tTest-rmse:538.95571\n",
      "[39]\tTest-rmse:538.26990\n",
      "[40]\tTest-rmse:537.40656\n",
      "[41]\tTest-rmse:536.34222\n",
      "[42]\tTest-rmse:536.34657\n",
      "[43]\tTest-rmse:536.65811\n",
      "[44]\tTest-rmse:536.21323\n",
      "[45]\tTest-rmse:535.78813\n",
      "[46]\tTest-rmse:535.74249\n",
      "[47]\tTest-rmse:535.38210\n",
      "[48]\tTest-rmse:535.24618\n",
      "[49]\tTest-rmse:535.29816\n",
      "[50]\tTest-rmse:534.89158\n",
      "[51]\tTest-rmse:534.39701\n",
      "[52]\tTest-rmse:533.73951\n",
      "[53]\tTest-rmse:533.61435\n",
      "[54]\tTest-rmse:533.42211\n",
      "[55]\tTest-rmse:533.64391\n",
      "[56]\tTest-rmse:533.49299\n",
      "[57]\tTest-rmse:533.75426\n",
      "[58]\tTest-rmse:533.76412\n",
      "[59]\tTest-rmse:533.94626\n",
      "[60]\tTest-rmse:533.46346\n",
      "[61]\tTest-rmse:533.16637\n",
      "[62]\tTest-rmse:533.09382\n",
      "[63]\tTest-rmse:533.07656\n",
      "[64]\tTest-rmse:533.25404\n",
      "[65]\tTest-rmse:532.94479\n",
      "[66]\tTest-rmse:532.98458\n",
      "[67]\tTest-rmse:533.09266\n",
      "[68]\tTest-rmse:533.16691\n",
      "[69]\tTest-rmse:532.88558\n",
      "[70]\tTest-rmse:532.69067\n",
      "[71]\tTest-rmse:532.85782\n",
      "[72]\tTest-rmse:532.93698\n",
      "[73]\tTest-rmse:532.99096\n",
      "[74]\tTest-rmse:533.10002\n",
      "[75]\tTest-rmse:533.13042\n",
      "[76]\tTest-rmse:533.19637\n",
      "[77]\tTest-rmse:533.24938\n",
      "[78]\tTest-rmse:533.38337\n",
      "[79]\tTest-rmse:533.09558\n"
     ]
    },
    {
     "data": {
      "text/html": [
       "<style>\n",
       "    table.wandb td:nth-child(1) { padding: 0 10px; text-align: left ; width: auto;} td:nth-child(2) {text-align: left ; width: 100%}\n",
       "    .wandb-row { display: flex; flex-direction: row; flex-wrap: wrap; justify-content: flex-start; width: 100% }\n",
       "    .wandb-col { display: flex; flex-direction: column; flex-basis: 100%; flex: 1; padding: 10px; }\n",
       "    </style>\n",
       "<div class=\"wandb-row\"><div class=\"wandb-col\"><h3>Run history:</h3><br/><table class=\"wandb\"><tr><td>rmse</td><td>▁</td></tr></table><br/></div><div class=\"wandb-col\"><h3>Run summary:</h3><br/><table class=\"wandb\"><tr><td>rmse</td><td>532.69067</td></tr></table><br/></div></div>"
      ],
      "text/plain": [
       "<IPython.core.display.HTML object>"
      ]
     },
     "metadata": {},
     "output_type": "display_data"
    },
    {
     "data": {
      "text/html": [
       " View run <strong style=\"color:#cdcd00\">hardy-sweep-13</strong> at: <a href='https://wandb.ai/jacobnu/xbg_grid_diamonds/runs/qowzhhlw' target=\"_blank\">https://wandb.ai/jacobnu/xbg_grid_diamonds/runs/qowzhhlw</a><br/> View project at: <a href='https://wandb.ai/jacobnu/xbg_grid_diamonds' target=\"_blank\">https://wandb.ai/jacobnu/xbg_grid_diamonds</a><br/>Synced 5 W&B file(s), 0 media file(s), 0 artifact file(s) and 0 other file(s)"
      ],
      "text/plain": [
       "<IPython.core.display.HTML object>"
      ]
     },
     "metadata": {},
     "output_type": "display_data"
    },
    {
     "data": {
      "text/html": [
       "Find logs at: <code>./wandb/run-20240421_212115-qowzhhlw/logs</code>"
      ],
      "text/plain": [
       "<IPython.core.display.HTML object>"
      ]
     },
     "metadata": {},
     "output_type": "display_data"
    },
    {
     "name": "stderr",
     "output_type": "stream",
     "text": [
      "\u001b[34m\u001b[1mwandb\u001b[0m: Agent Starting Run: 7ietjedg with config:\n",
      "\u001b[34m\u001b[1mwandb\u001b[0m: \tlearning_rate: 0.1\n",
      "\u001b[34m\u001b[1mwandb\u001b[0m: \tmax_depth: 9\n",
      "\u001b[34m\u001b[1mwandb\u001b[0m: \tn_estimators: 100\n",
      "\u001b[34m\u001b[1mwandb\u001b[0m: \tsubsample: 0.8\n",
      "\u001b[34m\u001b[1mwandb\u001b[0m: \u001b[33mWARNING\u001b[0m Ignored wandb.init() arg project when running a sweep.\n",
      "\u001b[34m\u001b[1mwandb\u001b[0m: \u001b[33mWARNING\u001b[0m Ignored wandb.init() arg entity when running a sweep.\n"
     ]
    },
    {
     "data": {
      "text/html": [
       "Tracking run with wandb version 0.16.6"
      ],
      "text/plain": [
       "<IPython.core.display.HTML object>"
      ]
     },
     "metadata": {},
     "output_type": "display_data"
    },
    {
     "data": {
      "text/html": [
       "Run data is saved locally in <code>/Users/jacob/Code/2024SP-MSAI-Practicum/wandb/run-20240421_212125-7ietjedg</code>"
      ],
      "text/plain": [
       "<IPython.core.display.HTML object>"
      ]
     },
     "metadata": {},
     "output_type": "display_data"
    },
    {
     "data": {
      "text/html": [
       "Syncing run <strong><a href='https://wandb.ai/jacobnu/xbg_grid_diamonds/runs/7ietjedg' target=\"_blank\">wild-sweep-14</a></strong> to <a href='https://wandb.ai/jacobnu/xbg_grid_diamonds' target=\"_blank\">Weights & Biases</a> (<a href='https://wandb.me/run' target=\"_blank\">docs</a>)<br/>Sweep page: <a href='https://wandb.ai/jacobnu/xbg_grid_diamonds/sweeps/hcbnoalh' target=\"_blank\">https://wandb.ai/jacobnu/xbg_grid_diamonds/sweeps/hcbnoalh</a>"
      ],
      "text/plain": [
       "<IPython.core.display.HTML object>"
      ]
     },
     "metadata": {},
     "output_type": "display_data"
    },
    {
     "data": {
      "text/html": [
       " View project at <a href='https://wandb.ai/jacobnu/xbg_grid_diamonds' target=\"_blank\">https://wandb.ai/jacobnu/xbg_grid_diamonds</a>"
      ],
      "text/plain": [
       "<IPython.core.display.HTML object>"
      ]
     },
     "metadata": {},
     "output_type": "display_data"
    },
    {
     "data": {
      "text/html": [
       " View sweep at <a href='https://wandb.ai/jacobnu/xbg_grid_diamonds/sweeps/hcbnoalh' target=\"_blank\">https://wandb.ai/jacobnu/xbg_grid_diamonds/sweeps/hcbnoalh</a>"
      ],
      "text/plain": [
       "<IPython.core.display.HTML object>"
      ]
     },
     "metadata": {},
     "output_type": "display_data"
    },
    {
     "data": {
      "text/html": [
       " View run at <a href='https://wandb.ai/jacobnu/xbg_grid_diamonds/runs/7ietjedg' target=\"_blank\">https://wandb.ai/jacobnu/xbg_grid_diamonds/runs/7ietjedg</a>"
      ],
      "text/plain": [
       "<IPython.core.display.HTML object>"
      ]
     },
     "metadata": {},
     "output_type": "display_data"
    },
    {
     "name": "stdout",
     "output_type": "stream",
     "text": [
      "[0]\tTest-rmse:3602.14465\n",
      "[1]\tTest-rmse:3255.83907\n",
      "[2]\tTest-rmse:2945.36253\n",
      "[3]\tTest-rmse:2666.59350\n",
      "[4]\tTest-rmse:2416.24945\n",
      "[5]\tTest-rmse:2193.38775\n",
      "[6]\tTest-rmse:1991.99762\n",
      "[7]\tTest-rmse:1812.40631\n",
      "[8]\tTest-rmse:1652.53257\n",
      "[9]\tTest-rmse:1509.97265\n",
      "[10]\tTest-rmse:1382.35429\n",
      "[11]\tTest-rmse:1269.30147\n",
      "[12]\tTest-rmse:1169.08553\n",
      "[13]\tTest-rmse:1081.06306\n",
      "[14]\tTest-rmse:1002.96931\n",
      "[15]\tTest-rmse:934.95920\n",
      "[16]\tTest-rmse:876.64381\n",
      "[17]\tTest-rmse:825.57899\n",
      "[18]\tTest-rmse:781.08932\n",
      "[19]\tTest-rmse:742.08645\n",
      "[20]\tTest-rmse:709.83471\n",
      "[21]\tTest-rmse:681.83488\n",
      "[22]\tTest-rmse:657.08933\n",
      "[23]\tTest-rmse:637.17224\n",
      "[24]\tTest-rmse:619.90413\n",
      "[25]\tTest-rmse:604.84930\n",
      "[26]\tTest-rmse:592.71457\n",
      "[27]\tTest-rmse:582.75046\n",
      "[28]\tTest-rmse:574.22053\n",
      "[29]\tTest-rmse:567.03383\n",
      "[30]\tTest-rmse:560.97357\n",
      "[31]\tTest-rmse:556.23750\n",
      "[32]\tTest-rmse:553.05178\n",
      "[33]\tTest-rmse:549.61226\n",
      "[34]\tTest-rmse:547.21581\n",
      "[35]\tTest-rmse:544.63634\n",
      "[36]\tTest-rmse:543.01068\n",
      "[37]\tTest-rmse:542.08587\n",
      "[38]\tTest-rmse:541.54008\n",
      "[39]\tTest-rmse:540.70251\n",
      "[40]\tTest-rmse:539.70029\n"
     ]
    },
    {
     "name": "stderr",
     "output_type": "stream",
     "text": [
      "[21:21:26] WARNING: /Users/runner/work/xgboost/xgboost/src/learner.cc:742: \n",
      "Parameters: { \"n_estimators\" } are not used.\n",
      "\n"
     ]
    },
    {
     "name": "stdout",
     "output_type": "stream",
     "text": [
      "[41]\tTest-rmse:538.87519\n",
      "[42]\tTest-rmse:539.33359\n",
      "[43]\tTest-rmse:539.01860\n",
      "[44]\tTest-rmse:538.84108\n",
      "[45]\tTest-rmse:538.70232\n",
      "[46]\tTest-rmse:537.84594\n",
      "[47]\tTest-rmse:537.47659\n",
      "[48]\tTest-rmse:537.63527\n",
      "[49]\tTest-rmse:537.71546\n",
      "[50]\tTest-rmse:537.49792\n",
      "[51]\tTest-rmse:537.41202\n",
      "[52]\tTest-rmse:537.41921\n",
      "[53]\tTest-rmse:537.05348\n",
      "[54]\tTest-rmse:536.89719\n",
      "[55]\tTest-rmse:537.16815\n",
      "[56]\tTest-rmse:537.11094\n",
      "[57]\tTest-rmse:537.00812\n",
      "[58]\tTest-rmse:536.99970\n",
      "[59]\tTest-rmse:536.67339\n",
      "[60]\tTest-rmse:536.74589\n",
      "[61]\tTest-rmse:536.37545\n",
      "[62]\tTest-rmse:536.55959\n",
      "[63]\tTest-rmse:536.61984\n",
      "[64]\tTest-rmse:537.24597\n",
      "[65]\tTest-rmse:537.04330\n",
      "[66]\tTest-rmse:537.30007\n",
      "[67]\tTest-rmse:537.43594\n",
      "[68]\tTest-rmse:537.60454\n",
      "[69]\tTest-rmse:538.19506\n",
      "[70]\tTest-rmse:538.30174\n",
      "[71]\tTest-rmse:538.75235\n"
     ]
    },
    {
     "data": {
      "text/html": [
       "<style>\n",
       "    table.wandb td:nth-child(1) { padding: 0 10px; text-align: left ; width: auto;} td:nth-child(2) {text-align: left ; width: 100%}\n",
       "    .wandb-row { display: flex; flex-direction: row; flex-wrap: wrap; justify-content: flex-start; width: 100% }\n",
       "    .wandb-col { display: flex; flex-direction: column; flex-basis: 100%; flex: 1; padding: 10px; }\n",
       "    </style>\n",
       "<div class=\"wandb-row\"><div class=\"wandb-col\"><h3>Run history:</h3><br/><table class=\"wandb\"><tr><td>rmse</td><td>▁</td></tr></table><br/></div><div class=\"wandb-col\"><h3>Run summary:</h3><br/><table class=\"wandb\"><tr><td>rmse</td><td>536.37545</td></tr></table><br/></div></div>"
      ],
      "text/plain": [
       "<IPython.core.display.HTML object>"
      ]
     },
     "metadata": {},
     "output_type": "display_data"
    },
    {
     "data": {
      "text/html": [
       " View run <strong style=\"color:#cdcd00\">wild-sweep-14</strong> at: <a href='https://wandb.ai/jacobnu/xbg_grid_diamonds/runs/7ietjedg' target=\"_blank\">https://wandb.ai/jacobnu/xbg_grid_diamonds/runs/7ietjedg</a><br/> View project at: <a href='https://wandb.ai/jacobnu/xbg_grid_diamonds' target=\"_blank\">https://wandb.ai/jacobnu/xbg_grid_diamonds</a><br/>Synced 5 W&B file(s), 0 media file(s), 0 artifact file(s) and 0 other file(s)"
      ],
      "text/plain": [
       "<IPython.core.display.HTML object>"
      ]
     },
     "metadata": {},
     "output_type": "display_data"
    },
    {
     "data": {
      "text/html": [
       "Find logs at: <code>./wandb/run-20240421_212125-7ietjedg/logs</code>"
      ],
      "text/plain": [
       "<IPython.core.display.HTML object>"
      ]
     },
     "metadata": {},
     "output_type": "display_data"
    },
    {
     "name": "stderr",
     "output_type": "stream",
     "text": [
      "\u001b[34m\u001b[1mwandb\u001b[0m: Agent Starting Run: sfj2mpf3 with config:\n",
      "\u001b[34m\u001b[1mwandb\u001b[0m: \tlearning_rate: 0.1\n",
      "\u001b[34m\u001b[1mwandb\u001b[0m: \tmax_depth: 9\n",
      "\u001b[34m\u001b[1mwandb\u001b[0m: \tn_estimators: 100\n",
      "\u001b[34m\u001b[1mwandb\u001b[0m: \tsubsample: 0.9\n",
      "\u001b[34m\u001b[1mwandb\u001b[0m: \u001b[33mWARNING\u001b[0m Ignored wandb.init() arg project when running a sweep.\n",
      "\u001b[34m\u001b[1mwandb\u001b[0m: \u001b[33mWARNING\u001b[0m Ignored wandb.init() arg entity when running a sweep.\n"
     ]
    },
    {
     "data": {
      "text/html": [
       "Tracking run with wandb version 0.16.6"
      ],
      "text/plain": [
       "<IPython.core.display.HTML object>"
      ]
     },
     "metadata": {},
     "output_type": "display_data"
    },
    {
     "data": {
      "text/html": [
       "Run data is saved locally in <code>/Users/jacob/Code/2024SP-MSAI-Practicum/wandb/run-20240421_212135-sfj2mpf3</code>"
      ],
      "text/plain": [
       "<IPython.core.display.HTML object>"
      ]
     },
     "metadata": {},
     "output_type": "display_data"
    },
    {
     "data": {
      "text/html": [
       "Syncing run <strong><a href='https://wandb.ai/jacobnu/xbg_grid_diamonds/runs/sfj2mpf3' target=\"_blank\">fragrant-sweep-15</a></strong> to <a href='https://wandb.ai/jacobnu/xbg_grid_diamonds' target=\"_blank\">Weights & Biases</a> (<a href='https://wandb.me/run' target=\"_blank\">docs</a>)<br/>Sweep page: <a href='https://wandb.ai/jacobnu/xbg_grid_diamonds/sweeps/hcbnoalh' target=\"_blank\">https://wandb.ai/jacobnu/xbg_grid_diamonds/sweeps/hcbnoalh</a>"
      ],
      "text/plain": [
       "<IPython.core.display.HTML object>"
      ]
     },
     "metadata": {},
     "output_type": "display_data"
    },
    {
     "data": {
      "text/html": [
       " View project at <a href='https://wandb.ai/jacobnu/xbg_grid_diamonds' target=\"_blank\">https://wandb.ai/jacobnu/xbg_grid_diamonds</a>"
      ],
      "text/plain": [
       "<IPython.core.display.HTML object>"
      ]
     },
     "metadata": {},
     "output_type": "display_data"
    },
    {
     "data": {
      "text/html": [
       " View sweep at <a href='https://wandb.ai/jacobnu/xbg_grid_diamonds/sweeps/hcbnoalh' target=\"_blank\">https://wandb.ai/jacobnu/xbg_grid_diamonds/sweeps/hcbnoalh</a>"
      ],
      "text/plain": [
       "<IPython.core.display.HTML object>"
      ]
     },
     "metadata": {},
     "output_type": "display_data"
    },
    {
     "data": {
      "text/html": [
       " View run at <a href='https://wandb.ai/jacobnu/xbg_grid_diamonds/runs/sfj2mpf3' target=\"_blank\">https://wandb.ai/jacobnu/xbg_grid_diamonds/runs/sfj2mpf3</a>"
      ],
      "text/plain": [
       "<IPython.core.display.HTML object>"
      ]
     },
     "metadata": {},
     "output_type": "display_data"
    },
    {
     "name": "stdout",
     "output_type": "stream",
     "text": [
      "[0]\tTest-rmse:3601.66384\n",
      "[1]\tTest-rmse:3255.52785\n",
      "[2]\tTest-rmse:2944.89507\n",
      "[3]\tTest-rmse:2666.60867\n",
      "[4]\tTest-rmse:2416.44360\n",
      "[5]\tTest-rmse:2191.50639\n",
      "[6]\tTest-rmse:1989.50350\n",
      "[7]\tTest-rmse:1810.45115\n",
      "[8]\tTest-rmse:1650.28032\n",
      "[9]\tTest-rmse:1507.05610\n",
      "[10]\tTest-rmse:1379.58137\n",
      "[11]\tTest-rmse:1266.52384\n",
      "[12]\tTest-rmse:1165.90734\n",
      "[13]\tTest-rmse:1079.23697\n",
      "[14]\tTest-rmse:1002.03409\n",
      "[15]\tTest-rmse:933.50562\n",
      "[16]\tTest-rmse:874.47856\n",
      "[17]\tTest-rmse:823.70048\n",
      "[18]\tTest-rmse:778.68208\n",
      "[19]\tTest-rmse:740.91316\n",
      "[20]\tTest-rmse:708.11878\n",
      "[21]\tTest-rmse:679.92237\n",
      "[22]\tTest-rmse:655.65123\n",
      "[23]\tTest-rmse:635.54946\n",
      "[24]\tTest-rmse:618.51807\n",
      "[25]\tTest-rmse:604.38989\n",
      "[26]\tTest-rmse:592.69825\n",
      "[27]\tTest-rmse:582.63316\n",
      "[28]\tTest-rmse:574.78182\n",
      "[29]\tTest-rmse:567.59050\n",
      "[30]\tTest-rmse:562.56268\n",
      "[31]\tTest-rmse:557.42845\n",
      "[32]\tTest-rmse:553.64505\n",
      "[33]\tTest-rmse:550.68083\n",
      "[34]\tTest-rmse:547.90465\n",
      "[35]\tTest-rmse:545.97229\n",
      "[36]\tTest-rmse:544.46881\n",
      "[37]\tTest-rmse:542.32794\n",
      "[38]\tTest-rmse:540.83346\n",
      "[39]\tTest-rmse:540.11288\n"
     ]
    },
    {
     "name": "stderr",
     "output_type": "stream",
     "text": [
      "[21:21:36] WARNING: /Users/runner/work/xgboost/xgboost/src/learner.cc:742: \n",
      "Parameters: { \"n_estimators\" } are not used.\n",
      "\n"
     ]
    },
    {
     "name": "stdout",
     "output_type": "stream",
     "text": [
      "[40]\tTest-rmse:538.98976\n",
      "[41]\tTest-rmse:538.67457\n",
      "[42]\tTest-rmse:538.91553\n",
      "[43]\tTest-rmse:538.48633\n",
      "[44]\tTest-rmse:538.18239\n",
      "[45]\tTest-rmse:537.68176\n",
      "[46]\tTest-rmse:537.69997\n",
      "[47]\tTest-rmse:537.38951\n",
      "[48]\tTest-rmse:537.22676\n",
      "[49]\tTest-rmse:536.87948\n",
      "[50]\tTest-rmse:536.84438\n",
      "[51]\tTest-rmse:536.72799\n",
      "[52]\tTest-rmse:536.34095\n",
      "[53]\tTest-rmse:536.04988\n",
      "[54]\tTest-rmse:535.99029\n",
      "[55]\tTest-rmse:535.52648\n",
      "[56]\tTest-rmse:535.56513\n",
      "[57]\tTest-rmse:535.58425\n",
      "[58]\tTest-rmse:535.67956\n",
      "[59]\tTest-rmse:535.51169\n",
      "[60]\tTest-rmse:535.43219\n",
      "[61]\tTest-rmse:535.21850\n",
      "[62]\tTest-rmse:534.90454\n",
      "[63]\tTest-rmse:535.10410\n",
      "[64]\tTest-rmse:535.08072\n",
      "[65]\tTest-rmse:535.36543\n",
      "[66]\tTest-rmse:535.75962\n",
      "[67]\tTest-rmse:535.96911\n",
      "[68]\tTest-rmse:536.16155\n",
      "[69]\tTest-rmse:535.79070\n",
      "[70]\tTest-rmse:535.74918\n",
      "[71]\tTest-rmse:535.26682\n",
      "[72]\tTest-rmse:535.39651\n"
     ]
    },
    {
     "data": {
      "text/html": [
       "<style>\n",
       "    table.wandb td:nth-child(1) { padding: 0 10px; text-align: left ; width: auto;} td:nth-child(2) {text-align: left ; width: 100%}\n",
       "    .wandb-row { display: flex; flex-direction: row; flex-wrap: wrap; justify-content: flex-start; width: 100% }\n",
       "    .wandb-col { display: flex; flex-direction: column; flex-basis: 100%; flex: 1; padding: 10px; }\n",
       "    </style>\n",
       "<div class=\"wandb-row\"><div class=\"wandb-col\"><h3>Run history:</h3><br/><table class=\"wandb\"><tr><td>rmse</td><td>▁</td></tr></table><br/></div><div class=\"wandb-col\"><h3>Run summary:</h3><br/><table class=\"wandb\"><tr><td>rmse</td><td>534.90454</td></tr></table><br/></div></div>"
      ],
      "text/plain": [
       "<IPython.core.display.HTML object>"
      ]
     },
     "metadata": {},
     "output_type": "display_data"
    },
    {
     "data": {
      "text/html": [
       " View run <strong style=\"color:#cdcd00\">fragrant-sweep-15</strong> at: <a href='https://wandb.ai/jacobnu/xbg_grid_diamonds/runs/sfj2mpf3' target=\"_blank\">https://wandb.ai/jacobnu/xbg_grid_diamonds/runs/sfj2mpf3</a><br/> View project at: <a href='https://wandb.ai/jacobnu/xbg_grid_diamonds' target=\"_blank\">https://wandb.ai/jacobnu/xbg_grid_diamonds</a><br/>Synced 5 W&B file(s), 0 media file(s), 0 artifact file(s) and 0 other file(s)"
      ],
      "text/plain": [
       "<IPython.core.display.HTML object>"
      ]
     },
     "metadata": {},
     "output_type": "display_data"
    },
    {
     "data": {
      "text/html": [
       "Find logs at: <code>./wandb/run-20240421_212135-sfj2mpf3/logs</code>"
      ],
      "text/plain": [
       "<IPython.core.display.HTML object>"
      ]
     },
     "metadata": {},
     "output_type": "display_data"
    },
    {
     "name": "stderr",
     "output_type": "stream",
     "text": [
      "\u001b[34m\u001b[1mwandb\u001b[0m: Agent Starting Run: 7htma3rk with config:\n",
      "\u001b[34m\u001b[1mwandb\u001b[0m: \tlearning_rate: 0.1\n",
      "\u001b[34m\u001b[1mwandb\u001b[0m: \tmax_depth: 9\n",
      "\u001b[34m\u001b[1mwandb\u001b[0m: \tn_estimators: 200\n",
      "\u001b[34m\u001b[1mwandb\u001b[0m: \tsubsample: 0.7\n",
      "\u001b[34m\u001b[1mwandb\u001b[0m: \u001b[33mWARNING\u001b[0m Ignored wandb.init() arg project when running a sweep.\n",
      "\u001b[34m\u001b[1mwandb\u001b[0m: \u001b[33mWARNING\u001b[0m Ignored wandb.init() arg entity when running a sweep.\n"
     ]
    },
    {
     "data": {
      "text/html": [
       "Tracking run with wandb version 0.16.6"
      ],
      "text/plain": [
       "<IPython.core.display.HTML object>"
      ]
     },
     "metadata": {},
     "output_type": "display_data"
    },
    {
     "data": {
      "text/html": [
       "Run data is saved locally in <code>/Users/jacob/Code/2024SP-MSAI-Practicum/wandb/run-20240421_212146-7htma3rk</code>"
      ],
      "text/plain": [
       "<IPython.core.display.HTML object>"
      ]
     },
     "metadata": {},
     "output_type": "display_data"
    },
    {
     "data": {
      "text/html": [
       "Syncing run <strong><a href='https://wandb.ai/jacobnu/xbg_grid_diamonds/runs/7htma3rk' target=\"_blank\">earnest-sweep-16</a></strong> to <a href='https://wandb.ai/jacobnu/xbg_grid_diamonds' target=\"_blank\">Weights & Biases</a> (<a href='https://wandb.me/run' target=\"_blank\">docs</a>)<br/>Sweep page: <a href='https://wandb.ai/jacobnu/xbg_grid_diamonds/sweeps/hcbnoalh' target=\"_blank\">https://wandb.ai/jacobnu/xbg_grid_diamonds/sweeps/hcbnoalh</a>"
      ],
      "text/plain": [
       "<IPython.core.display.HTML object>"
      ]
     },
     "metadata": {},
     "output_type": "display_data"
    },
    {
     "data": {
      "text/html": [
       " View project at <a href='https://wandb.ai/jacobnu/xbg_grid_diamonds' target=\"_blank\">https://wandb.ai/jacobnu/xbg_grid_diamonds</a>"
      ],
      "text/plain": [
       "<IPython.core.display.HTML object>"
      ]
     },
     "metadata": {},
     "output_type": "display_data"
    },
    {
     "data": {
      "text/html": [
       " View sweep at <a href='https://wandb.ai/jacobnu/xbg_grid_diamonds/sweeps/hcbnoalh' target=\"_blank\">https://wandb.ai/jacobnu/xbg_grid_diamonds/sweeps/hcbnoalh</a>"
      ],
      "text/plain": [
       "<IPython.core.display.HTML object>"
      ]
     },
     "metadata": {},
     "output_type": "display_data"
    },
    {
     "data": {
      "text/html": [
       " View run at <a href='https://wandb.ai/jacobnu/xbg_grid_diamonds/runs/7htma3rk' target=\"_blank\">https://wandb.ai/jacobnu/xbg_grid_diamonds/runs/7htma3rk</a>"
      ],
      "text/plain": [
       "<IPython.core.display.HTML object>"
      ]
     },
     "metadata": {},
     "output_type": "display_data"
    },
    {
     "name": "stdout",
     "output_type": "stream",
     "text": [
      "[0]\tTest-rmse:3601.56705\n",
      "[1]\tTest-rmse:3255.22573\n",
      "[2]\tTest-rmse:2945.24544\n",
      "[3]\tTest-rmse:2667.41690\n",
      "[4]\tTest-rmse:2416.77188\n",
      "[5]\tTest-rmse:2193.56039\n",
      "[6]\tTest-rmse:1993.42679\n",
      "[7]\tTest-rmse:1813.43597\n",
      "[8]\tTest-rmse:1653.12919\n",
      "[9]\tTest-rmse:1511.46262\n",
      "[10]\tTest-rmse:1383.39644\n",
      "[11]\tTest-rmse:1269.44705\n",
      "[12]\tTest-rmse:1170.31838\n",
      "[13]\tTest-rmse:1083.67254\n",
      "[14]\tTest-rmse:1006.09928\n",
      "[15]\tTest-rmse:937.19607\n",
      "[16]\tTest-rmse:877.42578\n",
      "[17]\tTest-rmse:825.71038\n",
      "[18]\tTest-rmse:781.62178\n",
      "[19]\tTest-rmse:743.29401\n",
      "[20]\tTest-rmse:710.31223\n",
      "[21]\tTest-rmse:681.28534\n",
      "[22]\tTest-rmse:656.94197\n",
      "[23]\tTest-rmse:636.77740\n",
      "[24]\tTest-rmse:619.56847\n",
      "[25]\tTest-rmse:605.57185\n",
      "[26]\tTest-rmse:593.92934\n",
      "[27]\tTest-rmse:583.25000\n",
      "[28]\tTest-rmse:573.94179\n",
      "[29]\tTest-rmse:567.19426\n",
      "[30]\tTest-rmse:560.82730\n",
      "[31]\tTest-rmse:555.73797\n",
      "[32]\tTest-rmse:551.30470\n",
      "[33]\tTest-rmse:547.91178\n",
      "[34]\tTest-rmse:545.13958\n",
      "[35]\tTest-rmse:543.02716\n",
      "[36]\tTest-rmse:540.94013\n",
      "[37]\tTest-rmse:539.76964\n",
      "[38]\tTest-rmse:538.95571\n"
     ]
    },
    {
     "name": "stderr",
     "output_type": "stream",
     "text": [
      "[21:21:47] WARNING: /Users/runner/work/xgboost/xgboost/src/learner.cc:742: \n",
      "Parameters: { \"n_estimators\" } are not used.\n",
      "\n"
     ]
    },
    {
     "name": "stdout",
     "output_type": "stream",
     "text": [
      "[39]\tTest-rmse:538.26990\n",
      "[40]\tTest-rmse:537.40656\n",
      "[41]\tTest-rmse:536.34222\n",
      "[42]\tTest-rmse:536.34657\n",
      "[43]\tTest-rmse:536.65811\n",
      "[44]\tTest-rmse:536.21323\n",
      "[45]\tTest-rmse:535.78813\n",
      "[46]\tTest-rmse:535.74249\n",
      "[47]\tTest-rmse:535.38210\n",
      "[48]\tTest-rmse:535.24618\n",
      "[49]\tTest-rmse:535.29816\n",
      "[50]\tTest-rmse:534.89158\n",
      "[51]\tTest-rmse:534.39701\n",
      "[52]\tTest-rmse:533.73951\n",
      "[53]\tTest-rmse:533.61435\n",
      "[54]\tTest-rmse:533.42211\n",
      "[55]\tTest-rmse:533.64391\n",
      "[56]\tTest-rmse:533.49299\n",
      "[57]\tTest-rmse:533.75426\n",
      "[58]\tTest-rmse:533.76412\n",
      "[59]\tTest-rmse:533.94626\n",
      "[60]\tTest-rmse:533.46346\n",
      "[61]\tTest-rmse:533.16637\n",
      "[62]\tTest-rmse:533.09382\n",
      "[63]\tTest-rmse:533.07656\n",
      "[64]\tTest-rmse:533.25404\n",
      "[65]\tTest-rmse:532.94479\n",
      "[66]\tTest-rmse:532.98458\n",
      "[67]\tTest-rmse:533.09266\n",
      "[68]\tTest-rmse:533.16691\n",
      "[69]\tTest-rmse:532.88558\n",
      "[70]\tTest-rmse:532.69067\n",
      "[71]\tTest-rmse:532.85782\n",
      "[72]\tTest-rmse:532.93698\n",
      "[73]\tTest-rmse:532.99096\n",
      "[74]\tTest-rmse:533.10002\n",
      "[75]\tTest-rmse:533.13042\n",
      "[76]\tTest-rmse:533.19637\n",
      "[77]\tTest-rmse:533.24938\n",
      "[78]\tTest-rmse:533.38337\n",
      "[79]\tTest-rmse:533.09558\n",
      "[80]\tTest-rmse:532.98509\n"
     ]
    },
    {
     "data": {
      "text/html": [
       "<style>\n",
       "    table.wandb td:nth-child(1) { padding: 0 10px; text-align: left ; width: auto;} td:nth-child(2) {text-align: left ; width: 100%}\n",
       "    .wandb-row { display: flex; flex-direction: row; flex-wrap: wrap; justify-content: flex-start; width: 100% }\n",
       "    .wandb-col { display: flex; flex-direction: column; flex-basis: 100%; flex: 1; padding: 10px; }\n",
       "    </style>\n",
       "<div class=\"wandb-row\"><div class=\"wandb-col\"><h3>Run history:</h3><br/><table class=\"wandb\"><tr><td>rmse</td><td>▁</td></tr></table><br/></div><div class=\"wandb-col\"><h3>Run summary:</h3><br/><table class=\"wandb\"><tr><td>rmse</td><td>532.69067</td></tr></table><br/></div></div>"
      ],
      "text/plain": [
       "<IPython.core.display.HTML object>"
      ]
     },
     "metadata": {},
     "output_type": "display_data"
    },
    {
     "data": {
      "text/html": [
       " View run <strong style=\"color:#cdcd00\">earnest-sweep-16</strong> at: <a href='https://wandb.ai/jacobnu/xbg_grid_diamonds/runs/7htma3rk' target=\"_blank\">https://wandb.ai/jacobnu/xbg_grid_diamonds/runs/7htma3rk</a><br/> View project at: <a href='https://wandb.ai/jacobnu/xbg_grid_diamonds' target=\"_blank\">https://wandb.ai/jacobnu/xbg_grid_diamonds</a><br/>Synced 5 W&B file(s), 0 media file(s), 0 artifact file(s) and 0 other file(s)"
      ],
      "text/plain": [
       "<IPython.core.display.HTML object>"
      ]
     },
     "metadata": {},
     "output_type": "display_data"
    },
    {
     "data": {
      "text/html": [
       "Find logs at: <code>./wandb/run-20240421_212146-7htma3rk/logs</code>"
      ],
      "text/plain": [
       "<IPython.core.display.HTML object>"
      ]
     },
     "metadata": {},
     "output_type": "display_data"
    },
    {
     "name": "stderr",
     "output_type": "stream",
     "text": [
      "\u001b[34m\u001b[1mwandb\u001b[0m: Agent Starting Run: r45rw6pz with config:\n",
      "\u001b[34m\u001b[1mwandb\u001b[0m: \tlearning_rate: 0.1\n",
      "\u001b[34m\u001b[1mwandb\u001b[0m: \tmax_depth: 9\n",
      "\u001b[34m\u001b[1mwandb\u001b[0m: \tn_estimators: 200\n",
      "\u001b[34m\u001b[1mwandb\u001b[0m: \tsubsample: 0.8\n",
      "\u001b[34m\u001b[1mwandb\u001b[0m: \u001b[33mWARNING\u001b[0m Ignored wandb.init() arg project when running a sweep.\n",
      "\u001b[34m\u001b[1mwandb\u001b[0m: \u001b[33mWARNING\u001b[0m Ignored wandb.init() arg entity when running a sweep.\n"
     ]
    },
    {
     "data": {
      "text/html": [
       "Tracking run with wandb version 0.16.6"
      ],
      "text/plain": [
       "<IPython.core.display.HTML object>"
      ]
     },
     "metadata": {},
     "output_type": "display_data"
    },
    {
     "data": {
      "text/html": [
       "Run data is saved locally in <code>/Users/jacob/Code/2024SP-MSAI-Practicum/wandb/run-20240421_212156-r45rw6pz</code>"
      ],
      "text/plain": [
       "<IPython.core.display.HTML object>"
      ]
     },
     "metadata": {},
     "output_type": "display_data"
    },
    {
     "data": {
      "text/html": [
       "Syncing run <strong><a href='https://wandb.ai/jacobnu/xbg_grid_diamonds/runs/r45rw6pz' target=\"_blank\">denim-sweep-17</a></strong> to <a href='https://wandb.ai/jacobnu/xbg_grid_diamonds' target=\"_blank\">Weights & Biases</a> (<a href='https://wandb.me/run' target=\"_blank\">docs</a>)<br/>Sweep page: <a href='https://wandb.ai/jacobnu/xbg_grid_diamonds/sweeps/hcbnoalh' target=\"_blank\">https://wandb.ai/jacobnu/xbg_grid_diamonds/sweeps/hcbnoalh</a>"
      ],
      "text/plain": [
       "<IPython.core.display.HTML object>"
      ]
     },
     "metadata": {},
     "output_type": "display_data"
    },
    {
     "data": {
      "text/html": [
       " View project at <a href='https://wandb.ai/jacobnu/xbg_grid_diamonds' target=\"_blank\">https://wandb.ai/jacobnu/xbg_grid_diamonds</a>"
      ],
      "text/plain": [
       "<IPython.core.display.HTML object>"
      ]
     },
     "metadata": {},
     "output_type": "display_data"
    },
    {
     "data": {
      "text/html": [
       " View sweep at <a href='https://wandb.ai/jacobnu/xbg_grid_diamonds/sweeps/hcbnoalh' target=\"_blank\">https://wandb.ai/jacobnu/xbg_grid_diamonds/sweeps/hcbnoalh</a>"
      ],
      "text/plain": [
       "<IPython.core.display.HTML object>"
      ]
     },
     "metadata": {},
     "output_type": "display_data"
    },
    {
     "data": {
      "text/html": [
       " View run at <a href='https://wandb.ai/jacobnu/xbg_grid_diamonds/runs/r45rw6pz' target=\"_blank\">https://wandb.ai/jacobnu/xbg_grid_diamonds/runs/r45rw6pz</a>"
      ],
      "text/plain": [
       "<IPython.core.display.HTML object>"
      ]
     },
     "metadata": {},
     "output_type": "display_data"
    },
    {
     "name": "stdout",
     "output_type": "stream",
     "text": [
      "[0]\tTest-rmse:3602.14465\n",
      "[1]\tTest-rmse:3255.83907\n",
      "[2]\tTest-rmse:2945.36253\n",
      "[3]\tTest-rmse:2666.59350\n",
      "[4]\tTest-rmse:2416.24945\n",
      "[5]\tTest-rmse:2193.38775\n",
      "[6]\tTest-rmse:1991.99762\n",
      "[7]\tTest-rmse:1812.40631\n",
      "[8]\tTest-rmse:1652.53257\n",
      "[9]\tTest-rmse:1509.97265\n",
      "[10]\tTest-rmse:1382.35429\n",
      "[11]\tTest-rmse:1269.30147\n",
      "[12]\tTest-rmse:1169.08553\n",
      "[13]\tTest-rmse:1081.06306\n",
      "[14]\tTest-rmse:1002.96931\n",
      "[15]\tTest-rmse:934.95920\n",
      "[16]\tTest-rmse:876.64381\n",
      "[17]\tTest-rmse:825.57899\n",
      "[18]\tTest-rmse:781.08932\n",
      "[19]\tTest-rmse:742.08645\n",
      "[20]\tTest-rmse:709.83471\n",
      "[21]\tTest-rmse:681.83488\n",
      "[22]\tTest-rmse:657.08933\n",
      "[23]\tTest-rmse:637.17224\n",
      "[24]\tTest-rmse:619.90413\n",
      "[25]\tTest-rmse:604.84930\n",
      "[26]\tTest-rmse:592.71457\n",
      "[27]\tTest-rmse:582.75046\n",
      "[28]\tTest-rmse:574.22053\n",
      "[29]\tTest-rmse:567.03383\n",
      "[30]\tTest-rmse:560.97357\n",
      "[31]\tTest-rmse:556.23750\n",
      "[32]\tTest-rmse:553.05178\n",
      "[33]\tTest-rmse:549.61226\n",
      "[34]\tTest-rmse:547.21581\n",
      "[35]\tTest-rmse:544.63634\n",
      "[36]\tTest-rmse:543.01068\n",
      "[37]\tTest-rmse:542.08587\n",
      "[38]\tTest-rmse:541.54008\n"
     ]
    },
    {
     "name": "stderr",
     "output_type": "stream",
     "text": [
      "[21:21:57] WARNING: /Users/runner/work/xgboost/xgboost/src/learner.cc:742: \n",
      "Parameters: { \"n_estimators\" } are not used.\n",
      "\n"
     ]
    },
    {
     "name": "stdout",
     "output_type": "stream",
     "text": [
      "[39]\tTest-rmse:540.70251\n",
      "[40]\tTest-rmse:539.70029\n",
      "[41]\tTest-rmse:538.87519\n",
      "[42]\tTest-rmse:539.33359\n",
      "[43]\tTest-rmse:539.01860\n",
      "[44]\tTest-rmse:538.84108\n",
      "[45]\tTest-rmse:538.70232\n",
      "[46]\tTest-rmse:537.84594\n",
      "[47]\tTest-rmse:537.47659\n",
      "[48]\tTest-rmse:537.63527\n",
      "[49]\tTest-rmse:537.71546\n",
      "[50]\tTest-rmse:537.49792\n",
      "[51]\tTest-rmse:537.41202\n",
      "[52]\tTest-rmse:537.41921\n",
      "[53]\tTest-rmse:537.05348\n",
      "[54]\tTest-rmse:536.89719\n",
      "[55]\tTest-rmse:537.16815\n",
      "[56]\tTest-rmse:537.11094\n",
      "[57]\tTest-rmse:537.00812\n",
      "[58]\tTest-rmse:536.99970\n",
      "[59]\tTest-rmse:536.67339\n",
      "[60]\tTest-rmse:536.74589\n",
      "[61]\tTest-rmse:536.37545\n",
      "[62]\tTest-rmse:536.55959\n",
      "[63]\tTest-rmse:536.61984\n",
      "[64]\tTest-rmse:537.24597\n",
      "[65]\tTest-rmse:537.04330\n",
      "[66]\tTest-rmse:537.30007\n",
      "[67]\tTest-rmse:537.43594\n",
      "[68]\tTest-rmse:537.60454\n",
      "[69]\tTest-rmse:538.19506\n",
      "[70]\tTest-rmse:538.30174\n",
      "[71]\tTest-rmse:538.75235\n"
     ]
    },
    {
     "data": {
      "text/html": [
       "<style>\n",
       "    table.wandb td:nth-child(1) { padding: 0 10px; text-align: left ; width: auto;} td:nth-child(2) {text-align: left ; width: 100%}\n",
       "    .wandb-row { display: flex; flex-direction: row; flex-wrap: wrap; justify-content: flex-start; width: 100% }\n",
       "    .wandb-col { display: flex; flex-direction: column; flex-basis: 100%; flex: 1; padding: 10px; }\n",
       "    </style>\n",
       "<div class=\"wandb-row\"><div class=\"wandb-col\"><h3>Run history:</h3><br/><table class=\"wandb\"><tr><td>rmse</td><td>▁</td></tr></table><br/></div><div class=\"wandb-col\"><h3>Run summary:</h3><br/><table class=\"wandb\"><tr><td>rmse</td><td>536.37545</td></tr></table><br/></div></div>"
      ],
      "text/plain": [
       "<IPython.core.display.HTML object>"
      ]
     },
     "metadata": {},
     "output_type": "display_data"
    },
    {
     "data": {
      "text/html": [
       " View run <strong style=\"color:#cdcd00\">denim-sweep-17</strong> at: <a href='https://wandb.ai/jacobnu/xbg_grid_diamonds/runs/r45rw6pz' target=\"_blank\">https://wandb.ai/jacobnu/xbg_grid_diamonds/runs/r45rw6pz</a><br/> View project at: <a href='https://wandb.ai/jacobnu/xbg_grid_diamonds' target=\"_blank\">https://wandb.ai/jacobnu/xbg_grid_diamonds</a><br/>Synced 5 W&B file(s), 0 media file(s), 0 artifact file(s) and 0 other file(s)"
      ],
      "text/plain": [
       "<IPython.core.display.HTML object>"
      ]
     },
     "metadata": {},
     "output_type": "display_data"
    },
    {
     "data": {
      "text/html": [
       "Find logs at: <code>./wandb/run-20240421_212156-r45rw6pz/logs</code>"
      ],
      "text/plain": [
       "<IPython.core.display.HTML object>"
      ]
     },
     "metadata": {},
     "output_type": "display_data"
    },
    {
     "name": "stderr",
     "output_type": "stream",
     "text": [
      "\u001b[34m\u001b[1mwandb\u001b[0m: Agent Starting Run: 65jb5foq with config:\n",
      "\u001b[34m\u001b[1mwandb\u001b[0m: \tlearning_rate: 0.1\n",
      "\u001b[34m\u001b[1mwandb\u001b[0m: \tmax_depth: 9\n",
      "\u001b[34m\u001b[1mwandb\u001b[0m: \tn_estimators: 200\n",
      "\u001b[34m\u001b[1mwandb\u001b[0m: \tsubsample: 0.9\n",
      "\u001b[34m\u001b[1mwandb\u001b[0m: \u001b[33mWARNING\u001b[0m Ignored wandb.init() arg project when running a sweep.\n",
      "\u001b[34m\u001b[1mwandb\u001b[0m: \u001b[33mWARNING\u001b[0m Ignored wandb.init() arg entity when running a sweep.\n"
     ]
    },
    {
     "data": {
      "text/html": [
       "Tracking run with wandb version 0.16.6"
      ],
      "text/plain": [
       "<IPython.core.display.HTML object>"
      ]
     },
     "metadata": {},
     "output_type": "display_data"
    },
    {
     "data": {
      "text/html": [
       "Run data is saved locally in <code>/Users/jacob/Code/2024SP-MSAI-Practicum/wandb/run-20240421_212206-65jb5foq</code>"
      ],
      "text/plain": [
       "<IPython.core.display.HTML object>"
      ]
     },
     "metadata": {},
     "output_type": "display_data"
    },
    {
     "data": {
      "text/html": [
       "Syncing run <strong><a href='https://wandb.ai/jacobnu/xbg_grid_diamonds/runs/65jb5foq' target=\"_blank\">happy-sweep-18</a></strong> to <a href='https://wandb.ai/jacobnu/xbg_grid_diamonds' target=\"_blank\">Weights & Biases</a> (<a href='https://wandb.me/run' target=\"_blank\">docs</a>)<br/>Sweep page: <a href='https://wandb.ai/jacobnu/xbg_grid_diamonds/sweeps/hcbnoalh' target=\"_blank\">https://wandb.ai/jacobnu/xbg_grid_diamonds/sweeps/hcbnoalh</a>"
      ],
      "text/plain": [
       "<IPython.core.display.HTML object>"
      ]
     },
     "metadata": {},
     "output_type": "display_data"
    },
    {
     "data": {
      "text/html": [
       " View project at <a href='https://wandb.ai/jacobnu/xbg_grid_diamonds' target=\"_blank\">https://wandb.ai/jacobnu/xbg_grid_diamonds</a>"
      ],
      "text/plain": [
       "<IPython.core.display.HTML object>"
      ]
     },
     "metadata": {},
     "output_type": "display_data"
    },
    {
     "data": {
      "text/html": [
       " View sweep at <a href='https://wandb.ai/jacobnu/xbg_grid_diamonds/sweeps/hcbnoalh' target=\"_blank\">https://wandb.ai/jacobnu/xbg_grid_diamonds/sweeps/hcbnoalh</a>"
      ],
      "text/plain": [
       "<IPython.core.display.HTML object>"
      ]
     },
     "metadata": {},
     "output_type": "display_data"
    },
    {
     "data": {
      "text/html": [
       " View run at <a href='https://wandb.ai/jacobnu/xbg_grid_diamonds/runs/65jb5foq' target=\"_blank\">https://wandb.ai/jacobnu/xbg_grid_diamonds/runs/65jb5foq</a>"
      ],
      "text/plain": [
       "<IPython.core.display.HTML object>"
      ]
     },
     "metadata": {},
     "output_type": "display_data"
    },
    {
     "name": "stdout",
     "output_type": "stream",
     "text": [
      "[0]\tTest-rmse:3601.66384\n",
      "[1]\tTest-rmse:3255.52785\n",
      "[2]\tTest-rmse:2944.89507\n",
      "[3]\tTest-rmse:2666.60867\n",
      "[4]\tTest-rmse:2416.44360\n",
      "[5]\tTest-rmse:2191.50639\n",
      "[6]\tTest-rmse:1989.50350\n",
      "[7]\tTest-rmse:1810.45115\n",
      "[8]\tTest-rmse:1650.28032\n",
      "[9]\tTest-rmse:1507.05610\n",
      "[10]\tTest-rmse:1379.58137\n",
      "[11]\tTest-rmse:1266.52384\n",
      "[12]\tTest-rmse:1165.90734\n",
      "[13]\tTest-rmse:1079.23697\n",
      "[14]\tTest-rmse:1002.03409\n",
      "[15]\tTest-rmse:933.50562\n",
      "[16]\tTest-rmse:874.47856\n",
      "[17]\tTest-rmse:823.70048\n",
      "[18]\tTest-rmse:778.68208\n",
      "[19]\tTest-rmse:740.91316\n",
      "[20]\tTest-rmse:708.11878\n",
      "[21]\tTest-rmse:679.92237\n",
      "[22]\tTest-rmse:655.65123\n",
      "[23]\tTest-rmse:635.54946\n",
      "[24]\tTest-rmse:618.51807\n",
      "[25]\tTest-rmse:604.38989\n",
      "[26]\tTest-rmse:592.69825\n",
      "[27]\tTest-rmse:582.63316\n",
      "[28]\tTest-rmse:574.78182\n",
      "[29]\tTest-rmse:567.59050\n",
      "[30]\tTest-rmse:562.56268\n",
      "[31]\tTest-rmse:557.42845\n",
      "[32]\tTest-rmse:553.64505\n",
      "[33]\tTest-rmse:550.68083\n",
      "[34]\tTest-rmse:547.90465\n",
      "[35]\tTest-rmse:545.97229\n",
      "[36]\tTest-rmse:544.46881\n",
      "[37]\tTest-rmse:542.32794\n",
      "[38]\tTest-rmse:540.83346\n",
      "[39]\tTest-rmse:540.11288\n",
      "[40]\tTest-rmse:538.98976\n"
     ]
    },
    {
     "name": "stderr",
     "output_type": "stream",
     "text": [
      "[21:22:06] WARNING: /Users/runner/work/xgboost/xgboost/src/learner.cc:742: \n",
      "Parameters: { \"n_estimators\" } are not used.\n",
      "\n"
     ]
    },
    {
     "name": "stdout",
     "output_type": "stream",
     "text": [
      "[41]\tTest-rmse:538.67457\n",
      "[42]\tTest-rmse:538.91553\n",
      "[43]\tTest-rmse:538.48633\n",
      "[44]\tTest-rmse:538.18239\n",
      "[45]\tTest-rmse:537.68176\n",
      "[46]\tTest-rmse:537.69997\n",
      "[47]\tTest-rmse:537.38951\n",
      "[48]\tTest-rmse:537.22676\n",
      "[49]\tTest-rmse:536.87948\n",
      "[50]\tTest-rmse:536.84438\n",
      "[51]\tTest-rmse:536.72799\n",
      "[52]\tTest-rmse:536.34095\n",
      "[53]\tTest-rmse:536.04988\n",
      "[54]\tTest-rmse:535.99029\n",
      "[55]\tTest-rmse:535.52648\n",
      "[56]\tTest-rmse:535.56513\n",
      "[57]\tTest-rmse:535.58425\n",
      "[58]\tTest-rmse:535.67956\n",
      "[59]\tTest-rmse:535.51169\n",
      "[60]\tTest-rmse:535.43219\n",
      "[61]\tTest-rmse:535.21850\n",
      "[62]\tTest-rmse:534.90454\n",
      "[63]\tTest-rmse:535.10410\n",
      "[64]\tTest-rmse:535.08072\n",
      "[65]\tTest-rmse:535.36543\n",
      "[66]\tTest-rmse:535.75962\n",
      "[67]\tTest-rmse:535.96911\n",
      "[68]\tTest-rmse:536.16155\n",
      "[69]\tTest-rmse:535.79070\n",
      "[70]\tTest-rmse:535.74918\n",
      "[71]\tTest-rmse:535.26682\n",
      "[72]\tTest-rmse:535.39651\n"
     ]
    },
    {
     "data": {
      "text/html": [
       "<style>\n",
       "    table.wandb td:nth-child(1) { padding: 0 10px; text-align: left ; width: auto;} td:nth-child(2) {text-align: left ; width: 100%}\n",
       "    .wandb-row { display: flex; flex-direction: row; flex-wrap: wrap; justify-content: flex-start; width: 100% }\n",
       "    .wandb-col { display: flex; flex-direction: column; flex-basis: 100%; flex: 1; padding: 10px; }\n",
       "    </style>\n",
       "<div class=\"wandb-row\"><div class=\"wandb-col\"><h3>Run history:</h3><br/><table class=\"wandb\"><tr><td>rmse</td><td>▁</td></tr></table><br/></div><div class=\"wandb-col\"><h3>Run summary:</h3><br/><table class=\"wandb\"><tr><td>rmse</td><td>534.90454</td></tr></table><br/></div></div>"
      ],
      "text/plain": [
       "<IPython.core.display.HTML object>"
      ]
     },
     "metadata": {},
     "output_type": "display_data"
    },
    {
     "data": {
      "text/html": [
       " View run <strong style=\"color:#cdcd00\">happy-sweep-18</strong> at: <a href='https://wandb.ai/jacobnu/xbg_grid_diamonds/runs/65jb5foq' target=\"_blank\">https://wandb.ai/jacobnu/xbg_grid_diamonds/runs/65jb5foq</a><br/> View project at: <a href='https://wandb.ai/jacobnu/xbg_grid_diamonds' target=\"_blank\">https://wandb.ai/jacobnu/xbg_grid_diamonds</a><br/>Synced 5 W&B file(s), 0 media file(s), 0 artifact file(s) and 0 other file(s)"
      ],
      "text/plain": [
       "<IPython.core.display.HTML object>"
      ]
     },
     "metadata": {},
     "output_type": "display_data"
    },
    {
     "data": {
      "text/html": [
       "Find logs at: <code>./wandb/run-20240421_212206-65jb5foq/logs</code>"
      ],
      "text/plain": [
       "<IPython.core.display.HTML object>"
      ]
     },
     "metadata": {},
     "output_type": "display_data"
    },
    {
     "name": "stderr",
     "output_type": "stream",
     "text": [
      "\u001b[34m\u001b[1mwandb\u001b[0m: Agent Starting Run: swcrkj37 with config:\n",
      "\u001b[34m\u001b[1mwandb\u001b[0m: \tlearning_rate: 0.15\n",
      "\u001b[34m\u001b[1mwandb\u001b[0m: \tmax_depth: 5\n",
      "\u001b[34m\u001b[1mwandb\u001b[0m: \tn_estimators: 100\n",
      "\u001b[34m\u001b[1mwandb\u001b[0m: \tsubsample: 0.7\n",
      "\u001b[34m\u001b[1mwandb\u001b[0m: \u001b[33mWARNING\u001b[0m Ignored wandb.init() arg project when running a sweep.\n",
      "\u001b[34m\u001b[1mwandb\u001b[0m: \u001b[33mWARNING\u001b[0m Ignored wandb.init() arg entity when running a sweep.\n"
     ]
    },
    {
     "data": {
      "text/html": [
       "Tracking run with wandb version 0.16.6"
      ],
      "text/plain": [
       "<IPython.core.display.HTML object>"
      ]
     },
     "metadata": {},
     "output_type": "display_data"
    },
    {
     "data": {
      "text/html": [
       "Run data is saved locally in <code>/Users/jacob/Code/2024SP-MSAI-Practicum/wandb/run-20240421_212216-swcrkj37</code>"
      ],
      "text/plain": [
       "<IPython.core.display.HTML object>"
      ]
     },
     "metadata": {},
     "output_type": "display_data"
    },
    {
     "data": {
      "text/html": [
       "Syncing run <strong><a href='https://wandb.ai/jacobnu/xbg_grid_diamonds/runs/swcrkj37' target=\"_blank\">woven-sweep-19</a></strong> to <a href='https://wandb.ai/jacobnu/xbg_grid_diamonds' target=\"_blank\">Weights & Biases</a> (<a href='https://wandb.me/run' target=\"_blank\">docs</a>)<br/>Sweep page: <a href='https://wandb.ai/jacobnu/xbg_grid_diamonds/sweeps/hcbnoalh' target=\"_blank\">https://wandb.ai/jacobnu/xbg_grid_diamonds/sweeps/hcbnoalh</a>"
      ],
      "text/plain": [
       "<IPython.core.display.HTML object>"
      ]
     },
     "metadata": {},
     "output_type": "display_data"
    },
    {
     "data": {
      "text/html": [
       " View project at <a href='https://wandb.ai/jacobnu/xbg_grid_diamonds' target=\"_blank\">https://wandb.ai/jacobnu/xbg_grid_diamonds</a>"
      ],
      "text/plain": [
       "<IPython.core.display.HTML object>"
      ]
     },
     "metadata": {},
     "output_type": "display_data"
    },
    {
     "data": {
      "text/html": [
       " View sweep at <a href='https://wandb.ai/jacobnu/xbg_grid_diamonds/sweeps/hcbnoalh' target=\"_blank\">https://wandb.ai/jacobnu/xbg_grid_diamonds/sweeps/hcbnoalh</a>"
      ],
      "text/plain": [
       "<IPython.core.display.HTML object>"
      ]
     },
     "metadata": {},
     "output_type": "display_data"
    },
    {
     "data": {
      "text/html": [
       " View run at <a href='https://wandb.ai/jacobnu/xbg_grid_diamonds/runs/swcrkj37' target=\"_blank\">https://wandb.ai/jacobnu/xbg_grid_diamonds/runs/swcrkj37</a>"
      ],
      "text/plain": [
       "<IPython.core.display.HTML object>"
      ]
     },
     "metadata": {},
     "output_type": "display_data"
    },
    {
     "name": "stdout",
     "output_type": "stream",
     "text": [
      "[0]\tTest-rmse:3428.61276\n",
      "[1]\tTest-rmse:2953.40913\n",
      "[2]\tTest-rmse:2556.89731\n",
      "[3]\tTest-rmse:2221.05074\n",
      "[4]\tTest-rmse:1937.87952\n",
      "[5]\tTest-rmse:1701.96081\n",
      "[6]\tTest-rmse:1501.33437\n",
      "[7]\tTest-rmse:1333.51938\n",
      "[8]\tTest-rmse:1194.26899\n",
      "[9]\tTest-rmse:1077.42559\n",
      "[10]\tTest-rmse:982.72970\n",
      "[11]\tTest-rmse:904.17194\n",
      "[12]\tTest-rmse:835.88500\n",
      "[13]\tTest-rmse:787.06336\n",
      "[14]\tTest-rmse:745.18930\n",
      "[15]\tTest-rmse:707.60687\n",
      "[16]\tTest-rmse:680.81904\n",
      "[17]\tTest-rmse:655.93600\n",
      "[18]\tTest-rmse:639.38159\n",
      "[19]\tTest-rmse:625.05024\n",
      "[20]\tTest-rmse:612.33116\n",
      "[21]\tTest-rmse:603.25988\n",
      "[22]\tTest-rmse:595.82620\n",
      "[23]\tTest-rmse:589.42943\n",
      "[24]\tTest-rmse:583.47476\n",
      "[25]\tTest-rmse:579.37009\n",
      "[26]\tTest-rmse:574.32564\n",
      "[27]\tTest-rmse:571.66741\n",
      "[28]\tTest-rmse:569.05423\n",
      "[29]\tTest-rmse:566.83205\n",
      "[30]\tTest-rmse:565.17554\n",
      "[31]\tTest-rmse:563.52975\n",
      "[32]\tTest-rmse:561.96793\n",
      "[33]\tTest-rmse:560.03876\n",
      "[34]\tTest-rmse:558.57160\n",
      "[35]\tTest-rmse:557.45440\n",
      "[36]\tTest-rmse:556.66458\n",
      "[37]\tTest-rmse:555.75301\n",
      "[38]\tTest-rmse:554.40002\n",
      "[39]\tTest-rmse:553.03004\n",
      "[40]\tTest-rmse:552.08484\n",
      "[41]\tTest-rmse:550.78414\n",
      "[42]\tTest-rmse:550.05354\n",
      "[43]\tTest-rmse:549.38789\n",
      "[44]\tTest-rmse:548.70519\n",
      "[45]\tTest-rmse:548.20220\n",
      "[46]\tTest-rmse:548.06131\n",
      "[47]\tTest-rmse:547.27031\n",
      "[48]\tTest-rmse:546.87542\n",
      "[49]\tTest-rmse:546.77631\n",
      "[50]\tTest-rmse:546.35393\n",
      "[51]\tTest-rmse:546.03779\n",
      "[52]\tTest-rmse:545.81769\n",
      "[53]\tTest-rmse:545.55588\n",
      "[54]\tTest-rmse:545.48941\n",
      "[55]\tTest-rmse:544.95087\n",
      "[56]\tTest-rmse:544.25394\n",
      "[57]\tTest-rmse:544.19868\n",
      "[58]\tTest-rmse:544.02417\n",
      "[59]\tTest-rmse:544.27829\n",
      "[60]\tTest-rmse:544.04265\n",
      "[61]\tTest-rmse:544.50402\n",
      "[62]\tTest-rmse:544.36648\n",
      "[63]\tTest-rmse:543.79786\n",
      "[64]\tTest-rmse:544.10880\n",
      "[65]\tTest-rmse:544.05340\n",
      "[66]\tTest-rmse:544.08706\n",
      "[67]\tTest-rmse:543.90802\n",
      "[68]\tTest-rmse:543.81539\n",
      "[69]\tTest-rmse:543.33423\n",
      "[70]\tTest-rmse:542.81698\n",
      "[71]\tTest-rmse:542.52534\n",
      "[72]\tTest-rmse:542.64733\n",
      "[73]\tTest-rmse:542.90910\n",
      "[74]\tTest-rmse:542.74764\n",
      "[75]\tTest-rmse:542.84911\n",
      "[76]\tTest-rmse:542.90928\n",
      "[77]\tTest-rmse:542.79005\n",
      "[78]\tTest-rmse:543.38618\n",
      "[79]\tTest-rmse:542.98565\n",
      "[80]\tTest-rmse:542.81334\n",
      "[81]\tTest-rmse:542.95933\n"
     ]
    },
    {
     "name": "stderr",
     "output_type": "stream",
     "text": [
      "[21:22:17] WARNING: /Users/runner/work/xgboost/xgboost/src/learner.cc:742: \n",
      "Parameters: { \"n_estimators\" } are not used.\n",
      "\n"
     ]
    },
    {
     "data": {
      "text/html": [
       "<style>\n",
       "    table.wandb td:nth-child(1) { padding: 0 10px; text-align: left ; width: auto;} td:nth-child(2) {text-align: left ; width: 100%}\n",
       "    .wandb-row { display: flex; flex-direction: row; flex-wrap: wrap; justify-content: flex-start; width: 100% }\n",
       "    .wandb-col { display: flex; flex-direction: column; flex-basis: 100%; flex: 1; padding: 10px; }\n",
       "    </style>\n",
       "<div class=\"wandb-row\"><div class=\"wandb-col\"><h3>Run history:</h3><br/><table class=\"wandb\"><tr><td>rmse</td><td>▁</td></tr></table><br/></div><div class=\"wandb-col\"><h3>Run summary:</h3><br/><table class=\"wandb\"><tr><td>rmse</td><td>542.52534</td></tr></table><br/></div></div>"
      ],
      "text/plain": [
       "<IPython.core.display.HTML object>"
      ]
     },
     "metadata": {},
     "output_type": "display_data"
    },
    {
     "data": {
      "text/html": [
       " View run <strong style=\"color:#cdcd00\">woven-sweep-19</strong> at: <a href='https://wandb.ai/jacobnu/xbg_grid_diamonds/runs/swcrkj37' target=\"_blank\">https://wandb.ai/jacobnu/xbg_grid_diamonds/runs/swcrkj37</a><br/> View project at: <a href='https://wandb.ai/jacobnu/xbg_grid_diamonds' target=\"_blank\">https://wandb.ai/jacobnu/xbg_grid_diamonds</a><br/>Synced 5 W&B file(s), 0 media file(s), 0 artifact file(s) and 0 other file(s)"
      ],
      "text/plain": [
       "<IPython.core.display.HTML object>"
      ]
     },
     "metadata": {},
     "output_type": "display_data"
    },
    {
     "data": {
      "text/html": [
       "Find logs at: <code>./wandb/run-20240421_212216-swcrkj37/logs</code>"
      ],
      "text/plain": [
       "<IPython.core.display.HTML object>"
      ]
     },
     "metadata": {},
     "output_type": "display_data"
    },
    {
     "name": "stderr",
     "output_type": "stream",
     "text": [
      "\u001b[34m\u001b[1mwandb\u001b[0m: Agent Starting Run: 6an1qnn9 with config:\n",
      "\u001b[34m\u001b[1mwandb\u001b[0m: \tlearning_rate: 0.15\n",
      "\u001b[34m\u001b[1mwandb\u001b[0m: \tmax_depth: 5\n",
      "\u001b[34m\u001b[1mwandb\u001b[0m: \tn_estimators: 100\n",
      "\u001b[34m\u001b[1mwandb\u001b[0m: \tsubsample: 0.8\n",
      "\u001b[34m\u001b[1mwandb\u001b[0m: \u001b[33mWARNING\u001b[0m Ignored wandb.init() arg project when running a sweep.\n",
      "\u001b[34m\u001b[1mwandb\u001b[0m: \u001b[33mWARNING\u001b[0m Ignored wandb.init() arg entity when running a sweep.\n"
     ]
    },
    {
     "data": {
      "text/html": [
       "Tracking run with wandb version 0.16.6"
      ],
      "text/plain": [
       "<IPython.core.display.HTML object>"
      ]
     },
     "metadata": {},
     "output_type": "display_data"
    },
    {
     "data": {
      "text/html": [
       "Run data is saved locally in <code>/Users/jacob/Code/2024SP-MSAI-Practicum/wandb/run-20240421_212227-6an1qnn9</code>"
      ],
      "text/plain": [
       "<IPython.core.display.HTML object>"
      ]
     },
     "metadata": {},
     "output_type": "display_data"
    },
    {
     "data": {
      "text/html": [
       "Syncing run <strong><a href='https://wandb.ai/jacobnu/xbg_grid_diamonds/runs/6an1qnn9' target=\"_blank\">stellar-sweep-20</a></strong> to <a href='https://wandb.ai/jacobnu/xbg_grid_diamonds' target=\"_blank\">Weights & Biases</a> (<a href='https://wandb.me/run' target=\"_blank\">docs</a>)<br/>Sweep page: <a href='https://wandb.ai/jacobnu/xbg_grid_diamonds/sweeps/hcbnoalh' target=\"_blank\">https://wandb.ai/jacobnu/xbg_grid_diamonds/sweeps/hcbnoalh</a>"
      ],
      "text/plain": [
       "<IPython.core.display.HTML object>"
      ]
     },
     "metadata": {},
     "output_type": "display_data"
    },
    {
     "data": {
      "text/html": [
       " View project at <a href='https://wandb.ai/jacobnu/xbg_grid_diamonds' target=\"_blank\">https://wandb.ai/jacobnu/xbg_grid_diamonds</a>"
      ],
      "text/plain": [
       "<IPython.core.display.HTML object>"
      ]
     },
     "metadata": {},
     "output_type": "display_data"
    },
    {
     "data": {
      "text/html": [
       " View sweep at <a href='https://wandb.ai/jacobnu/xbg_grid_diamonds/sweeps/hcbnoalh' target=\"_blank\">https://wandb.ai/jacobnu/xbg_grid_diamonds/sweeps/hcbnoalh</a>"
      ],
      "text/plain": [
       "<IPython.core.display.HTML object>"
      ]
     },
     "metadata": {},
     "output_type": "display_data"
    },
    {
     "data": {
      "text/html": [
       " View run at <a href='https://wandb.ai/jacobnu/xbg_grid_diamonds/runs/6an1qnn9' target=\"_blank\">https://wandb.ai/jacobnu/xbg_grid_diamonds/runs/6an1qnn9</a>"
      ],
      "text/plain": [
       "<IPython.core.display.HTML object>"
      ]
     },
     "metadata": {},
     "output_type": "display_data"
    },
    {
     "name": "stdout",
     "output_type": "stream",
     "text": [
      "[0]\tTest-rmse:3428.22609\n",
      "[1]\tTest-rmse:2953.87330\n",
      "[2]\tTest-rmse:2556.19575\n",
      "[3]\tTest-rmse:2217.49984\n",
      "[4]\tTest-rmse:1930.15202\n",
      "[5]\tTest-rmse:1692.52701\n",
      "[6]\tTest-rmse:1495.36377\n",
      "[7]\tTest-rmse:1331.61265\n",
      "[8]\tTest-rmse:1192.77022\n",
      "[9]\tTest-rmse:1074.29468\n",
      "[10]\tTest-rmse:978.42046\n",
      "[11]\tTest-rmse:898.37182\n",
      "[12]\tTest-rmse:835.34623\n",
      "[13]\tTest-rmse:786.37732\n",
      "[14]\tTest-rmse:745.42899\n",
      "[15]\tTest-rmse:709.02407\n",
      "[16]\tTest-rmse:682.69158\n",
      "[17]\tTest-rmse:660.18766\n",
      "[18]\tTest-rmse:643.96640\n",
      "[19]\tTest-rmse:627.32831\n",
      "[20]\tTest-rmse:615.33212\n",
      "[21]\tTest-rmse:606.36212\n",
      "[22]\tTest-rmse:599.49708\n",
      "[23]\tTest-rmse:593.35836\n",
      "[24]\tTest-rmse:588.26794\n",
      "[25]\tTest-rmse:582.18626\n",
      "[26]\tTest-rmse:576.82163\n",
      "[27]\tTest-rmse:573.04975\n",
      "[28]\tTest-rmse:569.05851\n",
      "[29]\tTest-rmse:566.71854\n",
      "[30]\tTest-rmse:565.14927\n",
      "[31]\tTest-rmse:562.33206\n",
      "[32]\tTest-rmse:560.95276\n",
      "[33]\tTest-rmse:559.24749\n",
      "[34]\tTest-rmse:557.86604\n",
      "[35]\tTest-rmse:556.33772\n",
      "[36]\tTest-rmse:556.21948\n",
      "[37]\tTest-rmse:554.65423\n",
      "[38]\tTest-rmse:553.25234\n",
      "[39]\tTest-rmse:552.17666\n",
      "[40]\tTest-rmse:551.06651\n",
      "[41]\tTest-rmse:549.59702\n",
      "[42]\tTest-rmse:549.23631\n",
      "[43]\tTest-rmse:548.83374\n",
      "[44]\tTest-rmse:547.52400\n",
      "[45]\tTest-rmse:546.82859\n",
      "[46]\tTest-rmse:546.79840\n",
      "[47]\tTest-rmse:545.63064\n",
      "[48]\tTest-rmse:545.77839\n",
      "[49]\tTest-rmse:545.70862\n",
      "[50]\tTest-rmse:544.84504\n",
      "[51]\tTest-rmse:544.42313\n",
      "[52]\tTest-rmse:544.24428\n",
      "[53]\tTest-rmse:543.96770\n",
      "[54]\tTest-rmse:543.17253\n",
      "[55]\tTest-rmse:542.97098\n",
      "[56]\tTest-rmse:543.18699\n",
      "[57]\tTest-rmse:543.38923\n",
      "[58]\tTest-rmse:542.86416\n",
      "[59]\tTest-rmse:542.86888\n",
      "[60]\tTest-rmse:542.55006\n",
      "[61]\tTest-rmse:542.74838\n",
      "[62]\tTest-rmse:542.63327\n",
      "[63]\tTest-rmse:542.39916\n",
      "[64]\tTest-rmse:542.62212\n",
      "[65]\tTest-rmse:542.45857\n",
      "[66]\tTest-rmse:542.55283\n",
      "[67]\tTest-rmse:542.10564\n",
      "[68]\tTest-rmse:542.08912\n",
      "[69]\tTest-rmse:541.20788\n",
      "[70]\tTest-rmse:541.10485\n",
      "[71]\tTest-rmse:540.17200\n",
      "[72]\tTest-rmse:540.28853\n",
      "[73]\tTest-rmse:539.91242\n",
      "[74]\tTest-rmse:539.66261\n",
      "[75]\tTest-rmse:539.38811\n",
      "[76]\tTest-rmse:538.96109\n",
      "[77]\tTest-rmse:538.70583\n",
      "[78]\tTest-rmse:538.91638\n",
      "[79]\tTest-rmse:538.85504\n",
      "[80]\tTest-rmse:538.84508\n",
      "[81]\tTest-rmse:539.09726\n",
      "[82]\tTest-rmse:539.04690\n",
      "[83]\tTest-rmse:538.82057\n",
      "[84]\tTest-rmse:538.59078\n",
      "[85]\tTest-rmse:538.18865\n"
     ]
    },
    {
     "name": "stderr",
     "output_type": "stream",
     "text": [
      "[21:22:28] WARNING: /Users/runner/work/xgboost/xgboost/src/learner.cc:742: \n",
      "Parameters: { \"n_estimators\" } are not used.\n",
      "\n"
     ]
    },
    {
     "name": "stdout",
     "output_type": "stream",
     "text": [
      "[86]\tTest-rmse:538.41126\n",
      "[87]\tTest-rmse:538.19251\n",
      "[88]\tTest-rmse:538.21798\n",
      "[89]\tTest-rmse:538.17904\n",
      "[90]\tTest-rmse:538.60338\n",
      "[91]\tTest-rmse:538.65257\n",
      "[92]\tTest-rmse:538.60859\n",
      "[93]\tTest-rmse:538.28506\n",
      "[94]\tTest-rmse:538.05821\n",
      "[95]\tTest-rmse:537.87890\n",
      "[96]\tTest-rmse:537.96569\n",
      "[97]\tTest-rmse:538.03379\n",
      "[98]\tTest-rmse:537.90942\n",
      "[99]\tTest-rmse:537.56764\n"
     ]
    },
    {
     "data": {
      "text/html": [
       "<style>\n",
       "    table.wandb td:nth-child(1) { padding: 0 10px; text-align: left ; width: auto;} td:nth-child(2) {text-align: left ; width: 100%}\n",
       "    .wandb-row { display: flex; flex-direction: row; flex-wrap: wrap; justify-content: flex-start; width: 100% }\n",
       "    .wandb-col { display: flex; flex-direction: column; flex-basis: 100%; flex: 1; padding: 10px; }\n",
       "    </style>\n",
       "<div class=\"wandb-row\"><div class=\"wandb-col\"><h3>Run history:</h3><br/><table class=\"wandb\"><tr><td>rmse</td><td>▁</td></tr></table><br/></div><div class=\"wandb-col\"><h3>Run summary:</h3><br/><table class=\"wandb\"><tr><td>rmse</td><td>537.56764</td></tr></table><br/></div></div>"
      ],
      "text/plain": [
       "<IPython.core.display.HTML object>"
      ]
     },
     "metadata": {},
     "output_type": "display_data"
    },
    {
     "data": {
      "text/html": [
       " View run <strong style=\"color:#cdcd00\">stellar-sweep-20</strong> at: <a href='https://wandb.ai/jacobnu/xbg_grid_diamonds/runs/6an1qnn9' target=\"_blank\">https://wandb.ai/jacobnu/xbg_grid_diamonds/runs/6an1qnn9</a><br/> View project at: <a href='https://wandb.ai/jacobnu/xbg_grid_diamonds' target=\"_blank\">https://wandb.ai/jacobnu/xbg_grid_diamonds</a><br/>Synced 5 W&B file(s), 0 media file(s), 0 artifact file(s) and 0 other file(s)"
      ],
      "text/plain": [
       "<IPython.core.display.HTML object>"
      ]
     },
     "metadata": {},
     "output_type": "display_data"
    },
    {
     "data": {
      "text/html": [
       "Find logs at: <code>./wandb/run-20240421_212227-6an1qnn9/logs</code>"
      ],
      "text/plain": [
       "<IPython.core.display.HTML object>"
      ]
     },
     "metadata": {},
     "output_type": "display_data"
    },
    {
     "name": "stderr",
     "output_type": "stream",
     "text": [
      "\u001b[34m\u001b[1mwandb\u001b[0m: Agent Starting Run: 68j0rxl5 with config:\n",
      "\u001b[34m\u001b[1mwandb\u001b[0m: \tlearning_rate: 0.15\n",
      "\u001b[34m\u001b[1mwandb\u001b[0m: \tmax_depth: 5\n",
      "\u001b[34m\u001b[1mwandb\u001b[0m: \tn_estimators: 100\n",
      "\u001b[34m\u001b[1mwandb\u001b[0m: \tsubsample: 0.9\n",
      "\u001b[34m\u001b[1mwandb\u001b[0m: \u001b[33mWARNING\u001b[0m Ignored wandb.init() arg project when running a sweep.\n",
      "\u001b[34m\u001b[1mwandb\u001b[0m: \u001b[33mWARNING\u001b[0m Ignored wandb.init() arg entity when running a sweep.\n"
     ]
    },
    {
     "data": {
      "text/html": [
       "Tracking run with wandb version 0.16.6"
      ],
      "text/plain": [
       "<IPython.core.display.HTML object>"
      ]
     },
     "metadata": {},
     "output_type": "display_data"
    },
    {
     "data": {
      "text/html": [
       "Run data is saved locally in <code>/Users/jacob/Code/2024SP-MSAI-Practicum/wandb/run-20240421_212237-68j0rxl5</code>"
      ],
      "text/plain": [
       "<IPython.core.display.HTML object>"
      ]
     },
     "metadata": {},
     "output_type": "display_data"
    },
    {
     "data": {
      "text/html": [
       "Syncing run <strong><a href='https://wandb.ai/jacobnu/xbg_grid_diamonds/runs/68j0rxl5' target=\"_blank\">radiant-sweep-21</a></strong> to <a href='https://wandb.ai/jacobnu/xbg_grid_diamonds' target=\"_blank\">Weights & Biases</a> (<a href='https://wandb.me/run' target=\"_blank\">docs</a>)<br/>Sweep page: <a href='https://wandb.ai/jacobnu/xbg_grid_diamonds/sweeps/hcbnoalh' target=\"_blank\">https://wandb.ai/jacobnu/xbg_grid_diamonds/sweeps/hcbnoalh</a>"
      ],
      "text/plain": [
       "<IPython.core.display.HTML object>"
      ]
     },
     "metadata": {},
     "output_type": "display_data"
    },
    {
     "data": {
      "text/html": [
       " View project at <a href='https://wandb.ai/jacobnu/xbg_grid_diamonds' target=\"_blank\">https://wandb.ai/jacobnu/xbg_grid_diamonds</a>"
      ],
      "text/plain": [
       "<IPython.core.display.HTML object>"
      ]
     },
     "metadata": {},
     "output_type": "display_data"
    },
    {
     "data": {
      "text/html": [
       " View sweep at <a href='https://wandb.ai/jacobnu/xbg_grid_diamonds/sweeps/hcbnoalh' target=\"_blank\">https://wandb.ai/jacobnu/xbg_grid_diamonds/sweeps/hcbnoalh</a>"
      ],
      "text/plain": [
       "<IPython.core.display.HTML object>"
      ]
     },
     "metadata": {},
     "output_type": "display_data"
    },
    {
     "data": {
      "text/html": [
       " View run at <a href='https://wandb.ai/jacobnu/xbg_grid_diamonds/runs/68j0rxl5' target=\"_blank\">https://wandb.ai/jacobnu/xbg_grid_diamonds/runs/68j0rxl5</a>"
      ],
      "text/plain": [
       "<IPython.core.display.HTML object>"
      ]
     },
     "metadata": {},
     "output_type": "display_data"
    },
    {
     "name": "stdout",
     "output_type": "stream",
     "text": [
      "[0]\tTest-rmse:3428.79611\n",
      "[1]\tTest-rmse:2954.82928\n",
      "[2]\tTest-rmse:2554.62001\n",
      "[3]\tTest-rmse:2218.39172\n",
      "[4]\tTest-rmse:1933.22113\n",
      "[5]\tTest-rmse:1695.11921\n",
      "[6]\tTest-rmse:1496.37379\n",
      "[7]\tTest-rmse:1328.99114\n",
      "[8]\tTest-rmse:1189.32002\n",
      "[9]\tTest-rmse:1074.09356\n",
      "[10]\tTest-rmse:979.91066\n",
      "[11]\tTest-rmse:900.31169\n",
      "[12]\tTest-rmse:839.30360\n",
      "[13]\tTest-rmse:786.51494\n",
      "[14]\tTest-rmse:743.36863\n",
      "[15]\tTest-rmse:709.54800\n",
      "[16]\tTest-rmse:682.66580\n",
      "[17]\tTest-rmse:660.61779\n",
      "[18]\tTest-rmse:642.45814\n",
      "[19]\tTest-rmse:628.67590\n",
      "[20]\tTest-rmse:615.33099\n",
      "[21]\tTest-rmse:604.72746\n",
      "[22]\tTest-rmse:596.38333\n",
      "[23]\tTest-rmse:590.65931\n",
      "[24]\tTest-rmse:584.17877\n",
      "[25]\tTest-rmse:579.86717\n",
      "[26]\tTest-rmse:576.65447\n",
      "[27]\tTest-rmse:571.95881\n",
      "[28]\tTest-rmse:568.07679\n",
      "[29]\tTest-rmse:565.31255\n",
      "[30]\tTest-rmse:563.19636\n",
      "[31]\tTest-rmse:560.42816\n",
      "[32]\tTest-rmse:558.89717\n",
      "[33]\tTest-rmse:557.20609\n",
      "[34]\tTest-rmse:555.88985\n",
      "[35]\tTest-rmse:554.97846\n",
      "[36]\tTest-rmse:554.65414\n",
      "[37]\tTest-rmse:553.66882\n",
      "[38]\tTest-rmse:553.00604\n",
      "[39]\tTest-rmse:552.31280\n",
      "[40]\tTest-rmse:551.02514\n",
      "[41]\tTest-rmse:549.95453\n",
      "[42]\tTest-rmse:549.31160\n",
      "[43]\tTest-rmse:548.62951\n",
      "[44]\tTest-rmse:548.24178\n",
      "[45]\tTest-rmse:547.54547\n",
      "[46]\tTest-rmse:546.44078\n",
      "[47]\tTest-rmse:546.10112\n",
      "[48]\tTest-rmse:545.91192\n",
      "[49]\tTest-rmse:545.66562\n",
      "[50]\tTest-rmse:544.93019\n",
      "[51]\tTest-rmse:544.47638\n",
      "[52]\tTest-rmse:544.20789\n",
      "[53]\tTest-rmse:543.69540\n",
      "[54]\tTest-rmse:543.57387\n",
      "[55]\tTest-rmse:543.21712\n",
      "[56]\tTest-rmse:543.07152\n",
      "[57]\tTest-rmse:542.56147\n",
      "[58]\tTest-rmse:542.14862\n",
      "[59]\tTest-rmse:541.54085\n",
      "[60]\tTest-rmse:541.53916\n",
      "[61]\tTest-rmse:541.40324\n",
      "[62]\tTest-rmse:541.03351\n",
      "[63]\tTest-rmse:540.61913\n",
      "[64]\tTest-rmse:539.87094\n",
      "[65]\tTest-rmse:539.64292\n",
      "[66]\tTest-rmse:539.13007\n",
      "[67]\tTest-rmse:539.14393\n",
      "[68]\tTest-rmse:539.68029\n",
      "[69]\tTest-rmse:538.97537\n",
      "[70]\tTest-rmse:538.63906\n",
      "[71]\tTest-rmse:538.43621\n",
      "[72]\tTest-rmse:538.33328\n",
      "[73]\tTest-rmse:538.08509\n",
      "[74]\tTest-rmse:537.74122\n",
      "[75]\tTest-rmse:537.41589\n",
      "[76]\tTest-rmse:537.07541\n",
      "[77]\tTest-rmse:537.05760\n",
      "[78]\tTest-rmse:537.19701\n",
      "[79]\tTest-rmse:537.46758\n",
      "[80]\tTest-rmse:536.93388\n",
      "[81]\tTest-rmse:536.32294\n",
      "[82]\tTest-rmse:536.65342\n",
      "[83]\tTest-rmse:536.42315\n",
      "[84]\tTest-rmse:536.35677\n",
      "[85]\tTest-rmse:536.12065\n"
     ]
    },
    {
     "name": "stderr",
     "output_type": "stream",
     "text": [
      "[21:22:38] WARNING: /Users/runner/work/xgboost/xgboost/src/learner.cc:742: \n",
      "Parameters: { \"n_estimators\" } are not used.\n",
      "\n"
     ]
    },
    {
     "name": "stdout",
     "output_type": "stream",
     "text": [
      "[86]\tTest-rmse:536.27086\n",
      "[87]\tTest-rmse:536.20295\n",
      "[88]\tTest-rmse:536.41688\n",
      "[89]\tTest-rmse:536.24198\n",
      "[90]\tTest-rmse:536.11404\n",
      "[91]\tTest-rmse:535.79065\n",
      "[92]\tTest-rmse:535.83063\n",
      "[93]\tTest-rmse:535.67763\n",
      "[94]\tTest-rmse:535.64332\n",
      "[95]\tTest-rmse:535.76633\n",
      "[96]\tTest-rmse:535.71756\n",
      "[97]\tTest-rmse:535.82537\n",
      "[98]\tTest-rmse:535.82402\n",
      "[99]\tTest-rmse:535.56275\n"
     ]
    },
    {
     "data": {
      "text/html": [
       "<style>\n",
       "    table.wandb td:nth-child(1) { padding: 0 10px; text-align: left ; width: auto;} td:nth-child(2) {text-align: left ; width: 100%}\n",
       "    .wandb-row { display: flex; flex-direction: row; flex-wrap: wrap; justify-content: flex-start; width: 100% }\n",
       "    .wandb-col { display: flex; flex-direction: column; flex-basis: 100%; flex: 1; padding: 10px; }\n",
       "    </style>\n",
       "<div class=\"wandb-row\"><div class=\"wandb-col\"><h3>Run history:</h3><br/><table class=\"wandb\"><tr><td>rmse</td><td>▁</td></tr></table><br/></div><div class=\"wandb-col\"><h3>Run summary:</h3><br/><table class=\"wandb\"><tr><td>rmse</td><td>535.56275</td></tr></table><br/></div></div>"
      ],
      "text/plain": [
       "<IPython.core.display.HTML object>"
      ]
     },
     "metadata": {},
     "output_type": "display_data"
    },
    {
     "data": {
      "text/html": [
       " View run <strong style=\"color:#cdcd00\">radiant-sweep-21</strong> at: <a href='https://wandb.ai/jacobnu/xbg_grid_diamonds/runs/68j0rxl5' target=\"_blank\">https://wandb.ai/jacobnu/xbg_grid_diamonds/runs/68j0rxl5</a><br/> View project at: <a href='https://wandb.ai/jacobnu/xbg_grid_diamonds' target=\"_blank\">https://wandb.ai/jacobnu/xbg_grid_diamonds</a><br/>Synced 5 W&B file(s), 0 media file(s), 0 artifact file(s) and 0 other file(s)"
      ],
      "text/plain": [
       "<IPython.core.display.HTML object>"
      ]
     },
     "metadata": {},
     "output_type": "display_data"
    },
    {
     "data": {
      "text/html": [
       "Find logs at: <code>./wandb/run-20240421_212237-68j0rxl5/logs</code>"
      ],
      "text/plain": [
       "<IPython.core.display.HTML object>"
      ]
     },
     "metadata": {},
     "output_type": "display_data"
    },
    {
     "name": "stderr",
     "output_type": "stream",
     "text": [
      "\u001b[34m\u001b[1mwandb\u001b[0m: Agent Starting Run: x6h2v1vu with config:\n",
      "\u001b[34m\u001b[1mwandb\u001b[0m: \tlearning_rate: 0.15\n",
      "\u001b[34m\u001b[1mwandb\u001b[0m: \tmax_depth: 5\n",
      "\u001b[34m\u001b[1mwandb\u001b[0m: \tn_estimators: 200\n",
      "\u001b[34m\u001b[1mwandb\u001b[0m: \tsubsample: 0.7\n",
      "\u001b[34m\u001b[1mwandb\u001b[0m: \u001b[33mWARNING\u001b[0m Ignored wandb.init() arg project when running a sweep.\n",
      "\u001b[34m\u001b[1mwandb\u001b[0m: \u001b[33mWARNING\u001b[0m Ignored wandb.init() arg entity when running a sweep.\n"
     ]
    },
    {
     "data": {
      "text/html": [
       "Tracking run with wandb version 0.16.6"
      ],
      "text/plain": [
       "<IPython.core.display.HTML object>"
      ]
     },
     "metadata": {},
     "output_type": "display_data"
    },
    {
     "data": {
      "text/html": [
       "Run data is saved locally in <code>/Users/jacob/Code/2024SP-MSAI-Practicum/wandb/run-20240421_212248-x6h2v1vu</code>"
      ],
      "text/plain": [
       "<IPython.core.display.HTML object>"
      ]
     },
     "metadata": {},
     "output_type": "display_data"
    },
    {
     "data": {
      "text/html": [
       "Syncing run <strong><a href='https://wandb.ai/jacobnu/xbg_grid_diamonds/runs/x6h2v1vu' target=\"_blank\">rosy-sweep-22</a></strong> to <a href='https://wandb.ai/jacobnu/xbg_grid_diamonds' target=\"_blank\">Weights & Biases</a> (<a href='https://wandb.me/run' target=\"_blank\">docs</a>)<br/>Sweep page: <a href='https://wandb.ai/jacobnu/xbg_grid_diamonds/sweeps/hcbnoalh' target=\"_blank\">https://wandb.ai/jacobnu/xbg_grid_diamonds/sweeps/hcbnoalh</a>"
      ],
      "text/plain": [
       "<IPython.core.display.HTML object>"
      ]
     },
     "metadata": {},
     "output_type": "display_data"
    },
    {
     "data": {
      "text/html": [
       " View project at <a href='https://wandb.ai/jacobnu/xbg_grid_diamonds' target=\"_blank\">https://wandb.ai/jacobnu/xbg_grid_diamonds</a>"
      ],
      "text/plain": [
       "<IPython.core.display.HTML object>"
      ]
     },
     "metadata": {},
     "output_type": "display_data"
    },
    {
     "data": {
      "text/html": [
       " View sweep at <a href='https://wandb.ai/jacobnu/xbg_grid_diamonds/sweeps/hcbnoalh' target=\"_blank\">https://wandb.ai/jacobnu/xbg_grid_diamonds/sweeps/hcbnoalh</a>"
      ],
      "text/plain": [
       "<IPython.core.display.HTML object>"
      ]
     },
     "metadata": {},
     "output_type": "display_data"
    },
    {
     "data": {
      "text/html": [
       " View run at <a href='https://wandb.ai/jacobnu/xbg_grid_diamonds/runs/x6h2v1vu' target=\"_blank\">https://wandb.ai/jacobnu/xbg_grid_diamonds/runs/x6h2v1vu</a>"
      ],
      "text/plain": [
       "<IPython.core.display.HTML object>"
      ]
     },
     "metadata": {},
     "output_type": "display_data"
    },
    {
     "name": "stdout",
     "output_type": "stream",
     "text": [
      "[0]\tTest-rmse:3428.61276\n",
      "[1]\tTest-rmse:2953.40913\n",
      "[2]\tTest-rmse:2556.89731\n",
      "[3]\tTest-rmse:2221.05074\n",
      "[4]\tTest-rmse:1937.87952\n",
      "[5]\tTest-rmse:1701.96081\n",
      "[6]\tTest-rmse:1501.33437\n",
      "[7]\tTest-rmse:1333.51938\n",
      "[8]\tTest-rmse:1194.26899\n",
      "[9]\tTest-rmse:1077.42559\n",
      "[10]\tTest-rmse:982.72970\n",
      "[11]\tTest-rmse:904.17194\n",
      "[12]\tTest-rmse:835.88500\n",
      "[13]\tTest-rmse:787.06336\n",
      "[14]\tTest-rmse:745.18930\n",
      "[15]\tTest-rmse:707.60687\n",
      "[16]\tTest-rmse:680.81904\n",
      "[17]\tTest-rmse:655.93600\n",
      "[18]\tTest-rmse:639.38159\n",
      "[19]\tTest-rmse:625.05024\n",
      "[20]\tTest-rmse:612.33116\n",
      "[21]\tTest-rmse:603.25988\n",
      "[22]\tTest-rmse:595.82620\n",
      "[23]\tTest-rmse:589.42943\n",
      "[24]\tTest-rmse:583.47476\n",
      "[25]\tTest-rmse:579.37009\n",
      "[26]\tTest-rmse:574.32564\n",
      "[27]\tTest-rmse:571.66741\n",
      "[28]\tTest-rmse:569.05423\n",
      "[29]\tTest-rmse:566.83205\n",
      "[30]\tTest-rmse:565.17554\n",
      "[31]\tTest-rmse:563.52975\n",
      "[32]\tTest-rmse:561.96793\n",
      "[33]\tTest-rmse:560.03876\n",
      "[34]\tTest-rmse:558.57160\n",
      "[35]\tTest-rmse:557.45440\n",
      "[36]\tTest-rmse:556.66458\n",
      "[37]\tTest-rmse:555.75301\n",
      "[38]\tTest-rmse:554.40002\n",
      "[39]\tTest-rmse:553.03004\n",
      "[40]\tTest-rmse:552.08484\n",
      "[41]\tTest-rmse:550.78414\n",
      "[42]\tTest-rmse:550.05354\n",
      "[43]\tTest-rmse:549.38789\n",
      "[44]\tTest-rmse:548.70519\n",
      "[45]\tTest-rmse:548.20220\n",
      "[46]\tTest-rmse:548.06131\n",
      "[47]\tTest-rmse:547.27031\n",
      "[48]\tTest-rmse:546.87542\n",
      "[49]\tTest-rmse:546.77631\n",
      "[50]\tTest-rmse:546.35393\n",
      "[51]\tTest-rmse:546.03779\n",
      "[52]\tTest-rmse:545.81769\n",
      "[53]\tTest-rmse:545.55588\n",
      "[54]\tTest-rmse:545.48941\n",
      "[55]\tTest-rmse:544.95087\n",
      "[56]\tTest-rmse:544.25394\n",
      "[57]\tTest-rmse:544.19868\n",
      "[58]\tTest-rmse:544.02417\n",
      "[59]\tTest-rmse:544.27829\n",
      "[60]\tTest-rmse:544.04265\n",
      "[61]\tTest-rmse:544.50402\n",
      "[62]\tTest-rmse:544.36648\n",
      "[63]\tTest-rmse:543.79786\n",
      "[64]\tTest-rmse:544.10880\n",
      "[65]\tTest-rmse:544.05340\n",
      "[66]\tTest-rmse:544.08706\n",
      "[67]\tTest-rmse:543.90802\n",
      "[68]\tTest-rmse:543.81539\n",
      "[69]\tTest-rmse:543.33423\n",
      "[70]\tTest-rmse:542.81698\n",
      "[71]\tTest-rmse:542.52534\n",
      "[72]\tTest-rmse:542.64733\n",
      "[73]\tTest-rmse:542.90910\n",
      "[74]\tTest-rmse:542.74764\n",
      "[75]\tTest-rmse:542.84911\n",
      "[76]\tTest-rmse:542.90928\n",
      "[77]\tTest-rmse:542.79005\n",
      "[78]\tTest-rmse:543.38618\n",
      "[79]\tTest-rmse:542.98565\n",
      "[80]\tTest-rmse:542.81334\n",
      "[81]\tTest-rmse:542.95933\n"
     ]
    },
    {
     "name": "stderr",
     "output_type": "stream",
     "text": [
      "[21:22:49] WARNING: /Users/runner/work/xgboost/xgboost/src/learner.cc:742: \n",
      "Parameters: { \"n_estimators\" } are not used.\n",
      "\n"
     ]
    },
    {
     "data": {
      "text/html": [
       "<style>\n",
       "    table.wandb td:nth-child(1) { padding: 0 10px; text-align: left ; width: auto;} td:nth-child(2) {text-align: left ; width: 100%}\n",
       "    .wandb-row { display: flex; flex-direction: row; flex-wrap: wrap; justify-content: flex-start; width: 100% }\n",
       "    .wandb-col { display: flex; flex-direction: column; flex-basis: 100%; flex: 1; padding: 10px; }\n",
       "    </style>\n",
       "<div class=\"wandb-row\"><div class=\"wandb-col\"><h3>Run history:</h3><br/><table class=\"wandb\"><tr><td>rmse</td><td>▁</td></tr></table><br/></div><div class=\"wandb-col\"><h3>Run summary:</h3><br/><table class=\"wandb\"><tr><td>rmse</td><td>542.52534</td></tr></table><br/></div></div>"
      ],
      "text/plain": [
       "<IPython.core.display.HTML object>"
      ]
     },
     "metadata": {},
     "output_type": "display_data"
    },
    {
     "data": {
      "text/html": [
       " View run <strong style=\"color:#cdcd00\">rosy-sweep-22</strong> at: <a href='https://wandb.ai/jacobnu/xbg_grid_diamonds/runs/x6h2v1vu' target=\"_blank\">https://wandb.ai/jacobnu/xbg_grid_diamonds/runs/x6h2v1vu</a><br/> View project at: <a href='https://wandb.ai/jacobnu/xbg_grid_diamonds' target=\"_blank\">https://wandb.ai/jacobnu/xbg_grid_diamonds</a><br/>Synced 5 W&B file(s), 0 media file(s), 0 artifact file(s) and 0 other file(s)"
      ],
      "text/plain": [
       "<IPython.core.display.HTML object>"
      ]
     },
     "metadata": {},
     "output_type": "display_data"
    },
    {
     "data": {
      "text/html": [
       "Find logs at: <code>./wandb/run-20240421_212248-x6h2v1vu/logs</code>"
      ],
      "text/plain": [
       "<IPython.core.display.HTML object>"
      ]
     },
     "metadata": {},
     "output_type": "display_data"
    },
    {
     "name": "stderr",
     "output_type": "stream",
     "text": [
      "\u001b[34m\u001b[1mwandb\u001b[0m: Agent Starting Run: v6p7yvc9 with config:\n",
      "\u001b[34m\u001b[1mwandb\u001b[0m: \tlearning_rate: 0.15\n",
      "\u001b[34m\u001b[1mwandb\u001b[0m: \tmax_depth: 5\n",
      "\u001b[34m\u001b[1mwandb\u001b[0m: \tn_estimators: 200\n",
      "\u001b[34m\u001b[1mwandb\u001b[0m: \tsubsample: 0.8\n",
      "\u001b[34m\u001b[1mwandb\u001b[0m: \u001b[33mWARNING\u001b[0m Ignored wandb.init() arg project when running a sweep.\n",
      "\u001b[34m\u001b[1mwandb\u001b[0m: \u001b[33mWARNING\u001b[0m Ignored wandb.init() arg entity when running a sweep.\n"
     ]
    },
    {
     "data": {
      "text/html": [
       "Tracking run with wandb version 0.16.6"
      ],
      "text/plain": [
       "<IPython.core.display.HTML object>"
      ]
     },
     "metadata": {},
     "output_type": "display_data"
    },
    {
     "data": {
      "text/html": [
       "Run data is saved locally in <code>/Users/jacob/Code/2024SP-MSAI-Practicum/wandb/run-20240421_212258-v6p7yvc9</code>"
      ],
      "text/plain": [
       "<IPython.core.display.HTML object>"
      ]
     },
     "metadata": {},
     "output_type": "display_data"
    },
    {
     "data": {
      "text/html": [
       "Syncing run <strong><a href='https://wandb.ai/jacobnu/xbg_grid_diamonds/runs/v6p7yvc9' target=\"_blank\">smart-sweep-23</a></strong> to <a href='https://wandb.ai/jacobnu/xbg_grid_diamonds' target=\"_blank\">Weights & Biases</a> (<a href='https://wandb.me/run' target=\"_blank\">docs</a>)<br/>Sweep page: <a href='https://wandb.ai/jacobnu/xbg_grid_diamonds/sweeps/hcbnoalh' target=\"_blank\">https://wandb.ai/jacobnu/xbg_grid_diamonds/sweeps/hcbnoalh</a>"
      ],
      "text/plain": [
       "<IPython.core.display.HTML object>"
      ]
     },
     "metadata": {},
     "output_type": "display_data"
    },
    {
     "data": {
      "text/html": [
       " View project at <a href='https://wandb.ai/jacobnu/xbg_grid_diamonds' target=\"_blank\">https://wandb.ai/jacobnu/xbg_grid_diamonds</a>"
      ],
      "text/plain": [
       "<IPython.core.display.HTML object>"
      ]
     },
     "metadata": {},
     "output_type": "display_data"
    },
    {
     "data": {
      "text/html": [
       " View sweep at <a href='https://wandb.ai/jacobnu/xbg_grid_diamonds/sweeps/hcbnoalh' target=\"_blank\">https://wandb.ai/jacobnu/xbg_grid_diamonds/sweeps/hcbnoalh</a>"
      ],
      "text/plain": [
       "<IPython.core.display.HTML object>"
      ]
     },
     "metadata": {},
     "output_type": "display_data"
    },
    {
     "data": {
      "text/html": [
       " View run at <a href='https://wandb.ai/jacobnu/xbg_grid_diamonds/runs/v6p7yvc9' target=\"_blank\">https://wandb.ai/jacobnu/xbg_grid_diamonds/runs/v6p7yvc9</a>"
      ],
      "text/plain": [
       "<IPython.core.display.HTML object>"
      ]
     },
     "metadata": {},
     "output_type": "display_data"
    },
    {
     "name": "stdout",
     "output_type": "stream",
     "text": [
      "[0]\tTest-rmse:3428.22609\n",
      "[1]\tTest-rmse:2953.87330\n",
      "[2]\tTest-rmse:2556.19575\n",
      "[3]\tTest-rmse:2217.49984\n",
      "[4]\tTest-rmse:1930.15202\n",
      "[5]\tTest-rmse:1692.52701\n",
      "[6]\tTest-rmse:1495.36377\n",
      "[7]\tTest-rmse:1331.61265\n",
      "[8]\tTest-rmse:1192.77022\n",
      "[9]\tTest-rmse:1074.29468\n",
      "[10]\tTest-rmse:978.42046\n",
      "[11]\tTest-rmse:898.37182\n",
      "[12]\tTest-rmse:835.34623\n",
      "[13]\tTest-rmse:786.37732\n",
      "[14]\tTest-rmse:745.42899\n",
      "[15]\tTest-rmse:709.02407\n",
      "[16]\tTest-rmse:682.69158\n",
      "[17]\tTest-rmse:660.18766\n",
      "[18]\tTest-rmse:643.96640\n",
      "[19]\tTest-rmse:627.32831\n",
      "[20]\tTest-rmse:615.33212\n",
      "[21]\tTest-rmse:606.36212\n",
      "[22]\tTest-rmse:599.49708\n",
      "[23]\tTest-rmse:593.35836\n",
      "[24]\tTest-rmse:588.26794\n",
      "[25]\tTest-rmse:582.18626\n",
      "[26]\tTest-rmse:576.82163\n",
      "[27]\tTest-rmse:573.04975\n",
      "[28]\tTest-rmse:569.05851\n",
      "[29]\tTest-rmse:566.71854\n",
      "[30]\tTest-rmse:565.14927\n",
      "[31]\tTest-rmse:562.33206\n",
      "[32]\tTest-rmse:560.95276\n",
      "[33]\tTest-rmse:559.24749\n",
      "[34]\tTest-rmse:557.86604\n",
      "[35]\tTest-rmse:556.33772\n",
      "[36]\tTest-rmse:556.21948\n",
      "[37]\tTest-rmse:554.65423\n",
      "[38]\tTest-rmse:553.25234\n",
      "[39]\tTest-rmse:552.17666\n",
      "[40]\tTest-rmse:551.06651\n",
      "[41]\tTest-rmse:549.59702\n",
      "[42]\tTest-rmse:549.23631\n",
      "[43]\tTest-rmse:548.83374\n",
      "[44]\tTest-rmse:547.52400\n",
      "[45]\tTest-rmse:546.82859\n",
      "[46]\tTest-rmse:546.79840\n",
      "[47]\tTest-rmse:545.63064\n",
      "[48]\tTest-rmse:545.77839\n",
      "[49]\tTest-rmse:545.70862\n",
      "[50]\tTest-rmse:544.84504\n",
      "[51]\tTest-rmse:544.42313\n",
      "[52]\tTest-rmse:544.24428\n",
      "[53]\tTest-rmse:543.96770\n",
      "[54]\tTest-rmse:543.17253\n",
      "[55]\tTest-rmse:542.97098\n",
      "[56]\tTest-rmse:543.18699\n",
      "[57]\tTest-rmse:543.38923\n",
      "[58]\tTest-rmse:542.86416\n",
      "[59]\tTest-rmse:542.86888\n",
      "[60]\tTest-rmse:542.55006\n",
      "[61]\tTest-rmse:542.74838\n",
      "[62]\tTest-rmse:542.63327\n",
      "[63]\tTest-rmse:542.39916\n",
      "[64]\tTest-rmse:542.62212\n",
      "[65]\tTest-rmse:542.45857\n",
      "[66]\tTest-rmse:542.55283\n",
      "[67]\tTest-rmse:542.10564\n",
      "[68]\tTest-rmse:542.08912\n",
      "[69]\tTest-rmse:541.20788\n",
      "[70]\tTest-rmse:541.10485\n",
      "[71]\tTest-rmse:540.17200\n",
      "[72]\tTest-rmse:540.28853\n",
      "[73]\tTest-rmse:539.91242\n",
      "[74]\tTest-rmse:539.66261\n",
      "[75]\tTest-rmse:539.38811\n",
      "[76]\tTest-rmse:538.96109\n",
      "[77]\tTest-rmse:538.70583\n",
      "[78]\tTest-rmse:538.91638\n",
      "[79]\tTest-rmse:538.85504\n",
      "[80]\tTest-rmse:538.84508\n",
      "[81]\tTest-rmse:539.09726\n",
      "[82]\tTest-rmse:539.04690\n",
      "[83]\tTest-rmse:538.82057\n",
      "[84]\tTest-rmse:538.59078\n"
     ]
    },
    {
     "name": "stderr",
     "output_type": "stream",
     "text": [
      "[21:22:59] WARNING: /Users/runner/work/xgboost/xgboost/src/learner.cc:742: \n",
      "Parameters: { \"n_estimators\" } are not used.\n",
      "\n"
     ]
    },
    {
     "name": "stdout",
     "output_type": "stream",
     "text": [
      "[85]\tTest-rmse:538.18865\n",
      "[86]\tTest-rmse:538.41126\n",
      "[87]\tTest-rmse:538.19251\n",
      "[88]\tTest-rmse:538.21798\n",
      "[89]\tTest-rmse:538.17904\n",
      "[90]\tTest-rmse:538.60338\n",
      "[91]\tTest-rmse:538.65257\n",
      "[92]\tTest-rmse:538.60859\n",
      "[93]\tTest-rmse:538.28506\n",
      "[94]\tTest-rmse:538.05821\n",
      "[95]\tTest-rmse:537.87890\n",
      "[96]\tTest-rmse:537.96569\n",
      "[97]\tTest-rmse:538.03379\n",
      "[98]\tTest-rmse:537.90942\n",
      "[99]\tTest-rmse:537.56764\n",
      "[100]\tTest-rmse:537.70284\n",
      "[101]\tTest-rmse:537.67409\n",
      "[102]\tTest-rmse:537.87144\n",
      "[103]\tTest-rmse:538.32663\n",
      "[104]\tTest-rmse:538.49592\n",
      "[105]\tTest-rmse:538.24532\n",
      "[106]\tTest-rmse:538.12125\n",
      "[107]\tTest-rmse:538.13095\n",
      "[108]\tTest-rmse:538.05361\n"
     ]
    },
    {
     "data": {
      "text/html": [
       "<style>\n",
       "    table.wandb td:nth-child(1) { padding: 0 10px; text-align: left ; width: auto;} td:nth-child(2) {text-align: left ; width: 100%}\n",
       "    .wandb-row { display: flex; flex-direction: row; flex-wrap: wrap; justify-content: flex-start; width: 100% }\n",
       "    .wandb-col { display: flex; flex-direction: column; flex-basis: 100%; flex: 1; padding: 10px; }\n",
       "    </style>\n",
       "<div class=\"wandb-row\"><div class=\"wandb-col\"><h3>Run history:</h3><br/><table class=\"wandb\"><tr><td>rmse</td><td>▁</td></tr></table><br/></div><div class=\"wandb-col\"><h3>Run summary:</h3><br/><table class=\"wandb\"><tr><td>rmse</td><td>537.56764</td></tr></table><br/></div></div>"
      ],
      "text/plain": [
       "<IPython.core.display.HTML object>"
      ]
     },
     "metadata": {},
     "output_type": "display_data"
    },
    {
     "data": {
      "text/html": [
       " View run <strong style=\"color:#cdcd00\">smart-sweep-23</strong> at: <a href='https://wandb.ai/jacobnu/xbg_grid_diamonds/runs/v6p7yvc9' target=\"_blank\">https://wandb.ai/jacobnu/xbg_grid_diamonds/runs/v6p7yvc9</a><br/> View project at: <a href='https://wandb.ai/jacobnu/xbg_grid_diamonds' target=\"_blank\">https://wandb.ai/jacobnu/xbg_grid_diamonds</a><br/>Synced 5 W&B file(s), 0 media file(s), 0 artifact file(s) and 0 other file(s)"
      ],
      "text/plain": [
       "<IPython.core.display.HTML object>"
      ]
     },
     "metadata": {},
     "output_type": "display_data"
    },
    {
     "data": {
      "text/html": [
       "Find logs at: <code>./wandb/run-20240421_212258-v6p7yvc9/logs</code>"
      ],
      "text/plain": [
       "<IPython.core.display.HTML object>"
      ]
     },
     "metadata": {},
     "output_type": "display_data"
    },
    {
     "name": "stderr",
     "output_type": "stream",
     "text": [
      "\u001b[34m\u001b[1mwandb\u001b[0m: Agent Starting Run: w56zutze with config:\n",
      "\u001b[34m\u001b[1mwandb\u001b[0m: \tlearning_rate: 0.15\n",
      "\u001b[34m\u001b[1mwandb\u001b[0m: \tmax_depth: 5\n",
      "\u001b[34m\u001b[1mwandb\u001b[0m: \tn_estimators: 200\n",
      "\u001b[34m\u001b[1mwandb\u001b[0m: \tsubsample: 0.9\n",
      "\u001b[34m\u001b[1mwandb\u001b[0m: \u001b[33mWARNING\u001b[0m Ignored wandb.init() arg project when running a sweep.\n",
      "\u001b[34m\u001b[1mwandb\u001b[0m: \u001b[33mWARNING\u001b[0m Ignored wandb.init() arg entity when running a sweep.\n"
     ]
    },
    {
     "data": {
      "text/html": [
       "Tracking run with wandb version 0.16.6"
      ],
      "text/plain": [
       "<IPython.core.display.HTML object>"
      ]
     },
     "metadata": {},
     "output_type": "display_data"
    },
    {
     "data": {
      "text/html": [
       "Run data is saved locally in <code>/Users/jacob/Code/2024SP-MSAI-Practicum/wandb/run-20240421_212308-w56zutze</code>"
      ],
      "text/plain": [
       "<IPython.core.display.HTML object>"
      ]
     },
     "metadata": {},
     "output_type": "display_data"
    },
    {
     "data": {
      "text/html": [
       "Syncing run <strong><a href='https://wandb.ai/jacobnu/xbg_grid_diamonds/runs/w56zutze' target=\"_blank\">brisk-sweep-24</a></strong> to <a href='https://wandb.ai/jacobnu/xbg_grid_diamonds' target=\"_blank\">Weights & Biases</a> (<a href='https://wandb.me/run' target=\"_blank\">docs</a>)<br/>Sweep page: <a href='https://wandb.ai/jacobnu/xbg_grid_diamonds/sweeps/hcbnoalh' target=\"_blank\">https://wandb.ai/jacobnu/xbg_grid_diamonds/sweeps/hcbnoalh</a>"
      ],
      "text/plain": [
       "<IPython.core.display.HTML object>"
      ]
     },
     "metadata": {},
     "output_type": "display_data"
    },
    {
     "data": {
      "text/html": [
       " View project at <a href='https://wandb.ai/jacobnu/xbg_grid_diamonds' target=\"_blank\">https://wandb.ai/jacobnu/xbg_grid_diamonds</a>"
      ],
      "text/plain": [
       "<IPython.core.display.HTML object>"
      ]
     },
     "metadata": {},
     "output_type": "display_data"
    },
    {
     "data": {
      "text/html": [
       " View sweep at <a href='https://wandb.ai/jacobnu/xbg_grid_diamonds/sweeps/hcbnoalh' target=\"_blank\">https://wandb.ai/jacobnu/xbg_grid_diamonds/sweeps/hcbnoalh</a>"
      ],
      "text/plain": [
       "<IPython.core.display.HTML object>"
      ]
     },
     "metadata": {},
     "output_type": "display_data"
    },
    {
     "data": {
      "text/html": [
       " View run at <a href='https://wandb.ai/jacobnu/xbg_grid_diamonds/runs/w56zutze' target=\"_blank\">https://wandb.ai/jacobnu/xbg_grid_diamonds/runs/w56zutze</a>"
      ],
      "text/plain": [
       "<IPython.core.display.HTML object>"
      ]
     },
     "metadata": {},
     "output_type": "display_data"
    },
    {
     "name": "stdout",
     "output_type": "stream",
     "text": [
      "[0]\tTest-rmse:3428.79611\n",
      "[1]\tTest-rmse:2954.82928\n",
      "[2]\tTest-rmse:2554.62001\n",
      "[3]\tTest-rmse:2218.39172\n",
      "[4]\tTest-rmse:1933.22113\n",
      "[5]\tTest-rmse:1695.11921\n",
      "[6]\tTest-rmse:1496.37379\n",
      "[7]\tTest-rmse:1328.99114\n",
      "[8]\tTest-rmse:1189.32002\n",
      "[9]\tTest-rmse:1074.09356\n",
      "[10]\tTest-rmse:979.91066\n",
      "[11]\tTest-rmse:900.31169\n",
      "[12]\tTest-rmse:839.30360\n",
      "[13]\tTest-rmse:786.51494\n",
      "[14]\tTest-rmse:743.36863\n",
      "[15]\tTest-rmse:709.54800\n",
      "[16]\tTest-rmse:682.66580\n",
      "[17]\tTest-rmse:660.61779\n",
      "[18]\tTest-rmse:642.45814\n",
      "[19]\tTest-rmse:628.67590\n",
      "[20]\tTest-rmse:615.33099\n",
      "[21]\tTest-rmse:604.72746\n",
      "[22]\tTest-rmse:596.38333\n",
      "[23]\tTest-rmse:590.65931\n",
      "[24]\tTest-rmse:584.17877\n",
      "[25]\tTest-rmse:579.86717\n",
      "[26]\tTest-rmse:576.65447\n",
      "[27]\tTest-rmse:571.95881\n",
      "[28]\tTest-rmse:568.07679\n",
      "[29]\tTest-rmse:565.31255\n",
      "[30]\tTest-rmse:563.19636\n",
      "[31]\tTest-rmse:560.42816\n",
      "[32]\tTest-rmse:558.89717\n",
      "[33]\tTest-rmse:557.20609\n",
      "[34]\tTest-rmse:555.88985\n",
      "[35]\tTest-rmse:554.97846\n",
      "[36]\tTest-rmse:554.65414\n",
      "[37]\tTest-rmse:553.66882\n",
      "[38]\tTest-rmse:553.00604\n",
      "[39]\tTest-rmse:552.31280\n",
      "[40]\tTest-rmse:551.02514\n",
      "[41]\tTest-rmse:549.95453\n",
      "[42]\tTest-rmse:549.31160\n",
      "[43]\tTest-rmse:548.62951\n",
      "[44]\tTest-rmse:548.24178\n",
      "[45]\tTest-rmse:547.54547\n",
      "[46]\tTest-rmse:546.44078\n",
      "[47]\tTest-rmse:546.10112\n",
      "[48]\tTest-rmse:545.91192\n",
      "[49]\tTest-rmse:545.66562\n",
      "[50]\tTest-rmse:544.93019\n",
      "[51]\tTest-rmse:544.47638\n",
      "[52]\tTest-rmse:544.20789\n",
      "[53]\tTest-rmse:543.69540\n",
      "[54]\tTest-rmse:543.57387\n",
      "[55]\tTest-rmse:543.21712\n",
      "[56]\tTest-rmse:543.07152\n",
      "[57]\tTest-rmse:542.56147\n",
      "[58]\tTest-rmse:542.14862\n",
      "[59]\tTest-rmse:541.54085\n",
      "[60]\tTest-rmse:541.53916\n",
      "[61]\tTest-rmse:541.40324\n",
      "[62]\tTest-rmse:541.03351\n",
      "[63]\tTest-rmse:540.61913\n",
      "[64]\tTest-rmse:539.87094\n",
      "[65]\tTest-rmse:539.64292\n",
      "[66]\tTest-rmse:539.13007\n",
      "[67]\tTest-rmse:539.14393\n",
      "[68]\tTest-rmse:539.68029\n",
      "[69]\tTest-rmse:538.97537\n",
      "[70]\tTest-rmse:538.63906\n",
      "[71]\tTest-rmse:538.43621\n",
      "[72]\tTest-rmse:538.33328\n",
      "[73]\tTest-rmse:538.08509\n",
      "[74]\tTest-rmse:537.74122\n",
      "[75]\tTest-rmse:537.41589\n",
      "[76]\tTest-rmse:537.07541\n",
      "[77]\tTest-rmse:537.05760\n",
      "[78]\tTest-rmse:537.19701\n",
      "[79]\tTest-rmse:537.46758\n",
      "[80]\tTest-rmse:536.93388\n",
      "[81]\tTest-rmse:536.32294\n",
      "[82]\tTest-rmse:536.65342\n",
      "[83]\tTest-rmse:536.42315\n",
      "[84]\tTest-rmse:536.35677\n"
     ]
    },
    {
     "name": "stderr",
     "output_type": "stream",
     "text": [
      "[21:23:08] WARNING: /Users/runner/work/xgboost/xgboost/src/learner.cc:742: \n",
      "Parameters: { \"n_estimators\" } are not used.\n",
      "\n"
     ]
    },
    {
     "name": "stdout",
     "output_type": "stream",
     "text": [
      "[85]\tTest-rmse:536.12065\n",
      "[86]\tTest-rmse:536.27086\n",
      "[87]\tTest-rmse:536.20295\n",
      "[88]\tTest-rmse:536.41688\n",
      "[89]\tTest-rmse:536.24198\n",
      "[90]\tTest-rmse:536.11404\n",
      "[91]\tTest-rmse:535.79065\n",
      "[92]\tTest-rmse:535.83063\n",
      "[93]\tTest-rmse:535.67763\n",
      "[94]\tTest-rmse:535.64332\n",
      "[95]\tTest-rmse:535.76633\n",
      "[96]\tTest-rmse:535.71756\n",
      "[97]\tTest-rmse:535.82537\n",
      "[98]\tTest-rmse:535.82402\n",
      "[99]\tTest-rmse:535.56275\n",
      "[100]\tTest-rmse:535.49744\n",
      "[101]\tTest-rmse:535.42397\n",
      "[102]\tTest-rmse:535.85021\n",
      "[103]\tTest-rmse:535.91333\n",
      "[104]\tTest-rmse:536.03942\n",
      "[105]\tTest-rmse:536.22777\n",
      "[106]\tTest-rmse:535.76804\n",
      "[107]\tTest-rmse:535.66868\n",
      "[108]\tTest-rmse:535.45955\n",
      "[109]\tTest-rmse:535.67421\n",
      "[110]\tTest-rmse:535.63278\n",
      "[111]\tTest-rmse:535.53552\n"
     ]
    },
    {
     "data": {
      "text/html": [
       "<style>\n",
       "    table.wandb td:nth-child(1) { padding: 0 10px; text-align: left ; width: auto;} td:nth-child(2) {text-align: left ; width: 100%}\n",
       "    .wandb-row { display: flex; flex-direction: row; flex-wrap: wrap; justify-content: flex-start; width: 100% }\n",
       "    .wandb-col { display: flex; flex-direction: column; flex-basis: 100%; flex: 1; padding: 10px; }\n",
       "    </style>\n",
       "<div class=\"wandb-row\"><div class=\"wandb-col\"><h3>Run history:</h3><br/><table class=\"wandb\"><tr><td>rmse</td><td>▁</td></tr></table><br/></div><div class=\"wandb-col\"><h3>Run summary:</h3><br/><table class=\"wandb\"><tr><td>rmse</td><td>535.42397</td></tr></table><br/></div></div>"
      ],
      "text/plain": [
       "<IPython.core.display.HTML object>"
      ]
     },
     "metadata": {},
     "output_type": "display_data"
    },
    {
     "data": {
      "text/html": [
       " View run <strong style=\"color:#cdcd00\">brisk-sweep-24</strong> at: <a href='https://wandb.ai/jacobnu/xbg_grid_diamonds/runs/w56zutze' target=\"_blank\">https://wandb.ai/jacobnu/xbg_grid_diamonds/runs/w56zutze</a><br/> View project at: <a href='https://wandb.ai/jacobnu/xbg_grid_diamonds' target=\"_blank\">https://wandb.ai/jacobnu/xbg_grid_diamonds</a><br/>Synced 5 W&B file(s), 0 media file(s), 0 artifact file(s) and 0 other file(s)"
      ],
      "text/plain": [
       "<IPython.core.display.HTML object>"
      ]
     },
     "metadata": {},
     "output_type": "display_data"
    },
    {
     "data": {
      "text/html": [
       "Find logs at: <code>./wandb/run-20240421_212308-w56zutze/logs</code>"
      ],
      "text/plain": [
       "<IPython.core.display.HTML object>"
      ]
     },
     "metadata": {},
     "output_type": "display_data"
    },
    {
     "name": "stderr",
     "output_type": "stream",
     "text": [
      "\u001b[34m\u001b[1mwandb\u001b[0m: Sweep Agent: Waiting for job.\n",
      "\u001b[34m\u001b[1mwandb\u001b[0m: Job received.\n",
      "\u001b[34m\u001b[1mwandb\u001b[0m: Agent Starting Run: j8xkn9vw with config:\n",
      "\u001b[34m\u001b[1mwandb\u001b[0m: \tlearning_rate: 0.15\n",
      "\u001b[34m\u001b[1mwandb\u001b[0m: \tmax_depth: 7\n",
      "\u001b[34m\u001b[1mwandb\u001b[0m: \tn_estimators: 100\n",
      "\u001b[34m\u001b[1mwandb\u001b[0m: \tsubsample: 0.7\n",
      "\u001b[34m\u001b[1mwandb\u001b[0m: \u001b[33mWARNING\u001b[0m Ignored wandb.init() arg project when running a sweep.\n",
      "\u001b[34m\u001b[1mwandb\u001b[0m: \u001b[33mWARNING\u001b[0m Ignored wandb.init() arg entity when running a sweep.\n"
     ]
    },
    {
     "data": {
      "text/html": [
       "Tracking run with wandb version 0.16.6"
      ],
      "text/plain": [
       "<IPython.core.display.HTML object>"
      ]
     },
     "metadata": {},
     "output_type": "display_data"
    },
    {
     "data": {
      "text/html": [
       "Run data is saved locally in <code>/Users/jacob/Code/2024SP-MSAI-Practicum/wandb/run-20240421_212326-j8xkn9vw</code>"
      ],
      "text/plain": [
       "<IPython.core.display.HTML object>"
      ]
     },
     "metadata": {},
     "output_type": "display_data"
    },
    {
     "data": {
      "text/html": [
       "Syncing run <strong><a href='https://wandb.ai/jacobnu/xbg_grid_diamonds/runs/j8xkn9vw' target=\"_blank\">dry-sweep-25</a></strong> to <a href='https://wandb.ai/jacobnu/xbg_grid_diamonds' target=\"_blank\">Weights & Biases</a> (<a href='https://wandb.me/run' target=\"_blank\">docs</a>)<br/>Sweep page: <a href='https://wandb.ai/jacobnu/xbg_grid_diamonds/sweeps/hcbnoalh' target=\"_blank\">https://wandb.ai/jacobnu/xbg_grid_diamonds/sweeps/hcbnoalh</a>"
      ],
      "text/plain": [
       "<IPython.core.display.HTML object>"
      ]
     },
     "metadata": {},
     "output_type": "display_data"
    },
    {
     "data": {
      "text/html": [
       " View project at <a href='https://wandb.ai/jacobnu/xbg_grid_diamonds' target=\"_blank\">https://wandb.ai/jacobnu/xbg_grid_diamonds</a>"
      ],
      "text/plain": [
       "<IPython.core.display.HTML object>"
      ]
     },
     "metadata": {},
     "output_type": "display_data"
    },
    {
     "data": {
      "text/html": [
       " View sweep at <a href='https://wandb.ai/jacobnu/xbg_grid_diamonds/sweeps/hcbnoalh' target=\"_blank\">https://wandb.ai/jacobnu/xbg_grid_diamonds/sweeps/hcbnoalh</a>"
      ],
      "text/plain": [
       "<IPython.core.display.HTML object>"
      ]
     },
     "metadata": {},
     "output_type": "display_data"
    },
    {
     "data": {
      "text/html": [
       " View run at <a href='https://wandb.ai/jacobnu/xbg_grid_diamonds/runs/j8xkn9vw' target=\"_blank\">https://wandb.ai/jacobnu/xbg_grid_diamonds/runs/j8xkn9vw</a>"
      ],
      "text/plain": [
       "<IPython.core.display.HTML object>"
      ]
     },
     "metadata": {},
     "output_type": "display_data"
    },
    {
     "name": "stdout",
     "output_type": "stream",
     "text": [
      "[0]\tTest-rmse:3412.02742\n",
      "[1]\tTest-rmse:2925.97072\n",
      "[2]\tTest-rmse:2518.12812\n",
      "[3]\tTest-rmse:2170.64902\n",
      "[4]\tTest-rmse:1877.11450\n",
      "[5]\tTest-rmse:1635.02272\n",
      "[6]\tTest-rmse:1428.50405\n",
      "[7]\tTest-rmse:1256.48527\n",
      "[8]\tTest-rmse:1114.22354\n",
      "[9]\tTest-rmse:995.57532\n",
      "[10]\tTest-rmse:900.03241\n",
      "[11]\tTest-rmse:820.67549\n",
      "[12]\tTest-rmse:758.12758\n",
      "[13]\tTest-rmse:708.33557\n",
      "[14]\tTest-rmse:669.92337\n",
      "[15]\tTest-rmse:639.46007\n",
      "[16]\tTest-rmse:615.89883\n",
      "[17]\tTest-rmse:597.97117\n",
      "[18]\tTest-rmse:584.15246\n",
      "[19]\tTest-rmse:572.70956\n",
      "[20]\tTest-rmse:563.45423\n",
      "[21]\tTest-rmse:557.48853\n",
      "[22]\tTest-rmse:552.41089\n",
      "[23]\tTest-rmse:549.02607\n",
      "[24]\tTest-rmse:546.10220\n",
      "[25]\tTest-rmse:543.51699\n",
      "[26]\tTest-rmse:541.63051\n",
      "[27]\tTest-rmse:540.07707\n",
      "[28]\tTest-rmse:538.98131\n",
      "[29]\tTest-rmse:538.26566\n",
      "[30]\tTest-rmse:538.03900\n",
      "[31]\tTest-rmse:536.72371\n",
      "[32]\tTest-rmse:535.70679\n",
      "[33]\tTest-rmse:535.30925\n",
      "[34]\tTest-rmse:535.43598\n",
      "[35]\tTest-rmse:534.75927\n",
      "[36]\tTest-rmse:535.25665\n",
      "[37]\tTest-rmse:534.75447\n",
      "[38]\tTest-rmse:534.53602\n",
      "[39]\tTest-rmse:534.54558\n",
      "[40]\tTest-rmse:533.89824\n",
      "[41]\tTest-rmse:533.39014\n",
      "[42]\tTest-rmse:533.25820\n",
      "[43]\tTest-rmse:533.46598\n",
      "[44]\tTest-rmse:533.32876\n",
      "[45]\tTest-rmse:533.11187\n",
      "[46]\tTest-rmse:532.86322\n",
      "[47]\tTest-rmse:532.80487\n",
      "[48]\tTest-rmse:533.36541\n",
      "[49]\tTest-rmse:532.84674\n",
      "[50]\tTest-rmse:532.71995\n",
      "[51]\tTest-rmse:532.84771\n",
      "[52]\tTest-rmse:532.49666\n",
      "[53]\tTest-rmse:532.39834\n",
      "[54]\tTest-rmse:533.52283\n",
      "[55]\tTest-rmse:533.82763\n",
      "[56]\tTest-rmse:533.66993\n",
      "[57]\tTest-rmse:533.68480\n",
      "[58]\tTest-rmse:533.98648\n",
      "[59]\tTest-rmse:534.26792\n",
      "[60]\tTest-rmse:534.65389\n",
      "[61]\tTest-rmse:534.44611\n",
      "[62]\tTest-rmse:534.31242\n"
     ]
    },
    {
     "name": "stderr",
     "output_type": "stream",
     "text": [
      "[21:23:27] WARNING: /Users/runner/work/xgboost/xgboost/src/learner.cc:742: \n",
      "Parameters: { \"n_estimators\" } are not used.\n",
      "\n"
     ]
    },
    {
     "data": {
      "text/html": [
       "<style>\n",
       "    table.wandb td:nth-child(1) { padding: 0 10px; text-align: left ; width: auto;} td:nth-child(2) {text-align: left ; width: 100%}\n",
       "    .wandb-row { display: flex; flex-direction: row; flex-wrap: wrap; justify-content: flex-start; width: 100% }\n",
       "    .wandb-col { display: flex; flex-direction: column; flex-basis: 100%; flex: 1; padding: 10px; }\n",
       "    </style>\n",
       "<div class=\"wandb-row\"><div class=\"wandb-col\"><h3>Run history:</h3><br/><table class=\"wandb\"><tr><td>rmse</td><td>▁</td></tr></table><br/></div><div class=\"wandb-col\"><h3>Run summary:</h3><br/><table class=\"wandb\"><tr><td>rmse</td><td>532.39834</td></tr></table><br/></div></div>"
      ],
      "text/plain": [
       "<IPython.core.display.HTML object>"
      ]
     },
     "metadata": {},
     "output_type": "display_data"
    },
    {
     "data": {
      "text/html": [
       " View run <strong style=\"color:#cdcd00\">dry-sweep-25</strong> at: <a href='https://wandb.ai/jacobnu/xbg_grid_diamonds/runs/j8xkn9vw' target=\"_blank\">https://wandb.ai/jacobnu/xbg_grid_diamonds/runs/j8xkn9vw</a><br/> View project at: <a href='https://wandb.ai/jacobnu/xbg_grid_diamonds' target=\"_blank\">https://wandb.ai/jacobnu/xbg_grid_diamonds</a><br/>Synced 5 W&B file(s), 0 media file(s), 0 artifact file(s) and 0 other file(s)"
      ],
      "text/plain": [
       "<IPython.core.display.HTML object>"
      ]
     },
     "metadata": {},
     "output_type": "display_data"
    },
    {
     "data": {
      "text/html": [
       "Find logs at: <code>./wandb/run-20240421_212326-j8xkn9vw/logs</code>"
      ],
      "text/plain": [
       "<IPython.core.display.HTML object>"
      ]
     },
     "metadata": {},
     "output_type": "display_data"
    },
    {
     "name": "stderr",
     "output_type": "stream",
     "text": [
      "\u001b[34m\u001b[1mwandb\u001b[0m: Agent Starting Run: cp4nt5cw with config:\n",
      "\u001b[34m\u001b[1mwandb\u001b[0m: \tlearning_rate: 0.15\n",
      "\u001b[34m\u001b[1mwandb\u001b[0m: \tmax_depth: 7\n",
      "\u001b[34m\u001b[1mwandb\u001b[0m: \tn_estimators: 100\n",
      "\u001b[34m\u001b[1mwandb\u001b[0m: \tsubsample: 0.8\n",
      "\u001b[34m\u001b[1mwandb\u001b[0m: \u001b[33mWARNING\u001b[0m Ignored wandb.init() arg project when running a sweep.\n",
      "\u001b[34m\u001b[1mwandb\u001b[0m: \u001b[33mWARNING\u001b[0m Ignored wandb.init() arg entity when running a sweep.\n"
     ]
    },
    {
     "data": {
      "text/html": [
       "Tracking run with wandb version 0.16.6"
      ],
      "text/plain": [
       "<IPython.core.display.HTML object>"
      ]
     },
     "metadata": {},
     "output_type": "display_data"
    },
    {
     "data": {
      "text/html": [
       "Run data is saved locally in <code>/Users/jacob/Code/2024SP-MSAI-Practicum/wandb/run-20240421_212337-cp4nt5cw</code>"
      ],
      "text/plain": [
       "<IPython.core.display.HTML object>"
      ]
     },
     "metadata": {},
     "output_type": "display_data"
    },
    {
     "data": {
      "text/html": [
       "Syncing run <strong><a href='https://wandb.ai/jacobnu/xbg_grid_diamonds/runs/cp4nt5cw' target=\"_blank\">vital-sweep-26</a></strong> to <a href='https://wandb.ai/jacobnu/xbg_grid_diamonds' target=\"_blank\">Weights & Biases</a> (<a href='https://wandb.me/run' target=\"_blank\">docs</a>)<br/>Sweep page: <a href='https://wandb.ai/jacobnu/xbg_grid_diamonds/sweeps/hcbnoalh' target=\"_blank\">https://wandb.ai/jacobnu/xbg_grid_diamonds/sweeps/hcbnoalh</a>"
      ],
      "text/plain": [
       "<IPython.core.display.HTML object>"
      ]
     },
     "metadata": {},
     "output_type": "display_data"
    },
    {
     "data": {
      "text/html": [
       " View project at <a href='https://wandb.ai/jacobnu/xbg_grid_diamonds' target=\"_blank\">https://wandb.ai/jacobnu/xbg_grid_diamonds</a>"
      ],
      "text/plain": [
       "<IPython.core.display.HTML object>"
      ]
     },
     "metadata": {},
     "output_type": "display_data"
    },
    {
     "data": {
      "text/html": [
       " View sweep at <a href='https://wandb.ai/jacobnu/xbg_grid_diamonds/sweeps/hcbnoalh' target=\"_blank\">https://wandb.ai/jacobnu/xbg_grid_diamonds/sweeps/hcbnoalh</a>"
      ],
      "text/plain": [
       "<IPython.core.display.HTML object>"
      ]
     },
     "metadata": {},
     "output_type": "display_data"
    },
    {
     "data": {
      "text/html": [
       " View run at <a href='https://wandb.ai/jacobnu/xbg_grid_diamonds/runs/cp4nt5cw' target=\"_blank\">https://wandb.ai/jacobnu/xbg_grid_diamonds/runs/cp4nt5cw</a>"
      ],
      "text/plain": [
       "<IPython.core.display.HTML object>"
      ]
     },
     "metadata": {},
     "output_type": "display_data"
    },
    {
     "name": "stdout",
     "output_type": "stream",
     "text": [
      "[0]\tTest-rmse:3413.95078\n",
      "[1]\tTest-rmse:2927.30126\n",
      "[2]\tTest-rmse:2518.75771\n",
      "[3]\tTest-rmse:2171.54286\n",
      "[4]\tTest-rmse:1877.86803\n",
      "[5]\tTest-rmse:1631.44642\n",
      "[6]\tTest-rmse:1426.10871\n",
      "[7]\tTest-rmse:1255.23560\n",
      "[8]\tTest-rmse:1111.80607\n",
      "[9]\tTest-rmse:995.57215\n",
      "[10]\tTest-rmse:899.34529\n",
      "[11]\tTest-rmse:821.41200\n",
      "[12]\tTest-rmse:759.14976\n",
      "[13]\tTest-rmse:709.89244\n",
      "[14]\tTest-rmse:670.28115\n",
      "[15]\tTest-rmse:639.25917\n",
      "[16]\tTest-rmse:615.95671\n",
      "[17]\tTest-rmse:597.69916\n",
      "[18]\tTest-rmse:584.04104\n",
      "[19]\tTest-rmse:572.48724\n",
      "[20]\tTest-rmse:564.97774\n",
      "[21]\tTest-rmse:558.47411\n",
      "[22]\tTest-rmse:553.22458\n",
      "[23]\tTest-rmse:550.00816\n",
      "[24]\tTest-rmse:546.43253\n",
      "[25]\tTest-rmse:543.80521\n",
      "[26]\tTest-rmse:541.91780\n",
      "[27]\tTest-rmse:539.91698\n",
      "[28]\tTest-rmse:538.40239\n",
      "[29]\tTest-rmse:537.03730\n",
      "[30]\tTest-rmse:536.33631\n",
      "[31]\tTest-rmse:535.66399\n",
      "[32]\tTest-rmse:534.89770\n",
      "[33]\tTest-rmse:534.14634\n",
      "[34]\tTest-rmse:533.95428\n",
      "[35]\tTest-rmse:533.42366\n",
      "[36]\tTest-rmse:534.08868\n",
      "[37]\tTest-rmse:533.93108\n",
      "[38]\tTest-rmse:532.80654\n",
      "[39]\tTest-rmse:532.57612\n",
      "[40]\tTest-rmse:533.16557\n",
      "[41]\tTest-rmse:533.53520\n",
      "[42]\tTest-rmse:533.83840\n",
      "[43]\tTest-rmse:533.24345\n",
      "[44]\tTest-rmse:533.47873\n",
      "[45]\tTest-rmse:533.87616\n",
      "[46]\tTest-rmse:534.27688\n",
      "[47]\tTest-rmse:533.81447\n",
      "[48]\tTest-rmse:533.92827\n"
     ]
    },
    {
     "name": "stderr",
     "output_type": "stream",
     "text": [
      "[21:23:38] WARNING: /Users/runner/work/xgboost/xgboost/src/learner.cc:742: \n",
      "Parameters: { \"n_estimators\" } are not used.\n",
      "\n"
     ]
    },
    {
     "data": {
      "text/html": [
       "<style>\n",
       "    table.wandb td:nth-child(1) { padding: 0 10px; text-align: left ; width: auto;} td:nth-child(2) {text-align: left ; width: 100%}\n",
       "    .wandb-row { display: flex; flex-direction: row; flex-wrap: wrap; justify-content: flex-start; width: 100% }\n",
       "    .wandb-col { display: flex; flex-direction: column; flex-basis: 100%; flex: 1; padding: 10px; }\n",
       "    </style>\n",
       "<div class=\"wandb-row\"><div class=\"wandb-col\"><h3>Run history:</h3><br/><table class=\"wandb\"><tr><td>rmse</td><td>▁</td></tr></table><br/></div><div class=\"wandb-col\"><h3>Run summary:</h3><br/><table class=\"wandb\"><tr><td>rmse</td><td>532.57612</td></tr></table><br/></div></div>"
      ],
      "text/plain": [
       "<IPython.core.display.HTML object>"
      ]
     },
     "metadata": {},
     "output_type": "display_data"
    },
    {
     "data": {
      "text/html": [
       " View run <strong style=\"color:#cdcd00\">vital-sweep-26</strong> at: <a href='https://wandb.ai/jacobnu/xbg_grid_diamonds/runs/cp4nt5cw' target=\"_blank\">https://wandb.ai/jacobnu/xbg_grid_diamonds/runs/cp4nt5cw</a><br/> View project at: <a href='https://wandb.ai/jacobnu/xbg_grid_diamonds' target=\"_blank\">https://wandb.ai/jacobnu/xbg_grid_diamonds</a><br/>Synced 5 W&B file(s), 0 media file(s), 0 artifact file(s) and 0 other file(s)"
      ],
      "text/plain": [
       "<IPython.core.display.HTML object>"
      ]
     },
     "metadata": {},
     "output_type": "display_data"
    },
    {
     "data": {
      "text/html": [
       "Find logs at: <code>./wandb/run-20240421_212337-cp4nt5cw/logs</code>"
      ],
      "text/plain": [
       "<IPython.core.display.HTML object>"
      ]
     },
     "metadata": {},
     "output_type": "display_data"
    },
    {
     "name": "stderr",
     "output_type": "stream",
     "text": [
      "\u001b[34m\u001b[1mwandb\u001b[0m: Agent Starting Run: 8q2pyg9b with config:\n",
      "\u001b[34m\u001b[1mwandb\u001b[0m: \tlearning_rate: 0.15\n",
      "\u001b[34m\u001b[1mwandb\u001b[0m: \tmax_depth: 7\n",
      "\u001b[34m\u001b[1mwandb\u001b[0m: \tn_estimators: 100\n",
      "\u001b[34m\u001b[1mwandb\u001b[0m: \tsubsample: 0.9\n",
      "\u001b[34m\u001b[1mwandb\u001b[0m: \u001b[33mWARNING\u001b[0m Ignored wandb.init() arg project when running a sweep.\n",
      "\u001b[34m\u001b[1mwandb\u001b[0m: \u001b[33mWARNING\u001b[0m Ignored wandb.init() arg entity when running a sweep.\n"
     ]
    },
    {
     "data": {
      "text/html": [
       "Tracking run with wandb version 0.16.6"
      ],
      "text/plain": [
       "<IPython.core.display.HTML object>"
      ]
     },
     "metadata": {},
     "output_type": "display_data"
    },
    {
     "data": {
      "text/html": [
       "Run data is saved locally in <code>/Users/jacob/Code/2024SP-MSAI-Practicum/wandb/run-20240421_212348-8q2pyg9b</code>"
      ],
      "text/plain": [
       "<IPython.core.display.HTML object>"
      ]
     },
     "metadata": {},
     "output_type": "display_data"
    },
    {
     "data": {
      "text/html": [
       "Syncing run <strong><a href='https://wandb.ai/jacobnu/xbg_grid_diamonds/runs/8q2pyg9b' target=\"_blank\">grateful-sweep-27</a></strong> to <a href='https://wandb.ai/jacobnu/xbg_grid_diamonds' target=\"_blank\">Weights & Biases</a> (<a href='https://wandb.me/run' target=\"_blank\">docs</a>)<br/>Sweep page: <a href='https://wandb.ai/jacobnu/xbg_grid_diamonds/sweeps/hcbnoalh' target=\"_blank\">https://wandb.ai/jacobnu/xbg_grid_diamonds/sweeps/hcbnoalh</a>"
      ],
      "text/plain": [
       "<IPython.core.display.HTML object>"
      ]
     },
     "metadata": {},
     "output_type": "display_data"
    },
    {
     "data": {
      "text/html": [
       " View project at <a href='https://wandb.ai/jacobnu/xbg_grid_diamonds' target=\"_blank\">https://wandb.ai/jacobnu/xbg_grid_diamonds</a>"
      ],
      "text/plain": [
       "<IPython.core.display.HTML object>"
      ]
     },
     "metadata": {},
     "output_type": "display_data"
    },
    {
     "data": {
      "text/html": [
       " View sweep at <a href='https://wandb.ai/jacobnu/xbg_grid_diamonds/sweeps/hcbnoalh' target=\"_blank\">https://wandb.ai/jacobnu/xbg_grid_diamonds/sweeps/hcbnoalh</a>"
      ],
      "text/plain": [
       "<IPython.core.display.HTML object>"
      ]
     },
     "metadata": {},
     "output_type": "display_data"
    },
    {
     "data": {
      "text/html": [
       " View run at <a href='https://wandb.ai/jacobnu/xbg_grid_diamonds/runs/8q2pyg9b' target=\"_blank\">https://wandb.ai/jacobnu/xbg_grid_diamonds/runs/8q2pyg9b</a>"
      ],
      "text/plain": [
       "<IPython.core.display.HTML object>"
      ]
     },
     "metadata": {},
     "output_type": "display_data"
    },
    {
     "name": "stdout",
     "output_type": "stream",
     "text": [
      "[0]\tTest-rmse:3413.50186\n",
      "[1]\tTest-rmse:2927.45302\n",
      "[2]\tTest-rmse:2518.51685\n",
      "[3]\tTest-rmse:2169.43751\n",
      "[4]\tTest-rmse:1876.54075\n",
      "[5]\tTest-rmse:1631.08061\n",
      "[6]\tTest-rmse:1426.18122\n",
      "[7]\tTest-rmse:1255.42884\n",
      "[8]\tTest-rmse:1110.98028\n",
      "[9]\tTest-rmse:994.16787\n",
      "[10]\tTest-rmse:898.20337\n",
      "[11]\tTest-rmse:819.24370\n",
      "[12]\tTest-rmse:756.71675\n",
      "[13]\tTest-rmse:707.55055\n",
      "[14]\tTest-rmse:668.62568\n",
      "[15]\tTest-rmse:638.15049\n",
      "[16]\tTest-rmse:615.75911\n",
      "[17]\tTest-rmse:598.23896\n",
      "[18]\tTest-rmse:584.90731\n",
      "[19]\tTest-rmse:573.68940\n",
      "[20]\tTest-rmse:564.80382\n",
      "[21]\tTest-rmse:559.04563\n",
      "[22]\tTest-rmse:553.84721\n",
      "[23]\tTest-rmse:550.49141\n",
      "[24]\tTest-rmse:546.77716\n",
      "[25]\tTest-rmse:544.30166\n",
      "[26]\tTest-rmse:541.67311\n",
      "[27]\tTest-rmse:540.00492\n",
      "[28]\tTest-rmse:538.38135\n",
      "[29]\tTest-rmse:537.02734\n",
      "[30]\tTest-rmse:535.55565\n",
      "[31]\tTest-rmse:535.06588\n",
      "[32]\tTest-rmse:534.67063\n",
      "[33]\tTest-rmse:534.14407\n",
      "[34]\tTest-rmse:533.19521\n",
      "[35]\tTest-rmse:533.74594\n",
      "[36]\tTest-rmse:534.04390\n",
      "[37]\tTest-rmse:534.01399\n",
      "[38]\tTest-rmse:534.41293\n",
      "[39]\tTest-rmse:534.89969\n",
      "[40]\tTest-rmse:535.88964\n",
      "[41]\tTest-rmse:535.53089\n",
      "[42]\tTest-rmse:535.29848\n",
      "[43]\tTest-rmse:534.76481\n"
     ]
    },
    {
     "name": "stderr",
     "output_type": "stream",
     "text": [
      "[21:23:50] WARNING: /Users/runner/work/xgboost/xgboost/src/learner.cc:742: \n",
      "Parameters: { \"n_estimators\" } are not used.\n",
      "\n"
     ]
    },
    {
     "data": {
      "text/html": [
       "<style>\n",
       "    table.wandb td:nth-child(1) { padding: 0 10px; text-align: left ; width: auto;} td:nth-child(2) {text-align: left ; width: 100%}\n",
       "    .wandb-row { display: flex; flex-direction: row; flex-wrap: wrap; justify-content: flex-start; width: 100% }\n",
       "    .wandb-col { display: flex; flex-direction: column; flex-basis: 100%; flex: 1; padding: 10px; }\n",
       "    </style>\n",
       "<div class=\"wandb-row\"><div class=\"wandb-col\"><h3>Run history:</h3><br/><table class=\"wandb\"><tr><td>rmse</td><td>▁</td></tr></table><br/></div><div class=\"wandb-col\"><h3>Run summary:</h3><br/><table class=\"wandb\"><tr><td>rmse</td><td>533.19521</td></tr></table><br/></div></div>"
      ],
      "text/plain": [
       "<IPython.core.display.HTML object>"
      ]
     },
     "metadata": {},
     "output_type": "display_data"
    },
    {
     "data": {
      "text/html": [
       " View run <strong style=\"color:#cdcd00\">grateful-sweep-27</strong> at: <a href='https://wandb.ai/jacobnu/xbg_grid_diamonds/runs/8q2pyg9b' target=\"_blank\">https://wandb.ai/jacobnu/xbg_grid_diamonds/runs/8q2pyg9b</a><br/> View project at: <a href='https://wandb.ai/jacobnu/xbg_grid_diamonds' target=\"_blank\">https://wandb.ai/jacobnu/xbg_grid_diamonds</a><br/>Synced 5 W&B file(s), 0 media file(s), 0 artifact file(s) and 0 other file(s)"
      ],
      "text/plain": [
       "<IPython.core.display.HTML object>"
      ]
     },
     "metadata": {},
     "output_type": "display_data"
    },
    {
     "data": {
      "text/html": [
       "Find logs at: <code>./wandb/run-20240421_212348-8q2pyg9b/logs</code>"
      ],
      "text/plain": [
       "<IPython.core.display.HTML object>"
      ]
     },
     "metadata": {},
     "output_type": "display_data"
    },
    {
     "name": "stderr",
     "output_type": "stream",
     "text": [
      "\u001b[34m\u001b[1mwandb\u001b[0m: Agent Starting Run: h348711h with config:\n",
      "\u001b[34m\u001b[1mwandb\u001b[0m: \tlearning_rate: 0.15\n",
      "\u001b[34m\u001b[1mwandb\u001b[0m: \tmax_depth: 7\n",
      "\u001b[34m\u001b[1mwandb\u001b[0m: \tn_estimators: 200\n",
      "\u001b[34m\u001b[1mwandb\u001b[0m: \tsubsample: 0.7\n",
      "\u001b[34m\u001b[1mwandb\u001b[0m: \u001b[33mWARNING\u001b[0m Ignored wandb.init() arg project when running a sweep.\n",
      "\u001b[34m\u001b[1mwandb\u001b[0m: \u001b[33mWARNING\u001b[0m Ignored wandb.init() arg entity when running a sweep.\n"
     ]
    },
    {
     "data": {
      "text/html": [
       "Tracking run with wandb version 0.16.6"
      ],
      "text/plain": [
       "<IPython.core.display.HTML object>"
      ]
     },
     "metadata": {},
     "output_type": "display_data"
    },
    {
     "data": {
      "text/html": [
       "Run data is saved locally in <code>/Users/jacob/Code/2024SP-MSAI-Practicum/wandb/run-20240421_212359-h348711h</code>"
      ],
      "text/plain": [
       "<IPython.core.display.HTML object>"
      ]
     },
     "metadata": {},
     "output_type": "display_data"
    },
    {
     "data": {
      "text/html": [
       "Syncing run <strong><a href='https://wandb.ai/jacobnu/xbg_grid_diamonds/runs/h348711h' target=\"_blank\">vivid-sweep-28</a></strong> to <a href='https://wandb.ai/jacobnu/xbg_grid_diamonds' target=\"_blank\">Weights & Biases</a> (<a href='https://wandb.me/run' target=\"_blank\">docs</a>)<br/>Sweep page: <a href='https://wandb.ai/jacobnu/xbg_grid_diamonds/sweeps/hcbnoalh' target=\"_blank\">https://wandb.ai/jacobnu/xbg_grid_diamonds/sweeps/hcbnoalh</a>"
      ],
      "text/plain": [
       "<IPython.core.display.HTML object>"
      ]
     },
     "metadata": {},
     "output_type": "display_data"
    },
    {
     "data": {
      "text/html": [
       " View project at <a href='https://wandb.ai/jacobnu/xbg_grid_diamonds' target=\"_blank\">https://wandb.ai/jacobnu/xbg_grid_diamonds</a>"
      ],
      "text/plain": [
       "<IPython.core.display.HTML object>"
      ]
     },
     "metadata": {},
     "output_type": "display_data"
    },
    {
     "data": {
      "text/html": [
       " View sweep at <a href='https://wandb.ai/jacobnu/xbg_grid_diamonds/sweeps/hcbnoalh' target=\"_blank\">https://wandb.ai/jacobnu/xbg_grid_diamonds/sweeps/hcbnoalh</a>"
      ],
      "text/plain": [
       "<IPython.core.display.HTML object>"
      ]
     },
     "metadata": {},
     "output_type": "display_data"
    },
    {
     "data": {
      "text/html": [
       " View run at <a href='https://wandb.ai/jacobnu/xbg_grid_diamonds/runs/h348711h' target=\"_blank\">https://wandb.ai/jacobnu/xbg_grid_diamonds/runs/h348711h</a>"
      ],
      "text/plain": [
       "<IPython.core.display.HTML object>"
      ]
     },
     "metadata": {},
     "output_type": "display_data"
    },
    {
     "name": "stdout",
     "output_type": "stream",
     "text": [
      "[0]\tTest-rmse:3412.02742\n",
      "[1]\tTest-rmse:2925.97072\n",
      "[2]\tTest-rmse:2518.12812\n",
      "[3]\tTest-rmse:2170.64902\n",
      "[4]\tTest-rmse:1877.11450\n",
      "[5]\tTest-rmse:1635.02272\n",
      "[6]\tTest-rmse:1428.50405\n",
      "[7]\tTest-rmse:1256.48527\n",
      "[8]\tTest-rmse:1114.22354\n",
      "[9]\tTest-rmse:995.57532\n",
      "[10]\tTest-rmse:900.03241\n",
      "[11]\tTest-rmse:820.67549\n",
      "[12]\tTest-rmse:758.12758\n",
      "[13]\tTest-rmse:708.33557\n",
      "[14]\tTest-rmse:669.92337\n",
      "[15]\tTest-rmse:639.46007\n",
      "[16]\tTest-rmse:615.89883\n",
      "[17]\tTest-rmse:597.97117\n",
      "[18]\tTest-rmse:584.15246\n",
      "[19]\tTest-rmse:572.70956\n",
      "[20]\tTest-rmse:563.45423\n",
      "[21]\tTest-rmse:557.48853\n",
      "[22]\tTest-rmse:552.41089\n",
      "[23]\tTest-rmse:549.02607\n",
      "[24]\tTest-rmse:546.10220\n",
      "[25]\tTest-rmse:543.51699\n",
      "[26]\tTest-rmse:541.63051\n",
      "[27]\tTest-rmse:540.07707\n",
      "[28]\tTest-rmse:538.98131\n",
      "[29]\tTest-rmse:538.26566\n",
      "[30]\tTest-rmse:538.03900\n",
      "[31]\tTest-rmse:536.72371\n",
      "[32]\tTest-rmse:535.70679\n",
      "[33]\tTest-rmse:535.30925\n",
      "[34]\tTest-rmse:535.43598\n",
      "[35]\tTest-rmse:534.75927\n",
      "[36]\tTest-rmse:535.25665\n",
      "[37]\tTest-rmse:534.75447\n",
      "[38]\tTest-rmse:534.53602\n",
      "[39]\tTest-rmse:534.54558\n",
      "[40]\tTest-rmse:533.89824\n",
      "[41]\tTest-rmse:533.39014\n",
      "[42]\tTest-rmse:533.25820\n",
      "[43]\tTest-rmse:533.46598\n",
      "[44]\tTest-rmse:533.32876\n",
      "[45]\tTest-rmse:533.11187\n",
      "[46]\tTest-rmse:532.86322\n",
      "[47]\tTest-rmse:532.80487\n",
      "[48]\tTest-rmse:533.36541\n",
      "[49]\tTest-rmse:532.84674\n",
      "[50]\tTest-rmse:532.71995\n",
      "[51]\tTest-rmse:532.84771\n",
      "[52]\tTest-rmse:532.49666\n",
      "[53]\tTest-rmse:532.39834\n",
      "[54]\tTest-rmse:533.52283\n",
      "[55]\tTest-rmse:533.82763\n",
      "[56]\tTest-rmse:533.66993\n",
      "[57]\tTest-rmse:533.68480\n"
     ]
    },
    {
     "name": "stderr",
     "output_type": "stream",
     "text": [
      "[21:24:00] WARNING: /Users/runner/work/xgboost/xgboost/src/learner.cc:742: \n",
      "Parameters: { \"n_estimators\" } are not used.\n",
      "\n"
     ]
    },
    {
     "name": "stdout",
     "output_type": "stream",
     "text": [
      "[58]\tTest-rmse:533.98648\n",
      "[59]\tTest-rmse:534.26792\n",
      "[60]\tTest-rmse:534.65389\n",
      "[61]\tTest-rmse:534.44611\n",
      "[62]\tTest-rmse:534.31242\n"
     ]
    },
    {
     "data": {
      "text/html": [
       "<style>\n",
       "    table.wandb td:nth-child(1) { padding: 0 10px; text-align: left ; width: auto;} td:nth-child(2) {text-align: left ; width: 100%}\n",
       "    .wandb-row { display: flex; flex-direction: row; flex-wrap: wrap; justify-content: flex-start; width: 100% }\n",
       "    .wandb-col { display: flex; flex-direction: column; flex-basis: 100%; flex: 1; padding: 10px; }\n",
       "    </style>\n",
       "<div class=\"wandb-row\"><div class=\"wandb-col\"><h3>Run history:</h3><br/><table class=\"wandb\"><tr><td>rmse</td><td>▁</td></tr></table><br/></div><div class=\"wandb-col\"><h3>Run summary:</h3><br/><table class=\"wandb\"><tr><td>rmse</td><td>532.39834</td></tr></table><br/></div></div>"
      ],
      "text/plain": [
       "<IPython.core.display.HTML object>"
      ]
     },
     "metadata": {},
     "output_type": "display_data"
    },
    {
     "data": {
      "text/html": [
       " View run <strong style=\"color:#cdcd00\">vivid-sweep-28</strong> at: <a href='https://wandb.ai/jacobnu/xbg_grid_diamonds/runs/h348711h' target=\"_blank\">https://wandb.ai/jacobnu/xbg_grid_diamonds/runs/h348711h</a><br/> View project at: <a href='https://wandb.ai/jacobnu/xbg_grid_diamonds' target=\"_blank\">https://wandb.ai/jacobnu/xbg_grid_diamonds</a><br/>Synced 5 W&B file(s), 0 media file(s), 0 artifact file(s) and 0 other file(s)"
      ],
      "text/plain": [
       "<IPython.core.display.HTML object>"
      ]
     },
     "metadata": {},
     "output_type": "display_data"
    },
    {
     "data": {
      "text/html": [
       "Find logs at: <code>./wandb/run-20240421_212359-h348711h/logs</code>"
      ],
      "text/plain": [
       "<IPython.core.display.HTML object>"
      ]
     },
     "metadata": {},
     "output_type": "display_data"
    },
    {
     "name": "stderr",
     "output_type": "stream",
     "text": [
      "\u001b[34m\u001b[1mwandb\u001b[0m: Agent Starting Run: y8qsscaw with config:\n",
      "\u001b[34m\u001b[1mwandb\u001b[0m: \tlearning_rate: 0.15\n",
      "\u001b[34m\u001b[1mwandb\u001b[0m: \tmax_depth: 7\n",
      "\u001b[34m\u001b[1mwandb\u001b[0m: \tn_estimators: 200\n",
      "\u001b[34m\u001b[1mwandb\u001b[0m: \tsubsample: 0.8\n",
      "\u001b[34m\u001b[1mwandb\u001b[0m: \u001b[33mWARNING\u001b[0m Ignored wandb.init() arg project when running a sweep.\n",
      "\u001b[34m\u001b[1mwandb\u001b[0m: \u001b[33mWARNING\u001b[0m Ignored wandb.init() arg entity when running a sweep.\n"
     ]
    },
    {
     "data": {
      "text/html": [
       "Tracking run with wandb version 0.16.6"
      ],
      "text/plain": [
       "<IPython.core.display.HTML object>"
      ]
     },
     "metadata": {},
     "output_type": "display_data"
    },
    {
     "data": {
      "text/html": [
       "Run data is saved locally in <code>/Users/jacob/Code/2024SP-MSAI-Practicum/wandb/run-20240421_212409-y8qsscaw</code>"
      ],
      "text/plain": [
       "<IPython.core.display.HTML object>"
      ]
     },
     "metadata": {},
     "output_type": "display_data"
    },
    {
     "data": {
      "text/html": [
       "Syncing run <strong><a href='https://wandb.ai/jacobnu/xbg_grid_diamonds/runs/y8qsscaw' target=\"_blank\">chocolate-sweep-29</a></strong> to <a href='https://wandb.ai/jacobnu/xbg_grid_diamonds' target=\"_blank\">Weights & Biases</a> (<a href='https://wandb.me/run' target=\"_blank\">docs</a>)<br/>Sweep page: <a href='https://wandb.ai/jacobnu/xbg_grid_diamonds/sweeps/hcbnoalh' target=\"_blank\">https://wandb.ai/jacobnu/xbg_grid_diamonds/sweeps/hcbnoalh</a>"
      ],
      "text/plain": [
       "<IPython.core.display.HTML object>"
      ]
     },
     "metadata": {},
     "output_type": "display_data"
    },
    {
     "data": {
      "text/html": [
       " View project at <a href='https://wandb.ai/jacobnu/xbg_grid_diamonds' target=\"_blank\">https://wandb.ai/jacobnu/xbg_grid_diamonds</a>"
      ],
      "text/plain": [
       "<IPython.core.display.HTML object>"
      ]
     },
     "metadata": {},
     "output_type": "display_data"
    },
    {
     "data": {
      "text/html": [
       " View sweep at <a href='https://wandb.ai/jacobnu/xbg_grid_diamonds/sweeps/hcbnoalh' target=\"_blank\">https://wandb.ai/jacobnu/xbg_grid_diamonds/sweeps/hcbnoalh</a>"
      ],
      "text/plain": [
       "<IPython.core.display.HTML object>"
      ]
     },
     "metadata": {},
     "output_type": "display_data"
    },
    {
     "data": {
      "text/html": [
       " View run at <a href='https://wandb.ai/jacobnu/xbg_grid_diamonds/runs/y8qsscaw' target=\"_blank\">https://wandb.ai/jacobnu/xbg_grid_diamonds/runs/y8qsscaw</a>"
      ],
      "text/plain": [
       "<IPython.core.display.HTML object>"
      ]
     },
     "metadata": {},
     "output_type": "display_data"
    },
    {
     "name": "stdout",
     "output_type": "stream",
     "text": [
      "[0]\tTest-rmse:3413.95078\n",
      "[1]\tTest-rmse:2927.30126\n",
      "[2]\tTest-rmse:2518.75771\n",
      "[3]\tTest-rmse:2171.54286\n",
      "[4]\tTest-rmse:1877.86803\n",
      "[5]\tTest-rmse:1631.44642\n",
      "[6]\tTest-rmse:1426.10871\n",
      "[7]\tTest-rmse:1255.23560\n",
      "[8]\tTest-rmse:1111.80607\n",
      "[9]\tTest-rmse:995.57215\n",
      "[10]\tTest-rmse:899.34529\n",
      "[11]\tTest-rmse:821.41200\n",
      "[12]\tTest-rmse:759.14976\n",
      "[13]\tTest-rmse:709.89244\n",
      "[14]\tTest-rmse:670.28115\n",
      "[15]\tTest-rmse:639.25917\n",
      "[16]\tTest-rmse:615.95671\n",
      "[17]\tTest-rmse:597.69916\n",
      "[18]\tTest-rmse:584.04104\n",
      "[19]\tTest-rmse:572.48724\n",
      "[20]\tTest-rmse:564.97774\n",
      "[21]\tTest-rmse:558.47411\n",
      "[22]\tTest-rmse:553.22458\n",
      "[23]\tTest-rmse:550.00816\n",
      "[24]\tTest-rmse:546.43253\n",
      "[25]\tTest-rmse:543.80521\n",
      "[26]\tTest-rmse:541.91780\n",
      "[27]\tTest-rmse:539.91698\n",
      "[28]\tTest-rmse:538.40239\n",
      "[29]\tTest-rmse:537.03730\n",
      "[30]\tTest-rmse:536.33631\n",
      "[31]\tTest-rmse:535.66399\n",
      "[32]\tTest-rmse:534.89770\n",
      "[33]\tTest-rmse:534.14634\n",
      "[34]\tTest-rmse:533.95428\n",
      "[35]\tTest-rmse:533.42366\n",
      "[36]\tTest-rmse:534.08868\n",
      "[37]\tTest-rmse:533.93108\n",
      "[38]\tTest-rmse:532.80654\n",
      "[39]\tTest-rmse:532.57612\n",
      "[40]\tTest-rmse:533.16557\n",
      "[41]\tTest-rmse:533.53520\n",
      "[42]\tTest-rmse:533.83840\n",
      "[43]\tTest-rmse:533.24345\n",
      "[44]\tTest-rmse:533.47873\n",
      "[45]\tTest-rmse:533.87616\n",
      "[46]\tTest-rmse:534.27688\n",
      "[47]\tTest-rmse:533.81447\n",
      "[48]\tTest-rmse:533.92827\n",
      "[49]\tTest-rmse:533.50043\n"
     ]
    },
    {
     "name": "stderr",
     "output_type": "stream",
     "text": [
      "[21:24:10] WARNING: /Users/runner/work/xgboost/xgboost/src/learner.cc:742: \n",
      "Parameters: { \"n_estimators\" } are not used.\n",
      "\n"
     ]
    },
    {
     "data": {
      "text/html": [
       "<style>\n",
       "    table.wandb td:nth-child(1) { padding: 0 10px; text-align: left ; width: auto;} td:nth-child(2) {text-align: left ; width: 100%}\n",
       "    .wandb-row { display: flex; flex-direction: row; flex-wrap: wrap; justify-content: flex-start; width: 100% }\n",
       "    .wandb-col { display: flex; flex-direction: column; flex-basis: 100%; flex: 1; padding: 10px; }\n",
       "    </style>\n",
       "<div class=\"wandb-row\"><div class=\"wandb-col\"><h3>Run history:</h3><br/><table class=\"wandb\"><tr><td>rmse</td><td>▁</td></tr></table><br/></div><div class=\"wandb-col\"><h3>Run summary:</h3><br/><table class=\"wandb\"><tr><td>rmse</td><td>532.57612</td></tr></table><br/></div></div>"
      ],
      "text/plain": [
       "<IPython.core.display.HTML object>"
      ]
     },
     "metadata": {},
     "output_type": "display_data"
    },
    {
     "data": {
      "text/html": [
       " View run <strong style=\"color:#cdcd00\">chocolate-sweep-29</strong> at: <a href='https://wandb.ai/jacobnu/xbg_grid_diamonds/runs/y8qsscaw' target=\"_blank\">https://wandb.ai/jacobnu/xbg_grid_diamonds/runs/y8qsscaw</a><br/> View project at: <a href='https://wandb.ai/jacobnu/xbg_grid_diamonds' target=\"_blank\">https://wandb.ai/jacobnu/xbg_grid_diamonds</a><br/>Synced 5 W&B file(s), 0 media file(s), 0 artifact file(s) and 0 other file(s)"
      ],
      "text/plain": [
       "<IPython.core.display.HTML object>"
      ]
     },
     "metadata": {},
     "output_type": "display_data"
    },
    {
     "data": {
      "text/html": [
       "Find logs at: <code>./wandb/run-20240421_212409-y8qsscaw/logs</code>"
      ],
      "text/plain": [
       "<IPython.core.display.HTML object>"
      ]
     },
     "metadata": {},
     "output_type": "display_data"
    },
    {
     "name": "stderr",
     "output_type": "stream",
     "text": [
      "\u001b[34m\u001b[1mwandb\u001b[0m: Agent Starting Run: hz6mv3bb with config:\n",
      "\u001b[34m\u001b[1mwandb\u001b[0m: \tlearning_rate: 0.15\n",
      "\u001b[34m\u001b[1mwandb\u001b[0m: \tmax_depth: 7\n",
      "\u001b[34m\u001b[1mwandb\u001b[0m: \tn_estimators: 200\n",
      "\u001b[34m\u001b[1mwandb\u001b[0m: \tsubsample: 0.9\n",
      "\u001b[34m\u001b[1mwandb\u001b[0m: \u001b[33mWARNING\u001b[0m Ignored wandb.init() arg project when running a sweep.\n",
      "\u001b[34m\u001b[1mwandb\u001b[0m: \u001b[33mWARNING\u001b[0m Ignored wandb.init() arg entity when running a sweep.\n"
     ]
    },
    {
     "data": {
      "text/html": [
       "Tracking run with wandb version 0.16.6"
      ],
      "text/plain": [
       "<IPython.core.display.HTML object>"
      ]
     },
     "metadata": {},
     "output_type": "display_data"
    },
    {
     "data": {
      "text/html": [
       "Run data is saved locally in <code>/Users/jacob/Code/2024SP-MSAI-Practicum/wandb/run-20240421_212418-hz6mv3bb</code>"
      ],
      "text/plain": [
       "<IPython.core.display.HTML object>"
      ]
     },
     "metadata": {},
     "output_type": "display_data"
    },
    {
     "data": {
      "text/html": [
       "Syncing run <strong><a href='https://wandb.ai/jacobnu/xbg_grid_diamonds/runs/hz6mv3bb' target=\"_blank\">twilight-sweep-30</a></strong> to <a href='https://wandb.ai/jacobnu/xbg_grid_diamonds' target=\"_blank\">Weights & Biases</a> (<a href='https://wandb.me/run' target=\"_blank\">docs</a>)<br/>Sweep page: <a href='https://wandb.ai/jacobnu/xbg_grid_diamonds/sweeps/hcbnoalh' target=\"_blank\">https://wandb.ai/jacobnu/xbg_grid_diamonds/sweeps/hcbnoalh</a>"
      ],
      "text/plain": [
       "<IPython.core.display.HTML object>"
      ]
     },
     "metadata": {},
     "output_type": "display_data"
    },
    {
     "data": {
      "text/html": [
       " View project at <a href='https://wandb.ai/jacobnu/xbg_grid_diamonds' target=\"_blank\">https://wandb.ai/jacobnu/xbg_grid_diamonds</a>"
      ],
      "text/plain": [
       "<IPython.core.display.HTML object>"
      ]
     },
     "metadata": {},
     "output_type": "display_data"
    },
    {
     "data": {
      "text/html": [
       " View sweep at <a href='https://wandb.ai/jacobnu/xbg_grid_diamonds/sweeps/hcbnoalh' target=\"_blank\">https://wandb.ai/jacobnu/xbg_grid_diamonds/sweeps/hcbnoalh</a>"
      ],
      "text/plain": [
       "<IPython.core.display.HTML object>"
      ]
     },
     "metadata": {},
     "output_type": "display_data"
    },
    {
     "data": {
      "text/html": [
       " View run at <a href='https://wandb.ai/jacobnu/xbg_grid_diamonds/runs/hz6mv3bb' target=\"_blank\">https://wandb.ai/jacobnu/xbg_grid_diamonds/runs/hz6mv3bb</a>"
      ],
      "text/plain": [
       "<IPython.core.display.HTML object>"
      ]
     },
     "metadata": {},
     "output_type": "display_data"
    },
    {
     "name": "stdout",
     "output_type": "stream",
     "text": [
      "[0]\tTest-rmse:3413.50186\n",
      "[1]\tTest-rmse:2927.45302\n",
      "[2]\tTest-rmse:2518.51685\n",
      "[3]\tTest-rmse:2169.43751\n",
      "[4]\tTest-rmse:1876.54075\n",
      "[5]\tTest-rmse:1631.08061\n",
      "[6]\tTest-rmse:1426.18122\n",
      "[7]\tTest-rmse:1255.42884\n",
      "[8]\tTest-rmse:1110.98028\n",
      "[9]\tTest-rmse:994.16787\n",
      "[10]\tTest-rmse:898.20337\n",
      "[11]\tTest-rmse:819.24370\n",
      "[12]\tTest-rmse:756.71675\n",
      "[13]\tTest-rmse:707.55055\n",
      "[14]\tTest-rmse:668.62568\n",
      "[15]\tTest-rmse:638.15049\n",
      "[16]\tTest-rmse:615.75911\n",
      "[17]\tTest-rmse:598.23896\n",
      "[18]\tTest-rmse:584.90731\n",
      "[19]\tTest-rmse:573.68940\n",
      "[20]\tTest-rmse:564.80382\n",
      "[21]\tTest-rmse:559.04563\n",
      "[22]\tTest-rmse:553.84721\n",
      "[23]\tTest-rmse:550.49141\n",
      "[24]\tTest-rmse:546.77716\n",
      "[25]\tTest-rmse:544.30166\n",
      "[26]\tTest-rmse:541.67311\n",
      "[27]\tTest-rmse:540.00492\n",
      "[28]\tTest-rmse:538.38135\n",
      "[29]\tTest-rmse:537.02734\n",
      "[30]\tTest-rmse:535.55565\n",
      "[31]\tTest-rmse:535.06588\n",
      "[32]\tTest-rmse:534.67063\n",
      "[33]\tTest-rmse:534.14407\n",
      "[34]\tTest-rmse:533.19521\n",
      "[35]\tTest-rmse:533.74594\n",
      "[36]\tTest-rmse:534.04390\n",
      "[37]\tTest-rmse:534.01399\n",
      "[38]\tTest-rmse:534.41293\n",
      "[39]\tTest-rmse:534.89969\n",
      "[40]\tTest-rmse:535.88964\n",
      "[41]\tTest-rmse:535.53089\n",
      "[42]\tTest-rmse:535.29848\n",
      "[43]\tTest-rmse:534.76481\n"
     ]
    },
    {
     "name": "stderr",
     "output_type": "stream",
     "text": [
      "[21:24:19] WARNING: /Users/runner/work/xgboost/xgboost/src/learner.cc:742: \n",
      "Parameters: { \"n_estimators\" } are not used.\n",
      "\n"
     ]
    },
    {
     "data": {
      "text/html": [
       "<style>\n",
       "    table.wandb td:nth-child(1) { padding: 0 10px; text-align: left ; width: auto;} td:nth-child(2) {text-align: left ; width: 100%}\n",
       "    .wandb-row { display: flex; flex-direction: row; flex-wrap: wrap; justify-content: flex-start; width: 100% }\n",
       "    .wandb-col { display: flex; flex-direction: column; flex-basis: 100%; flex: 1; padding: 10px; }\n",
       "    </style>\n",
       "<div class=\"wandb-row\"><div class=\"wandb-col\"><h3>Run history:</h3><br/><table class=\"wandb\"><tr><td>rmse</td><td>▁</td></tr></table><br/></div><div class=\"wandb-col\"><h3>Run summary:</h3><br/><table class=\"wandb\"><tr><td>rmse</td><td>533.19521</td></tr></table><br/></div></div>"
      ],
      "text/plain": [
       "<IPython.core.display.HTML object>"
      ]
     },
     "metadata": {},
     "output_type": "display_data"
    },
    {
     "data": {
      "text/html": [
       " View run <strong style=\"color:#cdcd00\">twilight-sweep-30</strong> at: <a href='https://wandb.ai/jacobnu/xbg_grid_diamonds/runs/hz6mv3bb' target=\"_blank\">https://wandb.ai/jacobnu/xbg_grid_diamonds/runs/hz6mv3bb</a><br/> View project at: <a href='https://wandb.ai/jacobnu/xbg_grid_diamonds' target=\"_blank\">https://wandb.ai/jacobnu/xbg_grid_diamonds</a><br/>Synced 5 W&B file(s), 0 media file(s), 0 artifact file(s) and 0 other file(s)"
      ],
      "text/plain": [
       "<IPython.core.display.HTML object>"
      ]
     },
     "metadata": {},
     "output_type": "display_data"
    },
    {
     "data": {
      "text/html": [
       "Find logs at: <code>./wandb/run-20240421_212418-hz6mv3bb/logs</code>"
      ],
      "text/plain": [
       "<IPython.core.display.HTML object>"
      ]
     },
     "metadata": {},
     "output_type": "display_data"
    },
    {
     "name": "stderr",
     "output_type": "stream",
     "text": [
      "\u001b[34m\u001b[1mwandb\u001b[0m: Agent Starting Run: 5uliyo9i with config:\n",
      "\u001b[34m\u001b[1mwandb\u001b[0m: \tlearning_rate: 0.15\n",
      "\u001b[34m\u001b[1mwandb\u001b[0m: \tmax_depth: 9\n",
      "\u001b[34m\u001b[1mwandb\u001b[0m: \tn_estimators: 100\n",
      "\u001b[34m\u001b[1mwandb\u001b[0m: \tsubsample: 0.7\n",
      "\u001b[34m\u001b[1mwandb\u001b[0m: \u001b[33mWARNING\u001b[0m Ignored wandb.init() arg project when running a sweep.\n",
      "\u001b[34m\u001b[1mwandb\u001b[0m: \u001b[33mWARNING\u001b[0m Ignored wandb.init() arg entity when running a sweep.\n"
     ]
    },
    {
     "data": {
      "text/html": [
       "Tracking run with wandb version 0.16.6"
      ],
      "text/plain": [
       "<IPython.core.display.HTML object>"
      ]
     },
     "metadata": {},
     "output_type": "display_data"
    },
    {
     "data": {
      "text/html": [
       "Run data is saved locally in <code>/Users/jacob/Code/2024SP-MSAI-Practicum/wandb/run-20240421_212429-5uliyo9i</code>"
      ],
      "text/plain": [
       "<IPython.core.display.HTML object>"
      ]
     },
     "metadata": {},
     "output_type": "display_data"
    },
    {
     "data": {
      "text/html": [
       "Syncing run <strong><a href='https://wandb.ai/jacobnu/xbg_grid_diamonds/runs/5uliyo9i' target=\"_blank\">fiery-sweep-31</a></strong> to <a href='https://wandb.ai/jacobnu/xbg_grid_diamonds' target=\"_blank\">Weights & Biases</a> (<a href='https://wandb.me/run' target=\"_blank\">docs</a>)<br/>Sweep page: <a href='https://wandb.ai/jacobnu/xbg_grid_diamonds/sweeps/hcbnoalh' target=\"_blank\">https://wandb.ai/jacobnu/xbg_grid_diamonds/sweeps/hcbnoalh</a>"
      ],
      "text/plain": [
       "<IPython.core.display.HTML object>"
      ]
     },
     "metadata": {},
     "output_type": "display_data"
    },
    {
     "data": {
      "text/html": [
       " View project at <a href='https://wandb.ai/jacobnu/xbg_grid_diamonds' target=\"_blank\">https://wandb.ai/jacobnu/xbg_grid_diamonds</a>"
      ],
      "text/plain": [
       "<IPython.core.display.HTML object>"
      ]
     },
     "metadata": {},
     "output_type": "display_data"
    },
    {
     "data": {
      "text/html": [
       " View sweep at <a href='https://wandb.ai/jacobnu/xbg_grid_diamonds/sweeps/hcbnoalh' target=\"_blank\">https://wandb.ai/jacobnu/xbg_grid_diamonds/sweeps/hcbnoalh</a>"
      ],
      "text/plain": [
       "<IPython.core.display.HTML object>"
      ]
     },
     "metadata": {},
     "output_type": "display_data"
    },
    {
     "data": {
      "text/html": [
       " View run at <a href='https://wandb.ai/jacobnu/xbg_grid_diamonds/runs/5uliyo9i' target=\"_blank\">https://wandb.ai/jacobnu/xbg_grid_diamonds/runs/5uliyo9i</a>"
      ],
      "text/plain": [
       "<IPython.core.display.HTML object>"
      ]
     },
     "metadata": {},
     "output_type": "display_data"
    },
    {
     "name": "stdout",
     "output_type": "stream",
     "text": [
      "[0]\tTest-rmse:3409.31881\n",
      "[1]\tTest-rmse:2920.32493\n",
      "[2]\tTest-rmse:2507.37804\n",
      "[3]\tTest-rmse:2158.21225\n",
      "[4]\tTest-rmse:1862.06800\n",
      "[5]\tTest-rmse:1616.25258\n",
      "[6]\tTest-rmse:1406.74619\n",
      "[7]\tTest-rmse:1234.18270\n",
      "[8]\tTest-rmse:1091.81233\n",
      "[9]\tTest-rmse:976.05695\n",
      "[10]\tTest-rmse:879.64031\n",
      "[11]\tTest-rmse:801.63309\n",
      "[12]\tTest-rmse:741.89589\n",
      "[13]\tTest-rmse:694.34803\n",
      "[14]\tTest-rmse:655.78229\n",
      "[15]\tTest-rmse:626.45245\n",
      "[16]\tTest-rmse:604.24966\n",
      "[17]\tTest-rmse:586.87211\n",
      "[18]\tTest-rmse:574.28261\n",
      "[19]\tTest-rmse:565.39767\n",
      "[20]\tTest-rmse:558.34011\n",
      "[21]\tTest-rmse:552.80175\n",
      "[22]\tTest-rmse:549.40314\n",
      "[23]\tTest-rmse:546.92089\n",
      "[24]\tTest-rmse:545.33334\n",
      "[25]\tTest-rmse:544.81898\n",
      "[26]\tTest-rmse:543.29424\n",
      "[27]\tTest-rmse:542.42100\n",
      "[28]\tTest-rmse:541.28961\n",
      "[29]\tTest-rmse:541.59768\n",
      "[30]\tTest-rmse:541.69250\n",
      "[31]\tTest-rmse:542.62708\n",
      "[32]\tTest-rmse:542.02089\n",
      "[33]\tTest-rmse:541.43429\n"
     ]
    },
    {
     "name": "stderr",
     "output_type": "stream",
     "text": [
      "[21:24:30] WARNING: /Users/runner/work/xgboost/xgboost/src/learner.cc:742: \n",
      "Parameters: { \"n_estimators\" } are not used.\n",
      "\n"
     ]
    },
    {
     "name": "stdout",
     "output_type": "stream",
     "text": [
      "[34]\tTest-rmse:541.86087\n",
      "[35]\tTest-rmse:542.05432\n",
      "[36]\tTest-rmse:542.35869\n",
      "[37]\tTest-rmse:542.15120\n",
      "[38]\tTest-rmse:541.81984\n"
     ]
    },
    {
     "data": {
      "text/html": [
       "<style>\n",
       "    table.wandb td:nth-child(1) { padding: 0 10px; text-align: left ; width: auto;} td:nth-child(2) {text-align: left ; width: 100%}\n",
       "    .wandb-row { display: flex; flex-direction: row; flex-wrap: wrap; justify-content: flex-start; width: 100% }\n",
       "    .wandb-col { display: flex; flex-direction: column; flex-basis: 100%; flex: 1; padding: 10px; }\n",
       "    </style>\n",
       "<div class=\"wandb-row\"><div class=\"wandb-col\"><h3>Run history:</h3><br/><table class=\"wandb\"><tr><td>rmse</td><td>▁</td></tr></table><br/></div><div class=\"wandb-col\"><h3>Run summary:</h3><br/><table class=\"wandb\"><tr><td>rmse</td><td>541.28961</td></tr></table><br/></div></div>"
      ],
      "text/plain": [
       "<IPython.core.display.HTML object>"
      ]
     },
     "metadata": {},
     "output_type": "display_data"
    },
    {
     "data": {
      "text/html": [
       " View run <strong style=\"color:#cdcd00\">fiery-sweep-31</strong> at: <a href='https://wandb.ai/jacobnu/xbg_grid_diamonds/runs/5uliyo9i' target=\"_blank\">https://wandb.ai/jacobnu/xbg_grid_diamonds/runs/5uliyo9i</a><br/> View project at: <a href='https://wandb.ai/jacobnu/xbg_grid_diamonds' target=\"_blank\">https://wandb.ai/jacobnu/xbg_grid_diamonds</a><br/>Synced 5 W&B file(s), 0 media file(s), 0 artifact file(s) and 0 other file(s)"
      ],
      "text/plain": [
       "<IPython.core.display.HTML object>"
      ]
     },
     "metadata": {},
     "output_type": "display_data"
    },
    {
     "data": {
      "text/html": [
       "Find logs at: <code>./wandb/run-20240421_212429-5uliyo9i/logs</code>"
      ],
      "text/plain": [
       "<IPython.core.display.HTML object>"
      ]
     },
     "metadata": {},
     "output_type": "display_data"
    },
    {
     "name": "stderr",
     "output_type": "stream",
     "text": [
      "\u001b[34m\u001b[1mwandb\u001b[0m: Agent Starting Run: h0ewnmmg with config:\n",
      "\u001b[34m\u001b[1mwandb\u001b[0m: \tlearning_rate: 0.15\n",
      "\u001b[34m\u001b[1mwandb\u001b[0m: \tmax_depth: 9\n",
      "\u001b[34m\u001b[1mwandb\u001b[0m: \tn_estimators: 100\n",
      "\u001b[34m\u001b[1mwandb\u001b[0m: \tsubsample: 0.8\n",
      "\u001b[34m\u001b[1mwandb\u001b[0m: \u001b[33mWARNING\u001b[0m Ignored wandb.init() arg project when running a sweep.\n",
      "\u001b[34m\u001b[1mwandb\u001b[0m: \u001b[33mWARNING\u001b[0m Ignored wandb.init() arg entity when running a sweep.\n"
     ]
    },
    {
     "data": {
      "text/html": [
       "Tracking run with wandb version 0.16.6"
      ],
      "text/plain": [
       "<IPython.core.display.HTML object>"
      ]
     },
     "metadata": {},
     "output_type": "display_data"
    },
    {
     "data": {
      "text/html": [
       "Run data is saved locally in <code>/Users/jacob/Code/2024SP-MSAI-Practicum/wandb/run-20240421_212439-h0ewnmmg</code>"
      ],
      "text/plain": [
       "<IPython.core.display.HTML object>"
      ]
     },
     "metadata": {},
     "output_type": "display_data"
    },
    {
     "data": {
      "text/html": [
       "Syncing run <strong><a href='https://wandb.ai/jacobnu/xbg_grid_diamonds/runs/h0ewnmmg' target=\"_blank\">copper-sweep-32</a></strong> to <a href='https://wandb.ai/jacobnu/xbg_grid_diamonds' target=\"_blank\">Weights & Biases</a> (<a href='https://wandb.me/run' target=\"_blank\">docs</a>)<br/>Sweep page: <a href='https://wandb.ai/jacobnu/xbg_grid_diamonds/sweeps/hcbnoalh' target=\"_blank\">https://wandb.ai/jacobnu/xbg_grid_diamonds/sweeps/hcbnoalh</a>"
      ],
      "text/plain": [
       "<IPython.core.display.HTML object>"
      ]
     },
     "metadata": {},
     "output_type": "display_data"
    },
    {
     "data": {
      "text/html": [
       " View project at <a href='https://wandb.ai/jacobnu/xbg_grid_diamonds' target=\"_blank\">https://wandb.ai/jacobnu/xbg_grid_diamonds</a>"
      ],
      "text/plain": [
       "<IPython.core.display.HTML object>"
      ]
     },
     "metadata": {},
     "output_type": "display_data"
    },
    {
     "data": {
      "text/html": [
       " View sweep at <a href='https://wandb.ai/jacobnu/xbg_grid_diamonds/sweeps/hcbnoalh' target=\"_blank\">https://wandb.ai/jacobnu/xbg_grid_diamonds/sweeps/hcbnoalh</a>"
      ],
      "text/plain": [
       "<IPython.core.display.HTML object>"
      ]
     },
     "metadata": {},
     "output_type": "display_data"
    },
    {
     "data": {
      "text/html": [
       " View run at <a href='https://wandb.ai/jacobnu/xbg_grid_diamonds/runs/h0ewnmmg' target=\"_blank\">https://wandb.ai/jacobnu/xbg_grid_diamonds/runs/h0ewnmmg</a>"
      ],
      "text/plain": [
       "<IPython.core.display.HTML object>"
      ]
     },
     "metadata": {},
     "output_type": "display_data"
    },
    {
     "name": "stdout",
     "output_type": "stream",
     "text": [
      "[0]\tTest-rmse:3410.18642\n",
      "[1]\tTest-rmse:2920.66025\n",
      "[2]\tTest-rmse:2507.47775\n",
      "[3]\tTest-rmse:2157.83427\n",
      "[4]\tTest-rmse:1861.37867\n",
      "[5]\tTest-rmse:1613.01496\n",
      "[6]\tTest-rmse:1404.65659\n",
      "[7]\tTest-rmse:1232.10037\n",
      "[8]\tTest-rmse:1089.03358\n",
      "[9]\tTest-rmse:973.08192\n",
      "[10]\tTest-rmse:876.81814\n",
      "[11]\tTest-rmse:799.55275\n",
      "[12]\tTest-rmse:738.27150\n",
      "[13]\tTest-rmse:691.13809\n",
      "[14]\tTest-rmse:652.90233\n",
      "[15]\tTest-rmse:623.70746\n",
      "[16]\tTest-rmse:600.89970\n",
      "[17]\tTest-rmse:583.59890\n",
      "[18]\tTest-rmse:570.08472\n",
      "[19]\tTest-rmse:560.69888\n",
      "[20]\tTest-rmse:553.61848\n",
      "[21]\tTest-rmse:549.16109\n",
      "[22]\tTest-rmse:544.73013\n",
      "[23]\tTest-rmse:543.32069\n",
      "[24]\tTest-rmse:540.36269\n",
      "[25]\tTest-rmse:539.02348\n",
      "[26]\tTest-rmse:537.65808\n",
      "[27]\tTest-rmse:537.75512\n",
      "[28]\tTest-rmse:536.91414\n",
      "[29]\tTest-rmse:536.23175\n",
      "[30]\tTest-rmse:536.11829\n",
      "[31]\tTest-rmse:536.43833\n",
      "[32]\tTest-rmse:536.41354\n",
      "[33]\tTest-rmse:536.21277\n",
      "[34]\tTest-rmse:535.59572\n",
      "[35]\tTest-rmse:535.43481\n",
      "[36]\tTest-rmse:535.46964\n",
      "[37]\tTest-rmse:535.58107\n",
      "[38]\tTest-rmse:534.67752\n",
      "[39]\tTest-rmse:535.27848\n"
     ]
    },
    {
     "name": "stderr",
     "output_type": "stream",
     "text": [
      "[21:24:40] WARNING: /Users/runner/work/xgboost/xgboost/src/learner.cc:742: \n",
      "Parameters: { \"n_estimators\" } are not used.\n",
      "\n"
     ]
    },
    {
     "name": "stdout",
     "output_type": "stream",
     "text": [
      "[40]\tTest-rmse:535.15131\n",
      "[41]\tTest-rmse:535.39758\n",
      "[42]\tTest-rmse:534.90699\n",
      "[43]\tTest-rmse:534.99272\n",
      "[44]\tTest-rmse:535.13572\n",
      "[45]\tTest-rmse:535.50436\n",
      "[46]\tTest-rmse:535.95100\n",
      "[47]\tTest-rmse:536.67522\n"
     ]
    },
    {
     "data": {
      "text/html": [
       "<style>\n",
       "    table.wandb td:nth-child(1) { padding: 0 10px; text-align: left ; width: auto;} td:nth-child(2) {text-align: left ; width: 100%}\n",
       "    .wandb-row { display: flex; flex-direction: row; flex-wrap: wrap; justify-content: flex-start; width: 100% }\n",
       "    .wandb-col { display: flex; flex-direction: column; flex-basis: 100%; flex: 1; padding: 10px; }\n",
       "    </style>\n",
       "<div class=\"wandb-row\"><div class=\"wandb-col\"><h3>Run history:</h3><br/><table class=\"wandb\"><tr><td>rmse</td><td>▁</td></tr></table><br/></div><div class=\"wandb-col\"><h3>Run summary:</h3><br/><table class=\"wandb\"><tr><td>rmse</td><td>534.67752</td></tr></table><br/></div></div>"
      ],
      "text/plain": [
       "<IPython.core.display.HTML object>"
      ]
     },
     "metadata": {},
     "output_type": "display_data"
    },
    {
     "data": {
      "text/html": [
       " View run <strong style=\"color:#cdcd00\">copper-sweep-32</strong> at: <a href='https://wandb.ai/jacobnu/xbg_grid_diamonds/runs/h0ewnmmg' target=\"_blank\">https://wandb.ai/jacobnu/xbg_grid_diamonds/runs/h0ewnmmg</a><br/> View project at: <a href='https://wandb.ai/jacobnu/xbg_grid_diamonds' target=\"_blank\">https://wandb.ai/jacobnu/xbg_grid_diamonds</a><br/>Synced 5 W&B file(s), 0 media file(s), 0 artifact file(s) and 0 other file(s)"
      ],
      "text/plain": [
       "<IPython.core.display.HTML object>"
      ]
     },
     "metadata": {},
     "output_type": "display_data"
    },
    {
     "data": {
      "text/html": [
       "Find logs at: <code>./wandb/run-20240421_212439-h0ewnmmg/logs</code>"
      ],
      "text/plain": [
       "<IPython.core.display.HTML object>"
      ]
     },
     "metadata": {},
     "output_type": "display_data"
    },
    {
     "name": "stderr",
     "output_type": "stream",
     "text": [
      "\u001b[34m\u001b[1mwandb\u001b[0m: Agent Starting Run: q4j9ravn with config:\n",
      "\u001b[34m\u001b[1mwandb\u001b[0m: \tlearning_rate: 0.15\n",
      "\u001b[34m\u001b[1mwandb\u001b[0m: \tmax_depth: 9\n",
      "\u001b[34m\u001b[1mwandb\u001b[0m: \tn_estimators: 100\n",
      "\u001b[34m\u001b[1mwandb\u001b[0m: \tsubsample: 0.9\n",
      "\u001b[34m\u001b[1mwandb\u001b[0m: \u001b[33mWARNING\u001b[0m Ignored wandb.init() arg project when running a sweep.\n",
      "\u001b[34m\u001b[1mwandb\u001b[0m: \u001b[33mWARNING\u001b[0m Ignored wandb.init() arg entity when running a sweep.\n"
     ]
    },
    {
     "data": {
      "text/html": [
       "Tracking run with wandb version 0.16.6"
      ],
      "text/plain": [
       "<IPython.core.display.HTML object>"
      ]
     },
     "metadata": {},
     "output_type": "display_data"
    },
    {
     "data": {
      "text/html": [
       "Run data is saved locally in <code>/Users/jacob/Code/2024SP-MSAI-Practicum/wandb/run-20240421_212450-q4j9ravn</code>"
      ],
      "text/plain": [
       "<IPython.core.display.HTML object>"
      ]
     },
     "metadata": {},
     "output_type": "display_data"
    },
    {
     "data": {
      "text/html": [
       "Syncing run <strong><a href='https://wandb.ai/jacobnu/xbg_grid_diamonds/runs/q4j9ravn' target=\"_blank\">rose-sweep-33</a></strong> to <a href='https://wandb.ai/jacobnu/xbg_grid_diamonds' target=\"_blank\">Weights & Biases</a> (<a href='https://wandb.me/run' target=\"_blank\">docs</a>)<br/>Sweep page: <a href='https://wandb.ai/jacobnu/xbg_grid_diamonds/sweeps/hcbnoalh' target=\"_blank\">https://wandb.ai/jacobnu/xbg_grid_diamonds/sweeps/hcbnoalh</a>"
      ],
      "text/plain": [
       "<IPython.core.display.HTML object>"
      ]
     },
     "metadata": {},
     "output_type": "display_data"
    },
    {
     "data": {
      "text/html": [
       " View project at <a href='https://wandb.ai/jacobnu/xbg_grid_diamonds' target=\"_blank\">https://wandb.ai/jacobnu/xbg_grid_diamonds</a>"
      ],
      "text/plain": [
       "<IPython.core.display.HTML object>"
      ]
     },
     "metadata": {},
     "output_type": "display_data"
    },
    {
     "data": {
      "text/html": [
       " View sweep at <a href='https://wandb.ai/jacobnu/xbg_grid_diamonds/sweeps/hcbnoalh' target=\"_blank\">https://wandb.ai/jacobnu/xbg_grid_diamonds/sweeps/hcbnoalh</a>"
      ],
      "text/plain": [
       "<IPython.core.display.HTML object>"
      ]
     },
     "metadata": {},
     "output_type": "display_data"
    },
    {
     "data": {
      "text/html": [
       " View run at <a href='https://wandb.ai/jacobnu/xbg_grid_diamonds/runs/q4j9ravn' target=\"_blank\">https://wandb.ai/jacobnu/xbg_grid_diamonds/runs/q4j9ravn</a>"
      ],
      "text/plain": [
       "<IPython.core.display.HTML object>"
      ]
     },
     "metadata": {},
     "output_type": "display_data"
    },
    {
     "name": "stdout",
     "output_type": "stream",
     "text": [
      "[0]\tTest-rmse:3409.45755\n",
      "[1]\tTest-rmse:2920.73436\n",
      "[2]\tTest-rmse:2507.09864\n",
      "[3]\tTest-rmse:2156.22946\n",
      "[4]\tTest-rmse:1861.52029\n",
      "[5]\tTest-rmse:1613.88236\n",
      "[6]\tTest-rmse:1405.33265\n",
      "[7]\tTest-rmse:1234.44998\n",
      "[8]\tTest-rmse:1091.07478\n",
      "[9]\tTest-rmse:974.06410\n",
      "[10]\tTest-rmse:878.08071\n",
      "[11]\tTest-rmse:800.35065\n",
      "[12]\tTest-rmse:738.67849\n",
      "[13]\tTest-rmse:691.52308\n",
      "[14]\tTest-rmse:654.35544\n",
      "[15]\tTest-rmse:626.20615\n",
      "[16]\tTest-rmse:604.52916\n",
      "[17]\tTest-rmse:587.61772\n",
      "[18]\tTest-rmse:576.49049\n"
     ]
    },
    {
     "name": "stderr",
     "output_type": "stream",
     "text": [
      "[21:24:51] WARNING: /Users/runner/work/xgboost/xgboost/src/learner.cc:742: \n",
      "Parameters: { \"n_estimators\" } are not used.\n",
      "\n"
     ]
    },
    {
     "name": "stdout",
     "output_type": "stream",
     "text": [
      "[19]\tTest-rmse:566.34756\n",
      "[20]\tTest-rmse:558.50381\n",
      "[21]\tTest-rmse:553.42570\n",
      "[22]\tTest-rmse:549.29385\n",
      "[23]\tTest-rmse:546.69440\n",
      "[24]\tTest-rmse:544.70096\n",
      "[25]\tTest-rmse:543.05302\n",
      "[26]\tTest-rmse:541.71193\n",
      "[27]\tTest-rmse:541.18525\n",
      "[28]\tTest-rmse:542.13305\n",
      "[29]\tTest-rmse:541.72044\n",
      "[30]\tTest-rmse:541.82826\n",
      "[31]\tTest-rmse:541.33712\n",
      "[32]\tTest-rmse:541.05227\n",
      "[33]\tTest-rmse:540.22952\n",
      "[34]\tTest-rmse:540.84486\n",
      "[35]\tTest-rmse:540.20484\n",
      "[36]\tTest-rmse:541.06491\n",
      "[37]\tTest-rmse:540.81629\n",
      "[38]\tTest-rmse:540.98672\n",
      "[39]\tTest-rmse:540.74946\n",
      "[40]\tTest-rmse:541.34938\n",
      "[41]\tTest-rmse:540.71269\n",
      "[42]\tTest-rmse:540.39805\n",
      "[43]\tTest-rmse:540.34408\n",
      "[44]\tTest-rmse:540.58381\n"
     ]
    },
    {
     "data": {
      "text/html": [
       "<style>\n",
       "    table.wandb td:nth-child(1) { padding: 0 10px; text-align: left ; width: auto;} td:nth-child(2) {text-align: left ; width: 100%}\n",
       "    .wandb-row { display: flex; flex-direction: row; flex-wrap: wrap; justify-content: flex-start; width: 100% }\n",
       "    .wandb-col { display: flex; flex-direction: column; flex-basis: 100%; flex: 1; padding: 10px; }\n",
       "    </style>\n",
       "<div class=\"wandb-row\"><div class=\"wandb-col\"><h3>Run history:</h3><br/><table class=\"wandb\"><tr><td>rmse</td><td>▁</td></tr></table><br/></div><div class=\"wandb-col\"><h3>Run summary:</h3><br/><table class=\"wandb\"><tr><td>rmse</td><td>540.20484</td></tr></table><br/></div></div>"
      ],
      "text/plain": [
       "<IPython.core.display.HTML object>"
      ]
     },
     "metadata": {},
     "output_type": "display_data"
    },
    {
     "data": {
      "text/html": [
       " View run <strong style=\"color:#cdcd00\">rose-sweep-33</strong> at: <a href='https://wandb.ai/jacobnu/xbg_grid_diamonds/runs/q4j9ravn' target=\"_blank\">https://wandb.ai/jacobnu/xbg_grid_diamonds/runs/q4j9ravn</a><br/> View project at: <a href='https://wandb.ai/jacobnu/xbg_grid_diamonds' target=\"_blank\">https://wandb.ai/jacobnu/xbg_grid_diamonds</a><br/>Synced 5 W&B file(s), 0 media file(s), 0 artifact file(s) and 0 other file(s)"
      ],
      "text/plain": [
       "<IPython.core.display.HTML object>"
      ]
     },
     "metadata": {},
     "output_type": "display_data"
    },
    {
     "data": {
      "text/html": [
       "Find logs at: <code>./wandb/run-20240421_212450-q4j9ravn/logs</code>"
      ],
      "text/plain": [
       "<IPython.core.display.HTML object>"
      ]
     },
     "metadata": {},
     "output_type": "display_data"
    },
    {
     "name": "stderr",
     "output_type": "stream",
     "text": [
      "\u001b[34m\u001b[1mwandb\u001b[0m: Agent Starting Run: q6nup884 with config:\n",
      "\u001b[34m\u001b[1mwandb\u001b[0m: \tlearning_rate: 0.15\n",
      "\u001b[34m\u001b[1mwandb\u001b[0m: \tmax_depth: 9\n",
      "\u001b[34m\u001b[1mwandb\u001b[0m: \tn_estimators: 200\n",
      "\u001b[34m\u001b[1mwandb\u001b[0m: \tsubsample: 0.7\n",
      "\u001b[34m\u001b[1mwandb\u001b[0m: \u001b[33mWARNING\u001b[0m Ignored wandb.init() arg project when running a sweep.\n",
      "\u001b[34m\u001b[1mwandb\u001b[0m: \u001b[33mWARNING\u001b[0m Ignored wandb.init() arg entity when running a sweep.\n"
     ]
    },
    {
     "data": {
      "text/html": [
       "Tracking run with wandb version 0.16.6"
      ],
      "text/plain": [
       "<IPython.core.display.HTML object>"
      ]
     },
     "metadata": {},
     "output_type": "display_data"
    },
    {
     "data": {
      "text/html": [
       "Run data is saved locally in <code>/Users/jacob/Code/2024SP-MSAI-Practicum/wandb/run-20240421_212459-q6nup884</code>"
      ],
      "text/plain": [
       "<IPython.core.display.HTML object>"
      ]
     },
     "metadata": {},
     "output_type": "display_data"
    },
    {
     "data": {
      "text/html": [
       "Syncing run <strong><a href='https://wandb.ai/jacobnu/xbg_grid_diamonds/runs/q6nup884' target=\"_blank\">fallen-sweep-34</a></strong> to <a href='https://wandb.ai/jacobnu/xbg_grid_diamonds' target=\"_blank\">Weights & Biases</a> (<a href='https://wandb.me/run' target=\"_blank\">docs</a>)<br/>Sweep page: <a href='https://wandb.ai/jacobnu/xbg_grid_diamonds/sweeps/hcbnoalh' target=\"_blank\">https://wandb.ai/jacobnu/xbg_grid_diamonds/sweeps/hcbnoalh</a>"
      ],
      "text/plain": [
       "<IPython.core.display.HTML object>"
      ]
     },
     "metadata": {},
     "output_type": "display_data"
    },
    {
     "data": {
      "text/html": [
       " View project at <a href='https://wandb.ai/jacobnu/xbg_grid_diamonds' target=\"_blank\">https://wandb.ai/jacobnu/xbg_grid_diamonds</a>"
      ],
      "text/plain": [
       "<IPython.core.display.HTML object>"
      ]
     },
     "metadata": {},
     "output_type": "display_data"
    },
    {
     "data": {
      "text/html": [
       " View sweep at <a href='https://wandb.ai/jacobnu/xbg_grid_diamonds/sweeps/hcbnoalh' target=\"_blank\">https://wandb.ai/jacobnu/xbg_grid_diamonds/sweeps/hcbnoalh</a>"
      ],
      "text/plain": [
       "<IPython.core.display.HTML object>"
      ]
     },
     "metadata": {},
     "output_type": "display_data"
    },
    {
     "data": {
      "text/html": [
       " View run at <a href='https://wandb.ai/jacobnu/xbg_grid_diamonds/runs/q6nup884' target=\"_blank\">https://wandb.ai/jacobnu/xbg_grid_diamonds/runs/q6nup884</a>"
      ],
      "text/plain": [
       "<IPython.core.display.HTML object>"
      ]
     },
     "metadata": {},
     "output_type": "display_data"
    },
    {
     "name": "stdout",
     "output_type": "stream",
     "text": [
      "[0]\tTest-rmse:3409.31881\n",
      "[1]\tTest-rmse:2920.32493\n",
      "[2]\tTest-rmse:2507.37804\n",
      "[3]\tTest-rmse:2158.21225\n",
      "[4]\tTest-rmse:1862.06800\n",
      "[5]\tTest-rmse:1616.25258\n",
      "[6]\tTest-rmse:1406.74619\n",
      "[7]\tTest-rmse:1234.18270\n",
      "[8]\tTest-rmse:1091.81233\n",
      "[9]\tTest-rmse:976.05695\n",
      "[10]\tTest-rmse:879.64031\n",
      "[11]\tTest-rmse:801.63309\n",
      "[12]\tTest-rmse:741.89589\n",
      "[13]\tTest-rmse:694.34803\n",
      "[14]\tTest-rmse:655.78229\n",
      "[15]\tTest-rmse:626.45245\n",
      "[16]\tTest-rmse:604.24966\n",
      "[17]\tTest-rmse:586.87211\n",
      "[18]\tTest-rmse:574.28261\n",
      "[19]\tTest-rmse:565.39767\n",
      "[20]\tTest-rmse:558.34011\n",
      "[21]\tTest-rmse:552.80175\n",
      "[22]\tTest-rmse:549.40314\n",
      "[23]\tTest-rmse:546.92089\n",
      "[24]\tTest-rmse:545.33334\n",
      "[25]\tTest-rmse:544.81898\n",
      "[26]\tTest-rmse:543.29424\n",
      "[27]\tTest-rmse:542.42100\n",
      "[28]\tTest-rmse:541.28961\n",
      "[29]\tTest-rmse:541.59768\n",
      "[30]\tTest-rmse:541.69250\n",
      "[31]\tTest-rmse:542.62708\n",
      "[32]\tTest-rmse:542.02089\n",
      "[33]\tTest-rmse:541.43429\n",
      "[34]\tTest-rmse:541.86087\n",
      "[35]\tTest-rmse:542.05432\n",
      "[36]\tTest-rmse:542.35869\n",
      "[37]\tTest-rmse:542.15120\n",
      "[38]\tTest-rmse:541.81984\n"
     ]
    },
    {
     "name": "stderr",
     "output_type": "stream",
     "text": [
      "[21:25:00] WARNING: /Users/runner/work/xgboost/xgboost/src/learner.cc:742: \n",
      "Parameters: { \"n_estimators\" } are not used.\n",
      "\n"
     ]
    },
    {
     "data": {
      "text/html": [
       "<style>\n",
       "    table.wandb td:nth-child(1) { padding: 0 10px; text-align: left ; width: auto;} td:nth-child(2) {text-align: left ; width: 100%}\n",
       "    .wandb-row { display: flex; flex-direction: row; flex-wrap: wrap; justify-content: flex-start; width: 100% }\n",
       "    .wandb-col { display: flex; flex-direction: column; flex-basis: 100%; flex: 1; padding: 10px; }\n",
       "    </style>\n",
       "<div class=\"wandb-row\"><div class=\"wandb-col\"><h3>Run history:</h3><br/><table class=\"wandb\"><tr><td>rmse</td><td>▁</td></tr></table><br/></div><div class=\"wandb-col\"><h3>Run summary:</h3><br/><table class=\"wandb\"><tr><td>rmse</td><td>541.28961</td></tr></table><br/></div></div>"
      ],
      "text/plain": [
       "<IPython.core.display.HTML object>"
      ]
     },
     "metadata": {},
     "output_type": "display_data"
    },
    {
     "data": {
      "text/html": [
       " View run <strong style=\"color:#cdcd00\">fallen-sweep-34</strong> at: <a href='https://wandb.ai/jacobnu/xbg_grid_diamonds/runs/q6nup884' target=\"_blank\">https://wandb.ai/jacobnu/xbg_grid_diamonds/runs/q6nup884</a><br/> View project at: <a href='https://wandb.ai/jacobnu/xbg_grid_diamonds' target=\"_blank\">https://wandb.ai/jacobnu/xbg_grid_diamonds</a><br/>Synced 5 W&B file(s), 0 media file(s), 0 artifact file(s) and 0 other file(s)"
      ],
      "text/plain": [
       "<IPython.core.display.HTML object>"
      ]
     },
     "metadata": {},
     "output_type": "display_data"
    },
    {
     "data": {
      "text/html": [
       "Find logs at: <code>./wandb/run-20240421_212459-q6nup884/logs</code>"
      ],
      "text/plain": [
       "<IPython.core.display.HTML object>"
      ]
     },
     "metadata": {},
     "output_type": "display_data"
    },
    {
     "name": "stderr",
     "output_type": "stream",
     "text": [
      "\u001b[34m\u001b[1mwandb\u001b[0m: Agent Starting Run: f582dv2d with config:\n",
      "\u001b[34m\u001b[1mwandb\u001b[0m: \tlearning_rate: 0.15\n",
      "\u001b[34m\u001b[1mwandb\u001b[0m: \tmax_depth: 9\n",
      "\u001b[34m\u001b[1mwandb\u001b[0m: \tn_estimators: 200\n",
      "\u001b[34m\u001b[1mwandb\u001b[0m: \tsubsample: 0.8\n",
      "\u001b[34m\u001b[1mwandb\u001b[0m: \u001b[33mWARNING\u001b[0m Ignored wandb.init() arg project when running a sweep.\n",
      "\u001b[34m\u001b[1mwandb\u001b[0m: \u001b[33mWARNING\u001b[0m Ignored wandb.init() arg entity when running a sweep.\n"
     ]
    },
    {
     "data": {
      "text/html": [
       "Tracking run with wandb version 0.16.6"
      ],
      "text/plain": [
       "<IPython.core.display.HTML object>"
      ]
     },
     "metadata": {},
     "output_type": "display_data"
    },
    {
     "data": {
      "text/html": [
       "Run data is saved locally in <code>/Users/jacob/Code/2024SP-MSAI-Practicum/wandb/run-20240421_212510-f582dv2d</code>"
      ],
      "text/plain": [
       "<IPython.core.display.HTML object>"
      ]
     },
     "metadata": {},
     "output_type": "display_data"
    },
    {
     "data": {
      "text/html": [
       "Syncing run <strong><a href='https://wandb.ai/jacobnu/xbg_grid_diamonds/runs/f582dv2d' target=\"_blank\">trim-sweep-35</a></strong> to <a href='https://wandb.ai/jacobnu/xbg_grid_diamonds' target=\"_blank\">Weights & Biases</a> (<a href='https://wandb.me/run' target=\"_blank\">docs</a>)<br/>Sweep page: <a href='https://wandb.ai/jacobnu/xbg_grid_diamonds/sweeps/hcbnoalh' target=\"_blank\">https://wandb.ai/jacobnu/xbg_grid_diamonds/sweeps/hcbnoalh</a>"
      ],
      "text/plain": [
       "<IPython.core.display.HTML object>"
      ]
     },
     "metadata": {},
     "output_type": "display_data"
    },
    {
     "data": {
      "text/html": [
       " View project at <a href='https://wandb.ai/jacobnu/xbg_grid_diamonds' target=\"_blank\">https://wandb.ai/jacobnu/xbg_grid_diamonds</a>"
      ],
      "text/plain": [
       "<IPython.core.display.HTML object>"
      ]
     },
     "metadata": {},
     "output_type": "display_data"
    },
    {
     "data": {
      "text/html": [
       " View sweep at <a href='https://wandb.ai/jacobnu/xbg_grid_diamonds/sweeps/hcbnoalh' target=\"_blank\">https://wandb.ai/jacobnu/xbg_grid_diamonds/sweeps/hcbnoalh</a>"
      ],
      "text/plain": [
       "<IPython.core.display.HTML object>"
      ]
     },
     "metadata": {},
     "output_type": "display_data"
    },
    {
     "data": {
      "text/html": [
       " View run at <a href='https://wandb.ai/jacobnu/xbg_grid_diamonds/runs/f582dv2d' target=\"_blank\">https://wandb.ai/jacobnu/xbg_grid_diamonds/runs/f582dv2d</a>"
      ],
      "text/plain": [
       "<IPython.core.display.HTML object>"
      ]
     },
     "metadata": {},
     "output_type": "display_data"
    },
    {
     "name": "stdout",
     "output_type": "stream",
     "text": [
      "[0]\tTest-rmse:3410.18642\n",
      "[1]\tTest-rmse:2920.66025\n",
      "[2]\tTest-rmse:2507.47775\n",
      "[3]\tTest-rmse:2157.83427\n",
      "[4]\tTest-rmse:1861.37867\n",
      "[5]\tTest-rmse:1613.01496\n",
      "[6]\tTest-rmse:1404.65659\n",
      "[7]\tTest-rmse:1232.10037\n",
      "[8]\tTest-rmse:1089.03358\n",
      "[9]\tTest-rmse:973.08192\n",
      "[10]\tTest-rmse:876.81814\n",
      "[11]\tTest-rmse:799.55275\n",
      "[12]\tTest-rmse:738.27150\n",
      "[13]\tTest-rmse:691.13809\n",
      "[14]\tTest-rmse:652.90233\n",
      "[15]\tTest-rmse:623.70746\n",
      "[16]\tTest-rmse:600.89970\n",
      "[17]\tTest-rmse:583.59890\n",
      "[18]\tTest-rmse:570.08472\n",
      "[19]\tTest-rmse:560.69888\n",
      "[20]\tTest-rmse:553.61848\n",
      "[21]\tTest-rmse:549.16109\n",
      "[22]\tTest-rmse:544.73013\n",
      "[23]\tTest-rmse:543.32069\n",
      "[24]\tTest-rmse:540.36269\n",
      "[25]\tTest-rmse:539.02348\n",
      "[26]\tTest-rmse:537.65808\n",
      "[27]\tTest-rmse:537.75512\n",
      "[28]\tTest-rmse:536.91414\n",
      "[29]\tTest-rmse:536.23175\n",
      "[30]\tTest-rmse:536.11829\n",
      "[31]\tTest-rmse:536.43833\n",
      "[32]\tTest-rmse:536.41354\n",
      "[33]\tTest-rmse:536.21277\n",
      "[34]\tTest-rmse:535.59572\n",
      "[35]\tTest-rmse:535.43481\n",
      "[36]\tTest-rmse:535.46964\n",
      "[37]\tTest-rmse:535.58107\n",
      "[38]\tTest-rmse:534.67752\n"
     ]
    },
    {
     "name": "stderr",
     "output_type": "stream",
     "text": [
      "[21:25:11] WARNING: /Users/runner/work/xgboost/xgboost/src/learner.cc:742: \n",
      "Parameters: { \"n_estimators\" } are not used.\n",
      "\n"
     ]
    },
    {
     "name": "stdout",
     "output_type": "stream",
     "text": [
      "[39]\tTest-rmse:535.27848\n",
      "[40]\tTest-rmse:535.15131\n",
      "[41]\tTest-rmse:535.39758\n",
      "[42]\tTest-rmse:534.90699\n",
      "[43]\tTest-rmse:534.99272\n",
      "[44]\tTest-rmse:535.13572\n",
      "[45]\tTest-rmse:535.50436\n",
      "[46]\tTest-rmse:535.95100\n",
      "[47]\tTest-rmse:536.67522\n"
     ]
    },
    {
     "data": {
      "text/html": [
       "<style>\n",
       "    table.wandb td:nth-child(1) { padding: 0 10px; text-align: left ; width: auto;} td:nth-child(2) {text-align: left ; width: 100%}\n",
       "    .wandb-row { display: flex; flex-direction: row; flex-wrap: wrap; justify-content: flex-start; width: 100% }\n",
       "    .wandb-col { display: flex; flex-direction: column; flex-basis: 100%; flex: 1; padding: 10px; }\n",
       "    </style>\n",
       "<div class=\"wandb-row\"><div class=\"wandb-col\"><h3>Run history:</h3><br/><table class=\"wandb\"><tr><td>rmse</td><td>▁</td></tr></table><br/></div><div class=\"wandb-col\"><h3>Run summary:</h3><br/><table class=\"wandb\"><tr><td>rmse</td><td>534.67752</td></tr></table><br/></div></div>"
      ],
      "text/plain": [
       "<IPython.core.display.HTML object>"
      ]
     },
     "metadata": {},
     "output_type": "display_data"
    },
    {
     "data": {
      "text/html": [
       " View run <strong style=\"color:#cdcd00\">trim-sweep-35</strong> at: <a href='https://wandb.ai/jacobnu/xbg_grid_diamonds/runs/f582dv2d' target=\"_blank\">https://wandb.ai/jacobnu/xbg_grid_diamonds/runs/f582dv2d</a><br/> View project at: <a href='https://wandb.ai/jacobnu/xbg_grid_diamonds' target=\"_blank\">https://wandb.ai/jacobnu/xbg_grid_diamonds</a><br/>Synced 5 W&B file(s), 0 media file(s), 0 artifact file(s) and 0 other file(s)"
      ],
      "text/plain": [
       "<IPython.core.display.HTML object>"
      ]
     },
     "metadata": {},
     "output_type": "display_data"
    },
    {
     "data": {
      "text/html": [
       "Find logs at: <code>./wandb/run-20240421_212510-f582dv2d/logs</code>"
      ],
      "text/plain": [
       "<IPython.core.display.HTML object>"
      ]
     },
     "metadata": {},
     "output_type": "display_data"
    },
    {
     "name": "stderr",
     "output_type": "stream",
     "text": [
      "\u001b[34m\u001b[1mwandb\u001b[0m: Agent Starting Run: fplouayx with config:\n",
      "\u001b[34m\u001b[1mwandb\u001b[0m: \tlearning_rate: 0.15\n",
      "\u001b[34m\u001b[1mwandb\u001b[0m: \tmax_depth: 9\n",
      "\u001b[34m\u001b[1mwandb\u001b[0m: \tn_estimators: 200\n",
      "\u001b[34m\u001b[1mwandb\u001b[0m: \tsubsample: 0.9\n",
      "\u001b[34m\u001b[1mwandb\u001b[0m: \u001b[33mWARNING\u001b[0m Ignored wandb.init() arg project when running a sweep.\n",
      "\u001b[34m\u001b[1mwandb\u001b[0m: \u001b[33mWARNING\u001b[0m Ignored wandb.init() arg entity when running a sweep.\n"
     ]
    },
    {
     "data": {
      "text/html": [
       "Tracking run with wandb version 0.16.6"
      ],
      "text/plain": [
       "<IPython.core.display.HTML object>"
      ]
     },
     "metadata": {},
     "output_type": "display_data"
    },
    {
     "data": {
      "text/html": [
       "Run data is saved locally in <code>/Users/jacob/Code/2024SP-MSAI-Practicum/wandb/run-20240421_212520-fplouayx</code>"
      ],
      "text/plain": [
       "<IPython.core.display.HTML object>"
      ]
     },
     "metadata": {},
     "output_type": "display_data"
    },
    {
     "data": {
      "text/html": [
       "Syncing run <strong><a href='https://wandb.ai/jacobnu/xbg_grid_diamonds/runs/fplouayx' target=\"_blank\">driven-sweep-36</a></strong> to <a href='https://wandb.ai/jacobnu/xbg_grid_diamonds' target=\"_blank\">Weights & Biases</a> (<a href='https://wandb.me/run' target=\"_blank\">docs</a>)<br/>Sweep page: <a href='https://wandb.ai/jacobnu/xbg_grid_diamonds/sweeps/hcbnoalh' target=\"_blank\">https://wandb.ai/jacobnu/xbg_grid_diamonds/sweeps/hcbnoalh</a>"
      ],
      "text/plain": [
       "<IPython.core.display.HTML object>"
      ]
     },
     "metadata": {},
     "output_type": "display_data"
    },
    {
     "data": {
      "text/html": [
       " View project at <a href='https://wandb.ai/jacobnu/xbg_grid_diamonds' target=\"_blank\">https://wandb.ai/jacobnu/xbg_grid_diamonds</a>"
      ],
      "text/plain": [
       "<IPython.core.display.HTML object>"
      ]
     },
     "metadata": {},
     "output_type": "display_data"
    },
    {
     "data": {
      "text/html": [
       " View sweep at <a href='https://wandb.ai/jacobnu/xbg_grid_diamonds/sweeps/hcbnoalh' target=\"_blank\">https://wandb.ai/jacobnu/xbg_grid_diamonds/sweeps/hcbnoalh</a>"
      ],
      "text/plain": [
       "<IPython.core.display.HTML object>"
      ]
     },
     "metadata": {},
     "output_type": "display_data"
    },
    {
     "data": {
      "text/html": [
       " View run at <a href='https://wandb.ai/jacobnu/xbg_grid_diamonds/runs/fplouayx' target=\"_blank\">https://wandb.ai/jacobnu/xbg_grid_diamonds/runs/fplouayx</a>"
      ],
      "text/plain": [
       "<IPython.core.display.HTML object>"
      ]
     },
     "metadata": {},
     "output_type": "display_data"
    },
    {
     "name": "stdout",
     "output_type": "stream",
     "text": [
      "[0]\tTest-rmse:3409.45755\n",
      "[1]\tTest-rmse:2920.73436\n",
      "[2]\tTest-rmse:2507.09864\n",
      "[3]\tTest-rmse:2156.22946\n",
      "[4]\tTest-rmse:1861.52029\n",
      "[5]\tTest-rmse:1613.88236\n",
      "[6]\tTest-rmse:1405.33265\n",
      "[7]\tTest-rmse:1234.44998\n",
      "[8]\tTest-rmse:1091.07478\n",
      "[9]\tTest-rmse:974.06410\n",
      "[10]\tTest-rmse:878.08071\n",
      "[11]\tTest-rmse:800.35065\n",
      "[12]\tTest-rmse:738.67849\n",
      "[13]\tTest-rmse:691.52308\n",
      "[14]\tTest-rmse:654.35544\n",
      "[15]\tTest-rmse:626.20615\n",
      "[16]\tTest-rmse:604.52916\n",
      "[17]\tTest-rmse:587.61772\n",
      "[18]\tTest-rmse:576.49049\n",
      "[19]\tTest-rmse:566.34756\n",
      "[20]\tTest-rmse:558.50381\n",
      "[21]\tTest-rmse:553.42570\n",
      "[22]\tTest-rmse:549.29385\n",
      "[23]\tTest-rmse:546.69440\n",
      "[24]\tTest-rmse:544.70096\n",
      "[25]\tTest-rmse:543.05302\n",
      "[26]\tTest-rmse:541.71193\n",
      "[27]\tTest-rmse:541.18525\n",
      "[28]\tTest-rmse:542.13305\n",
      "[29]\tTest-rmse:541.72044\n",
      "[30]\tTest-rmse:541.82826\n",
      "[31]\tTest-rmse:541.33712\n",
      "[32]\tTest-rmse:541.05227\n",
      "[33]\tTest-rmse:540.22952\n",
      "[34]\tTest-rmse:540.84486\n",
      "[35]\tTest-rmse:540.20484\n",
      "[36]\tTest-rmse:541.06491\n"
     ]
    },
    {
     "name": "stderr",
     "output_type": "stream",
     "text": [
      "[21:25:21] WARNING: /Users/runner/work/xgboost/xgboost/src/learner.cc:742: \n",
      "Parameters: { \"n_estimators\" } are not used.\n",
      "\n"
     ]
    },
    {
     "name": "stdout",
     "output_type": "stream",
     "text": [
      "[37]\tTest-rmse:540.81629\n",
      "[38]\tTest-rmse:540.98672\n",
      "[39]\tTest-rmse:540.74946\n",
      "[40]\tTest-rmse:541.34938\n",
      "[41]\tTest-rmse:540.71269\n",
      "[42]\tTest-rmse:540.39805\n",
      "[43]\tTest-rmse:540.34408\n",
      "[44]\tTest-rmse:540.58381\n",
      "[45]\tTest-rmse:540.67685\n"
     ]
    },
    {
     "data": {
      "text/html": [
       "<style>\n",
       "    table.wandb td:nth-child(1) { padding: 0 10px; text-align: left ; width: auto;} td:nth-child(2) {text-align: left ; width: 100%}\n",
       "    .wandb-row { display: flex; flex-direction: row; flex-wrap: wrap; justify-content: flex-start; width: 100% }\n",
       "    .wandb-col { display: flex; flex-direction: column; flex-basis: 100%; flex: 1; padding: 10px; }\n",
       "    </style>\n",
       "<div class=\"wandb-row\"><div class=\"wandb-col\"><h3>Run history:</h3><br/><table class=\"wandb\"><tr><td>rmse</td><td>▁</td></tr></table><br/></div><div class=\"wandb-col\"><h3>Run summary:</h3><br/><table class=\"wandb\"><tr><td>rmse</td><td>540.20484</td></tr></table><br/></div></div>"
      ],
      "text/plain": [
       "<IPython.core.display.HTML object>"
      ]
     },
     "metadata": {},
     "output_type": "display_data"
    },
    {
     "data": {
      "text/html": [
       " View run <strong style=\"color:#cdcd00\">driven-sweep-36</strong> at: <a href='https://wandb.ai/jacobnu/xbg_grid_diamonds/runs/fplouayx' target=\"_blank\">https://wandb.ai/jacobnu/xbg_grid_diamonds/runs/fplouayx</a><br/> View project at: <a href='https://wandb.ai/jacobnu/xbg_grid_diamonds' target=\"_blank\">https://wandb.ai/jacobnu/xbg_grid_diamonds</a><br/>Synced 5 W&B file(s), 0 media file(s), 0 artifact file(s) and 0 other file(s)"
      ],
      "text/plain": [
       "<IPython.core.display.HTML object>"
      ]
     },
     "metadata": {},
     "output_type": "display_data"
    },
    {
     "data": {
      "text/html": [
       "Find logs at: <code>./wandb/run-20240421_212520-fplouayx/logs</code>"
      ],
      "text/plain": [
       "<IPython.core.display.HTML object>"
      ]
     },
     "metadata": {},
     "output_type": "display_data"
    },
    {
     "name": "stderr",
     "output_type": "stream",
     "text": [
      "\u001b[34m\u001b[1mwandb\u001b[0m: Sweep Agent: Waiting for job.\n",
      "\u001b[34m\u001b[1mwandb\u001b[0m: Job received.\n",
      "\u001b[34m\u001b[1mwandb\u001b[0m: Agent Starting Run: e01exs3l with config:\n",
      "\u001b[34m\u001b[1mwandb\u001b[0m: \tlearning_rate: 0.2\n",
      "\u001b[34m\u001b[1mwandb\u001b[0m: \tmax_depth: 5\n",
      "\u001b[34m\u001b[1mwandb\u001b[0m: \tn_estimators: 100\n",
      "\u001b[34m\u001b[1mwandb\u001b[0m: \tsubsample: 0.7\n",
      "\u001b[34m\u001b[1mwandb\u001b[0m: \u001b[33mWARNING\u001b[0m Ignored wandb.init() arg project when running a sweep.\n",
      "\u001b[34m\u001b[1mwandb\u001b[0m: \u001b[33mWARNING\u001b[0m Ignored wandb.init() arg entity when running a sweep.\n"
     ]
    },
    {
     "data": {
      "text/html": [
       "Tracking run with wandb version 0.16.6"
      ],
      "text/plain": [
       "<IPython.core.display.HTML object>"
      ]
     },
     "metadata": {},
     "output_type": "display_data"
    },
    {
     "data": {
      "text/html": [
       "Run data is saved locally in <code>/Users/jacob/Code/2024SP-MSAI-Practicum/wandb/run-20240421_212542-e01exs3l</code>"
      ],
      "text/plain": [
       "<IPython.core.display.HTML object>"
      ]
     },
     "metadata": {},
     "output_type": "display_data"
    },
    {
     "data": {
      "text/html": [
       "Syncing run <strong><a href='https://wandb.ai/jacobnu/xbg_grid_diamonds/runs/e01exs3l' target=\"_blank\">clean-sweep-37</a></strong> to <a href='https://wandb.ai/jacobnu/xbg_grid_diamonds' target=\"_blank\">Weights & Biases</a> (<a href='https://wandb.me/run' target=\"_blank\">docs</a>)<br/>Sweep page: <a href='https://wandb.ai/jacobnu/xbg_grid_diamonds/sweeps/hcbnoalh' target=\"_blank\">https://wandb.ai/jacobnu/xbg_grid_diamonds/sweeps/hcbnoalh</a>"
      ],
      "text/plain": [
       "<IPython.core.display.HTML object>"
      ]
     },
     "metadata": {},
     "output_type": "display_data"
    },
    {
     "data": {
      "text/html": [
       " View project at <a href='https://wandb.ai/jacobnu/xbg_grid_diamonds' target=\"_blank\">https://wandb.ai/jacobnu/xbg_grid_diamonds</a>"
      ],
      "text/plain": [
       "<IPython.core.display.HTML object>"
      ]
     },
     "metadata": {},
     "output_type": "display_data"
    },
    {
     "data": {
      "text/html": [
       " View sweep at <a href='https://wandb.ai/jacobnu/xbg_grid_diamonds/sweeps/hcbnoalh' target=\"_blank\">https://wandb.ai/jacobnu/xbg_grid_diamonds/sweeps/hcbnoalh</a>"
      ],
      "text/plain": [
       "<IPython.core.display.HTML object>"
      ]
     },
     "metadata": {},
     "output_type": "display_data"
    },
    {
     "data": {
      "text/html": [
       " View run at <a href='https://wandb.ai/jacobnu/xbg_grid_diamonds/runs/e01exs3l' target=\"_blank\">https://wandb.ai/jacobnu/xbg_grid_diamonds/runs/e01exs3l</a>"
      ],
      "text/plain": [
       "<IPython.core.display.HTML object>"
      ]
     },
     "metadata": {},
     "output_type": "display_data"
    },
    {
     "name": "stdout",
     "output_type": "stream",
     "text": [
      "[0]\tTest-rmse:3244.04671\n",
      "[1]\tTest-rmse:2650.24557\n",
      "[2]\tTest-rmse:2189.72166\n",
      "[3]\tTest-rmse:1820.00229\n",
      "[4]\tTest-rmse:1524.13256\n",
      "[5]\tTest-rmse:1295.43856\n",
      "[6]\tTest-rmse:1120.77816\n",
      "[7]\tTest-rmse:982.26146\n",
      "[8]\tTest-rmse:882.08033\n",
      "[9]\tTest-rmse:802.78174\n",
      "[10]\tTest-rmse:740.78176\n",
      "[11]\tTest-rmse:697.24708\n",
      "[12]\tTest-rmse:661.85561\n",
      "[13]\tTest-rmse:641.54265\n",
      "[14]\tTest-rmse:621.99060\n",
      "[15]\tTest-rmse:610.44681\n",
      "[16]\tTest-rmse:599.84475\n",
      "[17]\tTest-rmse:592.59990\n",
      "[18]\tTest-rmse:585.22425\n",
      "[19]\tTest-rmse:578.98963\n",
      "[20]\tTest-rmse:573.27715\n",
      "[21]\tTest-rmse:570.10945\n",
      "[22]\tTest-rmse:566.71569\n",
      "[23]\tTest-rmse:565.15869\n",
      "[24]\tTest-rmse:562.80848\n",
      "[25]\tTest-rmse:560.88019\n",
      "[26]\tTest-rmse:557.62543\n",
      "[27]\tTest-rmse:557.18493\n",
      "[28]\tTest-rmse:555.56310\n",
      "[29]\tTest-rmse:554.39652\n",
      "[30]\tTest-rmse:553.37660\n",
      "[31]\tTest-rmse:552.67480\n",
      "[32]\tTest-rmse:552.15938\n",
      "[33]\tTest-rmse:550.73456\n",
      "[34]\tTest-rmse:550.37386\n",
      "[35]\tTest-rmse:550.24245\n",
      "[36]\tTest-rmse:549.91165\n",
      "[37]\tTest-rmse:549.22463\n",
      "[38]\tTest-rmse:548.71340\n",
      "[39]\tTest-rmse:549.35089\n",
      "[40]\tTest-rmse:549.04069\n",
      "[41]\tTest-rmse:549.24185\n",
      "[42]\tTest-rmse:548.57672\n",
      "[43]\tTest-rmse:549.03586\n",
      "[44]\tTest-rmse:549.05342\n",
      "[45]\tTest-rmse:549.17026\n",
      "[46]\tTest-rmse:548.82226\n",
      "[47]\tTest-rmse:548.81495\n",
      "[48]\tTest-rmse:549.17865\n",
      "[49]\tTest-rmse:548.14989\n",
      "[50]\tTest-rmse:548.47000\n",
      "[51]\tTest-rmse:546.99473\n",
      "[52]\tTest-rmse:546.79078\n",
      "[53]\tTest-rmse:546.70750\n",
      "[54]\tTest-rmse:546.18175\n",
      "[55]\tTest-rmse:546.16474\n",
      "[56]\tTest-rmse:546.70095\n",
      "[57]\tTest-rmse:546.71408\n",
      "[58]\tTest-rmse:546.52647\n",
      "[59]\tTest-rmse:546.61511\n",
      "[60]\tTest-rmse:546.44915\n",
      "[61]\tTest-rmse:546.79755\n",
      "[62]\tTest-rmse:546.53504\n",
      "[63]\tTest-rmse:546.15511\n",
      "[64]\tTest-rmse:546.89459\n",
      "[65]\tTest-rmse:546.23519\n",
      "[66]\tTest-rmse:546.03845\n",
      "[67]\tTest-rmse:546.32895\n",
      "[68]\tTest-rmse:545.87696\n",
      "[69]\tTest-rmse:545.48053\n",
      "[70]\tTest-rmse:545.85139\n",
      "[71]\tTest-rmse:544.85265\n",
      "[72]\tTest-rmse:545.11008\n",
      "[73]\tTest-rmse:545.37337\n",
      "[74]\tTest-rmse:545.05403\n",
      "[75]\tTest-rmse:545.51204\n",
      "[76]\tTest-rmse:545.30844\n",
      "[77]\tTest-rmse:545.34888\n",
      "[78]\tTest-rmse:545.50883\n",
      "[79]\tTest-rmse:545.43834\n",
      "[80]\tTest-rmse:545.17144\n",
      "[81]\tTest-rmse:544.81842\n",
      "[82]\tTest-rmse:544.65662\n",
      "[83]\tTest-rmse:545.15213\n",
      "[84]\tTest-rmse:544.41296\n"
     ]
    },
    {
     "name": "stderr",
     "output_type": "stream",
     "text": [
      "[21:25:44] WARNING: /Users/runner/work/xgboost/xgboost/src/learner.cc:742: \n",
      "Parameters: { \"n_estimators\" } are not used.\n",
      "\n"
     ]
    },
    {
     "name": "stdout",
     "output_type": "stream",
     "text": [
      "[85]\tTest-rmse:544.35139\n",
      "[86]\tTest-rmse:544.56856\n",
      "[87]\tTest-rmse:544.54434\n",
      "[88]\tTest-rmse:544.86016\n",
      "[89]\tTest-rmse:544.82594\n",
      "[90]\tTest-rmse:544.56781\n",
      "[91]\tTest-rmse:544.56034\n",
      "[92]\tTest-rmse:544.69817\n",
      "[93]\tTest-rmse:544.77799\n",
      "[94]\tTest-rmse:545.10968\n"
     ]
    },
    {
     "data": {
      "text/html": [
       "<style>\n",
       "    table.wandb td:nth-child(1) { padding: 0 10px; text-align: left ; width: auto;} td:nth-child(2) {text-align: left ; width: 100%}\n",
       "    .wandb-row { display: flex; flex-direction: row; flex-wrap: wrap; justify-content: flex-start; width: 100% }\n",
       "    .wandb-col { display: flex; flex-direction: column; flex-basis: 100%; flex: 1; padding: 10px; }\n",
       "    </style>\n",
       "<div class=\"wandb-row\"><div class=\"wandb-col\"><h3>Run history:</h3><br/><table class=\"wandb\"><tr><td>rmse</td><td>▁</td></tr></table><br/></div><div class=\"wandb-col\"><h3>Run summary:</h3><br/><table class=\"wandb\"><tr><td>rmse</td><td>544.35139</td></tr></table><br/></div></div>"
      ],
      "text/plain": [
       "<IPython.core.display.HTML object>"
      ]
     },
     "metadata": {},
     "output_type": "display_data"
    },
    {
     "data": {
      "text/html": [
       " View run <strong style=\"color:#cdcd00\">clean-sweep-37</strong> at: <a href='https://wandb.ai/jacobnu/xbg_grid_diamonds/runs/e01exs3l' target=\"_blank\">https://wandb.ai/jacobnu/xbg_grid_diamonds/runs/e01exs3l</a><br/> View project at: <a href='https://wandb.ai/jacobnu/xbg_grid_diamonds' target=\"_blank\">https://wandb.ai/jacobnu/xbg_grid_diamonds</a><br/>Synced 5 W&B file(s), 0 media file(s), 0 artifact file(s) and 0 other file(s)"
      ],
      "text/plain": [
       "<IPython.core.display.HTML object>"
      ]
     },
     "metadata": {},
     "output_type": "display_data"
    },
    {
     "data": {
      "text/html": [
       "Find logs at: <code>./wandb/run-20240421_212542-e01exs3l/logs</code>"
      ],
      "text/plain": [
       "<IPython.core.display.HTML object>"
      ]
     },
     "metadata": {},
     "output_type": "display_data"
    },
    {
     "name": "stderr",
     "output_type": "stream",
     "text": [
      "\u001b[34m\u001b[1mwandb\u001b[0m: Agent Starting Run: xsq53ubl with config:\n",
      "\u001b[34m\u001b[1mwandb\u001b[0m: \tlearning_rate: 0.2\n",
      "\u001b[34m\u001b[1mwandb\u001b[0m: \tmax_depth: 5\n",
      "\u001b[34m\u001b[1mwandb\u001b[0m: \tn_estimators: 100\n",
      "\u001b[34m\u001b[1mwandb\u001b[0m: \tsubsample: 0.8\n",
      "\u001b[34m\u001b[1mwandb\u001b[0m: \u001b[33mWARNING\u001b[0m Ignored wandb.init() arg project when running a sweep.\n",
      "\u001b[34m\u001b[1mwandb\u001b[0m: \u001b[33mWARNING\u001b[0m Ignored wandb.init() arg entity when running a sweep.\n"
     ]
    },
    {
     "data": {
      "text/html": [
       "Tracking run with wandb version 0.16.6"
      ],
      "text/plain": [
       "<IPython.core.display.HTML object>"
      ]
     },
     "metadata": {},
     "output_type": "display_data"
    },
    {
     "data": {
      "text/html": [
       "Run data is saved locally in <code>/Users/jacob/Code/2024SP-MSAI-Practicum/wandb/run-20240421_212554-xsq53ubl</code>"
      ],
      "text/plain": [
       "<IPython.core.display.HTML object>"
      ]
     },
     "metadata": {},
     "output_type": "display_data"
    },
    {
     "data": {
      "text/html": [
       "Syncing run <strong><a href='https://wandb.ai/jacobnu/xbg_grid_diamonds/runs/xsq53ubl' target=\"_blank\">crisp-sweep-38</a></strong> to <a href='https://wandb.ai/jacobnu/xbg_grid_diamonds' target=\"_blank\">Weights & Biases</a> (<a href='https://wandb.me/run' target=\"_blank\">docs</a>)<br/>Sweep page: <a href='https://wandb.ai/jacobnu/xbg_grid_diamonds/sweeps/hcbnoalh' target=\"_blank\">https://wandb.ai/jacobnu/xbg_grid_diamonds/sweeps/hcbnoalh</a>"
      ],
      "text/plain": [
       "<IPython.core.display.HTML object>"
      ]
     },
     "metadata": {},
     "output_type": "display_data"
    },
    {
     "data": {
      "text/html": [
       " View project at <a href='https://wandb.ai/jacobnu/xbg_grid_diamonds' target=\"_blank\">https://wandb.ai/jacobnu/xbg_grid_diamonds</a>"
      ],
      "text/plain": [
       "<IPython.core.display.HTML object>"
      ]
     },
     "metadata": {},
     "output_type": "display_data"
    },
    {
     "data": {
      "text/html": [
       " View sweep at <a href='https://wandb.ai/jacobnu/xbg_grid_diamonds/sweeps/hcbnoalh' target=\"_blank\">https://wandb.ai/jacobnu/xbg_grid_diamonds/sweeps/hcbnoalh</a>"
      ],
      "text/plain": [
       "<IPython.core.display.HTML object>"
      ]
     },
     "metadata": {},
     "output_type": "display_data"
    },
    {
     "data": {
      "text/html": [
       " View run at <a href='https://wandb.ai/jacobnu/xbg_grid_diamonds/runs/xsq53ubl' target=\"_blank\">https://wandb.ai/jacobnu/xbg_grid_diamonds/runs/xsq53ubl</a>"
      ],
      "text/plain": [
       "<IPython.core.display.HTML object>"
      ]
     },
     "metadata": {},
     "output_type": "display_data"
    },
    {
     "name": "stdout",
     "output_type": "stream",
     "text": [
      "[0]\tTest-rmse:3243.54026\n",
      "[1]\tTest-rmse:2650.69209\n",
      "[2]\tTest-rmse:2184.45866\n",
      "[3]\tTest-rmse:1815.86476\n",
      "[4]\tTest-rmse:1523.30950\n",
      "[5]\tTest-rmse:1294.71235\n",
      "[6]\tTest-rmse:1118.13724\n",
      "[7]\tTest-rmse:980.99044\n",
      "[8]\tTest-rmse:881.56161\n",
      "[9]\tTest-rmse:804.98253\n",
      "[10]\tTest-rmse:743.32426\n",
      "[11]\tTest-rmse:696.33271\n",
      "[12]\tTest-rmse:661.93565\n",
      "[13]\tTest-rmse:637.75514\n",
      "[14]\tTest-rmse:620.03195\n",
      "[15]\tTest-rmse:605.52960\n",
      "[16]\tTest-rmse:595.85311\n",
      "[17]\tTest-rmse:587.49401\n",
      "[18]\tTest-rmse:581.36362\n",
      "[19]\tTest-rmse:576.22869\n",
      "[20]\tTest-rmse:572.18677\n",
      "[21]\tTest-rmse:570.11609\n",
      "[22]\tTest-rmse:565.87786\n",
      "[23]\tTest-rmse:563.67816\n",
      "[24]\tTest-rmse:561.86445\n",
      "[25]\tTest-rmse:558.72316\n",
      "[26]\tTest-rmse:557.19173\n",
      "[27]\tTest-rmse:556.07392\n",
      "[28]\tTest-rmse:554.66682\n",
      "[29]\tTest-rmse:553.48398\n",
      "[30]\tTest-rmse:552.48682\n",
      "[31]\tTest-rmse:550.65006\n",
      "[32]\tTest-rmse:550.49167\n",
      "[33]\tTest-rmse:548.38040\n",
      "[34]\tTest-rmse:548.38996\n",
      "[35]\tTest-rmse:548.15500\n",
      "[36]\tTest-rmse:547.87199\n",
      "[37]\tTest-rmse:547.74939\n",
      "[38]\tTest-rmse:547.63178\n",
      "[39]\tTest-rmse:547.56472\n",
      "[40]\tTest-rmse:547.11857\n",
      "[41]\tTest-rmse:547.15034\n",
      "[42]\tTest-rmse:547.27348\n",
      "[43]\tTest-rmse:547.00932\n",
      "[44]\tTest-rmse:546.05195\n",
      "[45]\tTest-rmse:546.22108\n",
      "[46]\tTest-rmse:545.98128\n",
      "[47]\tTest-rmse:545.70745\n",
      "[48]\tTest-rmse:545.48036\n",
      "[49]\tTest-rmse:545.03383\n",
      "[50]\tTest-rmse:544.53060\n",
      "[51]\tTest-rmse:543.66424\n",
      "[52]\tTest-rmse:543.04780\n",
      "[53]\tTest-rmse:543.00423\n",
      "[54]\tTest-rmse:543.37361\n",
      "[55]\tTest-rmse:542.52064\n",
      "[56]\tTest-rmse:542.57194\n",
      "[57]\tTest-rmse:542.18352\n",
      "[58]\tTest-rmse:542.15576\n",
      "[59]\tTest-rmse:541.73995\n",
      "[60]\tTest-rmse:541.47282\n",
      "[61]\tTest-rmse:542.02796\n",
      "[62]\tTest-rmse:542.20531\n",
      "[63]\tTest-rmse:541.67518\n",
      "[64]\tTest-rmse:541.51970\n",
      "[65]\tTest-rmse:541.40428\n",
      "[66]\tTest-rmse:541.22025\n",
      "[67]\tTest-rmse:541.05898\n",
      "[68]\tTest-rmse:540.83394\n",
      "[69]\tTest-rmse:540.71163\n",
      "[70]\tTest-rmse:540.79473\n",
      "[71]\tTest-rmse:541.84795\n"
     ]
    },
    {
     "name": "stderr",
     "output_type": "stream",
     "text": [
      "[21:25:56] WARNING: /Users/runner/work/xgboost/xgboost/src/learner.cc:742: \n",
      "Parameters: { \"n_estimators\" } are not used.\n",
      "\n"
     ]
    },
    {
     "name": "stdout",
     "output_type": "stream",
     "text": [
      "[72]\tTest-rmse:541.99970\n",
      "[73]\tTest-rmse:541.42214\n",
      "[74]\tTest-rmse:540.91222\n",
      "[75]\tTest-rmse:540.76847\n",
      "[76]\tTest-rmse:540.94262\n",
      "[77]\tTest-rmse:540.67017\n",
      "[78]\tTest-rmse:540.94652\n",
      "[79]\tTest-rmse:541.10054\n",
      "[80]\tTest-rmse:541.23022\n",
      "[81]\tTest-rmse:541.18636\n",
      "[82]\tTest-rmse:541.04479\n",
      "[83]\tTest-rmse:541.13784\n",
      "[84]\tTest-rmse:541.46115\n",
      "[85]\tTest-rmse:540.95801\n",
      "[86]\tTest-rmse:541.25430\n",
      "[87]\tTest-rmse:540.98175\n"
     ]
    },
    {
     "data": {
      "text/html": [
       "<style>\n",
       "    table.wandb td:nth-child(1) { padding: 0 10px; text-align: left ; width: auto;} td:nth-child(2) {text-align: left ; width: 100%}\n",
       "    .wandb-row { display: flex; flex-direction: row; flex-wrap: wrap; justify-content: flex-start; width: 100% }\n",
       "    .wandb-col { display: flex; flex-direction: column; flex-basis: 100%; flex: 1; padding: 10px; }\n",
       "    </style>\n",
       "<div class=\"wandb-row\"><div class=\"wandb-col\"><h3>Run history:</h3><br/><table class=\"wandb\"><tr><td>rmse</td><td>▁</td></tr></table><br/></div><div class=\"wandb-col\"><h3>Run summary:</h3><br/><table class=\"wandb\"><tr><td>rmse</td><td>540.67017</td></tr></table><br/></div></div>"
      ],
      "text/plain": [
       "<IPython.core.display.HTML object>"
      ]
     },
     "metadata": {},
     "output_type": "display_data"
    },
    {
     "data": {
      "text/html": [
       " View run <strong style=\"color:#cdcd00\">crisp-sweep-38</strong> at: <a href='https://wandb.ai/jacobnu/xbg_grid_diamonds/runs/xsq53ubl' target=\"_blank\">https://wandb.ai/jacobnu/xbg_grid_diamonds/runs/xsq53ubl</a><br/> View project at: <a href='https://wandb.ai/jacobnu/xbg_grid_diamonds' target=\"_blank\">https://wandb.ai/jacobnu/xbg_grid_diamonds</a><br/>Synced 5 W&B file(s), 0 media file(s), 0 artifact file(s) and 0 other file(s)"
      ],
      "text/plain": [
       "<IPython.core.display.HTML object>"
      ]
     },
     "metadata": {},
     "output_type": "display_data"
    },
    {
     "data": {
      "text/html": [
       "Find logs at: <code>./wandb/run-20240421_212554-xsq53ubl/logs</code>"
      ],
      "text/plain": [
       "<IPython.core.display.HTML object>"
      ]
     },
     "metadata": {},
     "output_type": "display_data"
    },
    {
     "name": "stderr",
     "output_type": "stream",
     "text": [
      "\u001b[34m\u001b[1mwandb\u001b[0m: Agent Starting Run: ofhuc5ym with config:\n",
      "\u001b[34m\u001b[1mwandb\u001b[0m: \tlearning_rate: 0.2\n",
      "\u001b[34m\u001b[1mwandb\u001b[0m: \tmax_depth: 5\n",
      "\u001b[34m\u001b[1mwandb\u001b[0m: \tn_estimators: 100\n",
      "\u001b[34m\u001b[1mwandb\u001b[0m: \tsubsample: 0.9\n",
      "\u001b[34m\u001b[1mwandb\u001b[0m: \u001b[33mWARNING\u001b[0m Ignored wandb.init() arg project when running a sweep.\n",
      "\u001b[34m\u001b[1mwandb\u001b[0m: \u001b[33mWARNING\u001b[0m Ignored wandb.init() arg entity when running a sweep.\n"
     ]
    },
    {
     "data": {
      "text/html": [
       "Tracking run with wandb version 0.16.6"
      ],
      "text/plain": [
       "<IPython.core.display.HTML object>"
      ]
     },
     "metadata": {},
     "output_type": "display_data"
    },
    {
     "data": {
      "text/html": [
       "Run data is saved locally in <code>/Users/jacob/Code/2024SP-MSAI-Practicum/wandb/run-20240421_212610-ofhuc5ym</code>"
      ],
      "text/plain": [
       "<IPython.core.display.HTML object>"
      ]
     },
     "metadata": {},
     "output_type": "display_data"
    },
    {
     "data": {
      "text/html": [
       "Syncing run <strong><a href='https://wandb.ai/jacobnu/xbg_grid_diamonds/runs/ofhuc5ym' target=\"_blank\">revived-sweep-39</a></strong> to <a href='https://wandb.ai/jacobnu/xbg_grid_diamonds' target=\"_blank\">Weights & Biases</a> (<a href='https://wandb.me/run' target=\"_blank\">docs</a>)<br/>Sweep page: <a href='https://wandb.ai/jacobnu/xbg_grid_diamonds/sweeps/hcbnoalh' target=\"_blank\">https://wandb.ai/jacobnu/xbg_grid_diamonds/sweeps/hcbnoalh</a>"
      ],
      "text/plain": [
       "<IPython.core.display.HTML object>"
      ]
     },
     "metadata": {},
     "output_type": "display_data"
    },
    {
     "data": {
      "text/html": [
       " View project at <a href='https://wandb.ai/jacobnu/xbg_grid_diamonds' target=\"_blank\">https://wandb.ai/jacobnu/xbg_grid_diamonds</a>"
      ],
      "text/plain": [
       "<IPython.core.display.HTML object>"
      ]
     },
     "metadata": {},
     "output_type": "display_data"
    },
    {
     "data": {
      "text/html": [
       " View sweep at <a href='https://wandb.ai/jacobnu/xbg_grid_diamonds/sweeps/hcbnoalh' target=\"_blank\">https://wandb.ai/jacobnu/xbg_grid_diamonds/sweeps/hcbnoalh</a>"
      ],
      "text/plain": [
       "<IPython.core.display.HTML object>"
      ]
     },
     "metadata": {},
     "output_type": "display_data"
    },
    {
     "data": {
      "text/html": [
       " View run at <a href='https://wandb.ai/jacobnu/xbg_grid_diamonds/runs/ofhuc5ym' target=\"_blank\">https://wandb.ai/jacobnu/xbg_grid_diamonds/runs/ofhuc5ym</a>"
      ],
      "text/plain": [
       "<IPython.core.display.HTML object>"
      ]
     },
     "metadata": {},
     "output_type": "display_data"
    },
    {
     "name": "stdout",
     "output_type": "stream",
     "text": [
      "[0]\tTest-rmse:3244.29398\n",
      "[1]\tTest-rmse:2652.40652\n",
      "[2]\tTest-rmse:2181.07076\n",
      "[3]\tTest-rmse:1811.09414\n",
      "[4]\tTest-rmse:1521.87924\n",
      "[5]\tTest-rmse:1295.99565\n",
      "[6]\tTest-rmse:1123.18256\n",
      "[7]\tTest-rmse:983.15204\n",
      "[8]\tTest-rmse:883.29573\n",
      "[9]\tTest-rmse:801.56668\n",
      "[10]\tTest-rmse:745.64731\n",
      "[11]\tTest-rmse:698.10785\n",
      "[12]\tTest-rmse:662.85256\n",
      "[13]\tTest-rmse:639.96432\n",
      "[14]\tTest-rmse:621.84538\n",
      "[15]\tTest-rmse:606.94534\n",
      "[16]\tTest-rmse:597.42403\n",
      "[17]\tTest-rmse:588.47469\n",
      "[18]\tTest-rmse:582.20435\n",
      "[19]\tTest-rmse:576.72611\n",
      "[20]\tTest-rmse:571.40005\n",
      "[21]\tTest-rmse:567.20982\n",
      "[22]\tTest-rmse:565.71334\n",
      "[23]\tTest-rmse:563.16235\n",
      "[24]\tTest-rmse:561.48995\n",
      "[25]\tTest-rmse:560.10962\n",
      "[26]\tTest-rmse:558.87233\n",
      "[27]\tTest-rmse:557.08128\n",
      "[28]\tTest-rmse:555.51077\n",
      "[29]\tTest-rmse:554.74940\n",
      "[30]\tTest-rmse:553.77956\n",
      "[31]\tTest-rmse:553.02073\n",
      "[32]\tTest-rmse:551.92997\n",
      "[33]\tTest-rmse:550.12937\n",
      "[34]\tTest-rmse:547.87630\n",
      "[35]\tTest-rmse:547.23728\n",
      "[36]\tTest-rmse:546.59696\n",
      "[37]\tTest-rmse:546.10906\n",
      "[38]\tTest-rmse:545.27300\n",
      "[39]\tTest-rmse:545.15225\n",
      "[40]\tTest-rmse:544.49261\n",
      "[41]\tTest-rmse:544.62990\n",
      "[42]\tTest-rmse:544.49790\n",
      "[43]\tTest-rmse:544.12280\n",
      "[44]\tTest-rmse:543.16753\n",
      "[45]\tTest-rmse:542.62650\n",
      "[46]\tTest-rmse:542.25276\n",
      "[47]\tTest-rmse:541.72279\n",
      "[48]\tTest-rmse:541.52987\n",
      "[49]\tTest-rmse:541.08155\n",
      "[50]\tTest-rmse:540.90326\n",
      "[51]\tTest-rmse:541.18527\n",
      "[52]\tTest-rmse:541.02019\n",
      "[53]\tTest-rmse:540.90001\n",
      "[54]\tTest-rmse:540.63565\n",
      "[55]\tTest-rmse:540.68479\n",
      "[56]\tTest-rmse:540.30810\n",
      "[57]\tTest-rmse:540.04993\n",
      "[58]\tTest-rmse:540.50712\n",
      "[59]\tTest-rmse:540.22127\n",
      "[60]\tTest-rmse:540.23514\n",
      "[61]\tTest-rmse:540.22834\n",
      "[62]\tTest-rmse:540.56332\n",
      "[63]\tTest-rmse:540.72068\n",
      "[64]\tTest-rmse:540.41095\n",
      "[65]\tTest-rmse:540.05255\n",
      "[66]\tTest-rmse:540.13112\n"
     ]
    },
    {
     "name": "stderr",
     "output_type": "stream",
     "text": [
      "[21:26:12] WARNING: /Users/runner/work/xgboost/xgboost/src/learner.cc:742: \n",
      "Parameters: { \"n_estimators\" } are not used.\n",
      "\n"
     ]
    },
    {
     "data": {
      "text/html": [
       "<style>\n",
       "    table.wandb td:nth-child(1) { padding: 0 10px; text-align: left ; width: auto;} td:nth-child(2) {text-align: left ; width: 100%}\n",
       "    .wandb-row { display: flex; flex-direction: row; flex-wrap: wrap; justify-content: flex-start; width: 100% }\n",
       "    .wandb-col { display: flex; flex-direction: column; flex-basis: 100%; flex: 1; padding: 10px; }\n",
       "    </style>\n",
       "<div class=\"wandb-row\"><div class=\"wandb-col\"><h3>Run history:</h3><br/><table class=\"wandb\"><tr><td>rmse</td><td>▁</td></tr></table><br/></div><div class=\"wandb-col\"><h3>Run summary:</h3><br/><table class=\"wandb\"><tr><td>rmse</td><td>540.04993</td></tr></table><br/></div></div>"
      ],
      "text/plain": [
       "<IPython.core.display.HTML object>"
      ]
     },
     "metadata": {},
     "output_type": "display_data"
    },
    {
     "data": {
      "text/html": [
       " View run <strong style=\"color:#cdcd00\">revived-sweep-39</strong> at: <a href='https://wandb.ai/jacobnu/xbg_grid_diamonds/runs/ofhuc5ym' target=\"_blank\">https://wandb.ai/jacobnu/xbg_grid_diamonds/runs/ofhuc5ym</a><br/> View project at: <a href='https://wandb.ai/jacobnu/xbg_grid_diamonds' target=\"_blank\">https://wandb.ai/jacobnu/xbg_grid_diamonds</a><br/>Synced 5 W&B file(s), 0 media file(s), 0 artifact file(s) and 0 other file(s)"
      ],
      "text/plain": [
       "<IPython.core.display.HTML object>"
      ]
     },
     "metadata": {},
     "output_type": "display_data"
    },
    {
     "data": {
      "text/html": [
       "Find logs at: <code>./wandb/run-20240421_212610-ofhuc5ym/logs</code>"
      ],
      "text/plain": [
       "<IPython.core.display.HTML object>"
      ]
     },
     "metadata": {},
     "output_type": "display_data"
    },
    {
     "name": "stderr",
     "output_type": "stream",
     "text": [
      "\u001b[34m\u001b[1mwandb\u001b[0m: Agent Starting Run: 6mo448d8 with config:\n",
      "\u001b[34m\u001b[1mwandb\u001b[0m: \tlearning_rate: 0.2\n",
      "\u001b[34m\u001b[1mwandb\u001b[0m: \tmax_depth: 5\n",
      "\u001b[34m\u001b[1mwandb\u001b[0m: \tn_estimators: 200\n",
      "\u001b[34m\u001b[1mwandb\u001b[0m: \tsubsample: 0.7\n",
      "\u001b[34m\u001b[1mwandb\u001b[0m: \u001b[33mWARNING\u001b[0m Ignored wandb.init() arg project when running a sweep.\n",
      "\u001b[34m\u001b[1mwandb\u001b[0m: \u001b[33mWARNING\u001b[0m Ignored wandb.init() arg entity when running a sweep.\n"
     ]
    },
    {
     "data": {
      "text/html": [
       "Tracking run with wandb version 0.16.6"
      ],
      "text/plain": [
       "<IPython.core.display.HTML object>"
      ]
     },
     "metadata": {},
     "output_type": "display_data"
    },
    {
     "data": {
      "text/html": [
       "Run data is saved locally in <code>/Users/jacob/Code/2024SP-MSAI-Practicum/wandb/run-20240421_212626-6mo448d8</code>"
      ],
      "text/plain": [
       "<IPython.core.display.HTML object>"
      ]
     },
     "metadata": {},
     "output_type": "display_data"
    },
    {
     "data": {
      "text/html": [
       "Syncing run <strong><a href='https://wandb.ai/jacobnu/xbg_grid_diamonds/runs/6mo448d8' target=\"_blank\">young-sweep-40</a></strong> to <a href='https://wandb.ai/jacobnu/xbg_grid_diamonds' target=\"_blank\">Weights & Biases</a> (<a href='https://wandb.me/run' target=\"_blank\">docs</a>)<br/>Sweep page: <a href='https://wandb.ai/jacobnu/xbg_grid_diamonds/sweeps/hcbnoalh' target=\"_blank\">https://wandb.ai/jacobnu/xbg_grid_diamonds/sweeps/hcbnoalh</a>"
      ],
      "text/plain": [
       "<IPython.core.display.HTML object>"
      ]
     },
     "metadata": {},
     "output_type": "display_data"
    },
    {
     "data": {
      "text/html": [
       " View project at <a href='https://wandb.ai/jacobnu/xbg_grid_diamonds' target=\"_blank\">https://wandb.ai/jacobnu/xbg_grid_diamonds</a>"
      ],
      "text/plain": [
       "<IPython.core.display.HTML object>"
      ]
     },
     "metadata": {},
     "output_type": "display_data"
    },
    {
     "data": {
      "text/html": [
       " View sweep at <a href='https://wandb.ai/jacobnu/xbg_grid_diamonds/sweeps/hcbnoalh' target=\"_blank\">https://wandb.ai/jacobnu/xbg_grid_diamonds/sweeps/hcbnoalh</a>"
      ],
      "text/plain": [
       "<IPython.core.display.HTML object>"
      ]
     },
     "metadata": {},
     "output_type": "display_data"
    },
    {
     "data": {
      "text/html": [
       " View run at <a href='https://wandb.ai/jacobnu/xbg_grid_diamonds/runs/6mo448d8' target=\"_blank\">https://wandb.ai/jacobnu/xbg_grid_diamonds/runs/6mo448d8</a>"
      ],
      "text/plain": [
       "<IPython.core.display.HTML object>"
      ]
     },
     "metadata": {},
     "output_type": "display_data"
    },
    {
     "name": "stdout",
     "output_type": "stream",
     "text": [
      "[0]\tTest-rmse:3244.04671\n",
      "[1]\tTest-rmse:2650.24557\n",
      "[2]\tTest-rmse:2189.72166\n",
      "[3]\tTest-rmse:1820.00229\n",
      "[4]\tTest-rmse:1524.13256\n",
      "[5]\tTest-rmse:1295.43856\n",
      "[6]\tTest-rmse:1120.77816\n",
      "[7]\tTest-rmse:982.26146\n",
      "[8]\tTest-rmse:882.08033\n",
      "[9]\tTest-rmse:802.78174\n",
      "[10]\tTest-rmse:740.78176\n",
      "[11]\tTest-rmse:697.24708\n",
      "[12]\tTest-rmse:661.85561\n",
      "[13]\tTest-rmse:641.54265\n",
      "[14]\tTest-rmse:621.99060\n",
      "[15]\tTest-rmse:610.44681\n",
      "[16]\tTest-rmse:599.84475\n",
      "[17]\tTest-rmse:592.59990\n",
      "[18]\tTest-rmse:585.22425\n",
      "[19]\tTest-rmse:578.98963\n",
      "[20]\tTest-rmse:573.27715\n",
      "[21]\tTest-rmse:570.10945\n",
      "[22]\tTest-rmse:566.71569\n",
      "[23]\tTest-rmse:565.15869\n",
      "[24]\tTest-rmse:562.80848\n",
      "[25]\tTest-rmse:560.88019\n",
      "[26]\tTest-rmse:557.62543\n",
      "[27]\tTest-rmse:557.18493\n",
      "[28]\tTest-rmse:555.56310\n",
      "[29]\tTest-rmse:554.39652\n",
      "[30]\tTest-rmse:553.37660\n",
      "[31]\tTest-rmse:552.67480\n",
      "[32]\tTest-rmse:552.15938\n",
      "[33]\tTest-rmse:550.73456\n",
      "[34]\tTest-rmse:550.37386\n",
      "[35]\tTest-rmse:550.24245\n",
      "[36]\tTest-rmse:549.91165\n",
      "[37]\tTest-rmse:549.22463\n",
      "[38]\tTest-rmse:548.71340\n",
      "[39]\tTest-rmse:549.35089\n",
      "[40]\tTest-rmse:549.04069\n",
      "[41]\tTest-rmse:549.24185\n",
      "[42]\tTest-rmse:548.57672\n",
      "[43]\tTest-rmse:549.03586\n",
      "[44]\tTest-rmse:549.05342\n",
      "[45]\tTest-rmse:549.17026\n",
      "[46]\tTest-rmse:548.82226\n",
      "[47]\tTest-rmse:548.81495\n",
      "[48]\tTest-rmse:549.17865\n",
      "[49]\tTest-rmse:548.14989\n",
      "[50]\tTest-rmse:548.47000\n",
      "[51]\tTest-rmse:546.99473\n",
      "[52]\tTest-rmse:546.79078\n",
      "[53]\tTest-rmse:546.70750\n",
      "[54]\tTest-rmse:546.18175\n",
      "[55]\tTest-rmse:546.16474\n",
      "[56]\tTest-rmse:546.70095\n",
      "[57]\tTest-rmse:546.71408\n",
      "[58]\tTest-rmse:546.52647\n",
      "[59]\tTest-rmse:546.61511\n",
      "[60]\tTest-rmse:546.44915\n",
      "[61]\tTest-rmse:546.79755\n",
      "[62]\tTest-rmse:546.53504\n",
      "[63]\tTest-rmse:546.15511\n",
      "[64]\tTest-rmse:546.89459\n",
      "[65]\tTest-rmse:546.23519\n",
      "[66]\tTest-rmse:546.03845\n",
      "[67]\tTest-rmse:546.32895\n",
      "[68]\tTest-rmse:545.87696\n",
      "[69]\tTest-rmse:545.48053\n",
      "[70]\tTest-rmse:545.85139\n",
      "[71]\tTest-rmse:544.85265\n",
      "[72]\tTest-rmse:545.11008\n",
      "[73]\tTest-rmse:545.37337\n",
      "[74]\tTest-rmse:545.05403\n",
      "[75]\tTest-rmse:545.51204\n",
      "[76]\tTest-rmse:545.30844\n"
     ]
    },
    {
     "name": "stderr",
     "output_type": "stream",
     "text": [
      "[21:26:28] WARNING: /Users/runner/work/xgboost/xgboost/src/learner.cc:742: \n",
      "Parameters: { \"n_estimators\" } are not used.\n",
      "\n"
     ]
    },
    {
     "name": "stdout",
     "output_type": "stream",
     "text": [
      "[77]\tTest-rmse:545.34888\n",
      "[78]\tTest-rmse:545.50883\n",
      "[79]\tTest-rmse:545.43834\n",
      "[80]\tTest-rmse:545.17144\n",
      "[81]\tTest-rmse:544.81842\n",
      "[82]\tTest-rmse:544.65662\n",
      "[83]\tTest-rmse:545.15213\n",
      "[84]\tTest-rmse:544.41296\n",
      "[85]\tTest-rmse:544.35139\n",
      "[86]\tTest-rmse:544.56856\n",
      "[87]\tTest-rmse:544.54434\n",
      "[88]\tTest-rmse:544.86016\n",
      "[89]\tTest-rmse:544.82594\n",
      "[90]\tTest-rmse:544.56781\n",
      "[91]\tTest-rmse:544.56034\n",
      "[92]\tTest-rmse:544.69817\n",
      "[93]\tTest-rmse:544.77799\n",
      "[94]\tTest-rmse:545.10968\n"
     ]
    },
    {
     "data": {
      "text/html": [
       "<style>\n",
       "    table.wandb td:nth-child(1) { padding: 0 10px; text-align: left ; width: auto;} td:nth-child(2) {text-align: left ; width: 100%}\n",
       "    .wandb-row { display: flex; flex-direction: row; flex-wrap: wrap; justify-content: flex-start; width: 100% }\n",
       "    .wandb-col { display: flex; flex-direction: column; flex-basis: 100%; flex: 1; padding: 10px; }\n",
       "    </style>\n",
       "<div class=\"wandb-row\"><div class=\"wandb-col\"><h3>Run history:</h3><br/><table class=\"wandb\"><tr><td>rmse</td><td>▁</td></tr></table><br/></div><div class=\"wandb-col\"><h3>Run summary:</h3><br/><table class=\"wandb\"><tr><td>rmse</td><td>544.35139</td></tr></table><br/></div></div>"
      ],
      "text/plain": [
       "<IPython.core.display.HTML object>"
      ]
     },
     "metadata": {},
     "output_type": "display_data"
    },
    {
     "data": {
      "text/html": [
       " View run <strong style=\"color:#cdcd00\">young-sweep-40</strong> at: <a href='https://wandb.ai/jacobnu/xbg_grid_diamonds/runs/6mo448d8' target=\"_blank\">https://wandb.ai/jacobnu/xbg_grid_diamonds/runs/6mo448d8</a><br/> View project at: <a href='https://wandb.ai/jacobnu/xbg_grid_diamonds' target=\"_blank\">https://wandb.ai/jacobnu/xbg_grid_diamonds</a><br/>Synced 5 W&B file(s), 0 media file(s), 0 artifact file(s) and 0 other file(s)"
      ],
      "text/plain": [
       "<IPython.core.display.HTML object>"
      ]
     },
     "metadata": {},
     "output_type": "display_data"
    },
    {
     "data": {
      "text/html": [
       "Find logs at: <code>./wandb/run-20240421_212626-6mo448d8/logs</code>"
      ],
      "text/plain": [
       "<IPython.core.display.HTML object>"
      ]
     },
     "metadata": {},
     "output_type": "display_data"
    },
    {
     "name": "stderr",
     "output_type": "stream",
     "text": [
      "\u001b[34m\u001b[1mwandb\u001b[0m: Sweep Agent: Waiting for job.\n",
      "\u001b[34m\u001b[1mwandb\u001b[0m: Job received.\n",
      "\u001b[34m\u001b[1mwandb\u001b[0m: Agent Starting Run: ejd708l7 with config:\n",
      "\u001b[34m\u001b[1mwandb\u001b[0m: \tlearning_rate: 0.2\n",
      "\u001b[34m\u001b[1mwandb\u001b[0m: \tmax_depth: 5\n",
      "\u001b[34m\u001b[1mwandb\u001b[0m: \tn_estimators: 200\n",
      "\u001b[34m\u001b[1mwandb\u001b[0m: \tsubsample: 0.8\n",
      "\u001b[34m\u001b[1mwandb\u001b[0m: \u001b[33mWARNING\u001b[0m Ignored wandb.init() arg project when running a sweep.\n",
      "\u001b[34m\u001b[1mwandb\u001b[0m: \u001b[33mWARNING\u001b[0m Ignored wandb.init() arg entity when running a sweep.\n"
     ]
    },
    {
     "data": {
      "text/html": [
       "Tracking run with wandb version 0.16.6"
      ],
      "text/plain": [
       "<IPython.core.display.HTML object>"
      ]
     },
     "metadata": {},
     "output_type": "display_data"
    },
    {
     "data": {
      "text/html": [
       "Run data is saved locally in <code>/Users/jacob/Code/2024SP-MSAI-Practicum/wandb/run-20240421_212708-ejd708l7</code>"
      ],
      "text/plain": [
       "<IPython.core.display.HTML object>"
      ]
     },
     "metadata": {},
     "output_type": "display_data"
    },
    {
     "data": {
      "text/html": [
       "Syncing run <strong><a href='https://wandb.ai/jacobnu/xbg_grid_diamonds/runs/ejd708l7' target=\"_blank\">gallant-sweep-41</a></strong> to <a href='https://wandb.ai/jacobnu/xbg_grid_diamonds' target=\"_blank\">Weights & Biases</a> (<a href='https://wandb.me/run' target=\"_blank\">docs</a>)<br/>Sweep page: <a href='https://wandb.ai/jacobnu/xbg_grid_diamonds/sweeps/hcbnoalh' target=\"_blank\">https://wandb.ai/jacobnu/xbg_grid_diamonds/sweeps/hcbnoalh</a>"
      ],
      "text/plain": [
       "<IPython.core.display.HTML object>"
      ]
     },
     "metadata": {},
     "output_type": "display_data"
    },
    {
     "data": {
      "text/html": [
       " View project at <a href='https://wandb.ai/jacobnu/xbg_grid_diamonds' target=\"_blank\">https://wandb.ai/jacobnu/xbg_grid_diamonds</a>"
      ],
      "text/plain": [
       "<IPython.core.display.HTML object>"
      ]
     },
     "metadata": {},
     "output_type": "display_data"
    },
    {
     "data": {
      "text/html": [
       " View sweep at <a href='https://wandb.ai/jacobnu/xbg_grid_diamonds/sweeps/hcbnoalh' target=\"_blank\">https://wandb.ai/jacobnu/xbg_grid_diamonds/sweeps/hcbnoalh</a>"
      ],
      "text/plain": [
       "<IPython.core.display.HTML object>"
      ]
     },
     "metadata": {},
     "output_type": "display_data"
    },
    {
     "data": {
      "text/html": [
       " View run at <a href='https://wandb.ai/jacobnu/xbg_grid_diamonds/runs/ejd708l7' target=\"_blank\">https://wandb.ai/jacobnu/xbg_grid_diamonds/runs/ejd708l7</a>"
      ],
      "text/plain": [
       "<IPython.core.display.HTML object>"
      ]
     },
     "metadata": {},
     "output_type": "display_data"
    },
    {
     "name": "stdout",
     "output_type": "stream",
     "text": [
      "[0]\tTest-rmse:3243.54026\n",
      "[1]\tTest-rmse:2650.69209\n",
      "[2]\tTest-rmse:2184.45866\n",
      "[3]\tTest-rmse:1815.86476\n",
      "[4]\tTest-rmse:1523.30950\n",
      "[5]\tTest-rmse:1294.71235\n",
      "[6]\tTest-rmse:1118.13724\n",
      "[7]\tTest-rmse:980.99044\n",
      "[8]\tTest-rmse:881.56161\n",
      "[9]\tTest-rmse:804.98253\n",
      "[10]\tTest-rmse:743.32426\n",
      "[11]\tTest-rmse:696.33271\n",
      "[12]\tTest-rmse:661.93565\n",
      "[13]\tTest-rmse:637.75514\n",
      "[14]\tTest-rmse:620.03195\n",
      "[15]\tTest-rmse:605.52960\n",
      "[16]\tTest-rmse:595.85311\n",
      "[17]\tTest-rmse:587.49401\n",
      "[18]\tTest-rmse:581.36362\n",
      "[19]\tTest-rmse:576.22869\n",
      "[20]\tTest-rmse:572.18677\n",
      "[21]\tTest-rmse:570.11609\n",
      "[22]\tTest-rmse:565.87786\n",
      "[23]\tTest-rmse:563.67816\n",
      "[24]\tTest-rmse:561.86445\n",
      "[25]\tTest-rmse:558.72316\n",
      "[26]\tTest-rmse:557.19173\n",
      "[27]\tTest-rmse:556.07392\n",
      "[28]\tTest-rmse:554.66682\n",
      "[29]\tTest-rmse:553.48398\n",
      "[30]\tTest-rmse:552.48682\n",
      "[31]\tTest-rmse:550.65006\n",
      "[32]\tTest-rmse:550.49167\n",
      "[33]\tTest-rmse:548.38040\n",
      "[34]\tTest-rmse:548.38996\n",
      "[35]\tTest-rmse:548.15500\n",
      "[36]\tTest-rmse:547.87199\n",
      "[37]\tTest-rmse:547.74939\n",
      "[38]\tTest-rmse:547.63178\n",
      "[39]\tTest-rmse:547.56472\n",
      "[40]\tTest-rmse:547.11857\n",
      "[41]\tTest-rmse:547.15034\n",
      "[42]\tTest-rmse:547.27348\n",
      "[43]\tTest-rmse:547.00932\n",
      "[44]\tTest-rmse:546.05195\n",
      "[45]\tTest-rmse:546.22108\n",
      "[46]\tTest-rmse:545.98128\n",
      "[47]\tTest-rmse:545.70745\n",
      "[48]\tTest-rmse:545.48036\n",
      "[49]\tTest-rmse:545.03383\n",
      "[50]\tTest-rmse:544.53060\n",
      "[51]\tTest-rmse:543.66424\n",
      "[52]\tTest-rmse:543.04780\n",
      "[53]\tTest-rmse:543.00423\n",
      "[54]\tTest-rmse:543.37361\n",
      "[55]\tTest-rmse:542.52064\n",
      "[56]\tTest-rmse:542.57194\n",
      "[57]\tTest-rmse:542.18352\n",
      "[58]\tTest-rmse:542.15576\n",
      "[59]\tTest-rmse:541.73995\n",
      "[60]\tTest-rmse:541.47282\n",
      "[61]\tTest-rmse:542.02796\n",
      "[62]\tTest-rmse:542.20531\n",
      "[63]\tTest-rmse:541.67518\n",
      "[64]\tTest-rmse:541.51970\n",
      "[65]\tTest-rmse:541.40428\n",
      "[66]\tTest-rmse:541.22025\n",
      "[67]\tTest-rmse:541.05898\n",
      "[68]\tTest-rmse:540.83394\n",
      "[69]\tTest-rmse:540.71163\n",
      "[70]\tTest-rmse:540.79473\n",
      "[71]\tTest-rmse:541.84795\n",
      "[72]\tTest-rmse:541.99970\n",
      "[73]\tTest-rmse:541.42214\n",
      "[74]\tTest-rmse:540.91222\n",
      "[75]\tTest-rmse:540.76847\n",
      "[76]\tTest-rmse:540.94262\n",
      "[77]\tTest-rmse:540.67017\n",
      "[78]\tTest-rmse:540.94652\n",
      "[79]\tTest-rmse:541.10054\n",
      "[80]\tTest-rmse:541.23022\n"
     ]
    },
    {
     "name": "stderr",
     "output_type": "stream",
     "text": [
      "[21:27:11] WARNING: /Users/runner/work/xgboost/xgboost/src/learner.cc:742: \n",
      "Parameters: { \"n_estimators\" } are not used.\n",
      "\n"
     ]
    },
    {
     "name": "stdout",
     "output_type": "stream",
     "text": [
      "[81]\tTest-rmse:541.18636\n",
      "[82]\tTest-rmse:541.04479\n",
      "[83]\tTest-rmse:541.13784\n",
      "[84]\tTest-rmse:541.46115\n",
      "[85]\tTest-rmse:540.95801\n",
      "[86]\tTest-rmse:541.25430\n"
     ]
    },
    {
     "data": {
      "text/html": [
       "<style>\n",
       "    table.wandb td:nth-child(1) { padding: 0 10px; text-align: left ; width: auto;} td:nth-child(2) {text-align: left ; width: 100%}\n",
       "    .wandb-row { display: flex; flex-direction: row; flex-wrap: wrap; justify-content: flex-start; width: 100% }\n",
       "    .wandb-col { display: flex; flex-direction: column; flex-basis: 100%; flex: 1; padding: 10px; }\n",
       "    </style>\n",
       "<div class=\"wandb-row\"><div class=\"wandb-col\"><h3>Run history:</h3><br/><table class=\"wandb\"><tr><td>rmse</td><td>▁</td></tr></table><br/></div><div class=\"wandb-col\"><h3>Run summary:</h3><br/><table class=\"wandb\"><tr><td>rmse</td><td>540.67017</td></tr></table><br/></div></div>"
      ],
      "text/plain": [
       "<IPython.core.display.HTML object>"
      ]
     },
     "metadata": {},
     "output_type": "display_data"
    },
    {
     "data": {
      "text/html": [
       " View run <strong style=\"color:#cdcd00\">gallant-sweep-41</strong> at: <a href='https://wandb.ai/jacobnu/xbg_grid_diamonds/runs/ejd708l7' target=\"_blank\">https://wandb.ai/jacobnu/xbg_grid_diamonds/runs/ejd708l7</a><br/> View project at: <a href='https://wandb.ai/jacobnu/xbg_grid_diamonds' target=\"_blank\">https://wandb.ai/jacobnu/xbg_grid_diamonds</a><br/>Synced 5 W&B file(s), 0 media file(s), 0 artifact file(s) and 0 other file(s)"
      ],
      "text/plain": [
       "<IPython.core.display.HTML object>"
      ]
     },
     "metadata": {},
     "output_type": "display_data"
    },
    {
     "data": {
      "text/html": [
       "Find logs at: <code>./wandb/run-20240421_212708-ejd708l7/logs</code>"
      ],
      "text/plain": [
       "<IPython.core.display.HTML object>"
      ]
     },
     "metadata": {},
     "output_type": "display_data"
    },
    {
     "name": "stderr",
     "output_type": "stream",
     "text": [
      "\u001b[34m\u001b[1mwandb\u001b[0m: Agent Starting Run: xpflaqkn with config:\n",
      "\u001b[34m\u001b[1mwandb\u001b[0m: \tlearning_rate: 0.2\n",
      "\u001b[34m\u001b[1mwandb\u001b[0m: \tmax_depth: 5\n",
      "\u001b[34m\u001b[1mwandb\u001b[0m: \tn_estimators: 200\n",
      "\u001b[34m\u001b[1mwandb\u001b[0m: \tsubsample: 0.9\n",
      "\u001b[34m\u001b[1mwandb\u001b[0m: \u001b[33mWARNING\u001b[0m Ignored wandb.init() arg project when running a sweep.\n",
      "\u001b[34m\u001b[1mwandb\u001b[0m: \u001b[33mWARNING\u001b[0m Ignored wandb.init() arg entity when running a sweep.\n"
     ]
    },
    {
     "data": {
      "text/html": [
       "Tracking run with wandb version 0.16.6"
      ],
      "text/plain": [
       "<IPython.core.display.HTML object>"
      ]
     },
     "metadata": {},
     "output_type": "display_data"
    },
    {
     "data": {
      "text/html": [
       "Run data is saved locally in <code>/Users/jacob/Code/2024SP-MSAI-Practicum/wandb/run-20240421_212725-xpflaqkn</code>"
      ],
      "text/plain": [
       "<IPython.core.display.HTML object>"
      ]
     },
     "metadata": {},
     "output_type": "display_data"
    },
    {
     "data": {
      "text/html": [
       "Syncing run <strong><a href='https://wandb.ai/jacobnu/xbg_grid_diamonds/runs/xpflaqkn' target=\"_blank\">scarlet-sweep-42</a></strong> to <a href='https://wandb.ai/jacobnu/xbg_grid_diamonds' target=\"_blank\">Weights & Biases</a> (<a href='https://wandb.me/run' target=\"_blank\">docs</a>)<br/>Sweep page: <a href='https://wandb.ai/jacobnu/xbg_grid_diamonds/sweeps/hcbnoalh' target=\"_blank\">https://wandb.ai/jacobnu/xbg_grid_diamonds/sweeps/hcbnoalh</a>"
      ],
      "text/plain": [
       "<IPython.core.display.HTML object>"
      ]
     },
     "metadata": {},
     "output_type": "display_data"
    },
    {
     "data": {
      "text/html": [
       " View project at <a href='https://wandb.ai/jacobnu/xbg_grid_diamonds' target=\"_blank\">https://wandb.ai/jacobnu/xbg_grid_diamonds</a>"
      ],
      "text/plain": [
       "<IPython.core.display.HTML object>"
      ]
     },
     "metadata": {},
     "output_type": "display_data"
    },
    {
     "data": {
      "text/html": [
       " View sweep at <a href='https://wandb.ai/jacobnu/xbg_grid_diamonds/sweeps/hcbnoalh' target=\"_blank\">https://wandb.ai/jacobnu/xbg_grid_diamonds/sweeps/hcbnoalh</a>"
      ],
      "text/plain": [
       "<IPython.core.display.HTML object>"
      ]
     },
     "metadata": {},
     "output_type": "display_data"
    },
    {
     "data": {
      "text/html": [
       " View run at <a href='https://wandb.ai/jacobnu/xbg_grid_diamonds/runs/xpflaqkn' target=\"_blank\">https://wandb.ai/jacobnu/xbg_grid_diamonds/runs/xpflaqkn</a>"
      ],
      "text/plain": [
       "<IPython.core.display.HTML object>"
      ]
     },
     "metadata": {},
     "output_type": "display_data"
    },
    {
     "name": "stdout",
     "output_type": "stream",
     "text": [
      "[0]\tTest-rmse:3244.29398\n",
      "[1]\tTest-rmse:2652.40652\n",
      "[2]\tTest-rmse:2181.07076\n",
      "[3]\tTest-rmse:1811.09414\n",
      "[4]\tTest-rmse:1521.87924\n",
      "[5]\tTest-rmse:1295.99565\n",
      "[6]\tTest-rmse:1123.18256\n",
      "[7]\tTest-rmse:983.15204\n",
      "[8]\tTest-rmse:883.29573\n",
      "[9]\tTest-rmse:801.56668\n",
      "[10]\tTest-rmse:745.64731\n",
      "[11]\tTest-rmse:698.10785\n",
      "[12]\tTest-rmse:662.85256\n",
      "[13]\tTest-rmse:639.96432\n",
      "[14]\tTest-rmse:621.84538\n",
      "[15]\tTest-rmse:606.94534\n",
      "[16]\tTest-rmse:597.42403\n",
      "[17]\tTest-rmse:588.47469\n",
      "[18]\tTest-rmse:582.20435\n",
      "[19]\tTest-rmse:576.72611\n",
      "[20]\tTest-rmse:571.40005\n",
      "[21]\tTest-rmse:567.20982\n",
      "[22]\tTest-rmse:565.71334\n",
      "[23]\tTest-rmse:563.16235\n",
      "[24]\tTest-rmse:561.48995\n",
      "[25]\tTest-rmse:560.10962\n",
      "[26]\tTest-rmse:558.87233\n",
      "[27]\tTest-rmse:557.08128\n",
      "[28]\tTest-rmse:555.51077\n",
      "[29]\tTest-rmse:554.74940\n",
      "[30]\tTest-rmse:553.77956\n",
      "[31]\tTest-rmse:553.02073\n",
      "[32]\tTest-rmse:551.92997\n",
      "[33]\tTest-rmse:550.12937\n",
      "[34]\tTest-rmse:547.87630\n",
      "[35]\tTest-rmse:547.23728\n",
      "[36]\tTest-rmse:546.59696\n",
      "[37]\tTest-rmse:546.10906\n",
      "[38]\tTest-rmse:545.27300\n",
      "[39]\tTest-rmse:545.15225\n",
      "[40]\tTest-rmse:544.49261\n",
      "[41]\tTest-rmse:544.62990\n",
      "[42]\tTest-rmse:544.49790\n",
      "[43]\tTest-rmse:544.12280\n",
      "[44]\tTest-rmse:543.16753\n",
      "[45]\tTest-rmse:542.62650\n",
      "[46]\tTest-rmse:542.25276\n",
      "[47]\tTest-rmse:541.72279\n",
      "[48]\tTest-rmse:541.52987\n",
      "[49]\tTest-rmse:541.08155\n",
      "[50]\tTest-rmse:540.90326\n",
      "[51]\tTest-rmse:541.18527\n",
      "[52]\tTest-rmse:541.02019\n",
      "[53]\tTest-rmse:540.90001\n",
      "[54]\tTest-rmse:540.63565\n",
      "[55]\tTest-rmse:540.68479\n",
      "[56]\tTest-rmse:540.30810\n",
      "[57]\tTest-rmse:540.04993\n",
      "[58]\tTest-rmse:540.50712\n",
      "[59]\tTest-rmse:540.22127\n",
      "[60]\tTest-rmse:540.23514\n",
      "[61]\tTest-rmse:540.22834\n",
      "[62]\tTest-rmse:540.56332\n",
      "[63]\tTest-rmse:540.72068\n",
      "[64]\tTest-rmse:540.41095\n",
      "[65]\tTest-rmse:540.05255\n",
      "[66]\tTest-rmse:540.13112\n",
      "[67]\tTest-rmse:540.42016\n"
     ]
    },
    {
     "name": "stderr",
     "output_type": "stream",
     "text": [
      "[21:27:27] WARNING: /Users/runner/work/xgboost/xgboost/src/learner.cc:742: \n",
      "Parameters: { \"n_estimators\" } are not used.\n",
      "\n"
     ]
    },
    {
     "data": {
      "text/html": [
       "<style>\n",
       "    table.wandb td:nth-child(1) { padding: 0 10px; text-align: left ; width: auto;} td:nth-child(2) {text-align: left ; width: 100%}\n",
       "    .wandb-row { display: flex; flex-direction: row; flex-wrap: wrap; justify-content: flex-start; width: 100% }\n",
       "    .wandb-col { display: flex; flex-direction: column; flex-basis: 100%; flex: 1; padding: 10px; }\n",
       "    </style>\n",
       "<div class=\"wandb-row\"><div class=\"wandb-col\"><h3>Run history:</h3><br/><table class=\"wandb\"><tr><td>rmse</td><td>▁</td></tr></table><br/></div><div class=\"wandb-col\"><h3>Run summary:</h3><br/><table class=\"wandb\"><tr><td>rmse</td><td>540.04993</td></tr></table><br/></div></div>"
      ],
      "text/plain": [
       "<IPython.core.display.HTML object>"
      ]
     },
     "metadata": {},
     "output_type": "display_data"
    },
    {
     "data": {
      "text/html": [
       " View run <strong style=\"color:#cdcd00\">scarlet-sweep-42</strong> at: <a href='https://wandb.ai/jacobnu/xbg_grid_diamonds/runs/xpflaqkn' target=\"_blank\">https://wandb.ai/jacobnu/xbg_grid_diamonds/runs/xpflaqkn</a><br/> View project at: <a href='https://wandb.ai/jacobnu/xbg_grid_diamonds' target=\"_blank\">https://wandb.ai/jacobnu/xbg_grid_diamonds</a><br/>Synced 5 W&B file(s), 0 media file(s), 0 artifact file(s) and 0 other file(s)"
      ],
      "text/plain": [
       "<IPython.core.display.HTML object>"
      ]
     },
     "metadata": {},
     "output_type": "display_data"
    },
    {
     "data": {
      "text/html": [
       "Find logs at: <code>./wandb/run-20240421_212725-xpflaqkn/logs</code>"
      ],
      "text/plain": [
       "<IPython.core.display.HTML object>"
      ]
     },
     "metadata": {},
     "output_type": "display_data"
    },
    {
     "name": "stderr",
     "output_type": "stream",
     "text": [
      "\u001b[34m\u001b[1mwandb\u001b[0m: Agent Starting Run: p31onu9d with config:\n",
      "\u001b[34m\u001b[1mwandb\u001b[0m: \tlearning_rate: 0.2\n",
      "\u001b[34m\u001b[1mwandb\u001b[0m: \tmax_depth: 7\n",
      "\u001b[34m\u001b[1mwandb\u001b[0m: \tn_estimators: 100\n",
      "\u001b[34m\u001b[1mwandb\u001b[0m: \tsubsample: 0.7\n",
      "\u001b[34m\u001b[1mwandb\u001b[0m: \u001b[33mWARNING\u001b[0m Ignored wandb.init() arg project when running a sweep.\n",
      "\u001b[34m\u001b[1mwandb\u001b[0m: \u001b[33mWARNING\u001b[0m Ignored wandb.init() arg entity when running a sweep.\n"
     ]
    },
    {
     "data": {
      "text/html": [
       "Tracking run with wandb version 0.16.6"
      ],
      "text/plain": [
       "<IPython.core.display.HTML object>"
      ]
     },
     "metadata": {},
     "output_type": "display_data"
    },
    {
     "data": {
      "text/html": [
       "Run data is saved locally in <code>/Users/jacob/Code/2024SP-MSAI-Practicum/wandb/run-20240421_212740-p31onu9d</code>"
      ],
      "text/plain": [
       "<IPython.core.display.HTML object>"
      ]
     },
     "metadata": {},
     "output_type": "display_data"
    },
    {
     "data": {
      "text/html": [
       "Syncing run <strong><a href='https://wandb.ai/jacobnu/xbg_grid_diamonds/runs/p31onu9d' target=\"_blank\">dandy-sweep-43</a></strong> to <a href='https://wandb.ai/jacobnu/xbg_grid_diamonds' target=\"_blank\">Weights & Biases</a> (<a href='https://wandb.me/run' target=\"_blank\">docs</a>)<br/>Sweep page: <a href='https://wandb.ai/jacobnu/xbg_grid_diamonds/sweeps/hcbnoalh' target=\"_blank\">https://wandb.ai/jacobnu/xbg_grid_diamonds/sweeps/hcbnoalh</a>"
      ],
      "text/plain": [
       "<IPython.core.display.HTML object>"
      ]
     },
     "metadata": {},
     "output_type": "display_data"
    },
    {
     "data": {
      "text/html": [
       " View project at <a href='https://wandb.ai/jacobnu/xbg_grid_diamonds' target=\"_blank\">https://wandb.ai/jacobnu/xbg_grid_diamonds</a>"
      ],
      "text/plain": [
       "<IPython.core.display.HTML object>"
      ]
     },
     "metadata": {},
     "output_type": "display_data"
    },
    {
     "data": {
      "text/html": [
       " View sweep at <a href='https://wandb.ai/jacobnu/xbg_grid_diamonds/sweeps/hcbnoalh' target=\"_blank\">https://wandb.ai/jacobnu/xbg_grid_diamonds/sweeps/hcbnoalh</a>"
      ],
      "text/plain": [
       "<IPython.core.display.HTML object>"
      ]
     },
     "metadata": {},
     "output_type": "display_data"
    },
    {
     "data": {
      "text/html": [
       " View run at <a href='https://wandb.ai/jacobnu/xbg_grid_diamonds/runs/p31onu9d' target=\"_blank\">https://wandb.ai/jacobnu/xbg_grid_diamonds/runs/p31onu9d</a>"
      ],
      "text/plain": [
       "<IPython.core.display.HTML object>"
      ]
     },
     "metadata": {},
     "output_type": "display_data"
    },
    {
     "name": "stdout",
     "output_type": "stream",
     "text": [
      "[0]\tTest-rmse:3221.29558\n",
      "[1]\tTest-rmse:2614.66628\n",
      "[2]\tTest-rmse:2135.44678\n",
      "[3]\tTest-rmse:1753.74245\n",
      "[4]\tTest-rmse:1455.17294\n",
      "[5]\tTest-rmse:1222.11972\n",
      "[6]\tTest-rmse:1043.05467\n",
      "[7]\tTest-rmse:903.65592\n",
      "[8]\tTest-rmse:798.91829\n",
      "[9]\tTest-rmse:723.91228\n",
      "[10]\tTest-rmse:668.02045\n",
      "[11]\tTest-rmse:628.94678\n",
      "[12]\tTest-rmse:601.88085\n",
      "[13]\tTest-rmse:583.33958\n",
      "[14]\tTest-rmse:569.57424\n",
      "[15]\tTest-rmse:561.30020\n",
      "[16]\tTest-rmse:555.85949\n",
      "[17]\tTest-rmse:550.94214\n",
      "[18]\tTest-rmse:548.03874\n",
      "[19]\tTest-rmse:544.93346\n",
      "[20]\tTest-rmse:542.15701\n",
      "[21]\tTest-rmse:540.08115\n",
      "[22]\tTest-rmse:539.60360\n",
      "[23]\tTest-rmse:538.92657\n",
      "[24]\tTest-rmse:538.14027\n",
      "[25]\tTest-rmse:538.08145\n",
      "[26]\tTest-rmse:537.04083\n",
      "[27]\tTest-rmse:537.41770\n",
      "[28]\tTest-rmse:537.28226\n",
      "[29]\tTest-rmse:537.04801\n",
      "[30]\tTest-rmse:536.35060\n",
      "[31]\tTest-rmse:537.02293\n",
      "[32]\tTest-rmse:536.96373\n",
      "[33]\tTest-rmse:537.48303\n",
      "[34]\tTest-rmse:537.68316\n",
      "[35]\tTest-rmse:537.52634\n",
      "[36]\tTest-rmse:538.39225\n",
      "[37]\tTest-rmse:538.40495\n",
      "[38]\tTest-rmse:538.78379\n",
      "[39]\tTest-rmse:538.00538\n",
      "[40]\tTest-rmse:538.57109\n"
     ]
    },
    {
     "name": "stderr",
     "output_type": "stream",
     "text": [
      "[21:27:43] WARNING: /Users/runner/work/xgboost/xgboost/src/learner.cc:742: \n",
      "Parameters: { \"n_estimators\" } are not used.\n",
      "\n"
     ]
    },
    {
     "data": {
      "text/html": [
       "<style>\n",
       "    table.wandb td:nth-child(1) { padding: 0 10px; text-align: left ; width: auto;} td:nth-child(2) {text-align: left ; width: 100%}\n",
       "    .wandb-row { display: flex; flex-direction: row; flex-wrap: wrap; justify-content: flex-start; width: 100% }\n",
       "    .wandb-col { display: flex; flex-direction: column; flex-basis: 100%; flex: 1; padding: 10px; }\n",
       "    </style>\n",
       "<div class=\"wandb-row\"><div class=\"wandb-col\"><h3>Run history:</h3><br/><table class=\"wandb\"><tr><td>rmse</td><td>▁</td></tr></table><br/></div><div class=\"wandb-col\"><h3>Run summary:</h3><br/><table class=\"wandb\"><tr><td>rmse</td><td>536.3506</td></tr></table><br/></div></div>"
      ],
      "text/plain": [
       "<IPython.core.display.HTML object>"
      ]
     },
     "metadata": {},
     "output_type": "display_data"
    },
    {
     "data": {
      "text/html": [
       " View run <strong style=\"color:#cdcd00\">dandy-sweep-43</strong> at: <a href='https://wandb.ai/jacobnu/xbg_grid_diamonds/runs/p31onu9d' target=\"_blank\">https://wandb.ai/jacobnu/xbg_grid_diamonds/runs/p31onu9d</a><br/> View project at: <a href='https://wandb.ai/jacobnu/xbg_grid_diamonds' target=\"_blank\">https://wandb.ai/jacobnu/xbg_grid_diamonds</a><br/>Synced 5 W&B file(s), 0 media file(s), 0 artifact file(s) and 0 other file(s)"
      ],
      "text/plain": [
       "<IPython.core.display.HTML object>"
      ]
     },
     "metadata": {},
     "output_type": "display_data"
    },
    {
     "data": {
      "text/html": [
       "Find logs at: <code>./wandb/run-20240421_212740-p31onu9d/logs</code>"
      ],
      "text/plain": [
       "<IPython.core.display.HTML object>"
      ]
     },
     "metadata": {},
     "output_type": "display_data"
    },
    {
     "name": "stderr",
     "output_type": "stream",
     "text": [
      "\u001b[34m\u001b[1mwandb\u001b[0m: Agent Starting Run: hazpex8q with config:\n",
      "\u001b[34m\u001b[1mwandb\u001b[0m: \tlearning_rate: 0.2\n",
      "\u001b[34m\u001b[1mwandb\u001b[0m: \tmax_depth: 7\n",
      "\u001b[34m\u001b[1mwandb\u001b[0m: \tn_estimators: 100\n",
      "\u001b[34m\u001b[1mwandb\u001b[0m: \tsubsample: 0.8\n",
      "\u001b[34m\u001b[1mwandb\u001b[0m: \u001b[33mWARNING\u001b[0m Ignored wandb.init() arg project when running a sweep.\n",
      "\u001b[34m\u001b[1mwandb\u001b[0m: \u001b[33mWARNING\u001b[0m Ignored wandb.init() arg entity when running a sweep.\n"
     ]
    },
    {
     "data": {
      "text/html": [
       "Tracking run with wandb version 0.16.6"
      ],
      "text/plain": [
       "<IPython.core.display.HTML object>"
      ]
     },
     "metadata": {},
     "output_type": "display_data"
    },
    {
     "data": {
      "text/html": [
       "Run data is saved locally in <code>/Users/jacob/Code/2024SP-MSAI-Practicum/wandb/run-20240421_212757-hazpex8q</code>"
      ],
      "text/plain": [
       "<IPython.core.display.HTML object>"
      ]
     },
     "metadata": {},
     "output_type": "display_data"
    },
    {
     "data": {
      "text/html": [
       "Syncing run <strong><a href='https://wandb.ai/jacobnu/xbg_grid_diamonds/runs/hazpex8q' target=\"_blank\">denim-sweep-44</a></strong> to <a href='https://wandb.ai/jacobnu/xbg_grid_diamonds' target=\"_blank\">Weights & Biases</a> (<a href='https://wandb.me/run' target=\"_blank\">docs</a>)<br/>Sweep page: <a href='https://wandb.ai/jacobnu/xbg_grid_diamonds/sweeps/hcbnoalh' target=\"_blank\">https://wandb.ai/jacobnu/xbg_grid_diamonds/sweeps/hcbnoalh</a>"
      ],
      "text/plain": [
       "<IPython.core.display.HTML object>"
      ]
     },
     "metadata": {},
     "output_type": "display_data"
    },
    {
     "data": {
      "text/html": [
       " View project at <a href='https://wandb.ai/jacobnu/xbg_grid_diamonds' target=\"_blank\">https://wandb.ai/jacobnu/xbg_grid_diamonds</a>"
      ],
      "text/plain": [
       "<IPython.core.display.HTML object>"
      ]
     },
     "metadata": {},
     "output_type": "display_data"
    },
    {
     "data": {
      "text/html": [
       " View sweep at <a href='https://wandb.ai/jacobnu/xbg_grid_diamonds/sweeps/hcbnoalh' target=\"_blank\">https://wandb.ai/jacobnu/xbg_grid_diamonds/sweeps/hcbnoalh</a>"
      ],
      "text/plain": [
       "<IPython.core.display.HTML object>"
      ]
     },
     "metadata": {},
     "output_type": "display_data"
    },
    {
     "data": {
      "text/html": [
       " View run at <a href='https://wandb.ai/jacobnu/xbg_grid_diamonds/runs/hazpex8q' target=\"_blank\">https://wandb.ai/jacobnu/xbg_grid_diamonds/runs/hazpex8q</a>"
      ],
      "text/plain": [
       "<IPython.core.display.HTML object>"
      ]
     },
     "metadata": {},
     "output_type": "display_data"
    },
    {
     "name": "stdout",
     "output_type": "stream",
     "text": [
      "[0]\tTest-rmse:3223.88957\n",
      "[1]\tTest-rmse:2619.31950\n",
      "[2]\tTest-rmse:2137.67256\n",
      "[3]\tTest-rmse:1755.70555\n",
      "[4]\tTest-rmse:1456.89783\n",
      "[5]\tTest-rmse:1223.08080\n",
      "[6]\tTest-rmse:1044.43469\n",
      "[7]\tTest-rmse:908.75274\n",
      "[8]\tTest-rmse:805.48950\n",
      "[9]\tTest-rmse:730.05302\n",
      "[10]\tTest-rmse:675.63110\n",
      "[11]\tTest-rmse:637.01337\n",
      "[12]\tTest-rmse:607.45356\n",
      "[13]\tTest-rmse:589.09599\n",
      "[14]\tTest-rmse:576.07095\n",
      "[15]\tTest-rmse:565.84214\n",
      "[16]\tTest-rmse:559.43925\n",
      "[17]\tTest-rmse:554.80837\n",
      "[18]\tTest-rmse:552.19978\n",
      "[19]\tTest-rmse:549.39225\n",
      "[20]\tTest-rmse:547.26637\n",
      "[21]\tTest-rmse:546.14971\n",
      "[22]\tTest-rmse:545.27520\n",
      "[23]\tTest-rmse:544.38744\n",
      "[24]\tTest-rmse:543.30567\n",
      "[25]\tTest-rmse:543.17615\n",
      "[26]\tTest-rmse:542.41670\n",
      "[27]\tTest-rmse:544.19166\n",
      "[28]\tTest-rmse:543.26974\n",
      "[29]\tTest-rmse:543.64860\n",
      "[30]\tTest-rmse:543.01795\n",
      "[31]\tTest-rmse:542.65907\n",
      "[32]\tTest-rmse:542.35757\n",
      "[33]\tTest-rmse:541.16035\n",
      "[34]\tTest-rmse:540.98300\n",
      "[35]\tTest-rmse:539.99459\n",
      "[36]\tTest-rmse:540.64351\n",
      "[37]\tTest-rmse:541.15701\n",
      "[38]\tTest-rmse:539.74238\n",
      "[39]\tTest-rmse:540.51896\n",
      "[40]\tTest-rmse:540.32734\n",
      "[41]\tTest-rmse:540.45758\n",
      "[42]\tTest-rmse:540.35345\n",
      "[43]\tTest-rmse:541.01514\n",
      "[44]\tTest-rmse:542.06052\n",
      "[45]\tTest-rmse:542.08850\n",
      "[46]\tTest-rmse:541.76684\n",
      "[47]\tTest-rmse:542.21253\n",
      "[48]\tTest-rmse:542.44513\n"
     ]
    },
    {
     "name": "stderr",
     "output_type": "stream",
     "text": [
      "[21:27:59] WARNING: /Users/runner/work/xgboost/xgboost/src/learner.cc:742: \n",
      "Parameters: { \"n_estimators\" } are not used.\n",
      "\n"
     ]
    },
    {
     "data": {
      "text/html": [
       "<style>\n",
       "    table.wandb td:nth-child(1) { padding: 0 10px; text-align: left ; width: auto;} td:nth-child(2) {text-align: left ; width: 100%}\n",
       "    .wandb-row { display: flex; flex-direction: row; flex-wrap: wrap; justify-content: flex-start; width: 100% }\n",
       "    .wandb-col { display: flex; flex-direction: column; flex-basis: 100%; flex: 1; padding: 10px; }\n",
       "    </style>\n",
       "<div class=\"wandb-row\"><div class=\"wandb-col\"><h3>Run history:</h3><br/><table class=\"wandb\"><tr><td>rmse</td><td>▁</td></tr></table><br/></div><div class=\"wandb-col\"><h3>Run summary:</h3><br/><table class=\"wandb\"><tr><td>rmse</td><td>539.74238</td></tr></table><br/></div></div>"
      ],
      "text/plain": [
       "<IPython.core.display.HTML object>"
      ]
     },
     "metadata": {},
     "output_type": "display_data"
    },
    {
     "data": {
      "text/html": [
       " View run <strong style=\"color:#cdcd00\">denim-sweep-44</strong> at: <a href='https://wandb.ai/jacobnu/xbg_grid_diamonds/runs/hazpex8q' target=\"_blank\">https://wandb.ai/jacobnu/xbg_grid_diamonds/runs/hazpex8q</a><br/> View project at: <a href='https://wandb.ai/jacobnu/xbg_grid_diamonds' target=\"_blank\">https://wandb.ai/jacobnu/xbg_grid_diamonds</a><br/>Synced 5 W&B file(s), 0 media file(s), 0 artifact file(s) and 0 other file(s)"
      ],
      "text/plain": [
       "<IPython.core.display.HTML object>"
      ]
     },
     "metadata": {},
     "output_type": "display_data"
    },
    {
     "data": {
      "text/html": [
       "Find logs at: <code>./wandb/run-20240421_212757-hazpex8q/logs</code>"
      ],
      "text/plain": [
       "<IPython.core.display.HTML object>"
      ]
     },
     "metadata": {},
     "output_type": "display_data"
    },
    {
     "name": "stderr",
     "output_type": "stream",
     "text": [
      "\u001b[34m\u001b[1mwandb\u001b[0m: Agent Starting Run: fttef204 with config:\n",
      "\u001b[34m\u001b[1mwandb\u001b[0m: \tlearning_rate: 0.2\n",
      "\u001b[34m\u001b[1mwandb\u001b[0m: \tmax_depth: 7\n",
      "\u001b[34m\u001b[1mwandb\u001b[0m: \tn_estimators: 100\n",
      "\u001b[34m\u001b[1mwandb\u001b[0m: \tsubsample: 0.9\n",
      "\u001b[34m\u001b[1mwandb\u001b[0m: \u001b[33mWARNING\u001b[0m Ignored wandb.init() arg project when running a sweep.\n",
      "\u001b[34m\u001b[1mwandb\u001b[0m: \u001b[33mWARNING\u001b[0m Ignored wandb.init() arg entity when running a sweep.\n"
     ]
    },
    {
     "data": {
      "text/html": [
       "Tracking run with wandb version 0.16.6"
      ],
      "text/plain": [
       "<IPython.core.display.HTML object>"
      ]
     },
     "metadata": {},
     "output_type": "display_data"
    },
    {
     "data": {
      "text/html": [
       "Run data is saved locally in <code>/Users/jacob/Code/2024SP-MSAI-Practicum/wandb/run-20240421_212812-fttef204</code>"
      ],
      "text/plain": [
       "<IPython.core.display.HTML object>"
      ]
     },
     "metadata": {},
     "output_type": "display_data"
    },
    {
     "data": {
      "text/html": [
       "Syncing run <strong><a href='https://wandb.ai/jacobnu/xbg_grid_diamonds/runs/fttef204' target=\"_blank\">whole-sweep-45</a></strong> to <a href='https://wandb.ai/jacobnu/xbg_grid_diamonds' target=\"_blank\">Weights & Biases</a> (<a href='https://wandb.me/run' target=\"_blank\">docs</a>)<br/>Sweep page: <a href='https://wandb.ai/jacobnu/xbg_grid_diamonds/sweeps/hcbnoalh' target=\"_blank\">https://wandb.ai/jacobnu/xbg_grid_diamonds/sweeps/hcbnoalh</a>"
      ],
      "text/plain": [
       "<IPython.core.display.HTML object>"
      ]
     },
     "metadata": {},
     "output_type": "display_data"
    },
    {
     "data": {
      "text/html": [
       " View project at <a href='https://wandb.ai/jacobnu/xbg_grid_diamonds' target=\"_blank\">https://wandb.ai/jacobnu/xbg_grid_diamonds</a>"
      ],
      "text/plain": [
       "<IPython.core.display.HTML object>"
      ]
     },
     "metadata": {},
     "output_type": "display_data"
    },
    {
     "data": {
      "text/html": [
       " View sweep at <a href='https://wandb.ai/jacobnu/xbg_grid_diamonds/sweeps/hcbnoalh' target=\"_blank\">https://wandb.ai/jacobnu/xbg_grid_diamonds/sweeps/hcbnoalh</a>"
      ],
      "text/plain": [
       "<IPython.core.display.HTML object>"
      ]
     },
     "metadata": {},
     "output_type": "display_data"
    },
    {
     "data": {
      "text/html": [
       " View run at <a href='https://wandb.ai/jacobnu/xbg_grid_diamonds/runs/fttef204' target=\"_blank\">https://wandb.ai/jacobnu/xbg_grid_diamonds/runs/fttef204</a>"
      ],
      "text/plain": [
       "<IPython.core.display.HTML object>"
      ]
     },
     "metadata": {},
     "output_type": "display_data"
    },
    {
     "name": "stdout",
     "output_type": "stream",
     "text": [
      "[0]\tTest-rmse:3223.29371\n",
      "[1]\tTest-rmse:2616.66697\n",
      "[2]\tTest-rmse:2138.53087\n",
      "[3]\tTest-rmse:1753.84592\n",
      "[4]\tTest-rmse:1456.03375\n",
      "[5]\tTest-rmse:1222.07949\n",
      "[6]\tTest-rmse:1040.96602\n",
      "[7]\tTest-rmse:903.99949\n",
      "[8]\tTest-rmse:801.38103\n",
      "[9]\tTest-rmse:724.96150\n",
      "[10]\tTest-rmse:669.51677\n",
      "[11]\tTest-rmse:630.09074\n",
      "[12]\tTest-rmse:602.50442\n",
      "[13]\tTest-rmse:584.45608\n",
      "[14]\tTest-rmse:571.88076\n",
      "[15]\tTest-rmse:561.70890\n",
      "[16]\tTest-rmse:555.57171\n",
      "[17]\tTest-rmse:550.99655\n",
      "[18]\tTest-rmse:547.67594\n",
      "[19]\tTest-rmse:544.36725\n",
      "[20]\tTest-rmse:541.94661\n",
      "[21]\tTest-rmse:541.18053\n",
      "[22]\tTest-rmse:540.84885\n",
      "[23]\tTest-rmse:539.48917\n",
      "[24]\tTest-rmse:537.92054\n",
      "[25]\tTest-rmse:538.28599\n",
      "[26]\tTest-rmse:537.14178\n",
      "[27]\tTest-rmse:536.49835\n",
      "[28]\tTest-rmse:536.16039\n"
     ]
    },
    {
     "name": "stderr",
     "output_type": "stream",
     "text": [
      "[21:28:14] WARNING: /Users/runner/work/xgboost/xgboost/src/learner.cc:742: \n",
      "Parameters: { \"n_estimators\" } are not used.\n",
      "\n"
     ]
    },
    {
     "name": "stdout",
     "output_type": "stream",
     "text": [
      "[29]\tTest-rmse:535.55635\n",
      "[30]\tTest-rmse:536.11278\n",
      "[31]\tTest-rmse:536.95132\n",
      "[32]\tTest-rmse:536.41124\n",
      "[33]\tTest-rmse:536.78138\n",
      "[34]\tTest-rmse:536.13149\n",
      "[35]\tTest-rmse:536.97100\n",
      "[36]\tTest-rmse:536.45511\n",
      "[37]\tTest-rmse:536.07446\n",
      "[38]\tTest-rmse:535.93209\n"
     ]
    },
    {
     "data": {
      "text/html": [
       "<style>\n",
       "    table.wandb td:nth-child(1) { padding: 0 10px; text-align: left ; width: auto;} td:nth-child(2) {text-align: left ; width: 100%}\n",
       "    .wandb-row { display: flex; flex-direction: row; flex-wrap: wrap; justify-content: flex-start; width: 100% }\n",
       "    .wandb-col { display: flex; flex-direction: column; flex-basis: 100%; flex: 1; padding: 10px; }\n",
       "    </style>\n",
       "<div class=\"wandb-row\"><div class=\"wandb-col\"><h3>Run history:</h3><br/><table class=\"wandb\"><tr><td>rmse</td><td>▁</td></tr></table><br/></div><div class=\"wandb-col\"><h3>Run summary:</h3><br/><table class=\"wandb\"><tr><td>rmse</td><td>535.55635</td></tr></table><br/></div></div>"
      ],
      "text/plain": [
       "<IPython.core.display.HTML object>"
      ]
     },
     "metadata": {},
     "output_type": "display_data"
    },
    {
     "data": {
      "text/html": [
       " View run <strong style=\"color:#cdcd00\">whole-sweep-45</strong> at: <a href='https://wandb.ai/jacobnu/xbg_grid_diamonds/runs/fttef204' target=\"_blank\">https://wandb.ai/jacobnu/xbg_grid_diamonds/runs/fttef204</a><br/> View project at: <a href='https://wandb.ai/jacobnu/xbg_grid_diamonds' target=\"_blank\">https://wandb.ai/jacobnu/xbg_grid_diamonds</a><br/>Synced 5 W&B file(s), 0 media file(s), 0 artifact file(s) and 0 other file(s)"
      ],
      "text/plain": [
       "<IPython.core.display.HTML object>"
      ]
     },
     "metadata": {},
     "output_type": "display_data"
    },
    {
     "data": {
      "text/html": [
       "Find logs at: <code>./wandb/run-20240421_212812-fttef204/logs</code>"
      ],
      "text/plain": [
       "<IPython.core.display.HTML object>"
      ]
     },
     "metadata": {},
     "output_type": "display_data"
    },
    {
     "name": "stderr",
     "output_type": "stream",
     "text": [
      "\u001b[34m\u001b[1mwandb\u001b[0m: Agent Starting Run: 7h26ku97 with config:\n",
      "\u001b[34m\u001b[1mwandb\u001b[0m: \tlearning_rate: 0.2\n",
      "\u001b[34m\u001b[1mwandb\u001b[0m: \tmax_depth: 7\n",
      "\u001b[34m\u001b[1mwandb\u001b[0m: \tn_estimators: 200\n",
      "\u001b[34m\u001b[1mwandb\u001b[0m: \tsubsample: 0.7\n",
      "\u001b[34m\u001b[1mwandb\u001b[0m: \u001b[33mWARNING\u001b[0m Ignored wandb.init() arg project when running a sweep.\n",
      "\u001b[34m\u001b[1mwandb\u001b[0m: \u001b[33mWARNING\u001b[0m Ignored wandb.init() arg entity when running a sweep.\n"
     ]
    },
    {
     "data": {
      "text/html": [
       "Tracking run with wandb version 0.16.6"
      ],
      "text/plain": [
       "<IPython.core.display.HTML object>"
      ]
     },
     "metadata": {},
     "output_type": "display_data"
    },
    {
     "data": {
      "text/html": [
       "Run data is saved locally in <code>/Users/jacob/Code/2024SP-MSAI-Practicum/wandb/run-20240421_212828-7h26ku97</code>"
      ],
      "text/plain": [
       "<IPython.core.display.HTML object>"
      ]
     },
     "metadata": {},
     "output_type": "display_data"
    },
    {
     "data": {
      "text/html": [
       "Syncing run <strong><a href='https://wandb.ai/jacobnu/xbg_grid_diamonds/runs/7h26ku97' target=\"_blank\">lyric-sweep-46</a></strong> to <a href='https://wandb.ai/jacobnu/xbg_grid_diamonds' target=\"_blank\">Weights & Biases</a> (<a href='https://wandb.me/run' target=\"_blank\">docs</a>)<br/>Sweep page: <a href='https://wandb.ai/jacobnu/xbg_grid_diamonds/sweeps/hcbnoalh' target=\"_blank\">https://wandb.ai/jacobnu/xbg_grid_diamonds/sweeps/hcbnoalh</a>"
      ],
      "text/plain": [
       "<IPython.core.display.HTML object>"
      ]
     },
     "metadata": {},
     "output_type": "display_data"
    },
    {
     "data": {
      "text/html": [
       " View project at <a href='https://wandb.ai/jacobnu/xbg_grid_diamonds' target=\"_blank\">https://wandb.ai/jacobnu/xbg_grid_diamonds</a>"
      ],
      "text/plain": [
       "<IPython.core.display.HTML object>"
      ]
     },
     "metadata": {},
     "output_type": "display_data"
    },
    {
     "data": {
      "text/html": [
       " View sweep at <a href='https://wandb.ai/jacobnu/xbg_grid_diamonds/sweeps/hcbnoalh' target=\"_blank\">https://wandb.ai/jacobnu/xbg_grid_diamonds/sweeps/hcbnoalh</a>"
      ],
      "text/plain": [
       "<IPython.core.display.HTML object>"
      ]
     },
     "metadata": {},
     "output_type": "display_data"
    },
    {
     "data": {
      "text/html": [
       " View run at <a href='https://wandb.ai/jacobnu/xbg_grid_diamonds/runs/7h26ku97' target=\"_blank\">https://wandb.ai/jacobnu/xbg_grid_diamonds/runs/7h26ku97</a>"
      ],
      "text/plain": [
       "<IPython.core.display.HTML object>"
      ]
     },
     "metadata": {},
     "output_type": "display_data"
    },
    {
     "name": "stdout",
     "output_type": "stream",
     "text": [
      "[0]\tTest-rmse:3221.29558\n",
      "[1]\tTest-rmse:2614.66628\n",
      "[2]\tTest-rmse:2135.44678\n",
      "[3]\tTest-rmse:1753.74245\n",
      "[4]\tTest-rmse:1455.17294\n",
      "[5]\tTest-rmse:1222.11972\n",
      "[6]\tTest-rmse:1043.05467\n",
      "[7]\tTest-rmse:903.65592\n",
      "[8]\tTest-rmse:798.91829\n",
      "[9]\tTest-rmse:723.91228\n",
      "[10]\tTest-rmse:668.02045\n",
      "[11]\tTest-rmse:628.94678\n",
      "[12]\tTest-rmse:601.88085\n",
      "[13]\tTest-rmse:583.33958\n",
      "[14]\tTest-rmse:569.57424\n",
      "[15]\tTest-rmse:561.30020\n",
      "[16]\tTest-rmse:555.85949\n",
      "[17]\tTest-rmse:550.94214\n",
      "[18]\tTest-rmse:548.03874\n",
      "[19]\tTest-rmse:544.93346\n",
      "[20]\tTest-rmse:542.15701\n",
      "[21]\tTest-rmse:540.08115\n",
      "[22]\tTest-rmse:539.60360\n",
      "[23]\tTest-rmse:538.92657\n",
      "[24]\tTest-rmse:538.14027\n",
      "[25]\tTest-rmse:538.08145\n",
      "[26]\tTest-rmse:537.04083\n",
      "[27]\tTest-rmse:537.41770\n",
      "[28]\tTest-rmse:537.28226\n",
      "[29]\tTest-rmse:537.04801\n",
      "[30]\tTest-rmse:536.35060\n",
      "[31]\tTest-rmse:537.02293\n",
      "[32]\tTest-rmse:536.96373\n",
      "[33]\tTest-rmse:537.48303\n",
      "[34]\tTest-rmse:537.68316\n",
      "[35]\tTest-rmse:537.52634\n",
      "[36]\tTest-rmse:538.39225\n",
      "[37]\tTest-rmse:538.40495\n",
      "[38]\tTest-rmse:538.78379\n",
      "[39]\tTest-rmse:538.00538\n"
     ]
    },
    {
     "name": "stderr",
     "output_type": "stream",
     "text": [
      "[21:28:30] WARNING: /Users/runner/work/xgboost/xgboost/src/learner.cc:742: \n",
      "Parameters: { \"n_estimators\" } are not used.\n",
      "\n"
     ]
    },
    {
     "data": {
      "text/html": [
       "<style>\n",
       "    table.wandb td:nth-child(1) { padding: 0 10px; text-align: left ; width: auto;} td:nth-child(2) {text-align: left ; width: 100%}\n",
       "    .wandb-row { display: flex; flex-direction: row; flex-wrap: wrap; justify-content: flex-start; width: 100% }\n",
       "    .wandb-col { display: flex; flex-direction: column; flex-basis: 100%; flex: 1; padding: 10px; }\n",
       "    </style>\n",
       "<div class=\"wandb-row\"><div class=\"wandb-col\"><h3>Run history:</h3><br/><table class=\"wandb\"><tr><td>rmse</td><td>▁</td></tr></table><br/></div><div class=\"wandb-col\"><h3>Run summary:</h3><br/><table class=\"wandb\"><tr><td>rmse</td><td>536.3506</td></tr></table><br/></div></div>"
      ],
      "text/plain": [
       "<IPython.core.display.HTML object>"
      ]
     },
     "metadata": {},
     "output_type": "display_data"
    },
    {
     "data": {
      "text/html": [
       " View run <strong style=\"color:#cdcd00\">lyric-sweep-46</strong> at: <a href='https://wandb.ai/jacobnu/xbg_grid_diamonds/runs/7h26ku97' target=\"_blank\">https://wandb.ai/jacobnu/xbg_grid_diamonds/runs/7h26ku97</a><br/> View project at: <a href='https://wandb.ai/jacobnu/xbg_grid_diamonds' target=\"_blank\">https://wandb.ai/jacobnu/xbg_grid_diamonds</a><br/>Synced 5 W&B file(s), 0 media file(s), 0 artifact file(s) and 0 other file(s)"
      ],
      "text/plain": [
       "<IPython.core.display.HTML object>"
      ]
     },
     "metadata": {},
     "output_type": "display_data"
    },
    {
     "data": {
      "text/html": [
       "Find logs at: <code>./wandb/run-20240421_212828-7h26ku97/logs</code>"
      ],
      "text/plain": [
       "<IPython.core.display.HTML object>"
      ]
     },
     "metadata": {},
     "output_type": "display_data"
    },
    {
     "name": "stderr",
     "output_type": "stream",
     "text": [
      "\u001b[34m\u001b[1mwandb\u001b[0m: Agent Starting Run: xdp0ngra with config:\n",
      "\u001b[34m\u001b[1mwandb\u001b[0m: \tlearning_rate: 0.2\n",
      "\u001b[34m\u001b[1mwandb\u001b[0m: \tmax_depth: 7\n",
      "\u001b[34m\u001b[1mwandb\u001b[0m: \tn_estimators: 200\n",
      "\u001b[34m\u001b[1mwandb\u001b[0m: \tsubsample: 0.8\n",
      "\u001b[34m\u001b[1mwandb\u001b[0m: \u001b[33mWARNING\u001b[0m Ignored wandb.init() arg project when running a sweep.\n",
      "\u001b[34m\u001b[1mwandb\u001b[0m: \u001b[33mWARNING\u001b[0m Ignored wandb.init() arg entity when running a sweep.\n"
     ]
    },
    {
     "data": {
      "text/html": [
       "Tracking run with wandb version 0.16.6"
      ],
      "text/plain": [
       "<IPython.core.display.HTML object>"
      ]
     },
     "metadata": {},
     "output_type": "display_data"
    },
    {
     "data": {
      "text/html": [
       "Run data is saved locally in <code>/Users/jacob/Code/2024SP-MSAI-Practicum/wandb/run-20240421_212845-xdp0ngra</code>"
      ],
      "text/plain": [
       "<IPython.core.display.HTML object>"
      ]
     },
     "metadata": {},
     "output_type": "display_data"
    },
    {
     "data": {
      "text/html": [
       "Syncing run <strong><a href='https://wandb.ai/jacobnu/xbg_grid_diamonds/runs/xdp0ngra' target=\"_blank\">logical-sweep-47</a></strong> to <a href='https://wandb.ai/jacobnu/xbg_grid_diamonds' target=\"_blank\">Weights & Biases</a> (<a href='https://wandb.me/run' target=\"_blank\">docs</a>)<br/>Sweep page: <a href='https://wandb.ai/jacobnu/xbg_grid_diamonds/sweeps/hcbnoalh' target=\"_blank\">https://wandb.ai/jacobnu/xbg_grid_diamonds/sweeps/hcbnoalh</a>"
      ],
      "text/plain": [
       "<IPython.core.display.HTML object>"
      ]
     },
     "metadata": {},
     "output_type": "display_data"
    },
    {
     "data": {
      "text/html": [
       " View project at <a href='https://wandb.ai/jacobnu/xbg_grid_diamonds' target=\"_blank\">https://wandb.ai/jacobnu/xbg_grid_diamonds</a>"
      ],
      "text/plain": [
       "<IPython.core.display.HTML object>"
      ]
     },
     "metadata": {},
     "output_type": "display_data"
    },
    {
     "data": {
      "text/html": [
       " View sweep at <a href='https://wandb.ai/jacobnu/xbg_grid_diamonds/sweeps/hcbnoalh' target=\"_blank\">https://wandb.ai/jacobnu/xbg_grid_diamonds/sweeps/hcbnoalh</a>"
      ],
      "text/plain": [
       "<IPython.core.display.HTML object>"
      ]
     },
     "metadata": {},
     "output_type": "display_data"
    },
    {
     "data": {
      "text/html": [
       " View run at <a href='https://wandb.ai/jacobnu/xbg_grid_diamonds/runs/xdp0ngra' target=\"_blank\">https://wandb.ai/jacobnu/xbg_grid_diamonds/runs/xdp0ngra</a>"
      ],
      "text/plain": [
       "<IPython.core.display.HTML object>"
      ]
     },
     "metadata": {},
     "output_type": "display_data"
    },
    {
     "name": "stdout",
     "output_type": "stream",
     "text": [
      "[0]\tTest-rmse:3223.88957\n",
      "[1]\tTest-rmse:2619.31950\n",
      "[2]\tTest-rmse:2137.67256\n",
      "[3]\tTest-rmse:1755.70555\n",
      "[4]\tTest-rmse:1456.89783\n",
      "[5]\tTest-rmse:1223.08080\n",
      "[6]\tTest-rmse:1044.43469\n",
      "[7]\tTest-rmse:908.75274\n",
      "[8]\tTest-rmse:805.48950\n",
      "[9]\tTest-rmse:730.05302\n",
      "[10]\tTest-rmse:675.63110\n",
      "[11]\tTest-rmse:637.01337\n",
      "[12]\tTest-rmse:607.45356\n",
      "[13]\tTest-rmse:589.09599\n",
      "[14]\tTest-rmse:576.07095\n",
      "[15]\tTest-rmse:565.84214\n",
      "[16]\tTest-rmse:559.43925\n",
      "[17]\tTest-rmse:554.80837\n",
      "[18]\tTest-rmse:552.19978\n",
      "[19]\tTest-rmse:549.39225\n",
      "[20]\tTest-rmse:547.26637\n",
      "[21]\tTest-rmse:546.14971\n",
      "[22]\tTest-rmse:545.27520\n",
      "[23]\tTest-rmse:544.38744\n",
      "[24]\tTest-rmse:543.30567\n",
      "[25]\tTest-rmse:543.17615\n",
      "[26]\tTest-rmse:542.41670\n",
      "[27]\tTest-rmse:544.19166\n",
      "[28]\tTest-rmse:543.26974\n",
      "[29]\tTest-rmse:543.64860\n",
      "[30]\tTest-rmse:543.01795\n",
      "[31]\tTest-rmse:542.65907\n",
      "[32]\tTest-rmse:542.35757\n",
      "[33]\tTest-rmse:541.16035\n",
      "[34]\tTest-rmse:540.98300\n",
      "[35]\tTest-rmse:539.99459\n",
      "[36]\tTest-rmse:540.64351\n",
      "[37]\tTest-rmse:541.15701\n",
      "[38]\tTest-rmse:539.74238\n",
      "[39]\tTest-rmse:540.51896\n",
      "[40]\tTest-rmse:540.32734\n",
      "[41]\tTest-rmse:540.45758\n",
      "[42]\tTest-rmse:540.35345\n",
      "[43]\tTest-rmse:541.01514\n",
      "[44]\tTest-rmse:542.06052\n",
      "[45]\tTest-rmse:542.08850\n",
      "[46]\tTest-rmse:541.76684\n",
      "[47]\tTest-rmse:542.21253\n"
     ]
    },
    {
     "name": "stderr",
     "output_type": "stream",
     "text": [
      "[21:28:48] WARNING: /Users/runner/work/xgboost/xgboost/src/learner.cc:742: \n",
      "Parameters: { \"n_estimators\" } are not used.\n",
      "\n"
     ]
    },
    {
     "data": {
      "text/html": [
       "<style>\n",
       "    table.wandb td:nth-child(1) { padding: 0 10px; text-align: left ; width: auto;} td:nth-child(2) {text-align: left ; width: 100%}\n",
       "    .wandb-row { display: flex; flex-direction: row; flex-wrap: wrap; justify-content: flex-start; width: 100% }\n",
       "    .wandb-col { display: flex; flex-direction: column; flex-basis: 100%; flex: 1; padding: 10px; }\n",
       "    </style>\n",
       "<div class=\"wandb-row\"><div class=\"wandb-col\"><h3>Run history:</h3><br/><table class=\"wandb\"><tr><td>rmse</td><td>▁</td></tr></table><br/></div><div class=\"wandb-col\"><h3>Run summary:</h3><br/><table class=\"wandb\"><tr><td>rmse</td><td>539.74238</td></tr></table><br/></div></div>"
      ],
      "text/plain": [
       "<IPython.core.display.HTML object>"
      ]
     },
     "metadata": {},
     "output_type": "display_data"
    },
    {
     "data": {
      "text/html": [
       " View run <strong style=\"color:#cdcd00\">logical-sweep-47</strong> at: <a href='https://wandb.ai/jacobnu/xbg_grid_diamonds/runs/xdp0ngra' target=\"_blank\">https://wandb.ai/jacobnu/xbg_grid_diamonds/runs/xdp0ngra</a><br/> View project at: <a href='https://wandb.ai/jacobnu/xbg_grid_diamonds' target=\"_blank\">https://wandb.ai/jacobnu/xbg_grid_diamonds</a><br/>Synced 5 W&B file(s), 0 media file(s), 0 artifact file(s) and 0 other file(s)"
      ],
      "text/plain": [
       "<IPython.core.display.HTML object>"
      ]
     },
     "metadata": {},
     "output_type": "display_data"
    },
    {
     "data": {
      "text/html": [
       "Find logs at: <code>./wandb/run-20240421_212845-xdp0ngra/logs</code>"
      ],
      "text/plain": [
       "<IPython.core.display.HTML object>"
      ]
     },
     "metadata": {},
     "output_type": "display_data"
    },
    {
     "name": "stderr",
     "output_type": "stream",
     "text": [
      "\u001b[34m\u001b[1mwandb\u001b[0m: Agent Starting Run: doyur7hz with config:\n",
      "\u001b[34m\u001b[1mwandb\u001b[0m: \tlearning_rate: 0.2\n",
      "\u001b[34m\u001b[1mwandb\u001b[0m: \tmax_depth: 7\n",
      "\u001b[34m\u001b[1mwandb\u001b[0m: \tn_estimators: 200\n",
      "\u001b[34m\u001b[1mwandb\u001b[0m: \tsubsample: 0.9\n",
      "\u001b[34m\u001b[1mwandb\u001b[0m: \u001b[33mWARNING\u001b[0m Ignored wandb.init() arg project when running a sweep.\n",
      "\u001b[34m\u001b[1mwandb\u001b[0m: \u001b[33mWARNING\u001b[0m Ignored wandb.init() arg entity when running a sweep.\n"
     ]
    },
    {
     "data": {
      "text/html": [
       "Tracking run with wandb version 0.16.6"
      ],
      "text/plain": [
       "<IPython.core.display.HTML object>"
      ]
     },
     "metadata": {},
     "output_type": "display_data"
    },
    {
     "data": {
      "text/html": [
       "Run data is saved locally in <code>/Users/jacob/Code/2024SP-MSAI-Practicum/wandb/run-20240421_212900-doyur7hz</code>"
      ],
      "text/plain": [
       "<IPython.core.display.HTML object>"
      ]
     },
     "metadata": {},
     "output_type": "display_data"
    },
    {
     "data": {
      "text/html": [
       "Syncing run <strong><a href='https://wandb.ai/jacobnu/xbg_grid_diamonds/runs/doyur7hz' target=\"_blank\">lively-sweep-48</a></strong> to <a href='https://wandb.ai/jacobnu/xbg_grid_diamonds' target=\"_blank\">Weights & Biases</a> (<a href='https://wandb.me/run' target=\"_blank\">docs</a>)<br/>Sweep page: <a href='https://wandb.ai/jacobnu/xbg_grid_diamonds/sweeps/hcbnoalh' target=\"_blank\">https://wandb.ai/jacobnu/xbg_grid_diamonds/sweeps/hcbnoalh</a>"
      ],
      "text/plain": [
       "<IPython.core.display.HTML object>"
      ]
     },
     "metadata": {},
     "output_type": "display_data"
    },
    {
     "data": {
      "text/html": [
       " View project at <a href='https://wandb.ai/jacobnu/xbg_grid_diamonds' target=\"_blank\">https://wandb.ai/jacobnu/xbg_grid_diamonds</a>"
      ],
      "text/plain": [
       "<IPython.core.display.HTML object>"
      ]
     },
     "metadata": {},
     "output_type": "display_data"
    },
    {
     "data": {
      "text/html": [
       " View sweep at <a href='https://wandb.ai/jacobnu/xbg_grid_diamonds/sweeps/hcbnoalh' target=\"_blank\">https://wandb.ai/jacobnu/xbg_grid_diamonds/sweeps/hcbnoalh</a>"
      ],
      "text/plain": [
       "<IPython.core.display.HTML object>"
      ]
     },
     "metadata": {},
     "output_type": "display_data"
    },
    {
     "data": {
      "text/html": [
       " View run at <a href='https://wandb.ai/jacobnu/xbg_grid_diamonds/runs/doyur7hz' target=\"_blank\">https://wandb.ai/jacobnu/xbg_grid_diamonds/runs/doyur7hz</a>"
      ],
      "text/plain": [
       "<IPython.core.display.HTML object>"
      ]
     },
     "metadata": {},
     "output_type": "display_data"
    },
    {
     "name": "stdout",
     "output_type": "stream",
     "text": [
      "[0]\tTest-rmse:3223.29371\n",
      "[1]\tTest-rmse:2616.66697\n",
      "[2]\tTest-rmse:2138.53087\n",
      "[3]\tTest-rmse:1753.84592\n",
      "[4]\tTest-rmse:1456.03375\n",
      "[5]\tTest-rmse:1222.07949\n",
      "[6]\tTest-rmse:1040.96602\n",
      "[7]\tTest-rmse:903.99949\n",
      "[8]\tTest-rmse:801.38103\n",
      "[9]\tTest-rmse:724.96150\n",
      "[10]\tTest-rmse:669.51677\n",
      "[11]\tTest-rmse:630.09074\n",
      "[12]\tTest-rmse:602.50442\n",
      "[13]\tTest-rmse:584.45608\n",
      "[14]\tTest-rmse:571.88076\n",
      "[15]\tTest-rmse:561.70890\n",
      "[16]\tTest-rmse:555.57171\n",
      "[17]\tTest-rmse:550.99655\n",
      "[18]\tTest-rmse:547.67594\n",
      "[19]\tTest-rmse:544.36725\n",
      "[20]\tTest-rmse:541.94661\n",
      "[21]\tTest-rmse:541.18053\n",
      "[22]\tTest-rmse:540.84885\n",
      "[23]\tTest-rmse:539.48917\n",
      "[24]\tTest-rmse:537.92054\n",
      "[25]\tTest-rmse:538.28599\n",
      "[26]\tTest-rmse:537.14178\n",
      "[27]\tTest-rmse:536.49835\n",
      "[28]\tTest-rmse:536.16039\n",
      "[29]\tTest-rmse:535.55635\n",
      "[30]\tTest-rmse:536.11278\n"
     ]
    },
    {
     "name": "stderr",
     "output_type": "stream",
     "text": [
      "[21:29:02] WARNING: /Users/runner/work/xgboost/xgboost/src/learner.cc:742: \n",
      "Parameters: { \"n_estimators\" } are not used.\n",
      "\n"
     ]
    },
    {
     "name": "stdout",
     "output_type": "stream",
     "text": [
      "[31]\tTest-rmse:536.95132\n",
      "[32]\tTest-rmse:536.41124\n",
      "[33]\tTest-rmse:536.78138\n",
      "[34]\tTest-rmse:536.13149\n",
      "[35]\tTest-rmse:536.97100\n",
      "[36]\tTest-rmse:536.45511\n",
      "[37]\tTest-rmse:536.07446\n",
      "[38]\tTest-rmse:535.93209\n",
      "[39]\tTest-rmse:536.01278\n"
     ]
    },
    {
     "data": {
      "text/html": [
       "<style>\n",
       "    table.wandb td:nth-child(1) { padding: 0 10px; text-align: left ; width: auto;} td:nth-child(2) {text-align: left ; width: 100%}\n",
       "    .wandb-row { display: flex; flex-direction: row; flex-wrap: wrap; justify-content: flex-start; width: 100% }\n",
       "    .wandb-col { display: flex; flex-direction: column; flex-basis: 100%; flex: 1; padding: 10px; }\n",
       "    </style>\n",
       "<div class=\"wandb-row\"><div class=\"wandb-col\"><h3>Run history:</h3><br/><table class=\"wandb\"><tr><td>rmse</td><td>▁</td></tr></table><br/></div><div class=\"wandb-col\"><h3>Run summary:</h3><br/><table class=\"wandb\"><tr><td>rmse</td><td>535.55635</td></tr></table><br/></div></div>"
      ],
      "text/plain": [
       "<IPython.core.display.HTML object>"
      ]
     },
     "metadata": {},
     "output_type": "display_data"
    },
    {
     "data": {
      "text/html": [
       " View run <strong style=\"color:#cdcd00\">lively-sweep-48</strong> at: <a href='https://wandb.ai/jacobnu/xbg_grid_diamonds/runs/doyur7hz' target=\"_blank\">https://wandb.ai/jacobnu/xbg_grid_diamonds/runs/doyur7hz</a><br/> View project at: <a href='https://wandb.ai/jacobnu/xbg_grid_diamonds' target=\"_blank\">https://wandb.ai/jacobnu/xbg_grid_diamonds</a><br/>Synced 5 W&B file(s), 0 media file(s), 0 artifact file(s) and 0 other file(s)"
      ],
      "text/plain": [
       "<IPython.core.display.HTML object>"
      ]
     },
     "metadata": {},
     "output_type": "display_data"
    },
    {
     "data": {
      "text/html": [
       "Find logs at: <code>./wandb/run-20240421_212900-doyur7hz/logs</code>"
      ],
      "text/plain": [
       "<IPython.core.display.HTML object>"
      ]
     },
     "metadata": {},
     "output_type": "display_data"
    },
    {
     "name": "stderr",
     "output_type": "stream",
     "text": [
      "\u001b[34m\u001b[1mwandb\u001b[0m: Agent Starting Run: 7262grp1 with config:\n",
      "\u001b[34m\u001b[1mwandb\u001b[0m: \tlearning_rate: 0.2\n",
      "\u001b[34m\u001b[1mwandb\u001b[0m: \tmax_depth: 9\n",
      "\u001b[34m\u001b[1mwandb\u001b[0m: \tn_estimators: 100\n",
      "\u001b[34m\u001b[1mwandb\u001b[0m: \tsubsample: 0.7\n",
      "\u001b[34m\u001b[1mwandb\u001b[0m: \u001b[33mWARNING\u001b[0m Ignored wandb.init() arg project when running a sweep.\n",
      "\u001b[34m\u001b[1mwandb\u001b[0m: \u001b[33mWARNING\u001b[0m Ignored wandb.init() arg entity when running a sweep.\n"
     ]
    },
    {
     "data": {
      "text/html": [
       "Tracking run with wandb version 0.16.6"
      ],
      "text/plain": [
       "<IPython.core.display.HTML object>"
      ]
     },
     "metadata": {},
     "output_type": "display_data"
    },
    {
     "data": {
      "text/html": [
       "Run data is saved locally in <code>/Users/jacob/Code/2024SP-MSAI-Practicum/wandb/run-20240421_212916-7262grp1</code>"
      ],
      "text/plain": [
       "<IPython.core.display.HTML object>"
      ]
     },
     "metadata": {},
     "output_type": "display_data"
    },
    {
     "data": {
      "text/html": [
       "Syncing run <strong><a href='https://wandb.ai/jacobnu/xbg_grid_diamonds/runs/7262grp1' target=\"_blank\">glad-sweep-49</a></strong> to <a href='https://wandb.ai/jacobnu/xbg_grid_diamonds' target=\"_blank\">Weights & Biases</a> (<a href='https://wandb.me/run' target=\"_blank\">docs</a>)<br/>Sweep page: <a href='https://wandb.ai/jacobnu/xbg_grid_diamonds/sweeps/hcbnoalh' target=\"_blank\">https://wandb.ai/jacobnu/xbg_grid_diamonds/sweeps/hcbnoalh</a>"
      ],
      "text/plain": [
       "<IPython.core.display.HTML object>"
      ]
     },
     "metadata": {},
     "output_type": "display_data"
    },
    {
     "data": {
      "text/html": [
       " View project at <a href='https://wandb.ai/jacobnu/xbg_grid_diamonds' target=\"_blank\">https://wandb.ai/jacobnu/xbg_grid_diamonds</a>"
      ],
      "text/plain": [
       "<IPython.core.display.HTML object>"
      ]
     },
     "metadata": {},
     "output_type": "display_data"
    },
    {
     "data": {
      "text/html": [
       " View sweep at <a href='https://wandb.ai/jacobnu/xbg_grid_diamonds/sweeps/hcbnoalh' target=\"_blank\">https://wandb.ai/jacobnu/xbg_grid_diamonds/sweeps/hcbnoalh</a>"
      ],
      "text/plain": [
       "<IPython.core.display.HTML object>"
      ]
     },
     "metadata": {},
     "output_type": "display_data"
    },
    {
     "data": {
      "text/html": [
       " View run at <a href='https://wandb.ai/jacobnu/xbg_grid_diamonds/runs/7262grp1' target=\"_blank\">https://wandb.ai/jacobnu/xbg_grid_diamonds/runs/7262grp1</a>"
      ],
      "text/plain": [
       "<IPython.core.display.HTML object>"
      ]
     },
     "metadata": {},
     "output_type": "display_data"
    },
    {
     "name": "stdout",
     "output_type": "stream",
     "text": [
      "[0]\tTest-rmse:3217.54909\n",
      "[1]\tTest-rmse:2604.00265\n",
      "[2]\tTest-rmse:2119.32614\n",
      "[3]\tTest-rmse:1736.14987\n",
      "[4]\tTest-rmse:1433.25066\n",
      "[5]\tTest-rmse:1199.40288\n",
      "[6]\tTest-rmse:1016.89255\n",
      "[7]\tTest-rmse:882.77743\n",
      "[8]\tTest-rmse:780.53914\n",
      "[9]\tTest-rmse:707.59664\n",
      "[10]\tTest-rmse:652.94969\n",
      "[11]\tTest-rmse:615.52901\n",
      "[12]\tTest-rmse:592.04813\n",
      "[13]\tTest-rmse:575.09041\n",
      "[14]\tTest-rmse:563.35481\n",
      "[15]\tTest-rmse:556.12613\n",
      "[16]\tTest-rmse:551.80061\n",
      "[17]\tTest-rmse:548.85398\n",
      "[18]\tTest-rmse:546.89043\n",
      "[19]\tTest-rmse:545.89579\n",
      "[20]\tTest-rmse:545.89643\n",
      "[21]\tTest-rmse:545.28851\n",
      "[22]\tTest-rmse:545.84614\n",
      "[23]\tTest-rmse:548.00717\n",
      "[24]\tTest-rmse:548.27483\n",
      "[25]\tTest-rmse:546.97273\n",
      "[26]\tTest-rmse:546.71719\n",
      "[27]\tTest-rmse:546.64546\n",
      "[28]\tTest-rmse:546.41184\n",
      "[29]\tTest-rmse:547.02371\n",
      "[30]\tTest-rmse:547.09194\n"
     ]
    },
    {
     "name": "stderr",
     "output_type": "stream",
     "text": [
      "[21:29:18] WARNING: /Users/runner/work/xgboost/xgboost/src/learner.cc:742: \n",
      "Parameters: { \"n_estimators\" } are not used.\n",
      "\n"
     ]
    },
    {
     "data": {
      "text/html": [
       "<style>\n",
       "    table.wandb td:nth-child(1) { padding: 0 10px; text-align: left ; width: auto;} td:nth-child(2) {text-align: left ; width: 100%}\n",
       "    .wandb-row { display: flex; flex-direction: row; flex-wrap: wrap; justify-content: flex-start; width: 100% }\n",
       "    .wandb-col { display: flex; flex-direction: column; flex-basis: 100%; flex: 1; padding: 10px; }\n",
       "    </style>\n",
       "<div class=\"wandb-row\"><div class=\"wandb-col\"><h3>Run history:</h3><br/><table class=\"wandb\"><tr><td>rmse</td><td>▁</td></tr></table><br/></div><div class=\"wandb-col\"><h3>Run summary:</h3><br/><table class=\"wandb\"><tr><td>rmse</td><td>545.28851</td></tr></table><br/></div></div>"
      ],
      "text/plain": [
       "<IPython.core.display.HTML object>"
      ]
     },
     "metadata": {},
     "output_type": "display_data"
    },
    {
     "data": {
      "text/html": [
       " View run <strong style=\"color:#cdcd00\">glad-sweep-49</strong> at: <a href='https://wandb.ai/jacobnu/xbg_grid_diamonds/runs/7262grp1' target=\"_blank\">https://wandb.ai/jacobnu/xbg_grid_diamonds/runs/7262grp1</a><br/> View project at: <a href='https://wandb.ai/jacobnu/xbg_grid_diamonds' target=\"_blank\">https://wandb.ai/jacobnu/xbg_grid_diamonds</a><br/>Synced 5 W&B file(s), 0 media file(s), 0 artifact file(s) and 0 other file(s)"
      ],
      "text/plain": [
       "<IPython.core.display.HTML object>"
      ]
     },
     "metadata": {},
     "output_type": "display_data"
    },
    {
     "data": {
      "text/html": [
       "Find logs at: <code>./wandb/run-20240421_212916-7262grp1/logs</code>"
      ],
      "text/plain": [
       "<IPython.core.display.HTML object>"
      ]
     },
     "metadata": {},
     "output_type": "display_data"
    },
    {
     "name": "stderr",
     "output_type": "stream",
     "text": [
      "\u001b[34m\u001b[1mwandb\u001b[0m: Agent Starting Run: xzaw353f with config:\n",
      "\u001b[34m\u001b[1mwandb\u001b[0m: \tlearning_rate: 0.2\n",
      "\u001b[34m\u001b[1mwandb\u001b[0m: \tmax_depth: 9\n",
      "\u001b[34m\u001b[1mwandb\u001b[0m: \tn_estimators: 100\n",
      "\u001b[34m\u001b[1mwandb\u001b[0m: \tsubsample: 0.8\n",
      "\u001b[34m\u001b[1mwandb\u001b[0m: \u001b[33mWARNING\u001b[0m Ignored wandb.init() arg project when running a sweep.\n",
      "\u001b[34m\u001b[1mwandb\u001b[0m: \u001b[33mWARNING\u001b[0m Ignored wandb.init() arg entity when running a sweep.\n"
     ]
    },
    {
     "data": {
      "text/html": [
       "Tracking run with wandb version 0.16.6"
      ],
      "text/plain": [
       "<IPython.core.display.HTML object>"
      ]
     },
     "metadata": {},
     "output_type": "display_data"
    },
    {
     "data": {
      "text/html": [
       "Run data is saved locally in <code>/Users/jacob/Code/2024SP-MSAI-Practicum/wandb/run-20240421_212933-xzaw353f</code>"
      ],
      "text/plain": [
       "<IPython.core.display.HTML object>"
      ]
     },
     "metadata": {},
     "output_type": "display_data"
    },
    {
     "data": {
      "text/html": [
       "Syncing run <strong><a href='https://wandb.ai/jacobnu/xbg_grid_diamonds/runs/xzaw353f' target=\"_blank\">earthy-sweep-50</a></strong> to <a href='https://wandb.ai/jacobnu/xbg_grid_diamonds' target=\"_blank\">Weights & Biases</a> (<a href='https://wandb.me/run' target=\"_blank\">docs</a>)<br/>Sweep page: <a href='https://wandb.ai/jacobnu/xbg_grid_diamonds/sweeps/hcbnoalh' target=\"_blank\">https://wandb.ai/jacobnu/xbg_grid_diamonds/sweeps/hcbnoalh</a>"
      ],
      "text/plain": [
       "<IPython.core.display.HTML object>"
      ]
     },
     "metadata": {},
     "output_type": "display_data"
    },
    {
     "data": {
      "text/html": [
       " View project at <a href='https://wandb.ai/jacobnu/xbg_grid_diamonds' target=\"_blank\">https://wandb.ai/jacobnu/xbg_grid_diamonds</a>"
      ],
      "text/plain": [
       "<IPython.core.display.HTML object>"
      ]
     },
     "metadata": {},
     "output_type": "display_data"
    },
    {
     "data": {
      "text/html": [
       " View sweep at <a href='https://wandb.ai/jacobnu/xbg_grid_diamonds/sweeps/hcbnoalh' target=\"_blank\">https://wandb.ai/jacobnu/xbg_grid_diamonds/sweeps/hcbnoalh</a>"
      ],
      "text/plain": [
       "<IPython.core.display.HTML object>"
      ]
     },
     "metadata": {},
     "output_type": "display_data"
    },
    {
     "data": {
      "text/html": [
       " View run at <a href='https://wandb.ai/jacobnu/xbg_grid_diamonds/runs/xzaw353f' target=\"_blank\">https://wandb.ai/jacobnu/xbg_grid_diamonds/runs/xzaw353f</a>"
      ],
      "text/plain": [
       "<IPython.core.display.HTML object>"
      ]
     },
     "metadata": {},
     "output_type": "display_data"
    },
    {
     "name": "stdout",
     "output_type": "stream",
     "text": [
      "[0]\tTest-rmse:3218.70753\n",
      "[1]\tTest-rmse:2606.54591\n",
      "[2]\tTest-rmse:2122.02129\n",
      "[3]\tTest-rmse:1736.92218\n",
      "[4]\tTest-rmse:1434.40591\n",
      "[5]\tTest-rmse:1199.09718\n",
      "[6]\tTest-rmse:1018.13461\n",
      "[7]\tTest-rmse:881.73938\n",
      "[8]\tTest-rmse:780.56056\n",
      "[9]\tTest-rmse:707.13013\n",
      "[10]\tTest-rmse:654.81364\n",
      "[11]\tTest-rmse:617.23126\n",
      "[12]\tTest-rmse:590.73925\n",
      "[13]\tTest-rmse:575.24426\n",
      "[14]\tTest-rmse:563.12795\n",
      "[15]\tTest-rmse:555.47392\n",
      "[16]\tTest-rmse:551.14468\n",
      "[17]\tTest-rmse:547.05154\n",
      "[18]\tTest-rmse:545.03256\n",
      "[19]\tTest-rmse:543.74461\n",
      "[20]\tTest-rmse:542.03661\n",
      "[21]\tTest-rmse:541.31611\n",
      "[22]\tTest-rmse:540.53340\n",
      "[23]\tTest-rmse:539.46996\n",
      "[24]\tTest-rmse:540.64649\n",
      "[25]\tTest-rmse:540.45443\n",
      "[26]\tTest-rmse:540.37628\n",
      "[27]\tTest-rmse:540.98408\n",
      "[28]\tTest-rmse:541.37817\n",
      "[29]\tTest-rmse:540.87863\n",
      "[30]\tTest-rmse:541.10872\n",
      "[31]\tTest-rmse:541.75133\n",
      "[32]\tTest-rmse:542.23775\n"
     ]
    },
    {
     "name": "stderr",
     "output_type": "stream",
     "text": [
      "[21:29:35] WARNING: /Users/runner/work/xgboost/xgboost/src/learner.cc:742: \n",
      "Parameters: { \"n_estimators\" } are not used.\n",
      "\n"
     ]
    },
    {
     "data": {
      "text/html": [
       "<style>\n",
       "    table.wandb td:nth-child(1) { padding: 0 10px; text-align: left ; width: auto;} td:nth-child(2) {text-align: left ; width: 100%}\n",
       "    .wandb-row { display: flex; flex-direction: row; flex-wrap: wrap; justify-content: flex-start; width: 100% }\n",
       "    .wandb-col { display: flex; flex-direction: column; flex-basis: 100%; flex: 1; padding: 10px; }\n",
       "    </style>\n",
       "<div class=\"wandb-row\"><div class=\"wandb-col\"><h3>Run history:</h3><br/><table class=\"wandb\"><tr><td>rmse</td><td>▁</td></tr></table><br/></div><div class=\"wandb-col\"><h3>Run summary:</h3><br/><table class=\"wandb\"><tr><td>rmse</td><td>539.46996</td></tr></table><br/></div></div>"
      ],
      "text/plain": [
       "<IPython.core.display.HTML object>"
      ]
     },
     "metadata": {},
     "output_type": "display_data"
    },
    {
     "data": {
      "text/html": [
       " View run <strong style=\"color:#cdcd00\">earthy-sweep-50</strong> at: <a href='https://wandb.ai/jacobnu/xbg_grid_diamonds/runs/xzaw353f' target=\"_blank\">https://wandb.ai/jacobnu/xbg_grid_diamonds/runs/xzaw353f</a><br/> View project at: <a href='https://wandb.ai/jacobnu/xbg_grid_diamonds' target=\"_blank\">https://wandb.ai/jacobnu/xbg_grid_diamonds</a><br/>Synced 5 W&B file(s), 0 media file(s), 0 artifact file(s) and 0 other file(s)"
      ],
      "text/plain": [
       "<IPython.core.display.HTML object>"
      ]
     },
     "metadata": {},
     "output_type": "display_data"
    },
    {
     "data": {
      "text/html": [
       "Find logs at: <code>./wandb/run-20240421_212933-xzaw353f/logs</code>"
      ],
      "text/plain": [
       "<IPython.core.display.HTML object>"
      ]
     },
     "metadata": {},
     "output_type": "display_data"
    },
    {
     "name": "stderr",
     "output_type": "stream",
     "text": [
      "\u001b[34m\u001b[1mwandb\u001b[0m: Agent Starting Run: gsusmf9r with config:\n",
      "\u001b[34m\u001b[1mwandb\u001b[0m: \tlearning_rate: 0.2\n",
      "\u001b[34m\u001b[1mwandb\u001b[0m: \tmax_depth: 9\n",
      "\u001b[34m\u001b[1mwandb\u001b[0m: \tn_estimators: 100\n",
      "\u001b[34m\u001b[1mwandb\u001b[0m: \tsubsample: 0.9\n",
      "\u001b[34m\u001b[1mwandb\u001b[0m: \u001b[33mWARNING\u001b[0m Ignored wandb.init() arg project when running a sweep.\n",
      "\u001b[34m\u001b[1mwandb\u001b[0m: \u001b[33mWARNING\u001b[0m Ignored wandb.init() arg entity when running a sweep.\n"
     ]
    },
    {
     "data": {
      "text/html": [
       "Tracking run with wandb version 0.16.6"
      ],
      "text/plain": [
       "<IPython.core.display.HTML object>"
      ]
     },
     "metadata": {},
     "output_type": "display_data"
    },
    {
     "data": {
      "text/html": [
       "Run data is saved locally in <code>/Users/jacob/Code/2024SP-MSAI-Practicum/wandb/run-20240421_212948-gsusmf9r</code>"
      ],
      "text/plain": [
       "<IPython.core.display.HTML object>"
      ]
     },
     "metadata": {},
     "output_type": "display_data"
    },
    {
     "data": {
      "text/html": [
       "Syncing run <strong><a href='https://wandb.ai/jacobnu/xbg_grid_diamonds/runs/gsusmf9r' target=\"_blank\">serene-sweep-51</a></strong> to <a href='https://wandb.ai/jacobnu/xbg_grid_diamonds' target=\"_blank\">Weights & Biases</a> (<a href='https://wandb.me/run' target=\"_blank\">docs</a>)<br/>Sweep page: <a href='https://wandb.ai/jacobnu/xbg_grid_diamonds/sweeps/hcbnoalh' target=\"_blank\">https://wandb.ai/jacobnu/xbg_grid_diamonds/sweeps/hcbnoalh</a>"
      ],
      "text/plain": [
       "<IPython.core.display.HTML object>"
      ]
     },
     "metadata": {},
     "output_type": "display_data"
    },
    {
     "data": {
      "text/html": [
       " View project at <a href='https://wandb.ai/jacobnu/xbg_grid_diamonds' target=\"_blank\">https://wandb.ai/jacobnu/xbg_grid_diamonds</a>"
      ],
      "text/plain": [
       "<IPython.core.display.HTML object>"
      ]
     },
     "metadata": {},
     "output_type": "display_data"
    },
    {
     "data": {
      "text/html": [
       " View sweep at <a href='https://wandb.ai/jacobnu/xbg_grid_diamonds/sweeps/hcbnoalh' target=\"_blank\">https://wandb.ai/jacobnu/xbg_grid_diamonds/sweeps/hcbnoalh</a>"
      ],
      "text/plain": [
       "<IPython.core.display.HTML object>"
      ]
     },
     "metadata": {},
     "output_type": "display_data"
    },
    {
     "data": {
      "text/html": [
       " View run at <a href='https://wandb.ai/jacobnu/xbg_grid_diamonds/runs/gsusmf9r' target=\"_blank\">https://wandb.ai/jacobnu/xbg_grid_diamonds/runs/gsusmf9r</a>"
      ],
      "text/plain": [
       "<IPython.core.display.HTML object>"
      ]
     },
     "metadata": {},
     "output_type": "display_data"
    },
    {
     "name": "stdout",
     "output_type": "stream",
     "text": [
      "[0]\tTest-rmse:3217.72448\n",
      "[1]\tTest-rmse:2605.94856\n",
      "[2]\tTest-rmse:2119.55007\n",
      "[3]\tTest-rmse:1734.49103\n",
      "[4]\tTest-rmse:1433.49192\n",
      "[5]\tTest-rmse:1198.24163\n",
      "[6]\tTest-rmse:1016.43841\n",
      "[7]\tTest-rmse:881.57935\n",
      "[8]\tTest-rmse:780.43988\n",
      "[9]\tTest-rmse:707.51512\n",
      "[10]\tTest-rmse:653.43786\n",
      "[11]\tTest-rmse:616.43555\n",
      "[12]\tTest-rmse:590.19956\n",
      "[13]\tTest-rmse:574.10839\n",
      "[14]\tTest-rmse:564.34365\n",
      "[15]\tTest-rmse:556.62377\n",
      "[16]\tTest-rmse:552.16175\n",
      "[17]\tTest-rmse:549.13331\n",
      "[18]\tTest-rmse:546.50464\n",
      "[19]\tTest-rmse:544.01666\n",
      "[20]\tTest-rmse:542.59967\n",
      "[21]\tTest-rmse:541.98918\n",
      "[22]\tTest-rmse:540.33207\n",
      "[23]\tTest-rmse:540.64779\n",
      "[24]\tTest-rmse:540.70651\n",
      "[25]\tTest-rmse:541.26678\n",
      "[26]\tTest-rmse:539.91871\n",
      "[27]\tTest-rmse:539.47799\n",
      "[28]\tTest-rmse:540.73590\n",
      "[29]\tTest-rmse:540.98115\n",
      "[30]\tTest-rmse:541.59364\n",
      "[31]\tTest-rmse:541.51475\n",
      "[32]\tTest-rmse:542.70807\n",
      "[33]\tTest-rmse:542.75032\n",
      "[34]\tTest-rmse:543.22498\n",
      "[35]\tTest-rmse:543.88259\n"
     ]
    },
    {
     "name": "stderr",
     "output_type": "stream",
     "text": [
      "[21:29:50] WARNING: /Users/runner/work/xgboost/xgboost/src/learner.cc:742: \n",
      "Parameters: { \"n_estimators\" } are not used.\n",
      "\n"
     ]
    },
    {
     "name": "stdout",
     "output_type": "stream",
     "text": [
      "[36]\tTest-rmse:544.27206\n",
      "[37]\tTest-rmse:544.35725\n"
     ]
    },
    {
     "data": {
      "text/html": [
       "<style>\n",
       "    table.wandb td:nth-child(1) { padding: 0 10px; text-align: left ; width: auto;} td:nth-child(2) {text-align: left ; width: 100%}\n",
       "    .wandb-row { display: flex; flex-direction: row; flex-wrap: wrap; justify-content: flex-start; width: 100% }\n",
       "    .wandb-col { display: flex; flex-direction: column; flex-basis: 100%; flex: 1; padding: 10px; }\n",
       "    </style>\n",
       "<div class=\"wandb-row\"><div class=\"wandb-col\"><h3>Run history:</h3><br/><table class=\"wandb\"><tr><td>rmse</td><td>▁</td></tr></table><br/></div><div class=\"wandb-col\"><h3>Run summary:</h3><br/><table class=\"wandb\"><tr><td>rmse</td><td>539.47799</td></tr></table><br/></div></div>"
      ],
      "text/plain": [
       "<IPython.core.display.HTML object>"
      ]
     },
     "metadata": {},
     "output_type": "display_data"
    },
    {
     "data": {
      "text/html": [
       " View run <strong style=\"color:#cdcd00\">serene-sweep-51</strong> at: <a href='https://wandb.ai/jacobnu/xbg_grid_diamonds/runs/gsusmf9r' target=\"_blank\">https://wandb.ai/jacobnu/xbg_grid_diamonds/runs/gsusmf9r</a><br/> View project at: <a href='https://wandb.ai/jacobnu/xbg_grid_diamonds' target=\"_blank\">https://wandb.ai/jacobnu/xbg_grid_diamonds</a><br/>Synced 5 W&B file(s), 0 media file(s), 0 artifact file(s) and 0 other file(s)"
      ],
      "text/plain": [
       "<IPython.core.display.HTML object>"
      ]
     },
     "metadata": {},
     "output_type": "display_data"
    },
    {
     "data": {
      "text/html": [
       "Find logs at: <code>./wandb/run-20240421_212948-gsusmf9r/logs</code>"
      ],
      "text/plain": [
       "<IPython.core.display.HTML object>"
      ]
     },
     "metadata": {},
     "output_type": "display_data"
    },
    {
     "name": "stderr",
     "output_type": "stream",
     "text": [
      "\u001b[34m\u001b[1mwandb\u001b[0m: Agent Starting Run: win6pdfq with config:\n",
      "\u001b[34m\u001b[1mwandb\u001b[0m: \tlearning_rate: 0.2\n",
      "\u001b[34m\u001b[1mwandb\u001b[0m: \tmax_depth: 9\n",
      "\u001b[34m\u001b[1mwandb\u001b[0m: \tn_estimators: 200\n",
      "\u001b[34m\u001b[1mwandb\u001b[0m: \tsubsample: 0.7\n",
      "\u001b[34m\u001b[1mwandb\u001b[0m: \u001b[33mWARNING\u001b[0m Ignored wandb.init() arg project when running a sweep.\n",
      "\u001b[34m\u001b[1mwandb\u001b[0m: \u001b[33mWARNING\u001b[0m Ignored wandb.init() arg entity when running a sweep.\n"
     ]
    },
    {
     "data": {
      "text/html": [
       "Tracking run with wandb version 0.16.6"
      ],
      "text/plain": [
       "<IPython.core.display.HTML object>"
      ]
     },
     "metadata": {},
     "output_type": "display_data"
    },
    {
     "data": {
      "text/html": [
       "Run data is saved locally in <code>/Users/jacob/Code/2024SP-MSAI-Practicum/wandb/run-20240421_213004-win6pdfq</code>"
      ],
      "text/plain": [
       "<IPython.core.display.HTML object>"
      ]
     },
     "metadata": {},
     "output_type": "display_data"
    },
    {
     "data": {
      "text/html": [
       "Syncing run <strong><a href='https://wandb.ai/jacobnu/xbg_grid_diamonds/runs/win6pdfq' target=\"_blank\">lemon-sweep-52</a></strong> to <a href='https://wandb.ai/jacobnu/xbg_grid_diamonds' target=\"_blank\">Weights & Biases</a> (<a href='https://wandb.me/run' target=\"_blank\">docs</a>)<br/>Sweep page: <a href='https://wandb.ai/jacobnu/xbg_grid_diamonds/sweeps/hcbnoalh' target=\"_blank\">https://wandb.ai/jacobnu/xbg_grid_diamonds/sweeps/hcbnoalh</a>"
      ],
      "text/plain": [
       "<IPython.core.display.HTML object>"
      ]
     },
     "metadata": {},
     "output_type": "display_data"
    },
    {
     "data": {
      "text/html": [
       " View project at <a href='https://wandb.ai/jacobnu/xbg_grid_diamonds' target=\"_blank\">https://wandb.ai/jacobnu/xbg_grid_diamonds</a>"
      ],
      "text/plain": [
       "<IPython.core.display.HTML object>"
      ]
     },
     "metadata": {},
     "output_type": "display_data"
    },
    {
     "data": {
      "text/html": [
       " View sweep at <a href='https://wandb.ai/jacobnu/xbg_grid_diamonds/sweeps/hcbnoalh' target=\"_blank\">https://wandb.ai/jacobnu/xbg_grid_diamonds/sweeps/hcbnoalh</a>"
      ],
      "text/plain": [
       "<IPython.core.display.HTML object>"
      ]
     },
     "metadata": {},
     "output_type": "display_data"
    },
    {
     "data": {
      "text/html": [
       " View run at <a href='https://wandb.ai/jacobnu/xbg_grid_diamonds/runs/win6pdfq' target=\"_blank\">https://wandb.ai/jacobnu/xbg_grid_diamonds/runs/win6pdfq</a>"
      ],
      "text/plain": [
       "<IPython.core.display.HTML object>"
      ]
     },
     "metadata": {},
     "output_type": "display_data"
    },
    {
     "name": "stdout",
     "output_type": "stream",
     "text": [
      "[0]\tTest-rmse:3217.54909\n",
      "[1]\tTest-rmse:2604.00265\n",
      "[2]\tTest-rmse:2119.32614\n",
      "[3]\tTest-rmse:1736.14987\n",
      "[4]\tTest-rmse:1433.25066\n",
      "[5]\tTest-rmse:1199.40288\n",
      "[6]\tTest-rmse:1016.89255\n",
      "[7]\tTest-rmse:882.77743\n",
      "[8]\tTest-rmse:780.53914\n",
      "[9]\tTest-rmse:707.59664\n",
      "[10]\tTest-rmse:652.94969\n",
      "[11]\tTest-rmse:615.52901\n",
      "[12]\tTest-rmse:592.04813\n",
      "[13]\tTest-rmse:575.09041\n",
      "[14]\tTest-rmse:563.35481\n",
      "[15]\tTest-rmse:556.12613\n",
      "[16]\tTest-rmse:551.80061\n",
      "[17]\tTest-rmse:548.85398\n",
      "[18]\tTest-rmse:546.89043\n",
      "[19]\tTest-rmse:545.89579\n",
      "[20]\tTest-rmse:545.89643\n",
      "[21]\tTest-rmse:545.28851\n",
      "[22]\tTest-rmse:545.84614\n",
      "[23]\tTest-rmse:548.00717\n",
      "[24]\tTest-rmse:548.27483\n",
      "[25]\tTest-rmse:546.97273\n",
      "[26]\tTest-rmse:546.71719\n",
      "[27]\tTest-rmse:546.64546\n",
      "[28]\tTest-rmse:546.41184\n",
      "[29]\tTest-rmse:547.02371\n",
      "[30]\tTest-rmse:547.09194\n"
     ]
    },
    {
     "name": "stderr",
     "output_type": "stream",
     "text": [
      "[21:30:07] WARNING: /Users/runner/work/xgboost/xgboost/src/learner.cc:742: \n",
      "Parameters: { \"n_estimators\" } are not used.\n",
      "\n"
     ]
    },
    {
     "data": {
      "text/html": [
       "<style>\n",
       "    table.wandb td:nth-child(1) { padding: 0 10px; text-align: left ; width: auto;} td:nth-child(2) {text-align: left ; width: 100%}\n",
       "    .wandb-row { display: flex; flex-direction: row; flex-wrap: wrap; justify-content: flex-start; width: 100% }\n",
       "    .wandb-col { display: flex; flex-direction: column; flex-basis: 100%; flex: 1; padding: 10px; }\n",
       "    </style>\n",
       "<div class=\"wandb-row\"><div class=\"wandb-col\"><h3>Run history:</h3><br/><table class=\"wandb\"><tr><td>rmse</td><td>▁</td></tr></table><br/></div><div class=\"wandb-col\"><h3>Run summary:</h3><br/><table class=\"wandb\"><tr><td>rmse</td><td>545.28851</td></tr></table><br/></div></div>"
      ],
      "text/plain": [
       "<IPython.core.display.HTML object>"
      ]
     },
     "metadata": {},
     "output_type": "display_data"
    },
    {
     "data": {
      "text/html": [
       " View run <strong style=\"color:#cdcd00\">lemon-sweep-52</strong> at: <a href='https://wandb.ai/jacobnu/xbg_grid_diamonds/runs/win6pdfq' target=\"_blank\">https://wandb.ai/jacobnu/xbg_grid_diamonds/runs/win6pdfq</a><br/> View project at: <a href='https://wandb.ai/jacobnu/xbg_grid_diamonds' target=\"_blank\">https://wandb.ai/jacobnu/xbg_grid_diamonds</a><br/>Synced 5 W&B file(s), 0 media file(s), 0 artifact file(s) and 0 other file(s)"
      ],
      "text/plain": [
       "<IPython.core.display.HTML object>"
      ]
     },
     "metadata": {},
     "output_type": "display_data"
    },
    {
     "data": {
      "text/html": [
       "Find logs at: <code>./wandb/run-20240421_213004-win6pdfq/logs</code>"
      ],
      "text/plain": [
       "<IPython.core.display.HTML object>"
      ]
     },
     "metadata": {},
     "output_type": "display_data"
    },
    {
     "name": "stderr",
     "output_type": "stream",
     "text": [
      "\u001b[34m\u001b[1mwandb\u001b[0m: Agent Starting Run: 1198eo9z with config:\n",
      "\u001b[34m\u001b[1mwandb\u001b[0m: \tlearning_rate: 0.2\n",
      "\u001b[34m\u001b[1mwandb\u001b[0m: \tmax_depth: 9\n",
      "\u001b[34m\u001b[1mwandb\u001b[0m: \tn_estimators: 200\n",
      "\u001b[34m\u001b[1mwandb\u001b[0m: \tsubsample: 0.8\n",
      "\u001b[34m\u001b[1mwandb\u001b[0m: \u001b[33mWARNING\u001b[0m Ignored wandb.init() arg project when running a sweep.\n",
      "\u001b[34m\u001b[1mwandb\u001b[0m: \u001b[33mWARNING\u001b[0m Ignored wandb.init() arg entity when running a sweep.\n"
     ]
    },
    {
     "data": {
      "text/html": [
       "Tracking run with wandb version 0.16.6"
      ],
      "text/plain": [
       "<IPython.core.display.HTML object>"
      ]
     },
     "metadata": {},
     "output_type": "display_data"
    },
    {
     "data": {
      "text/html": [
       "Run data is saved locally in <code>/Users/jacob/Code/2024SP-MSAI-Practicum/wandb/run-20240421_213020-1198eo9z</code>"
      ],
      "text/plain": [
       "<IPython.core.display.HTML object>"
      ]
     },
     "metadata": {},
     "output_type": "display_data"
    },
    {
     "data": {
      "text/html": [
       "Syncing run <strong><a href='https://wandb.ai/jacobnu/xbg_grid_diamonds/runs/1198eo9z' target=\"_blank\">fragrant-sweep-53</a></strong> to <a href='https://wandb.ai/jacobnu/xbg_grid_diamonds' target=\"_blank\">Weights & Biases</a> (<a href='https://wandb.me/run' target=\"_blank\">docs</a>)<br/>Sweep page: <a href='https://wandb.ai/jacobnu/xbg_grid_diamonds/sweeps/hcbnoalh' target=\"_blank\">https://wandb.ai/jacobnu/xbg_grid_diamonds/sweeps/hcbnoalh</a>"
      ],
      "text/plain": [
       "<IPython.core.display.HTML object>"
      ]
     },
     "metadata": {},
     "output_type": "display_data"
    },
    {
     "data": {
      "text/html": [
       " View project at <a href='https://wandb.ai/jacobnu/xbg_grid_diamonds' target=\"_blank\">https://wandb.ai/jacobnu/xbg_grid_diamonds</a>"
      ],
      "text/plain": [
       "<IPython.core.display.HTML object>"
      ]
     },
     "metadata": {},
     "output_type": "display_data"
    },
    {
     "data": {
      "text/html": [
       " View sweep at <a href='https://wandb.ai/jacobnu/xbg_grid_diamonds/sweeps/hcbnoalh' target=\"_blank\">https://wandb.ai/jacobnu/xbg_grid_diamonds/sweeps/hcbnoalh</a>"
      ],
      "text/plain": [
       "<IPython.core.display.HTML object>"
      ]
     },
     "metadata": {},
     "output_type": "display_data"
    },
    {
     "data": {
      "text/html": [
       " View run at <a href='https://wandb.ai/jacobnu/xbg_grid_diamonds/runs/1198eo9z' target=\"_blank\">https://wandb.ai/jacobnu/xbg_grid_diamonds/runs/1198eo9z</a>"
      ],
      "text/plain": [
       "<IPython.core.display.HTML object>"
      ]
     },
     "metadata": {},
     "output_type": "display_data"
    },
    {
     "name": "stdout",
     "output_type": "stream",
     "text": [
      "[0]\tTest-rmse:3218.70753\n",
      "[1]\tTest-rmse:2606.54591\n",
      "[2]\tTest-rmse:2122.02129\n",
      "[3]\tTest-rmse:1736.92218\n",
      "[4]\tTest-rmse:1434.40591\n",
      "[5]\tTest-rmse:1199.09718\n",
      "[6]\tTest-rmse:1018.13461\n",
      "[7]\tTest-rmse:881.73938\n",
      "[8]\tTest-rmse:780.56056\n",
      "[9]\tTest-rmse:707.13013\n",
      "[10]\tTest-rmse:654.81364\n",
      "[11]\tTest-rmse:617.23126\n",
      "[12]\tTest-rmse:590.73925\n",
      "[13]\tTest-rmse:575.24426\n",
      "[14]\tTest-rmse:563.12795\n",
      "[15]\tTest-rmse:555.47392\n",
      "[16]\tTest-rmse:551.14468\n",
      "[17]\tTest-rmse:547.05154\n",
      "[18]\tTest-rmse:545.03256\n",
      "[19]\tTest-rmse:543.74461\n",
      "[20]\tTest-rmse:542.03661\n",
      "[21]\tTest-rmse:541.31611\n",
      "[22]\tTest-rmse:540.53340\n",
      "[23]\tTest-rmse:539.46996\n",
      "[24]\tTest-rmse:540.64649\n",
      "[25]\tTest-rmse:540.45443\n",
      "[26]\tTest-rmse:540.37628\n",
      "[27]\tTest-rmse:540.98408\n",
      "[28]\tTest-rmse:541.37817\n",
      "[29]\tTest-rmse:540.87863\n",
      "[30]\tTest-rmse:541.10872\n",
      "[31]\tTest-rmse:541.75133\n",
      "[32]\tTest-rmse:542.23775\n",
      "[33]\tTest-rmse:542.56151\n"
     ]
    },
    {
     "name": "stderr",
     "output_type": "stream",
     "text": [
      "[21:30:22] WARNING: /Users/runner/work/xgboost/xgboost/src/learner.cc:742: \n",
      "Parameters: { \"n_estimators\" } are not used.\n",
      "\n"
     ]
    },
    {
     "data": {
      "text/html": [
       "<style>\n",
       "    table.wandb td:nth-child(1) { padding: 0 10px; text-align: left ; width: auto;} td:nth-child(2) {text-align: left ; width: 100%}\n",
       "    .wandb-row { display: flex; flex-direction: row; flex-wrap: wrap; justify-content: flex-start; width: 100% }\n",
       "    .wandb-col { display: flex; flex-direction: column; flex-basis: 100%; flex: 1; padding: 10px; }\n",
       "    </style>\n",
       "<div class=\"wandb-row\"><div class=\"wandb-col\"><h3>Run history:</h3><br/><table class=\"wandb\"><tr><td>rmse</td><td>▁</td></tr></table><br/></div><div class=\"wandb-col\"><h3>Run summary:</h3><br/><table class=\"wandb\"><tr><td>rmse</td><td>539.46996</td></tr></table><br/></div></div>"
      ],
      "text/plain": [
       "<IPython.core.display.HTML object>"
      ]
     },
     "metadata": {},
     "output_type": "display_data"
    },
    {
     "data": {
      "text/html": [
       " View run <strong style=\"color:#cdcd00\">fragrant-sweep-53</strong> at: <a href='https://wandb.ai/jacobnu/xbg_grid_diamonds/runs/1198eo9z' target=\"_blank\">https://wandb.ai/jacobnu/xbg_grid_diamonds/runs/1198eo9z</a><br/> View project at: <a href='https://wandb.ai/jacobnu/xbg_grid_diamonds' target=\"_blank\">https://wandb.ai/jacobnu/xbg_grid_diamonds</a><br/>Synced 5 W&B file(s), 0 media file(s), 0 artifact file(s) and 0 other file(s)"
      ],
      "text/plain": [
       "<IPython.core.display.HTML object>"
      ]
     },
     "metadata": {},
     "output_type": "display_data"
    },
    {
     "data": {
      "text/html": [
       "Find logs at: <code>./wandb/run-20240421_213020-1198eo9z/logs</code>"
      ],
      "text/plain": [
       "<IPython.core.display.HTML object>"
      ]
     },
     "metadata": {},
     "output_type": "display_data"
    },
    {
     "name": "stderr",
     "output_type": "stream",
     "text": [
      "\u001b[34m\u001b[1mwandb\u001b[0m: Agent Starting Run: syx8f7hw with config:\n",
      "\u001b[34m\u001b[1mwandb\u001b[0m: \tlearning_rate: 0.2\n",
      "\u001b[34m\u001b[1mwandb\u001b[0m: \tmax_depth: 9\n",
      "\u001b[34m\u001b[1mwandb\u001b[0m: \tn_estimators: 200\n",
      "\u001b[34m\u001b[1mwandb\u001b[0m: \tsubsample: 0.9\n",
      "\u001b[34m\u001b[1mwandb\u001b[0m: \u001b[33mWARNING\u001b[0m Ignored wandb.init() arg project when running a sweep.\n",
      "\u001b[34m\u001b[1mwandb\u001b[0m: \u001b[33mWARNING\u001b[0m Ignored wandb.init() arg entity when running a sweep.\n"
     ]
    },
    {
     "data": {
      "text/html": [
       "Tracking run with wandb version 0.16.6"
      ],
      "text/plain": [
       "<IPython.core.display.HTML object>"
      ]
     },
     "metadata": {},
     "output_type": "display_data"
    },
    {
     "data": {
      "text/html": [
       "Run data is saved locally in <code>/Users/jacob/Code/2024SP-MSAI-Practicum/wandb/run-20240421_213036-syx8f7hw</code>"
      ],
      "text/plain": [
       "<IPython.core.display.HTML object>"
      ]
     },
     "metadata": {},
     "output_type": "display_data"
    },
    {
     "data": {
      "text/html": [
       "Syncing run <strong><a href='https://wandb.ai/jacobnu/xbg_grid_diamonds/runs/syx8f7hw' target=\"_blank\">hopeful-sweep-54</a></strong> to <a href='https://wandb.ai/jacobnu/xbg_grid_diamonds' target=\"_blank\">Weights & Biases</a> (<a href='https://wandb.me/run' target=\"_blank\">docs</a>)<br/>Sweep page: <a href='https://wandb.ai/jacobnu/xbg_grid_diamonds/sweeps/hcbnoalh' target=\"_blank\">https://wandb.ai/jacobnu/xbg_grid_diamonds/sweeps/hcbnoalh</a>"
      ],
      "text/plain": [
       "<IPython.core.display.HTML object>"
      ]
     },
     "metadata": {},
     "output_type": "display_data"
    },
    {
     "data": {
      "text/html": [
       " View project at <a href='https://wandb.ai/jacobnu/xbg_grid_diamonds' target=\"_blank\">https://wandb.ai/jacobnu/xbg_grid_diamonds</a>"
      ],
      "text/plain": [
       "<IPython.core.display.HTML object>"
      ]
     },
     "metadata": {},
     "output_type": "display_data"
    },
    {
     "data": {
      "text/html": [
       " View sweep at <a href='https://wandb.ai/jacobnu/xbg_grid_diamonds/sweeps/hcbnoalh' target=\"_blank\">https://wandb.ai/jacobnu/xbg_grid_diamonds/sweeps/hcbnoalh</a>"
      ],
      "text/plain": [
       "<IPython.core.display.HTML object>"
      ]
     },
     "metadata": {},
     "output_type": "display_data"
    },
    {
     "data": {
      "text/html": [
       " View run at <a href='https://wandb.ai/jacobnu/xbg_grid_diamonds/runs/syx8f7hw' target=\"_blank\">https://wandb.ai/jacobnu/xbg_grid_diamonds/runs/syx8f7hw</a>"
      ],
      "text/plain": [
       "<IPython.core.display.HTML object>"
      ]
     },
     "metadata": {},
     "output_type": "display_data"
    },
    {
     "name": "stdout",
     "output_type": "stream",
     "text": [
      "[0]\tTest-rmse:3217.72448\n",
      "[1]\tTest-rmse:2605.94856\n",
      "[2]\tTest-rmse:2119.55007\n",
      "[3]\tTest-rmse:1734.49103\n",
      "[4]\tTest-rmse:1433.49192\n",
      "[5]\tTest-rmse:1198.24163\n",
      "[6]\tTest-rmse:1016.43841\n",
      "[7]\tTest-rmse:881.57935\n",
      "[8]\tTest-rmse:780.43988\n",
      "[9]\tTest-rmse:707.51512\n",
      "[10]\tTest-rmse:653.43786\n",
      "[11]\tTest-rmse:616.43555\n",
      "[12]\tTest-rmse:590.19956\n",
      "[13]\tTest-rmse:574.10839\n",
      "[14]\tTest-rmse:564.34365\n",
      "[15]\tTest-rmse:556.62377\n",
      "[16]\tTest-rmse:552.16175\n",
      "[17]\tTest-rmse:549.13331\n",
      "[18]\tTest-rmse:546.50464\n",
      "[19]\tTest-rmse:544.01666\n",
      "[20]\tTest-rmse:542.59967\n",
      "[21]\tTest-rmse:541.98918\n",
      "[22]\tTest-rmse:540.33207\n",
      "[23]\tTest-rmse:540.64779\n",
      "[24]\tTest-rmse:540.70651\n",
      "[25]\tTest-rmse:541.26678\n",
      "[26]\tTest-rmse:539.91871\n",
      "[27]\tTest-rmse:539.47799\n",
      "[28]\tTest-rmse:540.73590\n",
      "[29]\tTest-rmse:540.98115\n",
      "[30]\tTest-rmse:541.59364\n",
      "[31]\tTest-rmse:541.51475\n",
      "[32]\tTest-rmse:542.70807\n",
      "[33]\tTest-rmse:542.75032\n",
      "[34]\tTest-rmse:543.22498\n",
      "[35]\tTest-rmse:543.88259\n",
      "[36]\tTest-rmse:544.27206\n"
     ]
    },
    {
     "name": "stderr",
     "output_type": "stream",
     "text": [
      "[21:30:38] WARNING: /Users/runner/work/xgboost/xgboost/src/learner.cc:742: \n",
      "Parameters: { \"n_estimators\" } are not used.\n",
      "\n"
     ]
    },
    {
     "name": "stdout",
     "output_type": "stream",
     "text": [
      "[37]\tTest-rmse:544.35725\n"
     ]
    },
    {
     "data": {
      "text/html": [
       "<style>\n",
       "    table.wandb td:nth-child(1) { padding: 0 10px; text-align: left ; width: auto;} td:nth-child(2) {text-align: left ; width: 100%}\n",
       "    .wandb-row { display: flex; flex-direction: row; flex-wrap: wrap; justify-content: flex-start; width: 100% }\n",
       "    .wandb-col { display: flex; flex-direction: column; flex-basis: 100%; flex: 1; padding: 10px; }\n",
       "    </style>\n",
       "<div class=\"wandb-row\"><div class=\"wandb-col\"><h3>Run history:</h3><br/><table class=\"wandb\"><tr><td>rmse</td><td>▁</td></tr></table><br/></div><div class=\"wandb-col\"><h3>Run summary:</h3><br/><table class=\"wandb\"><tr><td>rmse</td><td>539.47799</td></tr></table><br/></div></div>"
      ],
      "text/plain": [
       "<IPython.core.display.HTML object>"
      ]
     },
     "metadata": {},
     "output_type": "display_data"
    },
    {
     "data": {
      "text/html": [
       " View run <strong style=\"color:#cdcd00\">hopeful-sweep-54</strong> at: <a href='https://wandb.ai/jacobnu/xbg_grid_diamonds/runs/syx8f7hw' target=\"_blank\">https://wandb.ai/jacobnu/xbg_grid_diamonds/runs/syx8f7hw</a><br/> View project at: <a href='https://wandb.ai/jacobnu/xbg_grid_diamonds' target=\"_blank\">https://wandb.ai/jacobnu/xbg_grid_diamonds</a><br/>Synced 5 W&B file(s), 0 media file(s), 0 artifact file(s) and 0 other file(s)"
      ],
      "text/plain": [
       "<IPython.core.display.HTML object>"
      ]
     },
     "metadata": {},
     "output_type": "display_data"
    },
    {
     "data": {
      "text/html": [
       "Find logs at: <code>./wandb/run-20240421_213036-syx8f7hw/logs</code>"
      ],
      "text/plain": [
       "<IPython.core.display.HTML object>"
      ]
     },
     "metadata": {},
     "output_type": "display_data"
    },
    {
     "name": "stderr",
     "output_type": "stream",
     "text": [
      "\u001b[34m\u001b[1mwandb\u001b[0m: Sweep Agent: Waiting for job.\n",
      "\u001b[34m\u001b[1mwandb\u001b[0m: Sweep Agent: Exiting.\n"
     ]
    }
   ],
   "source": [
    "wandb.agent(sweep_id, function=main)"
   ]
  },
  {
   "cell_type": "code",
   "execution_count": 37,
   "metadata": {},
   "outputs": [],
   "source": [
    "eval_df = pd.read_csv(\"wandb_runs.csv\")"
   ]
  },
  {
   "cell_type": "code",
   "execution_count": 39,
   "metadata": {},
   "outputs": [
    {
     "data": {
      "text/html": [
       "<div>\n",
       "<style scoped>\n",
       "    .dataframe tbody tr th:only-of-type {\n",
       "        vertical-align: middle;\n",
       "    }\n",
       "\n",
       "    .dataframe tbody tr th {\n",
       "        vertical-align: top;\n",
       "    }\n",
       "\n",
       "    .dataframe thead th {\n",
       "        text-align: right;\n",
       "    }\n",
       "</style>\n",
       "<table border=\"1\" class=\"dataframe\">\n",
       "  <thead>\n",
       "    <tr style=\"text-align: right;\">\n",
       "      <th></th>\n",
       "      <th>Name</th>\n",
       "      <th>Created</th>\n",
       "      <th>Runtime</th>\n",
       "      <th>learning_rate</th>\n",
       "      <th>max_depth</th>\n",
       "      <th>n_estimators</th>\n",
       "      <th>subsample</th>\n",
       "      <th>rmse</th>\n",
       "    </tr>\n",
       "  </thead>\n",
       "  <tbody>\n",
       "    <tr>\n",
       "      <th>7</th>\n",
       "      <td>wandering-sweep-11</td>\n",
       "      <td>2024-04-22T02:20:53.000Z</td>\n",
       "      <td>8</td>\n",
       "      <td>0.10</td>\n",
       "      <td>7</td>\n",
       "      <td>200</td>\n",
       "      <td>0.8</td>\n",
       "      <td>527.266012</td>\n",
       "    </tr>\n",
       "    <tr>\n",
       "      <th>8</th>\n",
       "      <td>volcanic-sweep-8</td>\n",
       "      <td>2024-04-22T02:20:22.000Z</td>\n",
       "      <td>7</td>\n",
       "      <td>0.10</td>\n",
       "      <td>7</td>\n",
       "      <td>100</td>\n",
       "      <td>0.8</td>\n",
       "      <td>527.266012</td>\n",
       "    </tr>\n",
       "    <tr>\n",
       "      <th>10</th>\n",
       "      <td>warm-sweep-7</td>\n",
       "      <td>2024-04-22T02:20:12.000Z</td>\n",
       "      <td>7</td>\n",
       "      <td>0.10</td>\n",
       "      <td>7</td>\n",
       "      <td>100</td>\n",
       "      <td>0.7</td>\n",
       "      <td>530.268757</td>\n",
       "    </tr>\n",
       "    <tr>\n",
       "      <th>9</th>\n",
       "      <td>icy-sweep-10</td>\n",
       "      <td>2024-04-22T02:20:43.000Z</td>\n",
       "      <td>7</td>\n",
       "      <td>0.10</td>\n",
       "      <td>7</td>\n",
       "      <td>200</td>\n",
       "      <td>0.7</td>\n",
       "      <td>530.268757</td>\n",
       "    </tr>\n",
       "    <tr>\n",
       "      <th>12</th>\n",
       "      <td>dry-sweep-25</td>\n",
       "      <td>2024-04-22T02:23:21.000Z</td>\n",
       "      <td>12</td>\n",
       "      <td>0.15</td>\n",
       "      <td>7</td>\n",
       "      <td>100</td>\n",
       "      <td>0.7</td>\n",
       "      <td>532.398341</td>\n",
       "    </tr>\n",
       "    <tr>\n",
       "      <th>11</th>\n",
       "      <td>vivid-sweep-28</td>\n",
       "      <td>2024-04-22T02:23:57.000Z</td>\n",
       "      <td>8</td>\n",
       "      <td>0.15</td>\n",
       "      <td>7</td>\n",
       "      <td>200</td>\n",
       "      <td>0.7</td>\n",
       "      <td>532.398341</td>\n",
       "    </tr>\n",
       "    <tr>\n",
       "      <th>13</th>\n",
       "      <td>ancient-sweep-6</td>\n",
       "      <td>2024-04-22T02:20:02.000Z</td>\n",
       "      <td>8</td>\n",
       "      <td>0.10</td>\n",
       "      <td>5</td>\n",
       "      <td>200</td>\n",
       "      <td>0.9</td>\n",
       "      <td>532.516888</td>\n",
       "    </tr>\n",
       "    <tr>\n",
       "      <th>15</th>\n",
       "      <td>vital-sweep-26</td>\n",
       "      <td>2024-04-22T02:23:36.000Z</td>\n",
       "      <td>7</td>\n",
       "      <td>0.15</td>\n",
       "      <td>7</td>\n",
       "      <td>100</td>\n",
       "      <td>0.8</td>\n",
       "      <td>532.576118</td>\n",
       "    </tr>\n",
       "    <tr>\n",
       "      <th>14</th>\n",
       "      <td>chocolate-sweep-29</td>\n",
       "      <td>2024-04-22T02:24:07.000Z</td>\n",
       "      <td>8</td>\n",
       "      <td>0.15</td>\n",
       "      <td>7</td>\n",
       "      <td>200</td>\n",
       "      <td>0.8</td>\n",
       "      <td>532.576118</td>\n",
       "    </tr>\n",
       "    <tr>\n",
       "      <th>17</th>\n",
       "      <td>hardy-sweep-13</td>\n",
       "      <td>2024-04-22T02:21:14.000Z</td>\n",
       "      <td>7</td>\n",
       "      <td>0.10</td>\n",
       "      <td>9</td>\n",
       "      <td>100</td>\n",
       "      <td>0.7</td>\n",
       "      <td>532.690671</td>\n",
       "    </tr>\n",
       "  </tbody>\n",
       "</table>\n",
       "</div>"
      ],
      "text/plain": [
       "                  Name                   Created  Runtime  learning_rate  \\\n",
       "7   wandering-sweep-11  2024-04-22T02:20:53.000Z        8           0.10   \n",
       "8     volcanic-sweep-8  2024-04-22T02:20:22.000Z        7           0.10   \n",
       "10        warm-sweep-7  2024-04-22T02:20:12.000Z        7           0.10   \n",
       "9         icy-sweep-10  2024-04-22T02:20:43.000Z        7           0.10   \n",
       "12        dry-sweep-25  2024-04-22T02:23:21.000Z       12           0.15   \n",
       "11      vivid-sweep-28  2024-04-22T02:23:57.000Z        8           0.15   \n",
       "13     ancient-sweep-6  2024-04-22T02:20:02.000Z        8           0.10   \n",
       "15      vital-sweep-26  2024-04-22T02:23:36.000Z        7           0.15   \n",
       "14  chocolate-sweep-29  2024-04-22T02:24:07.000Z        8           0.15   \n",
       "17      hardy-sweep-13  2024-04-22T02:21:14.000Z        7           0.10   \n",
       "\n",
       "    max_depth  n_estimators  subsample        rmse  \n",
       "7           7           200        0.8  527.266012  \n",
       "8           7           100        0.8  527.266012  \n",
       "10          7           100        0.7  530.268757  \n",
       "9           7           200        0.7  530.268757  \n",
       "12          7           100        0.7  532.398341  \n",
       "11          7           200        0.7  532.398341  \n",
       "13          5           200        0.9  532.516888  \n",
       "15          7           100        0.8  532.576118  \n",
       "14          7           200        0.8  532.576118  \n",
       "17          9           100        0.7  532.690671  "
      ]
     },
     "execution_count": 39,
     "metadata": {},
     "output_type": "execute_result"
    }
   ],
   "source": [
    "eval_df.sort_values(by=['rmse'], ascending=True).head(10)"
   ]
  },
  {
   "cell_type": "markdown",
   "metadata": {},
   "source": [
    "## Observations\n",
    "\n",
    "1. **Best and Worst Performers**:\n",
    "   The lowest RMSE scores, which indicate the best model performance, are achieved in the configurations `wandering-sweep-11` and `volcanic-sweep-8`, both with an RMSE of approximately 527.27. These runs used a learning rate of 0.1, `max_depth` of 7, `n_estimators` of 200 and 100, respectively, and a `subsample` of 0.8.\n",
    "   - The highest RMSE scores, indicating poorer performance, are observed in `lemon-sweep-52` and `glad-sweep-49` with an RMSE of around 545.29. These settings included a learning rate of 0.2, `max_depth` of 9, `n_estimators` of 200 and 100, respectively, and a `subsample` of 0.7.\n",
    "2. **Impact of Learning Rate**:\n",
    "   - Lower learning rates (0.1) paired with mid-range `max_depth` (7) and higher `n_estimators` (200) tend to perform better. This suggests that slower learning and more estimators allow for more robust generalization in this dataset.\n",
    "   - Higher learning rates (0.2), especially combined with higher `max_depth` and lower `n_estimators`, lead to worse performance, possibly due to overfitting or insufficient learning iterations.\n",
    "3. **Influence of Subsampling**:\n",
    "   - A subsample ratio of 0.8 consistently appears in many of the better-performing configurations, indicating that this subsampling level helps achieve a good balance between training speed and model accuracy by reducing variance and preventing overfitting.\n",
    "4. **Effect of Max Depth and Estimators**:\n",
    "   - Moderate `max_depth` values (7) often yield better results than very high (9) or lower (5) depths. This indicates that too-deep trees might be overfitting, while too-shallow trees might be underfitting.\n",
    "   - Increasing `n_estimators` from 100 to 200 generally improves performance, suggesting that more boosting rounds are beneficial up to a point. However, further increasing `n_estimators` beyond a certain threshold might result in diminishing returns and increased computational cost without significant gains in performance."
   ]
  },
  {
   "cell_type": "code",
   "execution_count": null,
   "metadata": {},
   "outputs": [],
   "source": []
  }
 ],
 "metadata": {
  "accelerator": "GPU",
  "colab": {
   "gpuType": "V100",
   "machine_shape": "hm",
   "provenance": []
  },
  "kernelspec": {
   "display_name": "Python 3 (ipykernel)",
   "language": "python",
   "name": "python3"
  },
  "language_info": {
   "codemirror_mode": {
    "name": "ipython",
    "version": 3
   },
   "file_extension": ".py",
   "mimetype": "text/x-python",
   "name": "python",
   "nbconvert_exporter": "python",
   "pygments_lexer": "ipython3",
   "version": "3.12.3"
  }
 },
 "nbformat": 4,
 "nbformat_minor": 4
}
